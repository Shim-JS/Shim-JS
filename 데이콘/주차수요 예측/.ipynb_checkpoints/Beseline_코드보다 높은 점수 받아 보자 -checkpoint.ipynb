{
 "cells": [
  {
   "cell_type": "markdown",
   "metadata": {},
   "source": [
    "<h1> Library "
   ]
  },
  {
   "cell_type": "code",
   "execution_count": 1,
   "metadata": {},
   "outputs": [],
   "source": [
    "# Standard library imports\n",
    "import os \n",
    "import glob\n",
    "import numpy as np\n",
    "import itertools\n",
    "\n",
    "# Third party imports\n",
    "import pandas as pd\n",
    "from sklearn.model_selection import train_test_split\n",
    "from sklearn.model_selection import KFold \n",
    "from sklearn.model_selection import cross_val_score\n",
    "from sklearn.model_selection import GridSearchCV\n",
    "from sklearn.ensemble import RandomForestRegressor\n",
    "from sklearn.preprocessing import StandardScaler\n",
    "from sklearn.linear_model import LinearRegression\n",
    "from sklearn.metrics import mean_absolute_error\n",
    "from xgboost import XGBRegressor\n",
    "from catboost import CatBoostRegressor\n",
    "import lightgbm as LGB\n",
    "from sklearn.cross_decomposition import PLSRegression\n",
    "from sklearn.linear_model import Lasso,ElasticNet,Ridge\n",
    "from sklearn.svm import SVR\n",
    "\n",
    "from tqdm import tqdm\n",
    "import plotly \n",
    "import plotly.express as px\n",
    "import plotly.graph_objects as go \n",
    "from plotly.subplots import make_subplots\n",
    "import matplotlib\n",
    "from matplotlib import font_manager, rc\n",
    "import shap\n",
    "\n",
    "# Dacon plotly 그림 업로드 \n",
    "pd.options.plotting.backend = 'plotly'\n",
    "## plotly.io를 import 한 후 renderers 기본값을 꼭 \"notebook_connected\" 로 설정해주시기 바랍니다.\n",
    "import plotly.io as pio\n",
    "pio.renderers.default = \"notebook_connected\"\n",
    "\n",
    "#options \n",
    "pd.set_option('display.max_columns', None)\n",
    "rc('font', family='AppleGothic')\n",
    "matplotlib.rcParams['axes.unicode_minus'] = False\n"
   ]
  },
  {
   "cell_type": "markdown",
   "metadata": {},
   "source": [
    "<H1> Data Loading "
   ]
  },
  {
   "cell_type": "markdown",
   "metadata": {},
   "source": [
    "<h1> Data Prep "
   ]
  },
  {
   "cell_type": "code",
   "execution_count": null,
   "metadata": {},
   "outputs": [],
   "source": [
    "df_train, df_test, df_gender, df_sub = dataset[files[2]].copy(), dataset[files[1]].copy(), dataset[files[0]].copy(), dataset[files[3]].copy()"
   ]
  },
  {
   "cell_type": "code",
   "execution_count": null,
   "metadata": {},
   "outputs": [],
   "source": [
    "df_train = pd.read_csv(\"train.csv\")\n",
    "df_test = pd.read_csv(\"test.csv\")\n",
    "df_gender = pd.read_csv(\"age_gen\")"
   ]
  },
  {
   "cell_type": "code",
   "execution_count": null,
   "metadata": {},
   "outputs": [],
   "source": [
    "display(\"Train\", df_train.head(10))\n",
    "display(\"Test\", df_test.head(10))"
   ]
  },
  {
   "cell_type": "markdown",
   "metadata": {},
   "source": [
    "단지 코드 중첩, 임대건물 구분, 지역, 공급유형, 전용면적 등 정보 병합 필요 "
   ]
  },
  {
   "cell_type": "code",
   "execution_count": null,
   "metadata": {},
   "outputs": [],
   "source": [
    "display(df_train.describe())\n",
    "display(df_test.describe())"
   ]
  },
  {
   "cell_type": "markdown",
   "metadata": {},
   "source": [
    "<h2> Step 1"
   ]
  },
  {
   "cell_type": "code",
   "execution_count": null,
   "metadata": {},
   "outputs": [],
   "source": [
    "train_tmp = df_train.iloc[:,0:-1]\n",
    "train_tmp['type'] = 'train'\n",
    "test_tmp = df_test\n",
    "test_tmp['type'] = 'test'\n",
    "\n",
    "df_all = pd.concat([train_tmp, test_tmp], axis=0)\n",
    "\n",
    "names = [\"자격유형\", \"공급유형\", \"임대건물구분\", \"지역\"]\n",
    "fig = make_subplots(rows=2, cols=2, subplot_titles=(\"자격유형\", \"공급유형\", \"임대건물구분\", \"지역\"))\n",
    "postion = {'0' : [1,1], '1' : [1,2], '2' : [2,1], '3' : [2,2]}\n",
    "\n",
    "for order, name in enumerate(names):\n",
    "    row, col = postion[str(order)][0], postion[str(order)][1]\n",
    "    fig.add_trace(go.Bar(name='Train', x=df_all[name], y=df_all[name]), row=row, col=col)\n",
    "    fig.add_trace(go.Bar(name='Test', x=df_all[name], y=df_all[name]), row=row, col=col)\n",
    "\n",
    "fig.update_layout(barmode='stack', \n",
    "    autosize=False,\n",
    "    width=800,\n",
    "    height=600,)\n",
    "# fig.show()\n",
    "\n",
    "del train_tmp,test_tmp,df_all"
   ]
  },
  {
   "cell_type": "markdown",
   "metadata": {},
   "source": [
    "<h2> Train vs Test 명목 변수 차집합 "
   ]
  },
  {
   "cell_type": "code",
   "execution_count": null,
   "metadata": {},
   "outputs": [],
   "source": [
    "columns = ['임대건물구분', '지역', '공급유형', '자격유형']\n",
    "for col in columns:\n",
    "    complement = list(set(df_train[col].unique()) - set(df_test[col].unique()))\n",
    "    print(f\"Train 데이터 기준 차집합 {col} : {complement}\")\n",
    "    "
   ]
  },
  {
   "cell_type": "markdown",
   "metadata": {},
   "source": [
    "Train 데이터에만 있는 값들 제거 필요할까? \n",
    "그럼 얼마나 포함하고 있을까? <br>\n",
    "100개 정도 포함하고 있네 어떻게 처리하지?\n",
    "\n",
    "버릴까? 다른 이름으로 병합할까?\n",
    "\n"
   ]
  },
  {
   "cell_type": "code",
   "execution_count": null,
   "metadata": {},
   "outputs": [],
   "source": [
    "options = True \n",
    "\n",
    "if options:\n",
    "    # 방안 1  값 통일 \n",
    "    df_train.loc[df_train.지역.isin(['서울특별시']), '지역'] = '이외'\n",
    "    df_train.loc[df_train.공급유형.isin(['공공임대(5년)', '장기전세', '공공분양']), '공급유형'] = '이외'\n",
    "    df_train.loc[df_train.자격유형.isin(['O', 'B', 'F']), '공급유형'] = '이외'\n",
    "else:\n",
    "    #방안 2 Drop\n",
    "\n",
    "    df_train = df_train.loc[df_train.지역 != '서울특별시']\n",
    "\n",
    "    mask = df_train.공급유형 != '공공분양'\n",
    "    mask &= df_train.공급유형 != '장기전세'\n",
    "    mask &= df_train.공급유형 != '공공임대(5년)'\n",
    "    df_train = df_train.loc[mask]\n",
    "\n",
    "    mask = df_train.자격유형 != 'F'\n",
    "    mask &= df_train.자격유형 != 'B'\n",
    "    mask &= df_train.자격유형 != 'O'\n",
    "    df_train = df_train.loc[mask]\n"
   ]
  },
  {
   "cell_type": "markdown",
   "metadata": {},
   "source": [
    "<h3> for Train data"
   ]
  },
  {
   "cell_type": "code",
   "execution_count": null,
   "metadata": {},
   "outputs": [],
   "source": [
    "print (f'train data \\n{df_train.isnull().sum()}')"
   ]
  },
  {
   "cell_type": "markdown",
   "metadata": {},
   "source": [
    "공란이 제법 있군"
   ]
  },
  {
   "cell_type": "code",
   "execution_count": null,
   "metadata": {},
   "outputs": [],
   "source": [
    "## 공란 처리 및 기타 작업 \n",
    "## 문자열 처리 \n",
    "df_train.rename(columns={\"도보 10분거리 내 지하철역 수(환승노선 수 반영)\" : \"지하철\", \"도보 10분거리 내 버스정류장 수\" : \"버스\"}, inplace=True)\n",
    "df_train[['임대보증금','임대료']] = df_train[['임대보증금', '임대료']].fillna(\"0\").replace(\"-\", \"0\").astype(int)\n",
    "\n",
    "## 지하철 버스 공란 변경하기 \n",
    "df_train['지하철'].fillna(0,inplace=True)\n",
    "df_train['버스'].fillna(0,inplace=True)\n",
    "\n",
    "##면적은 게속 변경 하면서 확인할것 \n",
    "df_train['전용면적'] = df_train['전용면적'] //10*10\n",
    "df_train['전용면적'] = np.where(df_train['전용면적'] > 100, 100, df_train['전용면적'])\n",
    "df_train['전용면적'] = np.where(df_train['전용면적'] < 15, 15, df_train['전용면적'])\n",
    "\n",
    "if df_train.isnull().sum().sum() != 0:\n",
    "    print (df_train.isnull().sum())\n",
    "else:\n",
    "    print(\"공란 없어요\")\n",
    "\n",
    "## 카데코리화 \n",
    "df_train.loc[:,'임대용총전용면적'] = df_train.loc[:,'전용면적'] * df_train.loc[:,'전용면적별세대수']\n",
    "df_train.loc[:,\"임대건물구분\"] = df_train.loc[:,\"임대건물구분\"].astype('category').cat.codes\n",
    "df_train.loc[:,'지역'] = df_train.loc[:,'지역'].astype('category').cat.codes\n",
    "df_train.loc[:,'공급유형'] = df_train.loc[:,'공급유형'].astype('category').cat.codes\n",
    "df_train.loc[:,'자격유형'] = df_train.loc[:,'자격유형'].astype('category').cat.codes\n",
    "df_train['key'] = df_train['임대건물구분'].astype(str).str.cat(df_train['공급유형'].astype(str), sep='-').str.cat(df_train['자격유형'].astype(str), sep='-')\n"
   ]
  },
  {
   "cell_type": "markdown",
   "metadata": {},
   "source": [
    "<h3> for df_test"
   ]
  },
  {
   "cell_type": "code",
   "execution_count": null,
   "metadata": {},
   "outputs": [],
   "source": [
    "print (f'test data \\n{df_test.isnull().sum()}')"
   ]
  },
  {
   "cell_type": "markdown",
   "metadata": {},
   "source": [
    "역시 공란이 좀 있군, 자격 유형에 공란있네 "
   ]
  },
  {
   "cell_type": "code",
   "execution_count": null,
   "metadata": {},
   "outputs": [],
   "source": [
    "df_test[df_test.자격유형.isnull()]"
   ]
  },
  {
   "cell_type": "code",
   "execution_count": null,
   "metadata": {},
   "outputs": [],
   "source": [
    "df_test[(df_test.단지코드=='C2411') | (df_test.단지코드=='C2253')].head(10)"
   ]
  },
  {
   "cell_type": "markdown",
   "metadata": {},
   "source": [
    "임대료 있고, 임대보증금 있는데 공란이네, c2411은 A로, c2253은 C로 넣으면 되겠네 "
   ]
  },
  {
   "cell_type": "code",
   "execution_count": null,
   "metadata": {},
   "outputs": [],
   "source": [
    "## 빠진 자격 유형 \n",
    "df_test.loc[(df_test.자격유형.isnull()) & (df_test.단지코드 == \"C2411\"), '자격유형'] = 'A'\n",
    "df_test.loc[(df_test.자격유형.isnull()) & (df_test.단지코드 == \"C2253\"), '자격유형'] = 'C'\n",
    "\n",
    "## 문자열 처리 \n",
    "df_test.rename(columns={\"도보 10분거리 내 지하철역 수(환승노선 수 반영)\" : \"지하철\", \"도보 10분거리 내 버스정류장 수\" : \"버스\"}, inplace=True)\n",
    "df_test[['임대보증금','임대료']] = df_test[['임대보증금', '임대료']].fillna(\"0\").replace(\"-\", \"0\").astype(int)\n",
    "\n",
    "## 지하철 버스 공란 변경하기 \n",
    "df_test['지하철'].fillna(0,inplace=True)\n",
    "df_test['버스'].fillna(0,inplace=True)\n",
    "\n",
    "##면적은 게속 변경 하면서 확인할것 \n",
    "df_test['전용면적'] = df_test['전용면적'] //10*10\n",
    "df_test['전용면적'] = np.where(df_test['전용면적'] > 100, 100, df_test['전용면적'])\n",
    "df_test['전용면적'] = np.where(df_test['전용면적'] < 15, 15, df_test['전용면적'])\n",
    "\n",
    "\n",
    "if df_test.isnull().sum().sum() != 0:\n",
    "    print(df_test.isnull().sum())\n",
    "else:\n",
    "    print(\"공란 없어요\")\n",
    "\n",
    "df_test.loc[:,'임대용총전용면적'] = df_test.loc[:,'전용면적'] * df_test.loc[:,'전용면적별세대수']\n",
    "df_test.loc[:,\"임대건물구분\"] = df_test.loc[:,\"임대건물구분\"].astype('category').cat.codes\n",
    "df_test.loc[:,'지역'] = df_test.loc[:,'지역'].astype('category').cat.codes\n",
    "df_test.loc[:,'공급유형'] = df_test.loc[:,'공급유형'].astype('category').cat.codes\n",
    "df_test.loc[:,'자격유형'] = df_test.loc[:,'자격유형'].astype('category').cat.codes\n",
    "df_test['key'] = df_test['임대건물구분'].astype(str).str.cat(df_test['공급유형'].astype(str), sep='-').str.cat(df_test['자격유형'].astype(str), sep='-')\n",
    "\n",
    "# df_test.loc[df_test.자격유형.isnull()]"
   ]
  },
  {
   "cell_type": "markdown",
   "metadata": {},
   "source": [
    "<h2>성별 정보 "
   ]
  },
  {
   "cell_type": "code",
   "execution_count": null,
   "metadata": {},
   "outputs": [],
   "source": [
    "# 성별 구성 지역 카테고리 \n",
    "df_gender.loc[:,'지역'] = df_gender.loc[:,'지역'].astype('category').cat.codes\n",
    "\n"
   ]
  },
  {
   "cell_type": "markdown",
   "metadata": {},
   "source": [
    "<h2> 명목변수 확인\n",
    "\n",
    "어떻게 병합할 것인가? 명목 변수 중복은 없니? \n"
   ]
  },
  {
   "cell_type": "code",
   "execution_count": null,
   "metadata": {},
   "outputs": [],
   "source": [
    "codes = df_train.단지코드.unique()\n",
    "\n",
    "diff_key =[]\n",
    "\n",
    "for code in codes:\n",
    "    tmp = df_train.loc[df_train.단지코드 == code]\n",
    "    if len(tmp.key.unique()) !=1:\n",
    "        diff_key.append(code)\n",
    "\n",
    "df_by_key = df_train.loc[df_train['단지코드'].isin(diff_key),:]\n",
    "df_by_key.head(14)\n",
    "\n"
   ]
  },
  {
   "cell_type": "markdown",
   "metadata": {},
   "source": [
    "단지코드 601 88~90 모든 행열의 값이 동일 단순 실수? \n",
    "87과 비교하면 공급유형과 자격유형이 다르네, 공급유형과 자격유형에 따라 구분하기 위함인듯 \n",
    "\n",
    "\"임대건물구분\", \"공금유형\", \"자격유형\"으로 Key를 구성하였을 때 같은 단지코드라도 다른 key값이 발생됨 \n",
    "\n",
    "key 값마다 예상 등록 차량수를 예측하면 좋겠지만 훈련 데이터의 동록 차량수는 총합만 기록되어 있음 \n",
    "\n",
    "\"임대건물구분\", \"공금유형\", \"자격유형\"은 제외해야 하나?"
   ]
  },
  {
   "cell_type": "code",
   "execution_count": null,
   "metadata": {},
   "outputs": [],
   "source": [
    "codes = df_test.단지코드.unique()\n",
    "\n",
    "diff_key =[]\n",
    "\n",
    "for code in codes:\n",
    "    tmp = df_test.loc[df_test.단지코드 == code]\n",
    "    if len(tmp.key.unique()) !=1:\n",
    "        diff_key.append(code)\n",
    "\n",
    "df_by_key = df_test.loc[df_test['단지코드'].isin(diff_key),:]\n",
    "df_by_key.head(14)\n",
    "\n",
    "## test에도 단지 코드별 다른 key값 발생 "
   ]
  },
  {
   "cell_type": "markdown",
   "metadata": {},
   "source": [
    "우선은 신경쓰지 말자. 나중에 고민"
   ]
  },
  {
   "cell_type": "markdown",
   "metadata": {},
   "source": [
    "<h1> Test Data, Test Data <br> \n",
    "<h3> 주차 면수와 나머지 변수의 상관관계"
   ]
  },
  {
   "cell_type": "code",
   "execution_count": null,
   "metadata": {},
   "outputs": [],
   "source": [
    "## 그림을 위해 train , test 하나의 df로 \n",
    "\n",
    "train_tmp = df_train.iloc[:,0:-1]\n",
    "train_tmp['type'] = 'train'\n",
    "test_tmp = df_test\n",
    "test_tmp['type'] = 'test'\n",
    "\n",
    "df_all = pd.concat([train_tmp, test_tmp], axis=0)\n",
    "\n",
    "df_all = df_all.drop_duplicates(['단지코드'], keep='first').reset_index(drop=True)"
   ]
  },
  {
   "cell_type": "code",
   "execution_count": null,
   "metadata": {},
   "outputs": [],
   "source": [
    "df_all"
   ]
  },
  {
   "cell_type": "code",
   "execution_count": null,
   "metadata": {},
   "outputs": [],
   "source": [
    "df = df_all[['등록차량수', '총세대수',\t'임대건물구분',\t'지역',\t'공급유형',\t'전용면적',\t'전용면적별세대수',\t'공가수',\t'자격유형',\t'임대보증금',\t'임대료',\t'지하철',\t'버스',\t'단지내주차면수',\t'임대용총전용면적', 'type']]\n",
    "fig = px.scatter_matrix(df, color = 'type' )\n",
    "fig.update_layout(dragmode='select',\n",
    "                  width=1000,\n",
    "                  height=1000,\n",
    "                  hovermode='closest')\n",
    "fig.update_traces(diagonal_visible=False)\n",
    "fig.show()"
   ]
  },
  {
   "cell_type": "markdown",
   "metadata": {},
   "source": [
    "대충 저렇게 그려지는데 Train과 Test 분포가 조금 다르네"
   ]
  },
  {
   "cell_type": "markdown",
   "metadata": {},
   "source": [
    "<h3> 하나씩 살펴 보면 "
   ]
  },
  {
   "cell_type": "code",
   "execution_count": null,
   "metadata": {},
   "outputs": [],
   "source": [
    "\n",
    "fig = px.scatter(df_all, x=\"총세대수\", y=\"단지내주차면수\",  color=\"type\", trendline=\"ols\", hover_data=['단지코드'], marginal_x=\"box\",marginal_y=\"box\",)\n",
    "fig.update_layout(width=600,\n",
    "                  height=600,\n",
    "                  hovermode='closest')\n",
    "fig.show()\n",
    "# C1397의 경우 총 세대수에 비해 주차면이 과도하게 많음 1가구당 4대 수준  "
   ]
  },
  {
   "cell_type": "code",
   "execution_count": null,
   "metadata": {},
   "outputs": [],
   "source": [
    "fig = px.scatter(df_all, x=\"전용면적\", y=\"단지내주차면수\",  color=\"type\", trendline=\"ols\", hover_data=['단지코드'], marginal_x=\"box\",marginal_y=\"box\",)\n",
    "fig.update_layout(width=600,\n",
    "                  height=600,\n",
    "                  hovermode='closest')\n",
    "fig.show()"
   ]
  },
  {
   "cell_type": "code",
   "execution_count": null,
   "metadata": {},
   "outputs": [],
   "source": [
    "fig = px.scatter(df_all, x=\"공가수\", y=\"단지내주차면수\",  color=\"type\", trendline=\"ols\", hover_data=['단지코드'], marginal_x=\"box\",marginal_y=\"box\",)\n",
    "fig.update_layout(width=600,\n",
    "                  height=600,\n",
    "                  hovermode='closest')\n",
    "fig.show()"
   ]
  },
  {
   "cell_type": "code",
   "execution_count": null,
   "metadata": {},
   "outputs": [],
   "source": [
    "fig = px.scatter(df_all, x=\"버스\", y=\"단지내주차면수\",  color=\"type\", trendline=\"ols\", hover_data=['단지코드'], marginal_x=\"box\",marginal_y=\"box\",)\n",
    "fig.update_layout(width=600,\n",
    "                  height=600,\n",
    "                  hovermode='closest')\n",
    "fig.show()"
   ]
  },
  {
   "cell_type": "code",
   "execution_count": null,
   "metadata": {},
   "outputs": [],
   "source": [
    "fig = px.scatter(df_all, x=\"지하철\", y=\"단지내주차면수\",  color=\"type\", trendline=\"ols\", hover_data=['단지코드'], marginal_x=\"box\",marginal_y=\"box\",)\n",
    "fig.update_layout(width=600,\n",
    "                  height=600,\n",
    "                  hovermode='closest')\n",
    "fig.show()"
   ]
  },
  {
   "cell_type": "code",
   "execution_count": null,
   "metadata": {},
   "outputs": [],
   "source": [
    "fig = px.scatter(df_all, x=\"임대보증금\", y=\"단지내주차면수\",  color=\"type\", trendline=\"ols\", hover_data=['단지코드'], marginal_x=\"box\",marginal_y=\"box\",)\n",
    "fig.update_layout(width=600,\n",
    "                  height=600,\n",
    "                  hovermode='closest')\n",
    "fig.show()"
   ]
  },
  {
   "cell_type": "code",
   "execution_count": null,
   "metadata": {},
   "outputs": [],
   "source": [
    "fig = px.scatter(df_all, x=\"임대료\", y=\"단지내주차면수\",  color=\"type\", trendline=\"ols\", hover_data=['단지코드'], marginal_x=\"box\",marginal_y=\"box\",)\n",
    "fig.update_layout(width=600,\n",
    "                  height=600,\n",
    "                  hovermode='closest')\n",
    "fig.show()"
   ]
  },
  {
   "cell_type": "markdown",
   "metadata": {},
   "source": [
    "<h1> Step 2"
   ]
  },
  {
   "cell_type": "markdown",
   "metadata": {},
   "source": [
    "<h2> 면적 처리 & 코드 그룹"
   ]
  },
  {
   "cell_type": "code",
   "execution_count": null,
   "metadata": {},
   "outputs": [],
   "source": [
    "df_train.loc[:,'총전용면적'] = df_train.loc[:,'전용면적'] * df_train.loc[:,'전용면적별세대수']\n",
    "\n",
    "codes = df_train.단지코드.unique()\n",
    "areas = np.sort(df_train.전용면적.unique())\n",
    "\n",
    "df_train_edited = pd.DataFrame()\n",
    "columns = ['단지코드', '등록차량수', '총세대수', '지역', '공가수','지하철', '버스', '단지내주차면수']\n",
    "\n",
    "for order, code in enumerate(codes):\n",
    "    temp_by_code = df_train.loc[df_train.단지코드==code].reset_index(drop=True)\n",
    "    ## 원 계열 값 그냥 가져오기 \n",
    "    df_train_edited.loc[order, columns] = temp_by_code.loc[0, columns]             \n",
    "    df_train_edited.loc[order, \"총임대가구수\"] = temp_by_code.전용면적별세대수.sum()\n",
    "\n",
    "    for area in areas:\n",
    "        temp_by_code_areas = temp_by_code.loc[temp_by_code.전용면적==area].reset_index(drop=True)\n",
    "\n",
    "        if temp_by_code_areas.shape[0] !=0:\n",
    "            df_train_edited.loc[order, f'면적_{int(area)}'] = temp_by_code_areas.전용면적별세대수.sum() / temp_by_code_areas.총세대수[0]\n",
    "        else:\n",
    "            df_train_edited.loc[order, f'면적_{int(area)}'] = 0\n",
    "\n",
    "\n",
    "df_train_edited[\"임대비율\"] = df_train_edited.총임대가구수 / df_train_edited.총세대수\n",
    "df_train_edited[\"가구당주차면수\"] = df_train_edited.단지내주차면수 / df_train_edited.총세대수\n",
    "\n",
    "## gender 정보 병합 \n",
    "df_train_edited = pd.merge(df_train_edited, df_gender, left_on= [ \"지역\"], right_on= [\"지역\"], how='left')\n",
    "\n",
    "\n",
    "df_train_edited"
   ]
  },
  {
   "cell_type": "code",
   "execution_count": null,
   "metadata": {},
   "outputs": [],
   "source": [
    "df_test.loc[:,'총전용면적'] = df_test.loc[:,'전용면적'] * df_test.loc[:,'전용면적별세대수']\n",
    "\n",
    "codes = df_test.단지코드.unique()\n",
    "areas = np.sort(df_test.전용면적.unique())\n",
    "\n",
    "df_test_edited = pd.DataFrame()\n",
    "columns = ['단지코드', '총세대수', '지역', '공가수','지하철', '버스', '단지내주차면수']\n",
    "\n",
    "for order, code in enumerate(codes):\n",
    "    temp_by_code = df_test.loc[df_test.단지코드==code].reset_index(drop=True)\n",
    "    ## 원 계열 값 그냥 가져오기 \n",
    "    df_test_edited.loc[order, columns] = temp_by_code.loc[0, columns]             \n",
    "    df_test_edited.loc[order, \"총임대가구수\"] = temp_by_code.전용면적별세대수.sum()\n",
    "\n",
    "    for area in areas:\n",
    "        temp_by_code_areas = temp_by_code.loc[temp_by_code.전용면적==area].reset_index(drop=True)\n",
    "\n",
    "        if temp_by_code_areas.shape[0] !=0:\n",
    "            df_test_edited.loc[order, f'면적_{int(area)}'] = temp_by_code_areas.전용면적별세대수.sum() / temp_by_code_areas.총세대수[0]\n",
    "        else:\n",
    "            df_test_edited.loc[order, f'면적_{int(area)}'] = 0\n",
    "\n",
    "\n",
    "df_test_edited[\"임대비율\"] = df_test_edited.총임대가구수 / df_test_edited.총세대수\n",
    "df_test_edited[\"가구당주차면수\"] = df_test_edited.단지내주차면수 / df_test_edited.총세대수\n",
    "## gender 정보 병합 \n",
    "df_test_edited = pd.merge(df_test_edited, df_gender, left_on= [ \"지역\"], right_on= [\"지역\"], how='left')\n",
    "\n",
    "\n",
    "df_test_edited"
   ]
  },
  {
   "cell_type": "markdown",
   "metadata": {},
   "source": [
    "<h3> 상관도 확인"
   ]
  },
  {
   "cell_type": "code",
   "execution_count": null,
   "metadata": {},
   "outputs": [],
   "source": [
    "corr = df_train_edited.drop(['단지코드'],1,).corr()[\"등록차량수\"].abs().sort_values(ascending=False)\n",
    "corr"
   ]
  },
  {
   "cell_type": "markdown",
   "metadata": {},
   "source": [
    "<h3> 학습 데이터 만들기 "
   ]
  },
  {
   "cell_type": "code",
   "execution_count": null,
   "metadata": {},
   "outputs": [],
   "source": [
    "X = df_train_edited.copy()\n",
    "X = X.loc[:,corr.index[0:20]]\n",
    "X.drop(['등록차량수',  ],axis=1, inplace=True)\n",
    "feature_names = X.columns.to_list()\n",
    "# scaler = StandardScaler()\n",
    "# X = scaler.fit(X).transform(X)\n",
    "\n",
    "y = df_train_edited.iloc[:,1]\n",
    "\n",
    "# 피쳐 선택은 나중에 우선 상관도 높은 20개 사용 "
   ]
  },
  {
   "cell_type": "markdown",
   "metadata": {},
   "source": [
    "<h2> 바닐라 모델 교차 검증"
   ]
  },
  {
   "cell_type": "code",
   "execution_count": null,
   "metadata": {
    "tags": []
   },
   "outputs": [],
   "source": [
    "models = {'RF' : RandomForestRegressor(), 'LR': LinearRegression() , 'RD' : Ridge(), 'LS' : Lasso(), 'ET' : ElasticNet(),\n",
    "          'XGB' : XGBRegressor(), \n",
    "          'LGB' : LGB.LGBMRegressor(), \n",
    "          'CB' : CatBoostRegressor(logging_level='Silent'), \n",
    "          'PLS' : PLSRegression()}\n",
    "\n",
    "#CatBoostRegressor은 시끄러운 녀석이라 닥쳐\n",
    "kfold = KFold(n_splits=5, shuffle = True, random_state=0)\n",
    "# n_split : 몇개로 분할할지\n",
    "# shuffle : Fold를 나누기 전에 무작위로 섞을지\n",
    "# random_state : 나눈 Fold를 그대로 사용할지\n",
    "answer = []\n",
    "for model in models.keys():\n",
    "    print(model)\n",
    "    scores = cross_val_score(models[model] , X, y, cv=kfold, scoring='neg_mean_absolute_error')\n",
    "    answer.append(scores)\n",
    "\n",
    "corss_val_result = pd.DataFrame(answer)\n",
    "corss_val_result.index = models.keys()\n",
    "corss_val_result['mean'] = corss_val_result.mean(axis=1)\n",
    "\n",
    "\n"
   ]
  },
  {
   "cell_type": "code",
   "execution_count": null,
   "metadata": {},
   "outputs": [],
   "source": [
    "corss_val_result\n"
   ]
  },
  {
   "cell_type": "markdown",
   "metadata": {},
   "source": []
  },
  {
   "cell_type": "markdown",
   "metadata": {},
   "source": [
    "많이 사용하는 회귀 모델 바닐라 모드로, 대충 비슷 하군 튜닝이 필요하겠네  "
   ]
  },
  {
   "cell_type": "markdown",
   "metadata": {},
   "source": [
    "<h1> 결과 파일 생성 "
   ]
  },
  {
   "cell_type": "code",
   "execution_count": null,
   "metadata": {},
   "outputs": [],
   "source": [
    "model = RF = RandomForestRegressor(n_jobs=-1, random_state=300, max_depth =12,\tmin_samples_leaf =2,\tmin_samples_split=2,\tn_estimators=200)\n",
    "model.fit(X, y)\n",
    "\n",
    "X_test = df_test_edited[feature_names]\n",
    "\n",
    "pred = RF.predict(X_test)\n",
    "submission = dataset[files[3]]\n",
    "\n",
    "submission['num'] = pred\n",
    "submission.to_csv('baseline.csv', index=False)\n",
    "\n"
   ]
  },
  {
   "cell_type": "markdown",
   "metadata": {},
   "source": [
    "<h1> 모델 설명 "
   ]
  },
  {
   "cell_type": "code",
   "execution_count": null,
   "metadata": {},
   "outputs": [],
   "source": [
    "explainer = shap.TreeExplainer(RF) # Tree model Shap Value 확인 객체 지정\n",
    "shap_values = explainer.shap_values(X_test) # Shap Values 계산\n",
    "shap.initjs() # javascript 초기화 (graph 초기화)\n",
    "shap.force_plot(explainer.expected_value, shap_values[1,:], feature_names)\n",
    "\n",
    "## 빨간색 영향도 높음, 파란색 영향도 낮음(음의 영향력)"
   ]
  },
  {
   "cell_type": "code",
   "execution_count": null,
   "metadata": {},
   "outputs": [],
   "source": [
    "shap.force_plot(explainer.expected_value, shap_values, X_test,feature_names) \n",
    "#x축. y축 title을 클릭하면 drop down 생성, 전 피처에 대하여 영향력 확인 가능 "
   ]
  },
  {
   "cell_type": "code",
   "execution_count": null,
   "metadata": {},
   "outputs": [],
   "source": [
    "shap.summary_plot(shap_values, X_test,feature_names)\n",
    "\n",
    "# 모든 변수들의 shap value를 요약한 것으로 해당 변수가 빨간색을 띄면 target(price)에 대해 양의 영향력, 파란색을 띄면 음의 영향력을 가진다. \n"
   ]
  },
  {
   "cell_type": "code",
   "execution_count": null,
   "metadata": {},
   "outputs": [],
   "source": [
    " # 각 변수에 대한 |Shap Values|을 통해 변수 importance 파악\n",
    "shap.summary_plot(shap_values, X_test, plot_type = \"bar\")"
   ]
  },
  {
   "cell_type": "code",
   "execution_count": null,
   "metadata": {},
   "outputs": [],
   "source": []
  }
 ],
 "metadata": {
  "interpreter": {
   "hash": "b1d66394e71791801d75836716622ed256ab8a690187b910b58c4a6e9f6a2fc5"
  },
  "kernelspec": {
   "display_name": "Python 3",
   "language": "python",
   "name": "python3"
  },
  "language_info": {
   "codemirror_mode": {
    "name": "ipython",
    "version": 3
   },
   "file_extension": ".py",
   "mimetype": "text/x-python",
   "name": "python",
   "nbconvert_exporter": "python",
   "pygments_lexer": "ipython3",
   "version": "3.8.5"
  }
 },
 "nbformat": 4,
 "nbformat_minor": 2
}
