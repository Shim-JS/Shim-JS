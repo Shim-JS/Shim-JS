{
 "cells": [
  {
   "cell_type": "code",
   "execution_count": 1,
   "metadata": {},
   "outputs": [],
   "source": [
    "import pandas as pd\n",
    "import numpy as np\n",
    "import matplotlib.pyplot as plt\n",
    "import seaborn as sns\n",
    "#출력 그림 크기 조절\n",
    "sns.set(rc={'figure.figsize':(12,12)})\n",
    "plt.style.use('ggplot')\n",
    "from matplotlib import font_manager, rc\n",
    "font_path = \"C:/Windows/Fonts/NGULIM.TTF\"\n",
    "font = font_manager.FontProperties(fname=font_path).get_name()\n",
    "rc('font', family=font)\n",
    "\n",
    "import warnings\n",
    "warnings.filterwarnings(\"ignore\")"
   ]
  },
  {
   "cell_type": "code",
   "execution_count": 2,
   "metadata": {},
   "outputs": [],
   "source": [
    "train = pd.read_csv('data/train0712.csv', encoding = 'ansi')\n",
    "test = pd.read_csv('data/test0712.csv', encoding = 'ansi')\n",
    "\n",
    "submission = pd.read_csv('data/sample_submission.csv')"
   ]
  },
  {
   "cell_type": "code",
   "execution_count": 3,
   "metadata": {},
   "outputs": [],
   "source": [
    "from sklearn.ensemble import RandomForestRegressor"
   ]
  },
  {
   "cell_type": "code",
   "execution_count": 4,
   "metadata": {},
   "outputs": [
    {
     "data": {
      "text/plain": [
       "등록차량수             1.000000\n",
       "단지내주차면수           0.847196\n",
       "총세대수              0.596356\n",
       "총임대가구수            0.586707\n",
       "가구당주차면수           0.512999\n",
       "임대료               0.481635\n",
       "공급유형_공공임대(10년)    0.410467\n",
       "임대보증금             0.388964\n",
       "30대(남자)           0.328977\n",
       "30대(여자)           0.328937\n",
       "임대건물구분            0.317295\n",
       "공급유형_임대상가         0.317295\n",
       "자격유형_D            0.317295\n",
       "자격유형_C            0.305958\n",
       "주거율               0.291565\n",
       "면적_70             0.266881\n",
       "면적_30             0.266387\n",
       "면적_100            0.262414\n",
       "50대(남자)           0.252389\n",
       "자격유형_A            0.239622\n",
       "Name: 등록차량수, dtype: float64"
      ]
     },
     "execution_count": 4,
     "metadata": {},
     "output_type": "execute_result"
    }
   ],
   "source": [
    "corr = train.corr()[\"등록차량수\"].abs().sort_values(ascending=False)\n",
    "corr.head(20)\n"
   ]
  },
  {
   "cell_type": "code",
   "execution_count": 5,
   "metadata": {},
   "outputs": [],
   "source": [
    "X = train.copy()\n",
    "X = X.loc[:,corr.index[0:10]]\n",
    "X.drop(['등록차량수',  ],axis=1, inplace=True)\n",
    "feature_names = X.columns.to_list()\n",
    "# scaler = StandardScaler()\n",
    "# X = scaler.fit(X).transform(X)\n",
    "\n",
    "y = train.loc[:,'등록차량수']\n",
    "\n",
    "# 피쳐 선택은 나중에 우선 상관도 높은 20개 사용 "
   ]
  },
  {
   "cell_type": "code",
   "execution_count": 6,
   "metadata": {},
   "outputs": [],
   "source": [
    "model = RF = RandomForestRegressor(n_jobs=-1, random_state=300, max_depth =12,min_samples_leaf =2,min_samples_split=2,n_estimators=200)\n",
    "model.fit(X, y)\n",
    "\n",
    "X_test = test[feature_names]\n",
    "pred = RF.predict(X_test)\n",
    "\n",
    "submission['num'] = pred\n",
    "#submission.to_csv('sub/baseline0713_RF_cod.csv', index=False)"
   ]
  },
  {
   "cell_type": "code",
   "execution_count": 7,
   "metadata": {},
   "outputs": [
    {
     "data": {
      "text/plain": [
       "<BarContainer object of 9 artists>"
      ]
     },
     "execution_count": 7,
     "metadata": {},
     "output_type": "execute_result"
    },
    {
     "data": {
      "image/png": "[encoded data removed]",
      "text/plain": [
       "<Figure size 864x864 with 1 Axes>"
      ]
     },
     "metadata": {},
     "output_type": "display_data"
    }
   ],
   "source": [
    "importances = RF.feature_importances_\n",
    "plt.xlabel(\"Random Forest Feature Importance\")\n",
    "plt.barh(feature_names, importances)"
   ]
  },
  {
   "cell_type": "code",
   "execution_count": 8,
   "metadata": {},
   "outputs": [
    {
     "data": {
      "text/plain": [
       "단지내주차면수           0.762178\n",
       "임대료               0.071731\n",
       "임대보증금             0.041416\n",
       "가구당주차면수           0.029114\n",
       "총임대가구수            0.028357\n",
       "총세대수              0.026594\n",
       "30대(여자)           0.015684\n",
       "공급유형_공공임대(10년)    0.012969\n",
       "30대(남자)           0.011956\n",
       "dtype: float64"
      ]
     },
     "execution_count": 8,
     "metadata": {},
     "output_type": "execute_result"
    }
   ],
   "source": [
    "importance = pd.Series(RF.feature_importances_,feature_names)\n",
    "importance.abs().sort_values(ascending=False)"
   ]
  },
  {
   "cell_type": "code",
   "execution_count": 9,
   "metadata": {},
   "outputs": [],
   "source": [
    "X = train.copy()\n",
    "X = X.loc[:,importance.index[0:3]]\n",
    "#X.drop(['등록차량수',  ],axis=1, inplace=True)\n",
    "feature_names = X.columns.to_list()\n",
    "# scaler = StandardScaler()\n",
    "# X = scaler.fit(X).transform(X)\n",
    "\n",
    "y = train.loc[:,'등록차량수']\n",
    "\n",
    "# 피쳐 선택은 나중에 우선 상관도 높은 20개 사용 "
   ]
  },
  {
   "cell_type": "code",
   "execution_count": 10,
   "metadata": {},
   "outputs": [],
   "source": [
    "model = RF = RandomForestRegressor(n_jobs=-1, random_state=300, max_depth =12,min_samples_leaf =2,min_samples_split=2,n_estimators=200)\n",
    "model.fit(X, y)\n",
    "\n",
    "X_test = test[feature_names]\n",
    "pred = RF.predict(X_test)\n",
    "\n",
    "submission['num'] = pred\n",
    "submission.to_csv('sub/0713_RF_cod_2.csv', index=False)"
   ]
  },
  {
   "cell_type": "code",
   "execution_count": 11,
   "metadata": {
    "scrolled": true
   },
   "outputs": [
    {
     "data": {
      "text/html": [
       "<div>\n",
       "<style scoped>\n",
       "    .dataframe tbody tr th:only-of-type {\n",
       "        vertical-align: middle;\n",
       "    }\n",
       "\n",
       "    .dataframe tbody tr th {\n",
       "        vertical-align: top;\n",
       "    }\n",
       "\n",
       "    .dataframe thead th {\n",
       "        text-align: right;\n",
       "    }\n",
       "</style>\n",
       "<table border=\"1\" class=\"dataframe\">\n",
       "  <thead>\n",
       "    <tr style=\"text-align: right;\">\n",
       "      <th></th>\n",
       "      <th>code</th>\n",
       "      <th>num</th>\n",
       "    </tr>\n",
       "  </thead>\n",
       "  <tbody>\n",
       "    <tr>\n",
       "      <th>0</th>\n",
       "      <td>C1072</td>\n",
       "      <td>580.235644</td>\n",
       "    </tr>\n",
       "    <tr>\n",
       "      <th>1</th>\n",
       "      <td>C1128</td>\n",
       "      <td>1294.521984</td>\n",
       "    </tr>\n",
       "    <tr>\n",
       "      <th>2</th>\n",
       "      <td>C1456</td>\n",
       "      <td>559.261893</td>\n",
       "    </tr>\n",
       "    <tr>\n",
       "      <th>3</th>\n",
       "      <td>C1840</td>\n",
       "      <td>571.180296</td>\n",
       "    </tr>\n",
       "    <tr>\n",
       "      <th>4</th>\n",
       "      <td>C1332</td>\n",
       "      <td>1048.627317</td>\n",
       "    </tr>\n",
       "    <tr>\n",
       "      <th>...</th>\n",
       "      <td>...</td>\n",
       "      <td>...</td>\n",
       "    </tr>\n",
       "    <tr>\n",
       "      <th>145</th>\n",
       "      <td>C2456</td>\n",
       "      <td>302.238745</td>\n",
       "    </tr>\n",
       "    <tr>\n",
       "      <th>146</th>\n",
       "      <td>C1266</td>\n",
       "      <td>500.335465</td>\n",
       "    </tr>\n",
       "    <tr>\n",
       "      <th>147</th>\n",
       "      <td>C2152</td>\n",
       "      <td>36.392179</td>\n",
       "    </tr>\n",
       "    <tr>\n",
       "      <th>148</th>\n",
       "      <td>C1267</td>\n",
       "      <td>490.863767</td>\n",
       "    </tr>\n",
       "    <tr>\n",
       "      <th>149</th>\n",
       "      <td>C2189</td>\n",
       "      <td>340.502795</td>\n",
       "    </tr>\n",
       "  </tbody>\n",
       "</table>\n",
       "<p>150 rows × 2 columns</p>\n",
       "</div>"
      ],
      "text/plain": [
       "      code          num\n",
       "0    C1072   580.235644\n",
       "1    C1128  1294.521984\n",
       "2    C1456   559.261893\n",
       "3    C1840   571.180296\n",
       "4    C1332  1048.627317\n",
       "..     ...          ...\n",
       "145  C2456   302.238745\n",
       "146  C1266   500.335465\n",
       "147  C2152    36.392179\n",
       "148  C1267   490.863767\n",
       "149  C2189   340.502795\n",
       "\n",
       "[150 rows x 2 columns]"
      ]
     },
     "execution_count": 11,
     "metadata": {},
     "output_type": "execute_result"
    }
   ],
   "source": [
    "submission"
   ]
  },
  {
   "cell_type": "code",
   "execution_count": null,
   "metadata": {},
   "outputs": [],
   "source": []
  }
 ],
 "metadata": {
  "kernelspec": {
   "display_name": "Python 3",
   "language": "python",
   "name": "python3"
  },
  "language_info": {
   "codemirror_mode": {
    "name": "ipython",
    "version": 3
   },
   "file_extension": ".py",
   "mimetype": "text/x-python",
   "name": "python",
   "nbconvert_exporter": "python",
   "pygments_lexer": "ipython3",
   "version": "3.8.5"
  }
 },
 "nbformat": 4,
 "nbformat_minor": 4
}
