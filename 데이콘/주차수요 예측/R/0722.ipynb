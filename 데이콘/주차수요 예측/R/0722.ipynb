{
 "cells": [
  {
   "cell_type": "code",
   "execution_count": 1,
   "metadata": {},
   "outputs": [],
   "source": [
    "setwd(\"C:/dacon/re\")\n",
    "train<-read.table(\"train0722(1).csv\",  sep=\",\", header=T)"
   ]
  },
  {
   "cell_type": "markdown",
   "metadata": {},
   "source": [
    "## type_as 파생변수생성\n",
    "- type_new 아파트0 아파트+상가 1\n",
    "- prop_sanga 상가비율"
   ]
  },
  {
   "cell_type": "code",
   "execution_count": 9,
   "metadata": {},
   "outputs": [
    {
     "data": {
      "text/plain": [
       "\n",
       "   0    1 \n",
       " 562 2363 "
      ]
     },
     "metadata": {},
     "output_type": "display_data"
    },
    {
     "data": {
      "text/plain": [
       "\n",
       "   0    1 \n",
       "2363  562 "
      ]
     },
     "metadata": {},
     "output_type": "display_data"
    }
   ],
   "source": [
    "table(train$type_as0);\n",
    "table(train$type_as1)"
   ]
  },
  {
   "cell_type": "code",
   "execution_count": 8,
   "metadata": {},
   "outputs": [
    {
     "data": {
      "text/plain": [
       "\n",
       "   0    1 \n",
       "2363  562 "
      ]
     },
     "metadata": {},
     "output_type": "display_data"
    }
   ],
   "source": [
    "table(train$type_as)"
   ]
  },
  {
   "cell_type": "code",
   "execution_count": 12,
   "metadata": {},
   "outputs": [],
   "source": [
    "write.csv(train, \"train0722(3).csv\", row.names=F)"
   ]
  },
  {
   "cell_type": "code",
   "execution_count": 21,
   "metadata": {},
   "outputs": [
    {
     "name": "stderr",
     "output_type": "stream",
     "text": [
      "Warning message:\n",
      "\"package 'dplyr' was built under R version 3.6.3\"\n",
      "Attaching package: 'dplyr'\n",
      "\n",
      "The following objects are masked from 'package:stats':\n",
      "\n",
      "    filter, lag\n",
      "\n",
      "The following objects are masked from 'package:base':\n",
      "\n",
      "    intersect, setdiff, setequal, union\n",
      "\n"
     ]
    }
   ],
   "source": [
    "library(dplyr)"
   ]
  },
  {
   "cell_type": "code",
   "execution_count": 23,
   "metadata": {},
   "outputs": [
    {
     "data": {
      "text/html": [
       "<table>\n",
       "<thead><tr><th scope=col>code</th><th scope=col>tot_pop</th><th scope=col>type_as</th><th scope=col>region</th><th scope=col>type_im</th><th scope=col>area</th><th scope=col>area_pop</th><th scope=col>num_empty</th><th scope=col>type_qual</th><th scope=col>fee_deposit</th><th scope=col>fee_rent</th><th scope=col>sub</th><th scope=col>bus</th><th scope=col>num_park</th><th scope=col>target</th><th scope=col>type_as0</th><th scope=col>type_as1</th><th scope=col>type_as2</th></tr></thead>\n",
       "<tbody>\n",
       "\t<tr><td>C2483   </td><td>900     </td><td>0       </td><td>4       </td><td>6       </td><td>39.72   </td><td>134     </td><td>38      </td><td>1       </td><td>15667000</td><td>103680  </td><td>0       </td><td>3       </td><td>1425    </td><td>1015    </td><td>1       </td><td>0       </td><td>2       </td></tr>\n",
       "\t<tr><td>C2483   </td><td>900     </td><td>0       </td><td>4       </td><td>6       </td><td>39.72   </td><td> 15     </td><td>38      </td><td>1       </td><td>15667000</td><td>103680  </td><td>0       </td><td>3       </td><td>1425    </td><td>1015    </td><td>1       </td><td>0       </td><td>2       </td></tr>\n",
       "\t<tr><td>C2483   </td><td>900     </td><td>0       </td><td>4       </td><td>6       </td><td>51.93   </td><td>385     </td><td>38      </td><td>1       </td><td>27304000</td><td>184330  </td><td>0       </td><td>3       </td><td>1425    </td><td>1015    </td><td>1       </td><td>0       </td><td>2       </td></tr>\n",
       "\t<tr><td>C2483   </td><td>900     </td><td>0       </td><td>4       </td><td>6       </td><td>51.93   </td><td> 15     </td><td>38      </td><td>1       </td><td>27304000</td><td>184330  </td><td>0       </td><td>3       </td><td>1425    </td><td>1015    </td><td>1       </td><td>0       </td><td>2       </td></tr>\n",
       "\t<tr><td>C2483   </td><td>900     </td><td>0       </td><td>4       </td><td>6       </td><td>51.93   </td><td> 41     </td><td>38      </td><td>1       </td><td>27304000</td><td>184330  </td><td>0       </td><td>3       </td><td>1425    </td><td>1015    </td><td>1       </td><td>0       </td><td>2       </td></tr>\n",
       "</tbody>\n",
       "</table>\n"
      ],
      "text/latex": [
       "\\begin{tabular}{r|llllllllllllllllll}\n",
       " code & tot\\_pop & type\\_as & region & type\\_im & area & area\\_pop & num\\_empty & type\\_qual & fee\\_deposit & fee\\_rent & sub & bus & num\\_park & target & type\\_as0 & type\\_as1 & type\\_as2\\\\\n",
       "\\hline\n",
       "\t C2483    & 900      & 0        & 4        & 6        & 39.72    & 134      & 38       & 1        & 15667000 & 103680   & 0        & 3        & 1425     & 1015     & 1        & 0        & 2       \\\\\n",
       "\t C2483    & 900      & 0        & 4        & 6        & 39.72    &  15      & 38       & 1        & 15667000 & 103680   & 0        & 3        & 1425     & 1015     & 1        & 0        & 2       \\\\\n",
       "\t C2483    & 900      & 0        & 4        & 6        & 51.93    & 385      & 38       & 1        & 27304000 & 184330   & 0        & 3        & 1425     & 1015     & 1        & 0        & 2       \\\\\n",
       "\t C2483    & 900      & 0        & 4        & 6        & 51.93    &  15      & 38       & 1        & 27304000 & 184330   & 0        & 3        & 1425     & 1015     & 1        & 0        & 2       \\\\\n",
       "\t C2483    & 900      & 0        & 4        & 6        & 51.93    &  41      & 38       & 1        & 27304000 & 184330   & 0        & 3        & 1425     & 1015     & 1        & 0        & 2       \\\\\n",
       "\\end{tabular}\n"
      ],
      "text/markdown": [
       "\n",
       "| code | tot_pop | type_as | region | type_im | area | area_pop | num_empty | type_qual | fee_deposit | fee_rent | sub | bus | num_park | target | type_as0 | type_as1 | type_as2 |\n",
       "|---|---|---|---|---|---|---|---|---|---|---|---|---|---|---|---|---|---|\n",
       "| C2483    | 900      | 0        | 4        | 6        | 39.72    | 134      | 38       | 1        | 15667000 | 103680   | 0        | 3        | 1425     | 1015     | 1        | 0        | 2        |\n",
       "| C2483    | 900      | 0        | 4        | 6        | 39.72    |  15      | 38       | 1        | 15667000 | 103680   | 0        | 3        | 1425     | 1015     | 1        | 0        | 2        |\n",
       "| C2483    | 900      | 0        | 4        | 6        | 51.93    | 385      | 38       | 1        | 27304000 | 184330   | 0        | 3        | 1425     | 1015     | 1        | 0        | 2        |\n",
       "| C2483    | 900      | 0        | 4        | 6        | 51.93    |  15      | 38       | 1        | 27304000 | 184330   | 0        | 3        | 1425     | 1015     | 1        | 0        | 2        |\n",
       "| C2483    | 900      | 0        | 4        | 6        | 51.93    |  41      | 38       | 1        | 27304000 | 184330   | 0        | 3        | 1425     | 1015     | 1        | 0        | 2        |\n",
       "\n"
      ],
      "text/plain": [
       "  code  tot_pop type_as region type_im area  area_pop num_empty type_qual\n",
       "1 C2483 900     0       4      6       39.72 134      38        1        \n",
       "2 C2483 900     0       4      6       39.72  15      38        1        \n",
       "3 C2483 900     0       4      6       51.93 385      38        1        \n",
       "4 C2483 900     0       4      6       51.93  15      38        1        \n",
       "5 C2483 900     0       4      6       51.93  41      38        1        \n",
       "  fee_deposit fee_rent sub bus num_park target type_as0 type_as1 type_as2\n",
       "1 15667000    103680   0   3   1425     1015   1        0        2       \n",
       "2 15667000    103680   0   3   1425     1015   1        0        2       \n",
       "3 27304000    184330   0   3   1425     1015   1        0        2       \n",
       "4 27304000    184330   0   3   1425     1015   1        0        2       \n",
       "5 27304000    184330   0   3   1425     1015   1        0        2       "
      ]
     },
     "metadata": {},
     "output_type": "display_data"
    }
   ],
   "source": [
    "head(train,5)"
   ]
  },
  {
   "cell_type": "code",
   "execution_count": 42,
   "metadata": {},
   "outputs": [
    {
     "data": {
      "text/html": [
       "<table>\n",
       "<thead><tr><th scope=col>code</th><th scope=col>mean</th></tr></thead>\n",
       "<tbody>\n",
       "\t<tr><td>C1000    </td><td>0.0000000</td></tr>\n",
       "\t<tr><td>C1004    </td><td>0.8947368</td></tr>\n",
       "\t<tr><td>C1005    </td><td>0.0000000</td></tr>\n",
       "\t<tr><td>C1013    </td><td>0.0000000</td></tr>\n",
       "\t<tr><td>C1014    </td><td>0.0000000</td></tr>\n",
       "</tbody>\n",
       "</table>\n"
      ],
      "text/latex": [
       "\\begin{tabular}{r|ll}\n",
       " code & mean\\\\\n",
       "\\hline\n",
       "\t C1000     & 0.0000000\\\\\n",
       "\t C1004     & 0.8947368\\\\\n",
       "\t C1005     & 0.0000000\\\\\n",
       "\t C1013     & 0.0000000\\\\\n",
       "\t C1014     & 0.0000000\\\\\n",
       "\\end{tabular}\n"
      ],
      "text/markdown": [
       "\n",
       "| code | mean |\n",
       "|---|---|\n",
       "| C1000     | 0.0000000 |\n",
       "| C1004     | 0.8947368 |\n",
       "| C1005     | 0.0000000 |\n",
       "| C1013     | 0.0000000 |\n",
       "| C1014     | 0.0000000 |\n",
       "\n"
      ],
      "text/plain": [
       "  code  mean     \n",
       "1 C1000 0.0000000\n",
       "2 C1004 0.8947368\n",
       "3 C1005 0.0000000\n",
       "4 C1013 0.0000000\n",
       "5 C1014 0.0000000"
      ]
     },
     "metadata": {},
     "output_type": "display_data"
    }
   ],
   "source": [
    "train2<-train %>% group_by(code) %>%summarise(mean=mean(type_as) )\n",
    "head(train2,5)"
   ]
  },
  {
   "cell_type": "code",
   "execution_count": 46,
   "metadata": {},
   "outputs": [
    {
     "data": {
      "text/html": [
       "<table>\n",
       "<thead><tr><th></th><th scope=col>code</th><th scope=col>tot_pop</th><th scope=col>type_as</th><th scope=col>region</th><th scope=col>type_im</th><th scope=col>area</th><th scope=col>area_pop</th><th scope=col>num_empty</th><th scope=col>type_qual</th><th scope=col>fee_deposit</th><th scope=col>fee_rent</th><th scope=col>sub</th><th scope=col>bus</th><th scope=col>num_park</th><th scope=col>target</th><th scope=col>mean</th><th scope=col>type_new</th></tr></thead>\n",
       "<tbody>\n",
       "\t<tr><th scope=row>765</th><td>C1004    </td><td>521      </td><td>0        </td><td>15       </td><td>7        </td><td> 39.30   </td><td>240      </td><td>3        </td><td>3        </td><td> 4682000 </td><td>104180   </td><td>0        </td><td>2        </td><td>153      </td><td>93       </td><td>0.8947368</td><td>1        </td></tr>\n",
       "\t<tr><th scope=row>766</th><td>C1004    </td><td>521      </td><td>0        </td><td>15       </td><td>7        </td><td> 39.69   </td><td>264      </td><td>3        </td><td>3        </td><td> 4728000 </td><td>105210   </td><td>1        </td><td>2        </td><td>153      </td><td>93       </td><td>0.8947368</td><td>1        </td></tr>\n",
       "\t<tr><th scope=row>767</th><td>C1004    </td><td>521      </td><td>1        </td><td>15       </td><td>8        </td><td> 19.00   </td><td>  1      </td><td>3        </td><td>4        </td><td>21505000 </td><td> 58460   </td><td>0        </td><td>2        </td><td>153      </td><td>93       </td><td>0.8947368</td><td>1        </td></tr>\n",
       "\t<tr><th scope=row>768</th><td>C1004    </td><td>521      </td><td>1        </td><td>15       </td><td>8        </td><td> 14.10   </td><td>  1      </td><td>3        </td><td>4        </td><td>34082000 </td><td>145160   </td><td>0        </td><td>2        </td><td>153      </td><td>93       </td><td>0.8947368</td><td>1        </td></tr>\n",
       "\t<tr><th scope=row>769</th><td>C1004    </td><td>521      </td><td>1        </td><td>15       </td><td>8        </td><td> 19.31   </td><td>  1      </td><td>3        </td><td>4        </td><td>19000000 </td><td>113560   </td><td>0        </td><td>2        </td><td>153      </td><td>93       </td><td>0.8947368</td><td>1        </td></tr>\n",
       "\t<tr><th scope=row>770</th><td>C1004    </td><td>521      </td><td>1        </td><td>15       </td><td>8        </td><td> 21.19   </td><td>  1      </td><td>3        </td><td>4        </td><td>35800000 </td><td>510510   </td><td>0        </td><td>2        </td><td>153      </td><td>93       </td><td>0.8947368</td><td>1        </td></tr>\n",
       "\t<tr><th scope=row>771</th><td>C1004    </td><td>521      </td><td>1        </td><td>15       </td><td>8        </td><td> 21.19   </td><td>  1      </td><td>3        </td><td>4        </td><td>22440000 </td><td>164610   </td><td>0        </td><td>2        </td><td>153      </td><td>93       </td><td>0.8947368</td><td>1        </td></tr>\n",
       "\t<tr><th scope=row>772</th><td>C1004    </td><td>521      </td><td>1        </td><td>15       </td><td>8        </td><td> 22.95   </td><td>  1      </td><td>3        </td><td>4        </td><td>23520000 </td><td> 78670   </td><td>0        </td><td>2        </td><td>153      </td><td>93       </td><td>0.8947368</td><td>1        </td></tr>\n",
       "\t<tr><th scope=row>773</th><td>C1004    </td><td>521      </td><td>1        </td><td>15       </td><td>8        </td><td> 23.40   </td><td>  1      </td><td>3        </td><td>4        </td><td> 6766000 </td><td>146740   </td><td>0        </td><td>2        </td><td>153      </td><td>93       </td><td>0.8947368</td><td>1        </td></tr>\n",
       "\t<tr><th scope=row>774</th><td>C1004    </td><td>521      </td><td>1        </td><td>15       </td><td>8        </td><td> 23.40   </td><td>  1      </td><td>3        </td><td>4        </td><td>23370000 </td><td>100690   </td><td>0        </td><td>2        </td><td>153      </td><td>93       </td><td>0.8947368</td><td>1        </td></tr>\n",
       "\t<tr><th scope=row>775</th><td>C1004    </td><td>521      </td><td>1        </td><td>15       </td><td>8        </td><td> 23.40   </td><td>  1      </td><td>3        </td><td>4        </td><td>31210000 </td><td>183450   </td><td>0        </td><td>2        </td><td>153      </td><td>93       </td><td>0.8947368</td><td>1        </td></tr>\n",
       "\t<tr><th scope=row>776</th><td>C1004    </td><td>521      </td><td>1        </td><td>15       </td><td>8        </td><td> 23.40   </td><td>  1      </td><td>3        </td><td>4        </td><td>18217000 </td><td> 94750   </td><td>0        </td><td>2        </td><td>153      </td><td>93       </td><td>0.8947368</td><td>1        </td></tr>\n",
       "\t<tr><th scope=row>777</th><td>C1004    </td><td>521      </td><td>1        </td><td>15       </td><td>8        </td><td> 27.23   </td><td>  1      </td><td>3        </td><td>4        </td><td> 9470000 </td><td>257660   </td><td>0        </td><td>2        </td><td>153      </td><td>93       </td><td>0.8947368</td><td>1        </td></tr>\n",
       "\t<tr><th scope=row>778</th><td>C1004    </td><td>521      </td><td>1        </td><td>15       </td><td>8        </td><td> 31.85   </td><td>  1      </td><td>3        </td><td>4        </td><td>12947000 </td><td>205880   </td><td>0        </td><td>2        </td><td>153      </td><td>93       </td><td>0.8947368</td><td>1        </td></tr>\n",
       "\t<tr><th scope=row>779</th><td>C1004    </td><td>521      </td><td>1        </td><td>15       </td><td>8        </td><td> 32.29   </td><td>  1      </td><td>3        </td><td>4        </td><td>15667000 </td><td>188260   </td><td>0        </td><td>2        </td><td>153      </td><td>93       </td><td>0.8947368</td><td>1        </td></tr>\n",
       "\t<tr><th scope=row>780</th><td>C1004    </td><td>521      </td><td>1        </td><td>15       </td><td>8        </td><td> 35.13   </td><td>  1      </td><td>3        </td><td>4        </td><td>76506000 </td><td>119860   </td><td>0        </td><td>2        </td><td>153      </td><td>93       </td><td>0.8947368</td><td>1        </td></tr>\n",
       "\t<tr><th scope=row>781</th><td>C1004    </td><td>521      </td><td>1        </td><td>15       </td><td>8        </td><td> 36.47   </td><td>  1      </td><td>3        </td><td>4        </td><td>11147000 </td><td>168750   </td><td>0        </td><td>2        </td><td>153      </td><td>93       </td><td>0.8947368</td><td>1        </td></tr>\n",
       "\t<tr><th scope=row>782</th><td>C1004    </td><td>521      </td><td>1        </td><td>15       </td><td>8        </td><td> 50.08   </td><td>  1      </td><td>3        </td><td>4        </td><td>27304000 </td><td> 35910   </td><td>0        </td><td>2        </td><td>153      </td><td>93       </td><td>0.8947368</td><td>1        </td></tr>\n",
       "\t<tr><th scope=row>783</th><td>C1004    </td><td>521      </td><td>1        </td><td>15       </td><td>8        </td><td>240.22   </td><td>  1      </td><td>3        </td><td>4        </td><td>14487000 </td><td>111470   </td><td>0        </td><td>2        </td><td>153      </td><td>93       </td><td>0.8947368</td><td>1        </td></tr>\n",
       "</tbody>\n",
       "</table>\n"
      ],
      "text/latex": [
       "\\begin{tabular}{r|lllllllllllllllll}\n",
       "  & code & tot\\_pop & type\\_as & region & type\\_im & area & area\\_pop & num\\_empty & type\\_qual & fee\\_deposit & fee\\_rent & sub & bus & num\\_park & target & mean & type\\_new\\\\\n",
       "\\hline\n",
       "\t765 & C1004     & 521       & 0         & 15        & 7         &  39.30    & 240       & 3         & 3         &  4682000  & 104180    & 0         & 2         & 153       & 93        & 0.8947368 & 1        \\\\\n",
       "\t766 & C1004     & 521       & 0         & 15        & 7         &  39.69    & 264       & 3         & 3         &  4728000  & 105210    & 1         & 2         & 153       & 93        & 0.8947368 & 1        \\\\\n",
       "\t767 & C1004     & 521       & 1         & 15        & 8         &  19.00    &   1       & 3         & 4         & 21505000  &  58460    & 0         & 2         & 153       & 93        & 0.8947368 & 1        \\\\\n",
       "\t768 & C1004     & 521       & 1         & 15        & 8         &  14.10    &   1       & 3         & 4         & 34082000  & 145160    & 0         & 2         & 153       & 93        & 0.8947368 & 1        \\\\\n",
       "\t769 & C1004     & 521       & 1         & 15        & 8         &  19.31    &   1       & 3         & 4         & 19000000  & 113560    & 0         & 2         & 153       & 93        & 0.8947368 & 1        \\\\\n",
       "\t770 & C1004     & 521       & 1         & 15        & 8         &  21.19    &   1       & 3         & 4         & 35800000  & 510510    & 0         & 2         & 153       & 93        & 0.8947368 & 1        \\\\\n",
       "\t771 & C1004     & 521       & 1         & 15        & 8         &  21.19    &   1       & 3         & 4         & 22440000  & 164610    & 0         & 2         & 153       & 93        & 0.8947368 & 1        \\\\\n",
       "\t772 & C1004     & 521       & 1         & 15        & 8         &  22.95    &   1       & 3         & 4         & 23520000  &  78670    & 0         & 2         & 153       & 93        & 0.8947368 & 1        \\\\\n",
       "\t773 & C1004     & 521       & 1         & 15        & 8         &  23.40    &   1       & 3         & 4         &  6766000  & 146740    & 0         & 2         & 153       & 93        & 0.8947368 & 1        \\\\\n",
       "\t774 & C1004     & 521       & 1         & 15        & 8         &  23.40    &   1       & 3         & 4         & 23370000  & 100690    & 0         & 2         & 153       & 93        & 0.8947368 & 1        \\\\\n",
       "\t775 & C1004     & 521       & 1         & 15        & 8         &  23.40    &   1       & 3         & 4         & 31210000  & 183450    & 0         & 2         & 153       & 93        & 0.8947368 & 1        \\\\\n",
       "\t776 & C1004     & 521       & 1         & 15        & 8         &  23.40    &   1       & 3         & 4         & 18217000  &  94750    & 0         & 2         & 153       & 93        & 0.8947368 & 1        \\\\\n",
       "\t777 & C1004     & 521       & 1         & 15        & 8         &  27.23    &   1       & 3         & 4         &  9470000  & 257660    & 0         & 2         & 153       & 93        & 0.8947368 & 1        \\\\\n",
       "\t778 & C1004     & 521       & 1         & 15        & 8         &  31.85    &   1       & 3         & 4         & 12947000  & 205880    & 0         & 2         & 153       & 93        & 0.8947368 & 1        \\\\\n",
       "\t779 & C1004     & 521       & 1         & 15        & 8         &  32.29    &   1       & 3         & 4         & 15667000  & 188260    & 0         & 2         & 153       & 93        & 0.8947368 & 1        \\\\\n",
       "\t780 & C1004     & 521       & 1         & 15        & 8         &  35.13    &   1       & 3         & 4         & 76506000  & 119860    & 0         & 2         & 153       & 93        & 0.8947368 & 1        \\\\\n",
       "\t781 & C1004     & 521       & 1         & 15        & 8         &  36.47    &   1       & 3         & 4         & 11147000  & 168750    & 0         & 2         & 153       & 93        & 0.8947368 & 1        \\\\\n",
       "\t782 & C1004     & 521       & 1         & 15        & 8         &  50.08    &   1       & 3         & 4         & 27304000  &  35910    & 0         & 2         & 153       & 93        & 0.8947368 & 1        \\\\\n",
       "\t783 & C1004     & 521       & 1         & 15        & 8         & 240.22    &   1       & 3         & 4         & 14487000  & 111470    & 0         & 2         & 153       & 93        & 0.8947368 & 1        \\\\\n",
       "\\end{tabular}\n"
      ],
      "text/markdown": [
       "\n",
       "| <!--/--> | code | tot_pop | type_as | region | type_im | area | area_pop | num_empty | type_qual | fee_deposit | fee_rent | sub | bus | num_park | target | mean | type_new |\n",
       "|---|---|---|---|---|---|---|---|---|---|---|---|---|---|---|---|---|---|\n",
       "| 765 | C1004     | 521       | 0         | 15        | 7         |  39.30    | 240       | 3         | 3         |  4682000  | 104180    | 0         | 2         | 153       | 93        | 0.8947368 | 1         |\n",
       "| 766 | C1004     | 521       | 0         | 15        | 7         |  39.69    | 264       | 3         | 3         |  4728000  | 105210    | 1         | 2         | 153       | 93        | 0.8947368 | 1         |\n",
       "| 767 | C1004     | 521       | 1         | 15        | 8         |  19.00    |   1       | 3         | 4         | 21505000  |  58460    | 0         | 2         | 153       | 93        | 0.8947368 | 1         |\n",
       "| 768 | C1004     | 521       | 1         | 15        | 8         |  14.10    |   1       | 3         | 4         | 34082000  | 145160    | 0         | 2         | 153       | 93        | 0.8947368 | 1         |\n",
       "| 769 | C1004     | 521       | 1         | 15        | 8         |  19.31    |   1       | 3         | 4         | 19000000  | 113560    | 0         | 2         | 153       | 93        | 0.8947368 | 1         |\n",
       "| 770 | C1004     | 521       | 1         | 15        | 8         |  21.19    |   1       | 3         | 4         | 35800000  | 510510    | 0         | 2         | 153       | 93        | 0.8947368 | 1         |\n",
       "| 771 | C1004     | 521       | 1         | 15        | 8         |  21.19    |   1       | 3         | 4         | 22440000  | 164610    | 0         | 2         | 153       | 93        | 0.8947368 | 1         |\n",
       "| 772 | C1004     | 521       | 1         | 15        | 8         |  22.95    |   1       | 3         | 4         | 23520000  |  78670    | 0         | 2         | 153       | 93        | 0.8947368 | 1         |\n",
       "| 773 | C1004     | 521       | 1         | 15        | 8         |  23.40    |   1       | 3         | 4         |  6766000  | 146740    | 0         | 2         | 153       | 93        | 0.8947368 | 1         |\n",
       "| 774 | C1004     | 521       | 1         | 15        | 8         |  23.40    |   1       | 3         | 4         | 23370000  | 100690    | 0         | 2         | 153       | 93        | 0.8947368 | 1         |\n",
       "| 775 | C1004     | 521       | 1         | 15        | 8         |  23.40    |   1       | 3         | 4         | 31210000  | 183450    | 0         | 2         | 153       | 93        | 0.8947368 | 1         |\n",
       "| 776 | C1004     | 521       | 1         | 15        | 8         |  23.40    |   1       | 3         | 4         | 18217000  |  94750    | 0         | 2         | 153       | 93        | 0.8947368 | 1         |\n",
       "| 777 | C1004     | 521       | 1         | 15        | 8         |  27.23    |   1       | 3         | 4         |  9470000  | 257660    | 0         | 2         | 153       | 93        | 0.8947368 | 1         |\n",
       "| 778 | C1004     | 521       | 1         | 15        | 8         |  31.85    |   1       | 3         | 4         | 12947000  | 205880    | 0         | 2         | 153       | 93        | 0.8947368 | 1         |\n",
       "| 779 | C1004     | 521       | 1         | 15        | 8         |  32.29    |   1       | 3         | 4         | 15667000  | 188260    | 0         | 2         | 153       | 93        | 0.8947368 | 1         |\n",
       "| 780 | C1004     | 521       | 1         | 15        | 8         |  35.13    |   1       | 3         | 4         | 76506000  | 119860    | 0         | 2         | 153       | 93        | 0.8947368 | 1         |\n",
       "| 781 | C1004     | 521       | 1         | 15        | 8         |  36.47    |   1       | 3         | 4         | 11147000  | 168750    | 0         | 2         | 153       | 93        | 0.8947368 | 1         |\n",
       "| 782 | C1004     | 521       | 1         | 15        | 8         |  50.08    |   1       | 3         | 4         | 27304000  |  35910    | 0         | 2         | 153       | 93        | 0.8947368 | 1         |\n",
       "| 783 | C1004     | 521       | 1         | 15        | 8         | 240.22    |   1       | 3         | 4         | 14487000  | 111470    | 0         | 2         | 153       | 93        | 0.8947368 | 1         |\n",
       "\n"
      ],
      "text/plain": [
       "    code  tot_pop type_as region type_im area   area_pop num_empty type_qual\n",
       "765 C1004 521     0       15     7        39.30 240      3         3        \n",
       "766 C1004 521     0       15     7        39.69 264      3         3        \n",
       "767 C1004 521     1       15     8        19.00   1      3         4        \n",
       "768 C1004 521     1       15     8        14.10   1      3         4        \n",
       "769 C1004 521     1       15     8        19.31   1      3         4        \n",
       "770 C1004 521     1       15     8        21.19   1      3         4        \n",
       "771 C1004 521     1       15     8        21.19   1      3         4        \n",
       "772 C1004 521     1       15     8        22.95   1      3         4        \n",
       "773 C1004 521     1       15     8        23.40   1      3         4        \n",
       "774 C1004 521     1       15     8        23.40   1      3         4        \n",
       "775 C1004 521     1       15     8        23.40   1      3         4        \n",
       "776 C1004 521     1       15     8        23.40   1      3         4        \n",
       "777 C1004 521     1       15     8        27.23   1      3         4        \n",
       "778 C1004 521     1       15     8        31.85   1      3         4        \n",
       "779 C1004 521     1       15     8        32.29   1      3         4        \n",
       "780 C1004 521     1       15     8        35.13   1      3         4        \n",
       "781 C1004 521     1       15     8        36.47   1      3         4        \n",
       "782 C1004 521     1       15     8        50.08   1      3         4        \n",
       "783 C1004 521     1       15     8       240.22   1      3         4        \n",
       "    fee_deposit fee_rent sub bus num_park target mean      type_new\n",
       "765  4682000    104180   0   2   153      93     0.8947368 1       \n",
       "766  4728000    105210   1   2   153      93     0.8947368 1       \n",
       "767 21505000     58460   0   2   153      93     0.8947368 1       \n",
       "768 34082000    145160   0   2   153      93     0.8947368 1       \n",
       "769 19000000    113560   0   2   153      93     0.8947368 1       \n",
       "770 35800000    510510   0   2   153      93     0.8947368 1       \n",
       "771 22440000    164610   0   2   153      93     0.8947368 1       \n",
       "772 23520000     78670   0   2   153      93     0.8947368 1       \n",
       "773  6766000    146740   0   2   153      93     0.8947368 1       \n",
       "774 23370000    100690   0   2   153      93     0.8947368 1       \n",
       "775 31210000    183450   0   2   153      93     0.8947368 1       \n",
       "776 18217000     94750   0   2   153      93     0.8947368 1       \n",
       "777  9470000    257660   0   2   153      93     0.8947368 1       \n",
       "778 12947000    205880   0   2   153      93     0.8947368 1       \n",
       "779 15667000    188260   0   2   153      93     0.8947368 1       \n",
       "780 76506000    119860   0   2   153      93     0.8947368 1       \n",
       "781 11147000    168750   0   2   153      93     0.8947368 1       \n",
       "782 27304000     35910   0   2   153      93     0.8947368 1       \n",
       "783 14487000    111470   0   2   153      93     0.8947368 1       "
      ]
     },
     "metadata": {},
     "output_type": "display_data"
    }
   ],
   "source": [
    "train[train$code==\"C1004\",]"
   ]
  },
  {
   "cell_type": "code",
   "execution_count": 29,
   "metadata": {},
   "outputs": [],
   "source": [
    "train<-left_join(train, train2, by='code') "
   ]
  },
  {
   "cell_type": "code",
   "execution_count": 32,
   "metadata": {
    "scrolled": true
   },
   "outputs": [
    {
     "name": "stdout",
     "output_type": "stream",
     "text": [
      "'data.frame':\t2925 obs. of  16 variables:\n",
      " $ code       : Factor w/ 418 levels \"C1000\",\"C1004\",..: 353 353 353 353 353 353 353 353 367 367 ...\n",
      " $ tot_pop    : int  900 900 900 900 900 900 900 900 545 545 ...\n",
      " $ type_as    : int  0 0 0 0 0 0 0 0 0 0 ...\n",
      " $ region     : int  4 4 4 4 4 4 4 4 3 3 ...\n",
      " $ type_im    : int  6 6 6 6 6 6 6 6 6 6 ...\n",
      " $ area       : num  39.7 39.7 51.9 51.9 51.9 ...\n",
      " $ area_pop   : int  134 15 385 15 41 89 135 86 276 60 ...\n",
      " $ num_empty  : int  38 38 38 38 38 38 38 38 17 17 ...\n",
      " $ type_qual  : int  1 1 1 1 1 1 1 1 1 1 ...\n",
      " $ fee_deposit: num  15667000 15667000 27304000 27304000 27304000 ...\n",
      " $ fee_rent   : num  103680 103680 184330 184330 184330 ...\n",
      " $ sub        : int  0 0 0 0 0 0 0 0 0 0 ...\n",
      " $ bus        : int  3 3 3 3 3 3 3 3 3 3 ...\n",
      " $ num_park   : int  1425 1425 1425 1425 1425 1425 1425 1425 624 624 ...\n",
      " $ target     : int  1015 1015 1015 1015 1015 1015 1015 1015 205 205 ...\n",
      " $ mean       : num  0 0 0 0 0 0 0 0 0 0 ...\n"
     ]
    }
   ],
   "source": [
    "str(train)"
   ]
  },
  {
   "cell_type": "code",
   "execution_count": null,
   "metadata": {},
   "outputs": [],
   "source": [
    "train<-train[,-c(16:18)]"
   ]
  },
  {
   "cell_type": "code",
   "execution_count": 33,
   "metadata": {},
   "outputs": [
    {
     "data": {
      "text/plain": [
       "   Min. 1st Qu.  Median    Mean 3rd Qu.    Max. \n",
       " 0.0000  0.0000  0.0000  0.1921  0.0000  0.9375 "
      ]
     },
     "metadata": {},
     "output_type": "display_data"
    }
   ],
   "source": [
    "summary(train$mean)"
   ]
  },
  {
   "cell_type": "markdown",
   "metadata": {},
   "source": [
    "- 상가만 있는 코드는 없음 \n",
    "- 아파트만 있는 코드는 있음"
   ]
  },
  {
   "cell_type": "code",
   "execution_count": 34,
   "metadata": {},
   "outputs": [],
   "source": [
    "train$type_new<-ifelse( train$mean ==0, 0 ,1) "
   ]
  },
  {
   "cell_type": "code",
   "execution_count": 35,
   "metadata": {},
   "outputs": [
    {
     "name": "stdout",
     "output_type": "stream",
     "text": [
      "'data.frame':\t2925 obs. of  17 variables:\n",
      " $ code       : Factor w/ 418 levels \"C1000\",\"C1004\",..: 353 353 353 353 353 353 353 353 367 367 ...\n",
      " $ tot_pop    : int  900 900 900 900 900 900 900 900 545 545 ...\n",
      " $ type_as    : int  0 0 0 0 0 0 0 0 0 0 ...\n",
      " $ region     : int  4 4 4 4 4 4 4 4 3 3 ...\n",
      " $ type_im    : int  6 6 6 6 6 6 6 6 6 6 ...\n",
      " $ area       : num  39.7 39.7 51.9 51.9 51.9 ...\n",
      " $ area_pop   : int  134 15 385 15 41 89 135 86 276 60 ...\n",
      " $ num_empty  : int  38 38 38 38 38 38 38 38 17 17 ...\n",
      " $ type_qual  : int  1 1 1 1 1 1 1 1 1 1 ...\n",
      " $ fee_deposit: num  15667000 15667000 27304000 27304000 27304000 ...\n",
      " $ fee_rent   : num  103680 103680 184330 184330 184330 ...\n",
      " $ sub        : int  0 0 0 0 0 0 0 0 0 0 ...\n",
      " $ bus        : int  3 3 3 3 3 3 3 3 3 3 ...\n",
      " $ num_park   : int  1425 1425 1425 1425 1425 1425 1425 1425 624 624 ...\n",
      " $ target     : int  1015 1015 1015 1015 1015 1015 1015 1015 205 205 ...\n",
      " $ mean       : num  0 0 0 0 0 0 0 0 0 0 ...\n",
      " $ type_new   : num  0 0 0 0 0 0 0 0 0 0 ...\n"
     ]
    }
   ],
   "source": [
    "str(train)"
   ]
  },
  {
   "cell_type": "markdown",
   "metadata": {},
   "source": [
    "## type_im 파생변수 생성\n",
    "- type_im 원핫인코딩후 prop_type_im 만들기\n"
   ]
  },
  {
   "cell_type": "code",
   "execution_count": 36,
   "metadata": {},
   "outputs": [],
   "source": [
    "train<-(\"train0722(4).csv\", row.names=F)"
   ]
  },
  {
   "cell_type": "code",
   "execution_count": 47,
   "metadata": {},
   "outputs": [
    {
     "data": {
      "text/plain": [
       "\n",
       "   1    2    3    4    5    6    7    8    9   10 \n",
       "   7  198   31    3    7 1749  152  562    3  213 "
      ]
     },
     "metadata": {},
     "output_type": "display_data"
    }
   ],
   "source": [
    "table(train$type_im)"
   ]
  },
  {
   "cell_type": "code",
   "execution_count": 49,
   "metadata": {},
   "outputs": [],
   "source": [
    "train$type_im1<-ifelse(train$type_im==1,1,0)\n",
    "train$type_im2<-ifelse(train$type_im==2,1,0)\n",
    "train$type_im3<-ifelse(train$type_im==3,1,0)\n",
    "train$type_im4<-ifelse(train$type_im==4,1,0)\n",
    "train$type_im5<-ifelse(train$type_im==5,1,0)\n",
    "train$type_im6<-ifelse(train$type_im==6,1,0)\n",
    "train$type_im7<-ifelse(train$type_im==7,1,0)\n",
    "train$type_im8<-ifelse(train$type_im==8,1,0)\n",
    "train$type_im9<-ifelse(train$type_im==9,1,0)\n",
    "train$type_im10<-ifelse(train$type_im==10,1,0)"
   ]
  },
  {
   "cell_type": "code",
   "execution_count": 50,
   "metadata": {},
   "outputs": [
    {
     "name": "stdout",
     "output_type": "stream",
     "text": [
      "'data.frame':\t2925 obs. of  27 variables:\n",
      " $ code       : Factor w/ 418 levels \"C1000\",\"C1004\",..: 353 353 353 353 353 353 353 353 367 367 ...\n",
      " $ tot_pop    : int  900 900 900 900 900 900 900 900 545 545 ...\n",
      " $ type_as    : int  0 0 0 0 0 0 0 0 0 0 ...\n",
      " $ region     : int  4 4 4 4 4 4 4 4 3 3 ...\n",
      " $ type_im    : int  6 6 6 6 6 6 6 6 6 6 ...\n",
      " $ area       : num  39.7 39.7 51.9 51.9 51.9 ...\n",
      " $ area_pop   : int  134 15 385 15 41 89 135 86 276 60 ...\n",
      " $ num_empty  : int  38 38 38 38 38 38 38 38 17 17 ...\n",
      " $ type_qual  : int  1 1 1 1 1 1 1 1 1 1 ...\n",
      " $ fee_deposit: num  15667000 15667000 27304000 27304000 27304000 ...\n",
      " $ fee_rent   : num  103680 103680 184330 184330 184330 ...\n",
      " $ sub        : int  0 0 0 0 0 0 0 0 0 0 ...\n",
      " $ bus        : int  3 3 3 3 3 3 3 3 3 3 ...\n",
      " $ num_park   : int  1425 1425 1425 1425 1425 1425 1425 1425 624 624 ...\n",
      " $ target     : int  1015 1015 1015 1015 1015 1015 1015 1015 205 205 ...\n",
      " $ mean       : num  0 0 0 0 0 0 0 0 0 0 ...\n",
      " $ type_new   : num  0 0 0 0 0 0 0 0 0 0 ...\n",
      " $ type_im1   : num  0 0 0 0 0 0 0 0 0 0 ...\n",
      " $ type_im2   : num  0 0 0 0 0 0 0 0 0 0 ...\n",
      " $ type_im3   : num  0 0 0 0 0 0 0 0 0 0 ...\n",
      " $ type_im4   : num  0 0 0 0 0 0 0 0 0 0 ...\n",
      " $ type_im5   : num  0 0 0 0 0 0 0 0 0 0 ...\n",
      " $ type_im6   : num  1 1 1 1 1 1 1 1 1 1 ...\n",
      " $ type_im7   : num  0 0 0 0 0 0 0 0 0 0 ...\n",
      " $ type_im8   : num  0 0 0 0 0 0 0 0 0 0 ...\n",
      " $ type_im9   : num  0 0 0 0 0 0 0 0 0 0 ...\n",
      " $ type_im10  : num  0 0 0 0 0 0 0 0 0 0 ...\n"
     ]
    }
   ],
   "source": [
    "str(train)"
   ]
  },
  {
   "cell_type": "code",
   "execution_count": 58,
   "metadata": {},
   "outputs": [],
   "source": [
    "train2<-train %>% group_by(code) %>%summarise(prop_type_im1=mean(type_im1) \n",
    "                                           , prop_type_im2=mean(type_im2)\n",
    "                                           , prop_type_im3=mean(type_im3)\n",
    "                                           , prop_type_im4=mean(type_im4)\n",
    "                                           , prop_type_im5=mean(type_im5)\n",
    "                                            , prop_type_im6=mean(type_im6)\n",
    "                                              , prop_type_im7=mean(type_im7)\n",
    "                                              , prop_type_im8=mean(type_im8)\n",
    "                                              , prop_type_im9=mean(type_im9)\n",
    "                                              , prop_type_im10=mean(type_im10)\n",
    "                                              )"
   ]
  },
  {
   "cell_type": "code",
   "execution_count": 59,
   "metadata": {},
   "outputs": [
    {
     "name": "stdout",
     "output_type": "stream",
     "text": [
      "tibble[,11] [418 x 11] (S3: tbl_df/tbl/data.frame)\n",
      " $ code          : Factor w/ 418 levels \"C1000\",\"C1004\",..: 1 2 3 4 5 6 7 8 9 10 ...\n",
      " $ prop_type_im1 : num [1:418] 0 0 0 0 0 0 0 0 0 0 ...\n",
      " $ prop_type_im2 : num [1:418] 0 0 0 0 0 0 0 0 1 0 ...\n",
      " $ prop_type_im3 : num [1:418] 0 0 0 0 0 0 0 0 0 0 ...\n",
      " $ prop_type_im4 : num [1:418] 0 0 0 0 0 0 0 0 0 0 ...\n",
      " $ prop_type_im5 : num [1:418] 0 0 0 0 0 0 0 0 0 0 ...\n",
      " $ prop_type_im6 : num [1:418] 1 0 1 1 1 1 1 1 0 1 ...\n",
      " $ prop_type_im7 : num [1:418] 0 0.105 0 0 0 ...\n",
      " $ prop_type_im8 : num [1:418] 0 0.895 0 0 0 ...\n",
      " $ prop_type_im9 : num [1:418] 0 0 0 0 0 0 0 0 0 0 ...\n",
      " $ prop_type_im10: num [1:418] 0 0 0 0 0 0 0 0 0 0 ...\n"
     ]
    }
   ],
   "source": [
    "str(train2)"
   ]
  },
  {
   "cell_type": "code",
   "execution_count": 60,
   "metadata": {},
   "outputs": [],
   "source": [
    "train<-left_join(train, train2, by='code') "
   ]
  },
  {
   "cell_type": "code",
   "execution_count": 61,
   "metadata": {
    "scrolled": true
   },
   "outputs": [
    {
     "name": "stdout",
     "output_type": "stream",
     "text": [
      "'data.frame':\t2925 obs. of  37 variables:\n",
      " $ code          : Factor w/ 418 levels \"C1000\",\"C1004\",..: 353 353 353 353 353 353 353 353 367 367 ...\n",
      " $ tot_pop       : int  900 900 900 900 900 900 900 900 545 545 ...\n",
      " $ type_as       : int  0 0 0 0 0 0 0 0 0 0 ...\n",
      " $ region        : int  4 4 4 4 4 4 4 4 3 3 ...\n",
      " $ type_im       : int  6 6 6 6 6 6 6 6 6 6 ...\n",
      " $ area          : num  39.7 39.7 51.9 51.9 51.9 ...\n",
      " $ area_pop      : int  134 15 385 15 41 89 135 86 276 60 ...\n",
      " $ num_empty     : int  38 38 38 38 38 38 38 38 17 17 ...\n",
      " $ type_qual     : int  1 1 1 1 1 1 1 1 1 1 ...\n",
      " $ fee_deposit   : num  15667000 15667000 27304000 27304000 27304000 ...\n",
      " $ fee_rent      : num  103680 103680 184330 184330 184330 ...\n",
      " $ sub           : int  0 0 0 0 0 0 0 0 0 0 ...\n",
      " $ bus           : int  3 3 3 3 3 3 3 3 3 3 ...\n",
      " $ num_park      : int  1425 1425 1425 1425 1425 1425 1425 1425 624 624 ...\n",
      " $ target        : int  1015 1015 1015 1015 1015 1015 1015 1015 205 205 ...\n",
      " $ mean          : num  0 0 0 0 0 0 0 0 0 0 ...\n",
      " $ type_new      : num  0 0 0 0 0 0 0 0 0 0 ...\n",
      " $ type_im1      : num  0 0 0 0 0 0 0 0 0 0 ...\n",
      " $ type_im2      : num  0 0 0 0 0 0 0 0 0 0 ...\n",
      " $ type_im3      : num  0 0 0 0 0 0 0 0 0 0 ...\n",
      " $ type_im4      : num  0 0 0 0 0 0 0 0 0 0 ...\n",
      " $ type_im5      : num  0 0 0 0 0 0 0 0 0 0 ...\n",
      " $ type_im6      : num  1 1 1 1 1 1 1 1 1 1 ...\n",
      " $ type_im7      : num  0 0 0 0 0 0 0 0 0 0 ...\n",
      " $ type_im8      : num  0 0 0 0 0 0 0 0 0 0 ...\n",
      " $ type_im9      : num  0 0 0 0 0 0 0 0 0 0 ...\n",
      " $ type_im10     : num  0 0 0 0 0 0 0 0 0 0 ...\n",
      " $ prop_type_im1 : num  0 0 0 0 0 0 0 0 0 0 ...\n",
      " $ prop_type_im2 : num  0 0 0 0 0 0 0 0 0 0 ...\n",
      " $ prop_type_im3 : num  0 0 0 0 0 0 0 0 0 0 ...\n",
      " $ prop_type_im4 : num  0 0 0 0 0 0 0 0 0 0 ...\n",
      " $ prop_type_im5 : num  0 0 0 0 0 0 0 0 0 0 ...\n",
      " $ prop_type_im6 : num  1 1 1 1 1 1 1 1 1 1 ...\n",
      " $ prop_type_im7 : num  0 0 0 0 0 0 0 0 0 0 ...\n",
      " $ prop_type_im8 : num  0 0 0 0 0 0 0 0 0 0 ...\n",
      " $ prop_type_im9 : num  0 0 0 0 0 0 0 0 0 0 ...\n",
      " $ prop_type_im10: num  0 0 0 0 0 0 0 0 0 0 ...\n"
     ]
    }
   ],
   "source": [
    "str(train)"
   ]
  },
  {
   "cell_type": "code",
   "execution_count": 62,
   "metadata": {},
   "outputs": [],
   "source": [
    "write.csv(train, \"train0722(5).csv\", row.names=F)\n",
    "read.table()"
   ]
  },
  {
   "cell_type": "markdown",
   "metadata": {},
   "source": [
    "## area  공급면적 보고 나누기\n",
    "- 공공분양 공공임대 국민임대 영구임대 임대상가 장기전세 행복주택\n",
    "\n",
    "- `공공분양` 85이하(적합)\n",
    "- `공공임대`\n",
    "- `국민임대` 60이하(적합)\n",
    "- `영구임대` 49이하\n",
    "- `임대상가`\n",
    "- `장기전세` 60이하 60초과~80이하 85초과  // 50미만 85이하 85초과\n",
    "- `행복주택` 14, 16,/ 21, 29 // 36,45  (51 59? )\n"
   ]
  },
  {
   "cell_type": "code",
   "execution_count": 75,
   "metadata": {
    "scrolled": true
   },
   "outputs": [
    {
     "data": {
      "text/plain": [
       "\n",
       " 12.62   14.1  14.17     15     16  16.02  16.27  16.29  16.34  16.45  16.57 \n",
       "     1      6      1      8      1      1      1      1      2      1      3 \n",
       " 16.64  16.67  16.71  16.75  16.76  16.77   16.8  16.84  16.85  16.87  16.89 \n",
       "     3      1      2      1      1      2      3      1      3      1      1 \n",
       "  16.9  16.91  16.92  16.95  16.97  16.99   17.4  18.38   18.9  18.98     19 \n",
       "     1      1      2      2      1      3      2      6      1      3      3 \n",
       " 19.15  19.25  19.31  19.36  19.69  20.52   20.9  21.19  21.43  21.46  21.54 \n",
       "     1      4      3      3      1      1     12      6      1      6      3 \n",
       " 21.56  21.63  21.72  21.78  21.81  21.84  21.85  21.86  21.88   21.9  21.94 \n",
       "     3      2      1      1      2      3      1      3      2      1      4 \n",
       " 21.95  21.96  21.97  21.98  21.99  22.24  22.83  22.89  22.95  22.97  23.13 \n",
       "     1      2      3      7      1      1      3      3      3      2      2 \n",
       " 23.25  23.35   23.4  23.48  23.54  23.76   23.8  23.86  23.88  23.89  23.91 \n",
       "     2      4     30      1      2      2      1      1      2      1      2 \n",
       " 23.92  23.93  24.38  24.43  24.71  24.72  24.74  24.75  24.76  24.77  24.79 \n",
       "     2      1      4      1      1      2      2      1      1      1      2 \n",
       " 24.83  24.86  24.95  24.96  24.97  24.98  25.88  25.98  26.04  26.07  26.11 \n",
       "     1      1      2      1      1      3      1      1      2      2      2 \n",
       " 26.12  26.17  26.19  26.24  26.25  26.26  26.27  26.34  26.37   26.4  26.42 \n",
       "     2      2      1      3      6      4      1      4     45      1      1 \n",
       " 26.44  26.47  26.49  26.51  26.52  26.53  26.54  26.58   26.6  26.61  26.62 \n",
       "     3      2      2      2      3      2      6      3      3      2      2 \n",
       " 26.64  26.65  26.66  26.67  26.68  26.69   26.7  26.72  26.73  26.78  26.79 \n",
       "     2      2      7      1      6      2      4      3      2      1      4 \n",
       "  26.8  26.81  26.82  26.83  26.85  26.86  26.88  26.89   26.9  26.91  26.92 \n",
       "     2      3      1      5      6      2      1      1     14      2      4 \n",
       " 26.94  26.95  26.96  26.97  26.98  26.99  27.12  27.23   27.3   27.5  27.55 \n",
       "     1      6      2      5      4      3      1      3      1      4      3 \n",
       " 27.75  27.82  28.19  28.38  28.45   28.5  28.88  29.13  29.17  29.26  29.33 \n",
       "    26      2      3      3      1      3     10      1      4      2      1 \n",
       " 29.34  29.43  29.53  29.62  29.66  29.68  29.71  29.72  29.76  29.79   29.8 \n",
       "     1      2      2      3      1      1      2      5      6      3      1 \n",
       " 29.81  29.85  29.89   29.9  29.91  29.92  29.95  29.96  29.99     30   30.1 \n",
       "     1      2      1      1      6      5      3      3      3      1      1 \n",
       " 30.48  30.62  30.85  30.95  30.99  31.32  31.65  31.84  31.85  31.92   32.1 \n",
       "     4      1      1      1      2     28      1    108      3      3     29 \n",
       " 32.29  32.54   32.6  33.09  33.11  33.15  33.31  33.35  33.38  33.39   33.4 \n",
       "     3      1      3      1      1      3      3      1      2      5      3 \n",
       " 33.42  33.48  33.51  33.52  33.55   33.7  33.76   33.8  33.82  33.83  33.88 \n",
       "     2      5     12      1      3      2      1      3      5      2      1 \n",
       " 33.91  33.92  33.94  33.95  33.96  33.97   34.8   35.1  35.13  35.28  35.91 \n",
       "     4      2      1      1      4      3      2      2      3      2      1 \n",
       "    36  36.02  36.03  36.05  36.06  36.07  36.08  36.14  36.16  36.17  36.19 \n",
       "     1      2      8      2      1      1      1      2     10      1      2 \n",
       "  36.2  36.22  36.23   36.3  36.37  36.38   36.4  36.42  36.43  36.44  36.45 \n",
       "     1      2      2      4      5      2      1      1      1      1      1 \n",
       " 36.46  36.47  36.48   36.5  36.52  36.53  36.55  36.56  36.57  36.59  36.61 \n",
       "     3      7      1      6      7      3     19      3     13      1      4 \n",
       " 36.62  36.63  36.64  36.65  36.66  36.68  36.69   36.7  36.71  36.72  36.73 \n",
       "    15     24     12     14      6      1      1      9      3      9      8 \n",
       " 36.74  36.75  36.76  36.77  36.78  36.79   36.8  36.81  36.83  36.84  36.85 \n",
       "    10      3      2      6      8      4     10     10      4      3      6 \n",
       " 36.86  36.87  36.88  36.89   36.9  36.91  36.92  36.93  36.94  36.95  36.96 \n",
       "     4      3      2      6      4      9      6      7      3      1      6 \n",
       " 36.97  36.98  36.99  37.01  37.04  37.17  37.26  37.29  37.41  37.43  37.44 \n",
       "     4     13      3      1      1      1      5      1     15      3      2 \n",
       " 37.49  37.59   37.6  37.64  37.67   37.7  37.77  37.78  37.95  37.98     38 \n",
       "     5      1      2      1      4      2      1      4     10      1     10 \n",
       " 38.04     39  39.15  39.25   39.3  39.33  39.39  39.41  39.42  39.43  39.45 \n",
       "     5      3      2      1      2     15      4      1      1      1      1 \n",
       " 39.46  39.48  39.49   39.5  39.51  39.52  39.54  39.56  39.57  39.59   39.6 \n",
       "     4     11      3      1      9      2      1      3     12      3      2 \n",
       " 39.62  39.63  39.64  39.65  39.66  39.68  39.69  39.72  39.73  39.74  39.77 \n",
       "     6     12      1      2      2      2      3     44      2      2      6 \n",
       " 39.78   39.8  39.82  39.83  39.84  39.85  39.86  39.88  39.89   39.9  39.91 \n",
       "     1      3      3      1     18      2      1      2      2      2      6 \n",
       " 39.93  39.94  39.96  39.97  39.98  39.99  40.32  40.39  41.11  41.39  41.55 \n",
       "     5      1      3      2      3      5      4      3      1      1      3 \n",
       " 41.58  41.64  41.83  41.94  41.96  41.97  41.99  42.35   42.4  42.57  42.65 \n",
       "     2      1      2      1      1      1      2      3      2      1      1 \n",
       "  42.9  43.07  43.23   43.9  44.56  44.63  44.78  44.83  44.96  44.97  45.09 \n",
       "     1      1      1      1      3      1      1      1      1      1      1 \n",
       " 45.32  45.48  45.53  45.71  45.79  45.88  45.98  46.01  46.03  46.05  46.06 \n",
       "     2      1      1      1      2      1      1      2      1      1      1 \n",
       " 46.11  46.16  46.17  46.18  46.19  46.21  46.22  46.25  46.27  46.29  46.34 \n",
       "     3      1      1      6      2      3     17      4      1      3      1 \n",
       " 46.36  46.39   46.4  46.41  46.42  46.43  46.45  46.46  46.47  46.48  46.49 \n",
       "     3      1      3      1     14      5      3      8      2      4      6 \n",
       "  46.5  46.51  46.52  46.53  46.54  46.56  46.57  46.59  46.61  46.63  46.65 \n",
       "     1      3      2      5      3      2      9      5     10      3      2 \n",
       " 46.66  46.69   46.7  46.71  46.72  46.73  46.74  46.75  46.76  46.77  46.78 \n",
       "     3      6     10     18      3     13      5      8      8      2      2 \n",
       " 46.79   46.8  46.81  46.82  46.83  46.84  46.85  46.86  46.87  46.88  46.89 \n",
       "     7      3      9      7      9      4      6      3      3      2      7 \n",
       "  46.9  46.91  46.92  46.93  46.94  46.95  46.96  46.97  46.98  46.99   47.4 \n",
       "   204      9      3     12     10     11     26     12     15      4      1 \n",
       "  48.9   49.2  49.37  49.44   49.5  49.51  49.57  49.62  49.63  49.69   49.7 \n",
       "     1      1      2      1      4      4      4      2      1      2      9 \n",
       " 49.72  49.76  49.81  49.95  49.99  50.08  50.83  51.05  51.08  51.14  51.24 \n",
       "     2      3      1      2      1      6      2      2      2      1      2 \n",
       " 51.25  51.26  51.29   51.3  51.32  51.35  51.44  51.49   51.5  51.51  51.55 \n",
       "     2      2      1      1      1      1      1      4      3      2      3 \n",
       " 51.56  51.57  51.59   51.6  51.61  51.63  51.64  51.66  51.67  51.68  51.69 \n",
       "     1      2      3      6      1      2      1      2      1      1      1 \n",
       "  51.7  51.71  51.72  51.73  51.75  51.76  51.77  51.78  51.79  51.81  51.82 \n",
       "     1      1      4      3      4      5      8      4      4      2      1 \n",
       " 51.83  51.84  51.85  51.86  51.87  51.88  51.89   51.9  51.91  51.92  51.93 \n",
       "     2      1      5     29      7     11      2      7     13     10    121 \n",
       " 51.94  51.95  51.96  51.97  51.98  51.99   52.5  52.74  53.26  54.51   54.6 \n",
       "     2     11     13     10      6      8      1      4      1     13      4 \n",
       " 54.61  54.91  54.95  55.17   55.5  55.61   55.7  55.74  55.88  57.53  57.87 \n",
       "     5      1      1      5      2      1      1      1      2      1      1 \n",
       " 59.07  59.23  59.29  59.31  59.36  59.39   59.4  59.45  59.47  59.48  59.57 \n",
       "     2      1      3      1      1      1      2      1      2      1     17 \n",
       " 59.58  59.59  59.61  59.63  59.64  59.65  59.66  59.67  59.68  59.69  59.72 \n",
       "     1      1      2      3      7      1      1      1      2      2      3 \n",
       " 59.73  59.78   59.8  59.83  59.84  59.85  59.86  59.87  59.88  59.89   59.9 \n",
       "     1      1      1      1      1      2      1      5     34     13      1 \n",
       " 59.91  59.92  59.93  59.94  59.95  59.96  59.97  59.98  59.99  61.89  63.68 \n",
       "    10     10      5     10      5      4      4      7     15      1      7 \n",
       " 65.39  66.85  66.94  66.96  67.86  67.88  72.16  72.26  72.82  74.42  74.55 \n",
       "     1      1      2      1      2      2      3      1      1      1      3 \n",
       "  74.6  74.65   74.7  74.72  74.73   74.8  74.84  74.85  74.89   74.9  74.91 \n",
       "     1      2      1      1      1      3      1      1      3      3      2 \n",
       " 74.92  74.93  74.94  74.96  74.97  74.98  75.56  75.84  75.98  75.99  79.61 \n",
       "     2      4      3      1      7      1      1      1      5      1      1 \n",
       " 79.74  79.93  82.92  84.32  84.51  84.53  84.58  84.59  84.64  84.67  84.72 \n",
       "     1      1      1      1      1      1      1      1      1      2      1 \n",
       " 84.74  84.78  84.82  84.83  84.86  84.88  84.89   84.9  84.91  84.92  84.93 \n",
       "     2      2      2      2      3      2      1      3      2      5      3 \n",
       " 84.94  84.95  84.96  84.97  84.98  84.99 109.11 126.65 137.49 240.22 248.56 \n",
       "     6      3      6      9      8      4      1      5      4      6      2 \n",
       "317.17  401.5 404.65 407.97  583.4 \n",
       "     1      1      2      1      5 "
      ]
     },
     "metadata": {},
     "output_type": "display_data"
    }
   ],
   "source": [
    "##1##모집공고 참고해서 나누기\n",
    "train<-read.table(\"train0722(7).csv\", sep=',', header=T)\n",
    "table(train$area)\n",
    "#16형 17.4까지\n",
    "#21형 18.38~ 22.97\n",
    "#26형 #29형 23.13~\n",
    "  \n",
    "#36 형\n",
    "\n",
    "#43 #45형 #46형\n",
    "\n",
    "#51 59(?)\n",
    "#59초과"
   ]
  },
  {
   "cell_type": "code",
   "execution_count": 76,
   "metadata": {},
   "outputs": [
    {
     "data": {
      "text/html": [
       "<dl class=dl-horizontal>\n",
       "\t<dt>10%</dt>\n",
       "\t\t<dd>26.37</dd>\n",
       "\t<dt>20%</dt>\n",
       "\t\t<dd>31.32</dd>\n",
       "\t<dt>30%</dt>\n",
       "\t\t<dd>36.38</dd>\n",
       "\t<dt>40%</dt>\n",
       "\t\t<dd>36.966</dd>\n",
       "\t<dt>50%</dt>\n",
       "\t\t<dd>39.9</dd>\n",
       "\t<dt>60%</dt>\n",
       "\t\t<dd>46.76</dd>\n",
       "\t<dt>70%</dt>\n",
       "\t\t<dd>46.93</dd>\n",
       "\t<dt>80%</dt>\n",
       "\t\t<dd>51.92</dd>\n",
       "\t<dt>90%</dt>\n",
       "\t\t<dd>59.876</dd>\n",
       "</dl>\n"
      ],
      "text/latex": [
       "\\begin{description*}\n",
       "\\item[10\\textbackslash{}\\%] 26.37\n",
       "\\item[20\\textbackslash{}\\%] 31.32\n",
       "\\item[30\\textbackslash{}\\%] 36.38\n",
       "\\item[40\\textbackslash{}\\%] 36.966\n",
       "\\item[50\\textbackslash{}\\%] 39.9\n",
       "\\item[60\\textbackslash{}\\%] 46.76\n",
       "\\item[70\\textbackslash{}\\%] 46.93\n",
       "\\item[80\\textbackslash{}\\%] 51.92\n",
       "\\item[90\\textbackslash{}\\%] 59.876\n",
       "\\end{description*}\n"
      ],
      "text/markdown": [
       "10%\n",
       ":   26.3720%\n",
       ":   31.3230%\n",
       ":   36.3840%\n",
       ":   36.96650%\n",
       ":   39.960%\n",
       ":   46.7670%\n",
       ":   46.9380%\n",
       ":   51.9290%\n",
       ":   59.876\n",
       "\n"
      ],
      "text/plain": [
       "   10%    20%    30%    40%    50%    60%    70%    80%    90% \n",
       "26.370 31.320 36.380 36.966 39.900 46.760 46.930 51.920 59.876 "
      ]
     },
     "metadata": {},
     "output_type": "display_data"
    }
   ],
   "source": [
    "##2##10분위로 나누기\n",
    "quantile(train$area, probs=c(0.1, 0.2, 0.3, 0.4, 0.5, 0.6, 0.7, 0.8, 0.9 ))"
   ]
  },
  {
   "cell_type": "code",
   "execution_count": 80,
   "metadata": {},
   "outputs": [],
   "source": [
    "train$area2<-train$area<100"
   ]
  },
  {
   "cell_type": "code",
   "execution_count": 84,
   "metadata": {
    "scrolled": true
   },
   "outputs": [
    {
     "data": {
      "text/html": [
       "<strong>99%:</strong> 84.99"
      ],
      "text/latex": [
       "\\textbf{99\\textbackslash{}\\%:} 84.99"
      ],
      "text/markdown": [
       "**99%:** 84.99"
      ],
      "text/plain": [
       "  99% \n",
       "84.99 "
      ]
     },
     "metadata": {},
     "output_type": "display_data"
    }
   ],
   "source": [
    "quantile(train$area, probs=0.99)"
   ]
  },
  {
   "cell_type": "markdown",
   "metadata": {},
   "source": [
    "-- potential outlier처리"
   ]
  },
  {
   "cell_type": "code",
   "execution_count": 86,
   "metadata": {},
   "outputs": [
    {
     "data": {
      "text/plain": [
       "\n",
       "12.62  14.1 14.17    15    16 16.02 16.27 16.29 16.34 16.45 16.57 16.64 16.67 \n",
       "    1     6     1     8     1     1     1     1     2     1     3     3     1 \n",
       "16.71 16.75 16.76 16.77  16.8 16.84 16.85 16.87 16.89  16.9 16.91 16.92 16.95 \n",
       "    2     1     1     2     3     1     3     1     1     1     1     2     2 \n",
       "16.97 16.99  17.4 18.38  18.9 18.98    19 19.15 19.25 19.31 19.36 19.69 20.52 \n",
       "    1     3     2     6     1     3     3     1     4     3     3     1     1 \n",
       " 20.9 21.19 21.43 21.46 21.54 21.56 21.63 21.72 21.78 21.81 21.84 21.85 21.86 \n",
       "   12     6     1     6     3     3     2     1     1     2     3     1     3 \n",
       "21.88  21.9 21.94 21.95 21.96 21.97 21.98 21.99 22.24 22.83 22.89 22.95 22.97 \n",
       "    2     1     4     1     2     3     7     1     1     3     3     3     2 \n",
       "23.13 23.25 23.35  23.4 23.48 23.54 23.76  23.8 23.86 23.88 23.89 23.91 23.92 \n",
       "    2     2     4    30     1     2     2     1     1     2     1     2     2 \n",
       "23.93 24.38 24.43 24.71 24.72 24.74 24.75 24.76 24.77 24.79 24.83 24.86 24.95 \n",
       "    1     4     1     1     2     2     1     1     1     2     1     1     2 \n",
       "24.96 24.97 24.98 25.88 25.98 26.04 26.07 26.11 26.12 26.17 26.19 26.24 26.25 \n",
       "    1     1     3     1     1     2     2     2     2     2     1     3     6 \n",
       "26.26 26.27 26.34 26.37  26.4 26.42 26.44 26.47 26.49 26.51 26.52 26.53 26.54 \n",
       "    4     1     4    45     1     1     3     2     2     2     3     2     6 \n",
       "26.58  26.6 26.61 26.62 26.64 26.65 26.66 26.67 26.68 26.69  26.7 26.72 26.73 \n",
       "    3     3     2     2     2     2     7     1     6     2     4     3     2 \n",
       "26.78 26.79  26.8 26.81 26.82 26.83 26.85 26.86 26.88 26.89  26.9 26.91 26.92 \n",
       "    1     4     2     3     1     5     6     2     1     1    14     2     4 \n",
       "26.94 26.95 26.96 26.97 26.98 26.99 27.12 27.23  27.3  27.5 27.55 27.75 27.82 \n",
       "    1     6     2     5     4     3     1     3     1     4     3    26     2 \n",
       "28.19 28.38 28.45  28.5 28.88 29.13 29.17 29.26 29.33 29.34 29.43 29.53 29.62 \n",
       "    3     3     1     3    10     1     4     2     1     1     2     2     3 \n",
       "29.66 29.68 29.71 29.72 29.76 29.79  29.8 29.81 29.85 29.89  29.9 29.91 29.92 \n",
       "    1     1     2     5     6     3     1     1     2     1     1     6     5 \n",
       "29.95 29.96 29.99    30  30.1 30.48 30.62 30.85 30.95 30.99 31.32 31.65 31.84 \n",
       "    3     3     3     1     1     4     1     1     1     2    28     1   108 \n",
       "31.85 31.92  32.1 32.29 32.54  32.6 33.09 33.11 33.15 33.31 33.35 33.38 33.39 \n",
       "    3     3    29     3     1     3     1     1     3     3     1     2     5 \n",
       " 33.4 33.42 33.48 33.51 33.52 33.55  33.7 33.76  33.8 33.82 33.83 33.88 33.91 \n",
       "    3     2     5    12     1     3     2     1     3     5     2     1     4 \n",
       "33.92 33.94 33.95 33.96 33.97  34.8  35.1 35.13 35.28 35.91    36 36.02 36.03 \n",
       "    2     1     1     4     3     2     2     3     2     1     1     2     8 \n",
       "36.05 36.06 36.07 36.08 36.14 36.16 36.17 36.19  36.2 36.22 36.23  36.3 36.37 \n",
       "    2     1     1     1     2    10     1     2     1     2     2     4     5 \n",
       "36.38  36.4 36.42 36.43 36.44 36.45 36.46 36.47 36.48  36.5 36.52 36.53 36.55 \n",
       "    2     1     1     1     1     1     3     7     1     6     7     3    19 \n",
       "36.56 36.57 36.59 36.61 36.62 36.63 36.64 36.65 36.66 36.68 36.69  36.7 36.71 \n",
       "    3    13     1     4    15    24    12    14     6     1     1     9     3 \n",
       "36.72 36.73 36.74 36.75 36.76 36.77 36.78 36.79  36.8 36.81 36.83 36.84 36.85 \n",
       "    9     8    10     3     2     6     8     4    10    10     4     3     6 \n",
       "36.86 36.87 36.88 36.89  36.9 36.91 36.92 36.93 36.94 36.95 36.96 36.97 36.98 \n",
       "    4     3     2     6     4     9     6     7     3     1     6     4    13 \n",
       "36.99 37.01 37.04 37.17 37.26 37.29 37.41 37.43 37.44 37.49 37.59  37.6 37.64 \n",
       "    3     1     1     1     5     1    15     3     2     5     1     2     1 \n",
       "37.67  37.7 37.77 37.78 37.95 37.98    38 38.04    39 39.15 39.25  39.3 39.33 \n",
       "    4     2     1     4    10     1    10     5     3     2     1     2    15 \n",
       "39.39 39.41 39.42 39.43 39.45 39.46 39.48 39.49  39.5 39.51 39.52 39.54 39.56 \n",
       "    4     1     1     1     1     4    11     3     1     9     2     1     3 \n",
       "39.57 39.59  39.6 39.62 39.63 39.64 39.65 39.66 39.68 39.69 39.72 39.73 39.74 \n",
       "   12     3     2     6    12     1     2     2     2     3    44     2     2 \n",
       "39.77 39.78  39.8 39.82 39.83 39.84 39.85 39.86 39.88 39.89  39.9 39.91 39.93 \n",
       "    6     1     3     3     1    18     2     1     2     2     2     6     5 \n",
       "39.94 39.96 39.97 39.98 39.99 40.32 40.39 41.11 41.39 41.55 41.58 41.64 41.83 \n",
       "    1     3     2     3     5     4     3     1     1     3     2     1     2 \n",
       "41.94 41.96 41.97 41.99 42.35  42.4 42.57 42.65  42.9 43.07 43.23  43.9 44.56 \n",
       "    1     1     1     2     3     2     1     1     1     1     1     1     3 \n",
       "44.63 44.78 44.83 44.96 44.97 45.09 45.32 45.48 45.53 45.71 45.79 45.88 45.98 \n",
       "    1     1     1     1     1     1     2     1     1     1     2     1     1 \n",
       "46.01 46.03 46.05 46.06 46.11 46.16 46.17 46.18 46.19 46.21 46.22 46.25 46.27 \n",
       "    2     1     1     1     3     1     1     6     2     3    17     4     1 \n",
       "46.29 46.34 46.36 46.39  46.4 46.41 46.42 46.43 46.45 46.46 46.47 46.48 46.49 \n",
       "    3     1     3     1     3     1    14     5     3     8     2     4     6 \n",
       " 46.5 46.51 46.52 46.53 46.54 46.56 46.57 46.59 46.61 46.63 46.65 46.66 46.69 \n",
       "    1     3     2     5     3     2     9     5    10     3     2     3     6 \n",
       " 46.7 46.71 46.72 46.73 46.74 46.75 46.76 46.77 46.78 46.79  46.8 46.81 46.82 \n",
       "   10    18     3    13     5     8     8     2     2     7     3     9     7 \n",
       "46.83 46.84 46.85 46.86 46.87 46.88 46.89  46.9 46.91 46.92 46.93 46.94 46.95 \n",
       "    9     4     6     3     3     2     7   204     9     3    12    10    11 \n",
       "46.96 46.97 46.98 46.99  47.4  48.9  49.2 49.37 49.44  49.5 49.51 49.57 49.62 \n",
       "   26    12    15     4     1     1     1     2     1     4     4     4     2 \n",
       "49.63 49.69  49.7 49.72 49.76 49.81 49.95 49.99 50.08 50.83 51.05 51.08 51.14 \n",
       "    1     2     9     2     3     1     2     1     6     2     2     2     1 \n",
       "51.24 51.25 51.26 51.29  51.3 51.32 51.35 51.44 51.49  51.5 51.51 51.55 51.56 \n",
       "    2     2     2     1     1     1     1     1     4     3     2     3     1 \n",
       "51.57 51.59  51.6 51.61 51.63 51.64 51.66 51.67 51.68 51.69  51.7 51.71 51.72 \n",
       "    2     3     6     1     2     1     2     1     1     1     1     1     4 \n",
       "51.73 51.75 51.76 51.77 51.78 51.79 51.81 51.82 51.83 51.84 51.85 51.86 51.87 \n",
       "    3     4     5     8     4     4     2     1     2     1     5    29     7 \n",
       "51.88 51.89  51.9 51.91 51.92 51.93 51.94 51.95 51.96 51.97 51.98 51.99  52.5 \n",
       "   11     2     7    13    10   121     2    11    13    10     6     8     1 \n",
       "52.74 53.26 54.51  54.6 54.61 54.91 54.95 55.17  55.5 55.61  55.7 55.74 55.88 \n",
       "    4     1    13     4     5     1     1     5     2     1     1     1     2 \n",
       "57.53 57.87 59.07 59.23 59.29 59.31 59.36 59.39  59.4 59.45 59.47 59.48 59.57 \n",
       "    1     1     2     1     3     1     1     1     2     1     2     1    17 \n",
       "59.58 59.59 59.61 59.63 59.64 59.65 59.66 59.67 59.68 59.69 59.72 59.73 59.78 \n",
       "    1     1     2     3     7     1     1     1     2     2     3     1     1 \n",
       " 59.8 59.83 59.84 59.85 59.86 59.87 59.88 59.89  59.9 59.91 59.92 59.93 59.94 \n",
       "    1     1     1     2     1     5    34    13     1    10    10     5    10 \n",
       "59.95 59.96 59.97 59.98 59.99 61.89 63.68 65.39 66.85 66.94 66.96 67.86 67.88 \n",
       "    5     4     4     7    15     1     7     1     1     2     1     2     2 \n",
       "72.16 72.26 72.82 74.42 74.55  74.6 74.65  74.7 74.72 74.73  74.8 74.84 74.85 \n",
       "    3     1     1     1     3     1     2     1     1     1     3     1     1 \n",
       "74.89  74.9 74.91 74.92 74.93 74.94 74.96 74.97 74.98 75.56 75.84 75.98 75.99 \n",
       "    3     3     2     2     4     3     1     7     1     1     1     5     1 \n",
       "79.61 79.74 79.93 82.92 84.32 84.51 84.53 84.58 84.59 84.64 84.67 84.72 84.74 \n",
       "    1     1     1     1     1     1     1     1     1     1     2     1     2 \n",
       "84.78 84.82 84.83 84.86 84.88 84.89  84.9 84.91 84.92 84.93 84.94 84.95 84.96 \n",
       "    2     2     2     3     2     1     3     2     5     3     6     3     6 \n",
       "84.97 84.98 84.99 \n",
       "    9     8    32 "
      ]
     },
     "metadata": {},
     "output_type": "display_data"
    }
   ],
   "source": [
    "train$area<-ifelse(train$area>84.99, 84.99, train$area)\n",
    "table(train$area)"
   ]
  },
  {
   "cell_type": "code",
   "execution_count": 88,
   "metadata": {},
   "outputs": [
    {
     "data": {
      "text/html": [
       "<dl class=dl-horizontal>\n",
       "\t<dt>10%</dt>\n",
       "\t\t<dd>26.37</dd>\n",
       "\t<dt>20%</dt>\n",
       "\t\t<dd>31.32</dd>\n",
       "\t<dt>30%</dt>\n",
       "\t\t<dd>36.38</dd>\n",
       "\t<dt>40%</dt>\n",
       "\t\t<dd>36.966</dd>\n",
       "\t<dt>50%</dt>\n",
       "\t\t<dd>39.9</dd>\n",
       "\t<dt>60%</dt>\n",
       "\t\t<dd>46.76</dd>\n",
       "\t<dt>70%</dt>\n",
       "\t\t<dd>46.93</dd>\n",
       "\t<dt>80%</dt>\n",
       "\t\t<dd>51.92</dd>\n",
       "\t<dt>90%</dt>\n",
       "\t\t<dd>59.876</dd>\n",
       "</dl>\n"
      ],
      "text/latex": [
       "\\begin{description*}\n",
       "\\item[10\\textbackslash{}\\%] 26.37\n",
       "\\item[20\\textbackslash{}\\%] 31.32\n",
       "\\item[30\\textbackslash{}\\%] 36.38\n",
       "\\item[40\\textbackslash{}\\%] 36.966\n",
       "\\item[50\\textbackslash{}\\%] 39.9\n",
       "\\item[60\\textbackslash{}\\%] 46.76\n",
       "\\item[70\\textbackslash{}\\%] 46.93\n",
       "\\item[80\\textbackslash{}\\%] 51.92\n",
       "\\item[90\\textbackslash{}\\%] 59.876\n",
       "\\end{description*}\n"
      ],
      "text/markdown": [
       "10%\n",
       ":   26.3720%\n",
       ":   31.3230%\n",
       ":   36.3840%\n",
       ":   36.96650%\n",
       ":   39.960%\n",
       ":   46.7670%\n",
       ":   46.9380%\n",
       ":   51.9290%\n",
       ":   59.876\n",
       "\n"
      ],
      "text/plain": [
       "   10%    20%    30%    40%    50%    60%    70%    80%    90% \n",
       "26.370 31.320 36.380 36.966 39.900 46.760 46.930 51.920 59.876 "
      ]
     },
     "metadata": {},
     "output_type": "display_data"
    }
   ],
   "source": [
    "quantile(train$area, probs=c(0.1, 0.2, 0.3, 0.4, 0.5, 0.6, 0.7, 0.8, 0.9 ))  #같음"
   ]
  },
  {
   "cell_type": "code",
   "execution_count": null,
   "metadata": {},
   "outputs": [],
   "source": []
  },
  {
   "cell_type": "code",
   "execution_count": null,
   "metadata": {},
   "outputs": [],
   "source": []
  },
  {
   "cell_type": "code",
   "execution_count": null,
   "metadata": {},
   "outputs": [],
   "source": []
  },
  {
   "cell_type": "code",
   "execution_count": null,
   "metadata": {},
   "outputs": [],
   "source": []
  },
  {
   "cell_type": "code",
   "execution_count": 85,
   "metadata": {},
   "outputs": [
    {
     "data": {
      "image/png": "[encoded data removed]",
      "text/plain": [
       "plot without title"
      ]
     },
     "metadata": {},
     "output_type": "display_data"
    }
   ],
   "source": [
    "boxplot(train$tot_pop)"
   ]
  },
  {
   "cell_type": "code",
   "execution_count": null,
   "metadata": {},
   "outputs": [],
   "source": []
  },
  {
   "cell_type": "code",
   "execution_count": null,
   "metadata": {},
   "outputs": [],
   "source": []
  },
  {
   "cell_type": "code",
   "execution_count": null,
   "metadata": {},
   "outputs": [],
   "source": []
  },
  {
   "cell_type": "code",
   "execution_count": null,
   "metadata": {},
   "outputs": [],
   "source": []
  },
  {
   "cell_type": "code",
   "execution_count": null,
   "metadata": {},
   "outputs": [],
   "source": []
  },
  {
   "cell_type": "markdown",
   "metadata": {},
   "source": [
    "## area_pop,area_pop  :area그룹별로 더해서 tot_pop과 cor비교 "
   ]
  },
  {
   "cell_type": "markdown",
   "metadata": {},
   "source": [
    "## type_qual 원핫후 prop_type_qual 만들기 "
   ]
  },
  {
   "cell_type": "code",
   "execution_count": 69,
   "metadata": {},
   "outputs": [],
   "source": [
    "train<-read.table( \"train0722(5).csv\", sep=',', header=T)"
   ]
  },
  {
   "cell_type": "code",
   "execution_count": 70,
   "metadata": {
    "scrolled": true
   },
   "outputs": [
    {
     "data": {
      "text/plain": [
       "\n",
       "   1    2    3    4    5    6    7    8    9   10   11   12   13   14 \n",
       "1774   21   95  569   37    3    9  155   49  114   33   33    3   30 "
      ]
     },
     "metadata": {},
     "output_type": "display_data"
    }
   ],
   "source": [
    "table(train$type_qual)"
   ]
  },
  {
   "cell_type": "code",
   "execution_count": 71,
   "metadata": {},
   "outputs": [],
   "source": [
    "train$type_qual1<-ifelse(train$type_qual==1,1,0)\n",
    "train$type_qual2<-ifelse(train$type_qual==2,1,0)\n",
    "train$type_qual3<-ifelse(train$type_qual==3,1,0)\n",
    "train$type_qual4<-ifelse(train$type_qual==4,1,0)\n",
    "train$type_qual5<-ifelse(train$type_qual==5,1,0)\n",
    "train$type_qual6<-ifelse(train$type_qual==6,1,0)\n",
    "train$type_qual7<-ifelse(train$type_qual==7,1,0)\n",
    "train$type_qual8<-ifelse(train$type_qual==8,1,0)\n",
    "train$type_qual9<-ifelse(train$type_qual==9,1,0)\n",
    "train$type_qual10<-ifelse(train$type_qual==10,1,0)\n",
    "train$type_qual11<-ifelse(train$type_qual==11,1,0)\n",
    "train$type_qual12<-ifelse(train$type_qual==12,1,0)\n",
    "train$type_qual13<-ifelse(train$type_qual==13,1,0)\n",
    "train$type_qual14<-ifelse(train$type_qual==14,1,0)"
   ]
  },
  {
   "cell_type": "code",
   "execution_count": 72,
   "metadata": {},
   "outputs": [],
   "source": [
    "train2<-train %>% group_by(code) %>%summarise(prop_type_qual1=mean(type_qual1) \n",
    "                                           , prop_type_qual2=mean(type_qual2)\n",
    "                                           , prop_type_qual3=mean(type_qual3)\n",
    "                                           , prop_type_qual4=mean(type_qual4)\n",
    "                                           , prop_type_qual5=mean(type_qual5)\n",
    "                                            , prop_type_qual6=mean(type_qual6)\n",
    "                                              , prop_type_qual7=mean(type_qual7)\n",
    "                                              , prop_type_qual8=mean(type_qual8)\n",
    "                                              , prop_type_qual9=mean(type_qual9)\n",
    "                                              , prop_type_qual10=mean(type_qual10)\n",
    "                                              , prop_type_qual11=mean(type_qual11)\n",
    "                                              , prop_type_qual12=mean(type_qual12)\n",
    "                                              , prop_type_qual13=mean(type_qual13)\n",
    "                                              , prop_type_qual14=mean(type_qual14)\n",
    "                                              )"
   ]
  },
  {
   "cell_type": "code",
   "execution_count": 73,
   "metadata": {},
   "outputs": [],
   "source": [
    "train<-left_join(train, train2, by='code') "
   ]
  },
  {
   "cell_type": "code",
   "execution_count": 74,
   "metadata": {},
   "outputs": [],
   "source": [
    "write.csv(train, \"train0722(7).csv\", row.names=F)"
   ]
  },
  {
   "cell_type": "markdown",
   "metadata": {},
   "source": [
    "## fee 관련 두개 area기준으로 median"
   ]
  },
  {
   "cell_type": "code",
   "execution_count": null,
   "metadata": {},
   "outputs": [],
   "source": []
  }
 ],
 "metadata": {
  "kernelspec": {
   "display_name": "R",
   "language": "R",
   "name": "ir"
  },
  "language_info": {
   "codemirror_mode": "r",
   "file_extension": ".r",
   "mimetype": "text/x-r-source",
   "name": "R",
   "pygments_lexer": "r",
   "version": "3.6.1"
  },
  "toc": {
   "base_numbering": 1,
   "nav_menu": {},
   "number_sections": true,
   "sideBar": true,
   "skip_h1_title": false,
   "title_cell": "Table of Contents",
   "title_sidebar": "Contents",
   "toc_cell": false,
   "toc_position": {},
   "toc_section_display": true,
   "toc_window_display": false
  }
 },
 "nbformat": 4,
 "nbformat_minor": 4
}
