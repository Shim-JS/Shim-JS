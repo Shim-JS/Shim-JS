{
 "cells": [
  {
   "cell_type": "code",
   "execution_count": 22,
   "metadata": {},
   "outputs": [],
   "source": [
    "import pandas as pd\n",
    "import numpy as np\n",
    "import matplotlib.pyplot as plt\n",
    "import seaborn as sns\n",
    "#출력 그림 크기 조절\n",
    "sns.set(rc={'figure.figsize':(12,12)})\n",
    "plt.style.use('ggplot')\n",
    "from matplotlib import font_manager, rc\n",
    "font_path = \"C:/Windows/Fonts/NGULIM.TTF\"\n",
    "font = font_manager.FontProperties(fname=font_path).get_name()\n",
    "rc('font', family=font)\n",
    "\n",
    "import warnings\n",
    "warnings.filterwarnings(\"ignore\")"
   ]
  },
  {
   "cell_type": "code",
   "execution_count": 23,
   "metadata": {},
   "outputs": [],
   "source": [
    "# 데이터 로드\n",
    "tr = pd.read_csv('data/train0723(5).3.csv')\n",
    "te = pd.read_csv('data/test0723.fi.csv')"
   ]
  },
  {
   "cell_type": "code",
   "execution_count": 24,
   "metadata": {},
   "outputs": [
    {
     "name": "stdout",
     "output_type": "stream",
     "text": [
      "<class 'pandas.core.frame.DataFrame'>\n",
      "RangeIndex: 430 entries, 0 to 429\n",
      "Data columns (total 42 columns):\n",
      " #   Column            Non-Null Count  Dtype  \n",
      "---  ------            --------------  -----  \n",
      " 0   code              430 non-null    object \n",
      " 1   tot_pop           430 non-null    int64  \n",
      " 2   region            430 non-null    int64  \n",
      " 3   num_empty         430 non-null    int64  \n",
      " 4   sub               430 non-null    int64  \n",
      " 5   bus               430 non-null    int64  \n",
      " 6   num_park          430 non-null    int64  \n",
      " 7   type_new          430 non-null    int64  \n",
      " 8   prop_type_im1     430 non-null    float64\n",
      " 9   prop_type_im2     430 non-null    float64\n",
      " 10  prop_type_im3     430 non-null    float64\n",
      " 11  prop_type_im4     430 non-null    int64  \n",
      " 12  prop_type_im5     430 non-null    float64\n",
      " 13  prop_type_im6     430 non-null    float64\n",
      " 14  prop_type_im7     430 non-null    float64\n",
      " 15  prop_type_im8     430 non-null    float64\n",
      " 16  prop_type_im9     430 non-null    float64\n",
      " 17  prop_type_im10    430 non-null    float64\n",
      " 18  prop_type_qual1   430 non-null    float64\n",
      " 19  prop_type_qual2   430 non-null    int64  \n",
      " 20  prop_type_qual3   430 non-null    float64\n",
      " 21  prop_type_qual4   430 non-null    float64\n",
      " 22  prop_type_qual5   430 non-null    float64\n",
      " 23  prop_type_qual6   430 non-null    float64\n",
      " 24  prop_type_qual7   430 non-null    float64\n",
      " 25  prop_type_qual8   430 non-null    float64\n",
      " 26  prop_type_qual9   430 non-null    float64\n",
      " 27  prop_type_qual10  430 non-null    float64\n",
      " 28  prop_type_qual11  430 non-null    float64\n",
      " 29  prop_type_qual12  430 non-null    float64\n",
      " 30  prop_type_qual13  430 non-null    float64\n",
      " 31  prop_type_qual14  430 non-null    float64\n",
      " 32  prop_areaL21      430 non-null    float64\n",
      " 33  prop_areaL29      430 non-null    float64\n",
      " 34  prop_areaL36      430 non-null    float64\n",
      " 35  prop_areaL39      430 non-null    float64\n",
      " 36  prop_areaL46      430 non-null    float64\n",
      " 37  prop_areaL59      430 non-null    float64\n",
      " 38  prop_areaU59      430 non-null    float64\n",
      " 39  M_fee_deposit     430 non-null    float64\n",
      " 40  M_fee_rent        430 non-null    int64  \n",
      " 41  target            430 non-null    int64  \n",
      "dtypes: float64(30), int64(11), object(1)\n",
      "memory usage: 141.2+ KB\n"
     ]
    }
   ],
   "source": [
    "tr.info()"
   ]
  },
  {
   "cell_type": "markdown",
   "metadata": {},
   "source": [
    "### 4.2 Randomforest\n"
   ]
  },
  {
   "cell_type": "code",
   "execution_count": 25,
   "metadata": {},
   "outputs": [],
   "source": [
    "from sklearn.ensemble import RandomForestRegressor\n",
    "from catboost import CatBoostRegressor"
   ]
  },
  {
   "cell_type": "code",
   "execution_count": 26,
   "metadata": {},
   "outputs": [],
   "source": [
    "train_RF = tr.set_index(\"code\")\n",
    "test_RF = te.set_index(\"code\")\n",
    "# train_RF[\"지역\"] = train_RF[\"지역\"].astype('category').cat.codes\n",
    "# test_RF[\"지역\"] = test_RF[\"지역\"].astype('category').cat.codes\n"
   ]
  },
  {
   "cell_type": "code",
   "execution_count": 27,
   "metadata": {},
   "outputs": [
    {
     "name": "stdout",
     "output_type": "stream",
     "text": [
      "<class 'pandas.core.frame.DataFrame'>\n",
      "Index: 430 entries, C1000 to C2692\n",
      "Data columns (total 41 columns):\n",
      " #   Column            Non-Null Count  Dtype  \n",
      "---  ------            --------------  -----  \n",
      " 0   tot_pop           430 non-null    int64  \n",
      " 1   region            430 non-null    int64  \n",
      " 2   num_empty         430 non-null    int64  \n",
      " 3   sub               430 non-null    int64  \n",
      " 4   bus               430 non-null    int64  \n",
      " 5   num_park          430 non-null    int64  \n",
      " 6   type_new          430 non-null    int64  \n",
      " 7   prop_type_im1     430 non-null    float64\n",
      " 8   prop_type_im2     430 non-null    float64\n",
      " 9   prop_type_im3     430 non-null    float64\n",
      " 10  prop_type_im4     430 non-null    int64  \n",
      " 11  prop_type_im5     430 non-null    float64\n",
      " 12  prop_type_im6     430 non-null    float64\n",
      " 13  prop_type_im7     430 non-null    float64\n",
      " 14  prop_type_im8     430 non-null    float64\n",
      " 15  prop_type_im9     430 non-null    float64\n",
      " 16  prop_type_im10    430 non-null    float64\n",
      " 17  prop_type_qual1   430 non-null    float64\n",
      " 18  prop_type_qual2   430 non-null    int64  \n",
      " 19  prop_type_qual3   430 non-null    float64\n",
      " 20  prop_type_qual4   430 non-null    float64\n",
      " 21  prop_type_qual5   430 non-null    float64\n",
      " 22  prop_type_qual6   430 non-null    float64\n",
      " 23  prop_type_qual7   430 non-null    float64\n",
      " 24  prop_type_qual8   430 non-null    float64\n",
      " 25  prop_type_qual9   430 non-null    float64\n",
      " 26  prop_type_qual10  430 non-null    float64\n",
      " 27  prop_type_qual11  430 non-null    float64\n",
      " 28  prop_type_qual12  430 non-null    float64\n",
      " 29  prop_type_qual13  430 non-null    float64\n",
      " 30  prop_type_qual14  430 non-null    float64\n",
      " 31  prop_areaL21      430 non-null    float64\n",
      " 32  prop_areaL29      430 non-null    float64\n",
      " 33  prop_areaL36      430 non-null    float64\n",
      " 34  prop_areaL39      430 non-null    float64\n",
      " 35  prop_areaL46      430 non-null    float64\n",
      " 36  prop_areaL59      430 non-null    float64\n",
      " 37  prop_areaU59      430 non-null    float64\n",
      " 38  M_fee_deposit     430 non-null    float64\n",
      " 39  M_fee_rent        430 non-null    int64  \n",
      " 40  target            430 non-null    int64  \n",
      "dtypes: float64(30), int64(11)\n",
      "memory usage: 141.1+ KB\n"
     ]
    }
   ],
   "source": [
    "train_RF.info()"
   ]
  },
  {
   "cell_type": "code",
   "execution_count": 28,
   "metadata": {},
   "outputs": [],
   "source": [
    "x_train = train_RF.drop(columns=[\"target\"])\n",
    "y_train = train_RF.loc[:,\"target\"]\n",
    "x_test = test_RF"
   ]
  },
  {
   "cell_type": "code",
   "execution_count": 30,
   "metadata": {},
   "outputs": [],
   "source": [
    "model = RandomForestRegressor(n_jobs=-1, random_state=40)"
   ]
  },
  {
   "cell_type": "code",
   "execution_count": 31,
   "metadata": {},
   "outputs": [
    {
     "data": {
      "text/plain": [
       "RandomForestRegressor(n_jobs=-1, random_state=40)"
      ]
     },
     "execution_count": 31,
     "metadata": {},
     "output_type": "execute_result"
    }
   ],
   "source": [
    "model.fit(x_train, y_train)"
   ]
  },
  {
   "cell_type": "code",
   "execution_count": 32,
   "metadata": {},
   "outputs": [],
   "source": [
    "pred = model.predict(x_test)"
   ]
  },
  {
   "cell_type": "code",
   "execution_count": 33,
   "metadata": {},
   "outputs": [],
   "source": [
    "submission = pd.read_csv('data/sample_submission.csv')"
   ]
  },
  {
   "cell_type": "code",
   "execution_count": 34,
   "metadata": {},
   "outputs": [],
   "source": [
    "submission['num'] = pred"
   ]
  },
  {
   "cell_type": "code",
   "execution_count": 35,
   "metadata": {},
   "outputs": [
    {
     "data": {
      "text/html": [
       "<div>\n",
       "<style scoped>\n",
       "    .dataframe tbody tr th:only-of-type {\n",
       "        vertical-align: middle;\n",
       "    }\n",
       "\n",
       "    .dataframe tbody tr th {\n",
       "        vertical-align: top;\n",
       "    }\n",
       "\n",
       "    .dataframe thead th {\n",
       "        text-align: right;\n",
       "    }\n",
       "</style>\n",
       "<table border=\"1\" class=\"dataframe\">\n",
       "  <thead>\n",
       "    <tr style=\"text-align: right;\">\n",
       "      <th></th>\n",
       "      <th>code</th>\n",
       "      <th>num</th>\n",
       "    </tr>\n",
       "  </thead>\n",
       "  <tbody>\n",
       "    <tr>\n",
       "      <th>0</th>\n",
       "      <td>C1072</td>\n",
       "      <td>536.49</td>\n",
       "    </tr>\n",
       "    <tr>\n",
       "      <th>1</th>\n",
       "      <td>C1128</td>\n",
       "      <td>1157.51</td>\n",
       "    </tr>\n",
       "    <tr>\n",
       "      <th>2</th>\n",
       "      <td>C1456</td>\n",
       "      <td>474.01</td>\n",
       "    </tr>\n",
       "    <tr>\n",
       "      <th>3</th>\n",
       "      <td>C1840</td>\n",
       "      <td>512.00</td>\n",
       "    </tr>\n",
       "    <tr>\n",
       "      <th>4</th>\n",
       "      <td>C1332</td>\n",
       "      <td>972.43</td>\n",
       "    </tr>\n",
       "    <tr>\n",
       "      <th>...</th>\n",
       "      <td>...</td>\n",
       "      <td>...</td>\n",
       "    </tr>\n",
       "    <tr>\n",
       "      <th>145</th>\n",
       "      <td>C2456</td>\n",
       "      <td>248.54</td>\n",
       "    </tr>\n",
       "    <tr>\n",
       "      <th>146</th>\n",
       "      <td>C1266</td>\n",
       "      <td>474.95</td>\n",
       "    </tr>\n",
       "    <tr>\n",
       "      <th>147</th>\n",
       "      <td>C2152</td>\n",
       "      <td>71.63</td>\n",
       "    </tr>\n",
       "    <tr>\n",
       "      <th>148</th>\n",
       "      <td>C1267</td>\n",
       "      <td>361.04</td>\n",
       "    </tr>\n",
       "    <tr>\n",
       "      <th>149</th>\n",
       "      <td>C2189</td>\n",
       "      <td>268.23</td>\n",
       "    </tr>\n",
       "  </tbody>\n",
       "</table>\n",
       "<p>150 rows × 2 columns</p>\n",
       "</div>"
      ],
      "text/plain": [
       "      code      num\n",
       "0    C1072   536.49\n",
       "1    C1128  1157.51\n",
       "2    C1456   474.01\n",
       "3    C1840   512.00\n",
       "4    C1332   972.43\n",
       "..     ...      ...\n",
       "145  C2456   248.54\n",
       "146  C1266   474.95\n",
       "147  C2152    71.63\n",
       "148  C1267   361.04\n",
       "149  C2189   268.23\n",
       "\n",
       "[150 rows x 2 columns]"
      ]
     },
     "execution_count": 35,
     "metadata": {},
     "output_type": "execute_result"
    }
   ],
   "source": [
    "submission"
   ]
  },
  {
   "cell_type": "code",
   "execution_count": 36,
   "metadata": {},
   "outputs": [],
   "source": [
    "submission.to_csv('sub/baseline0725.csv', index=False)"
   ]
  },
  {
   "cell_type": "code",
   "execution_count": 63,
   "metadata": {},
   "outputs": [],
   "source": [
    "#특성 선택"
   ]
  },
  {
   "cell_type": "code",
   "execution_count": 64,
   "metadata": {},
   "outputs": [
    {
     "data": {
      "text/plain": [
       "면적_60                  0.195569\n",
       "면적_50                  0.193437\n",
       "50대(여자)                0.190405\n",
       "면적_15                  0.186305\n",
       "면적_80                  0.185849\n",
       "공급유형_행복주택              0.179600\n",
       "자격유형_행복주택_공급대상         0.179600\n",
       "공가수                    0.178797\n",
       "20대(남자)                0.177481\n",
       "지역                     0.124213\n",
       "버스                     0.116681\n",
       "자격유형_국민임대/장기전세_공급대상    0.114534\n",
       "공급유형_공공임대(50년)         0.109707\n",
       "o60                    0.092509\n",
       "공급유형_국민임대/장기전세         0.082324\n",
       "40대(여자)                0.066840\n",
       "20대(여자)                0.046120\n",
       "면적_40                  0.043873\n",
       "u10                    0.011700\n",
       "지하철                    0.007102\n",
       "Name: 등록차량수, dtype: float64"
      ]
     },
     "execution_count": 64,
     "metadata": {},
     "output_type": "execute_result"
    }
   ],
   "source": [
    "corr = train_RF.corr()[\"등록차량수\"].abs().sort_values(ascending=False)\n",
    "corr.tail(20)"
   ]
  },
  {
   "cell_type": "code",
   "execution_count": 65,
   "metadata": {},
   "outputs": [
    {
     "data": {
      "text/plain": [
       "등록차량수                      1.000000\n",
       "단지내주차면수                    0.847504\n",
       "총세대수                       0.594550\n",
       "총임대가구수                     0.580188\n",
       "임대료                        0.458075\n",
       "공급유형_공공임대(5년/10년/분납/분양)    0.405901\n",
       "임대보증금                      0.346605\n",
       "p30                        0.329077\n",
       "공급유형_임대상가                  0.317346\n",
       "면적_70                      0.312048\n",
       "자격유형_D                     0.273035\n",
       "면적_30                      0.269377\n",
       "면적_100                     0.262505\n",
       "50대(남자)                    0.253219\n",
       "자격유형_A                     0.237133\n",
       "면적_20                      0.234213\n",
       "40대(남자)                    0.209183\n",
       "공급유형_영구임대                  0.201856\n",
       "자격유형_영구임대_공급대상             0.197175\n",
       "면적_60                      0.195569\n",
       "Name: 등록차량수, dtype: float64"
      ]
     },
     "execution_count": 65,
     "metadata": {},
     "output_type": "execute_result"
    }
   ],
   "source": [
    "corr.head(20)"
   ]
  },
  {
   "cell_type": "code",
   "execution_count": 66,
   "metadata": {},
   "outputs": [],
   "source": [
    "X = train_RF.copy()\n",
    "X = X.loc[:,corr.index[0:10]]\n",
    "X = pd.merge(X,train_RF.loc[:,corr.index[-10:]],how = 'left', on = '단지코드')\n",
    "X.drop(['등록차량수',  ],axis=1, inplace=True)\n",
    "\n",
    "#X.drop(['등록차량수',  ],axis=1, inplace=True)\n",
    "feature_names = X.columns.to_list()\n",
    "\n",
    "# scaler = StandardScaler()\n",
    "# X = scaler.fit(X).transform(X)\n",
    "\n",
    "y = train_RF.loc[:,'등록차량수']"
   ]
  },
  {
   "cell_type": "code",
   "execution_count": 67,
   "metadata": {},
   "outputs": [
    {
     "name": "stdout",
     "output_type": "stream",
     "text": [
      "<class 'pandas.core.frame.DataFrame'>\n",
      "Index: 411 entries, C2515 to C2532\n",
      "Data columns (total 19 columns):\n",
      " #   Column                   Non-Null Count  Dtype  \n",
      "---  ------                   --------------  -----  \n",
      " 0   단지내주차면수                  411 non-null    float64\n",
      " 1   총세대수                     411 non-null    float64\n",
      " 2   총임대가구수                   411 non-null    float64\n",
      " 3   임대료                      411 non-null    float64\n",
      " 4   공급유형_공공임대(5년/10년/분납/분양)  411 non-null    float64\n",
      " 5   임대보증금                    411 non-null    float64\n",
      " 6   p30                      411 non-null    float64\n",
      " 7   공급유형_임대상가                411 non-null    float64\n",
      " 8   면적_70                    411 non-null    float64\n",
      " 9   버스                       411 non-null    float64\n",
      " 10  자격유형_국민임대/장기전세_공급대상      411 non-null    float64\n",
      " 11  공급유형_공공임대(50년)           411 non-null    float64\n",
      " 12  o60                      411 non-null    float64\n",
      " 13  공급유형_국민임대/장기전세           411 non-null    float64\n",
      " 14  40대(여자)                  411 non-null    float64\n",
      " 15  20대(여자)                  411 non-null    float64\n",
      " 16  면적_40                    411 non-null    float64\n",
      " 17  u10                      411 non-null    float64\n",
      " 18  지하철                      411 non-null    float64\n",
      "dtypes: float64(19)\n",
      "memory usage: 64.2+ KB\n"
     ]
    }
   ],
   "source": [
    "X.info()"
   ]
  },
  {
   "cell_type": "code",
   "execution_count": 37,
   "metadata": {},
   "outputs": [
    {
     "ename": "NameError",
     "evalue": "name 'X' is not defined",
     "output_type": "error",
     "traceback": [
      "\u001b[1;31m---------------------------------------------------------------------------\u001b[0m",
      "\u001b[1;31mNameError\u001b[0m                                 Traceback (most recent call last)",
      "\u001b[1;32m<ipython-input-37-4cb5b95fabca>\u001b[0m in \u001b[0;36m<module>\u001b[1;34m\u001b[0m\n\u001b[0;32m      1\u001b[0m \u001b[0mmodel\u001b[0m \u001b[1;33m=\u001b[0m \u001b[0mRF\u001b[0m \u001b[1;33m=\u001b[0m \u001b[0mRandomForestRegressor\u001b[0m\u001b[1;33m(\u001b[0m\u001b[0mn_jobs\u001b[0m\u001b[1;33m=\u001b[0m\u001b[1;33m-\u001b[0m\u001b[1;36m1\u001b[0m\u001b[1;33m,\u001b[0m \u001b[0mrandom_state\u001b[0m\u001b[1;33m=\u001b[0m\u001b[1;36m300\u001b[0m\u001b[1;33m,\u001b[0m \u001b[0mmax_depth\u001b[0m \u001b[1;33m=\u001b[0m\u001b[1;36m12\u001b[0m\u001b[1;33m,\u001b[0m\u001b[0mmin_samples_leaf\u001b[0m \u001b[1;33m=\u001b[0m\u001b[1;36m2\u001b[0m\u001b[1;33m,\u001b[0m\u001b[0mmin_samples_split\u001b[0m\u001b[1;33m=\u001b[0m\u001b[1;36m2\u001b[0m\u001b[1;33m,\u001b[0m\u001b[0mn_estimators\u001b[0m\u001b[1;33m=\u001b[0m\u001b[1;36m200\u001b[0m\u001b[1;33m)\u001b[0m\u001b[1;33m\u001b[0m\u001b[1;33m\u001b[0m\u001b[0m\n\u001b[1;32m----> 2\u001b[1;33m \u001b[0mmodel\u001b[0m\u001b[1;33m.\u001b[0m\u001b[0mfit\u001b[0m\u001b[1;33m(\u001b[0m\u001b[0mX\u001b[0m\u001b[1;33m,\u001b[0m \u001b[0my\u001b[0m\u001b[1;33m)\u001b[0m\u001b[1;33m\u001b[0m\u001b[1;33m\u001b[0m\u001b[0m\n\u001b[0m\u001b[0;32m      3\u001b[0m \u001b[1;33m\u001b[0m\u001b[0m\n\u001b[0;32m      4\u001b[0m \u001b[0mX_test\u001b[0m \u001b[1;33m=\u001b[0m \u001b[0mtest_RF\u001b[0m\u001b[1;33m[\u001b[0m\u001b[0mfeature_names\u001b[0m\u001b[1;33m]\u001b[0m\u001b[1;33m\u001b[0m\u001b[1;33m\u001b[0m\u001b[0m\n\u001b[0;32m      5\u001b[0m \u001b[0mpred\u001b[0m \u001b[1;33m=\u001b[0m \u001b[0mRF\u001b[0m\u001b[1;33m.\u001b[0m\u001b[0mpredict\u001b[0m\u001b[1;33m(\u001b[0m\u001b[0mX_test\u001b[0m\u001b[1;33m)\u001b[0m\u001b[1;33m\u001b[0m\u001b[1;33m\u001b[0m\u001b[0m\n",
      "\u001b[1;31mNameError\u001b[0m: name 'X' is not defined"
     ]
    }
   ],
   "source": [
    "model = RF = RandomForestRegressor(n_jobs=-1, random_state=300, max_depth =12,min_samples_leaf =2,min_samples_split=2,n_estimators=200)\n",
    "model.fit(X, y)\n",
    "\n",
    "X_test = test_RF[feature_names]\n",
    "pred = RF.predict(X_test)\n",
    "\n",
    "submission['num'] = pred\n"
   ]
  },
  {
   "cell_type": "code",
   "execution_count": 69,
   "metadata": {},
   "outputs": [
    {
     "data": {
      "text/html": [
       "<div>\n",
       "<style scoped>\n",
       "    .dataframe tbody tr th:only-of-type {\n",
       "        vertical-align: middle;\n",
       "    }\n",
       "\n",
       "    .dataframe tbody tr th {\n",
       "        vertical-align: top;\n",
       "    }\n",
       "\n",
       "    .dataframe thead th {\n",
       "        text-align: right;\n",
       "    }\n",
       "</style>\n",
       "<table border=\"1\" class=\"dataframe\">\n",
       "  <thead>\n",
       "    <tr style=\"text-align: right;\">\n",
       "      <th></th>\n",
       "      <th>code</th>\n",
       "      <th>num</th>\n",
       "    </tr>\n",
       "  </thead>\n",
       "  <tbody>\n",
       "    <tr>\n",
       "      <th>0</th>\n",
       "      <td>C1072</td>\n",
       "      <td>689.939629</td>\n",
       "    </tr>\n",
       "    <tr>\n",
       "      <th>1</th>\n",
       "      <td>C1128</td>\n",
       "      <td>1078.657340</td>\n",
       "    </tr>\n",
       "    <tr>\n",
       "      <th>2</th>\n",
       "      <td>C1456</td>\n",
       "      <td>547.399774</td>\n",
       "    </tr>\n",
       "    <tr>\n",
       "      <th>3</th>\n",
       "      <td>C1840</td>\n",
       "      <td>503.813429</td>\n",
       "    </tr>\n",
       "    <tr>\n",
       "      <th>4</th>\n",
       "      <td>C1332</td>\n",
       "      <td>1043.438328</td>\n",
       "    </tr>\n",
       "    <tr>\n",
       "      <th>...</th>\n",
       "      <td>...</td>\n",
       "      <td>...</td>\n",
       "    </tr>\n",
       "    <tr>\n",
       "      <th>145</th>\n",
       "      <td>C2456</td>\n",
       "      <td>274.734651</td>\n",
       "    </tr>\n",
       "    <tr>\n",
       "      <th>146</th>\n",
       "      <td>C1266</td>\n",
       "      <td>575.771749</td>\n",
       "    </tr>\n",
       "    <tr>\n",
       "      <th>147</th>\n",
       "      <td>C2152</td>\n",
       "      <td>43.180185</td>\n",
       "    </tr>\n",
       "    <tr>\n",
       "      <th>148</th>\n",
       "      <td>C1267</td>\n",
       "      <td>482.600040</td>\n",
       "    </tr>\n",
       "    <tr>\n",
       "      <th>149</th>\n",
       "      <td>C2189</td>\n",
       "      <td>281.178462</td>\n",
       "    </tr>\n",
       "  </tbody>\n",
       "</table>\n",
       "<p>150 rows × 2 columns</p>\n",
       "</div>"
      ],
      "text/plain": [
       "      code          num\n",
       "0    C1072   689.939629\n",
       "1    C1128  1078.657340\n",
       "2    C1456   547.399774\n",
       "3    C1840   503.813429\n",
       "4    C1332  1043.438328\n",
       "..     ...          ...\n",
       "145  C2456   274.734651\n",
       "146  C1266   575.771749\n",
       "147  C2152    43.180185\n",
       "148  C1267   482.600040\n",
       "149  C2189   281.178462\n",
       "\n",
       "[150 rows x 2 columns]"
      ]
     },
     "execution_count": 69,
     "metadata": {},
     "output_type": "execute_result"
    }
   ],
   "source": [
    "submission"
   ]
  },
  {
   "cell_type": "code",
   "execution_count": 70,
   "metadata": {},
   "outputs": [],
   "source": [
    "#submission.to_csv('sub/baseline0715_RF_cod.csv', index=False)"
   ]
  },
  {
   "cell_type": "code",
   "execution_count": 71,
   "metadata": {},
   "outputs": [],
   "source": [
    "# train_RF,test_RF를 통해 예측"
   ]
  },
  {
   "cell_type": "code",
   "execution_count": 51,
   "metadata": {},
   "outputs": [],
   "source": [
    "from catboost import CatBoostRegressor"
   ]
  },
  {
   "cell_type": "code",
   "execution_count": 52,
   "metadata": {},
   "outputs": [],
   "source": [
    "cat_features = []\n",
    "target_col = 'target'"
   ]
  },
  {
   "cell_type": "code",
   "execution_count": null,
   "metadata": {},
   "outputs": [],
   "source": []
  },
  {
   "cell_type": "code",
   "execution_count": 53,
   "metadata": {},
   "outputs": [
    {
     "name": "stdout",
     "output_type": "stream",
     "text": [
      "0:\tlearn: 279.6545337\ttotal: 1.81ms\tremaining: 903ms\n",
      "100:\tlearn: 90.0021841\ttotal: 128ms\tremaining: 504ms\n",
      "200:\tlearn: 65.7298787\ttotal: 245ms\tremaining: 365ms\n",
      "300:\tlearn: 53.4754961\ttotal: 358ms\tremaining: 236ms\n",
      "400:\tlearn: 44.0071425\ttotal: 473ms\tremaining: 117ms\n",
      "499:\tlearn: 38.6011279\ttotal: 585ms\tremaining: 0us\n"
     ]
    },
    {
     "data": {
      "text/plain": [
       "<catboost.core.CatBoostRegressor at 0x15005a9ceb0>"
      ]
     },
     "execution_count": 53,
     "metadata": {},
     "output_type": "execute_result"
    }
   ],
   "source": [
    "from catboost import CatBoostRegressor\n",
    "catb = CatBoostRegressor(\n",
    "         cat_features=cat_features,\n",
    "         loss_function='MAE',\n",
    "         n_estimators=500, \n",
    "         learning_rate=0.05, \n",
    "         random_state=42\n",
    "    )\n",
    "    \n",
    "catb.fit(train_RF.drop(columns=[target_col]), train_RF[target_col], verbose=100)"
   ]
  },
  {
   "cell_type": "code",
   "execution_count": 54,
   "metadata": {},
   "outputs": [
    {
     "data": {
      "text/html": [
       "<div>\n",
       "<style scoped>\n",
       "    .dataframe tbody tr th:only-of-type {\n",
       "        vertical-align: middle;\n",
       "    }\n",
       "\n",
       "    .dataframe tbody tr th {\n",
       "        vertical-align: top;\n",
       "    }\n",
       "\n",
       "    .dataframe thead th {\n",
       "        text-align: right;\n",
       "    }\n",
       "</style>\n",
       "<table border=\"1\" class=\"dataframe\">\n",
       "  <thead>\n",
       "    <tr style=\"text-align: right;\">\n",
       "      <th></th>\n",
       "      <th>code</th>\n",
       "      <th>num</th>\n",
       "    </tr>\n",
       "  </thead>\n",
       "  <tbody>\n",
       "    <tr>\n",
       "      <th>0</th>\n",
       "      <td>C1072</td>\n",
       "      <td>0</td>\n",
       "    </tr>\n",
       "    <tr>\n",
       "      <th>1</th>\n",
       "      <td>C1128</td>\n",
       "      <td>0</td>\n",
       "    </tr>\n",
       "    <tr>\n",
       "      <th>2</th>\n",
       "      <td>C1456</td>\n",
       "      <td>0</td>\n",
       "    </tr>\n",
       "    <tr>\n",
       "      <th>3</th>\n",
       "      <td>C1840</td>\n",
       "      <td>0</td>\n",
       "    </tr>\n",
       "    <tr>\n",
       "      <th>4</th>\n",
       "      <td>C1332</td>\n",
       "      <td>0</td>\n",
       "    </tr>\n",
       "  </tbody>\n",
       "</table>\n",
       "</div>"
      ],
      "text/plain": [
       "    code  num\n",
       "0  C1072    0\n",
       "1  C1128    0\n",
       "2  C1456    0\n",
       "3  C1840    0\n",
       "4  C1332    0"
      ]
     },
     "execution_count": 54,
     "metadata": {},
     "output_type": "execute_result"
    }
   ],
   "source": [
    "sample_submission = pd.read_csv('data/sample_submission.csv')\n",
    "sample_submission.head()"
   ]
  },
  {
   "cell_type": "code",
   "execution_count": 55,
   "metadata": {},
   "outputs": [],
   "source": [
    "sample_submission['num'] = catb.predict(test_RF)"
   ]
  },
  {
   "cell_type": "code",
   "execution_count": 56,
   "metadata": {},
   "outputs": [
    {
     "data": {
      "text/html": [
       "<div>\n",
       "<style scoped>\n",
       "    .dataframe tbody tr th:only-of-type {\n",
       "        vertical-align: middle;\n",
       "    }\n",
       "\n",
       "    .dataframe tbody tr th {\n",
       "        vertical-align: top;\n",
       "    }\n",
       "\n",
       "    .dataframe thead th {\n",
       "        text-align: right;\n",
       "    }\n",
       "</style>\n",
       "<table border=\"1\" class=\"dataframe\">\n",
       "  <thead>\n",
       "    <tr style=\"text-align: right;\">\n",
       "      <th></th>\n",
       "      <th>code</th>\n",
       "      <th>num</th>\n",
       "    </tr>\n",
       "  </thead>\n",
       "  <tbody>\n",
       "    <tr>\n",
       "      <th>0</th>\n",
       "      <td>C1072</td>\n",
       "      <td>730.718192</td>\n",
       "    </tr>\n",
       "    <tr>\n",
       "      <th>1</th>\n",
       "      <td>C1128</td>\n",
       "      <td>1189.853718</td>\n",
       "    </tr>\n",
       "    <tr>\n",
       "      <th>2</th>\n",
       "      <td>C1456</td>\n",
       "      <td>560.240151</td>\n",
       "    </tr>\n",
       "    <tr>\n",
       "      <th>3</th>\n",
       "      <td>C1840</td>\n",
       "      <td>525.315100</td>\n",
       "    </tr>\n",
       "    <tr>\n",
       "      <th>4</th>\n",
       "      <td>C1332</td>\n",
       "      <td>1019.199423</td>\n",
       "    </tr>\n",
       "    <tr>\n",
       "      <th>...</th>\n",
       "      <td>...</td>\n",
       "      <td>...</td>\n",
       "    </tr>\n",
       "    <tr>\n",
       "      <th>145</th>\n",
       "      <td>C2456</td>\n",
       "      <td>222.340313</td>\n",
       "    </tr>\n",
       "    <tr>\n",
       "      <th>146</th>\n",
       "      <td>C1266</td>\n",
       "      <td>486.245659</td>\n",
       "    </tr>\n",
       "    <tr>\n",
       "      <th>147</th>\n",
       "      <td>C2152</td>\n",
       "      <td>103.261810</td>\n",
       "    </tr>\n",
       "    <tr>\n",
       "      <th>148</th>\n",
       "      <td>C1267</td>\n",
       "      <td>434.404767</td>\n",
       "    </tr>\n",
       "    <tr>\n",
       "      <th>149</th>\n",
       "      <td>C2189</td>\n",
       "      <td>140.720272</td>\n",
       "    </tr>\n",
       "  </tbody>\n",
       "</table>\n",
       "<p>150 rows × 2 columns</p>\n",
       "</div>"
      ],
      "text/plain": [
       "      code          num\n",
       "0    C1072   730.718192\n",
       "1    C1128  1189.853718\n",
       "2    C1456   560.240151\n",
       "3    C1840   525.315100\n",
       "4    C1332  1019.199423\n",
       "..     ...          ...\n",
       "145  C2456   222.340313\n",
       "146  C1266   486.245659\n",
       "147  C2152   103.261810\n",
       "148  C1267   434.404767\n",
       "149  C2189   140.720272\n",
       "\n",
       "[150 rows x 2 columns]"
      ]
     },
     "execution_count": 56,
     "metadata": {},
     "output_type": "execute_result"
    }
   ],
   "source": [
    "sample_submission"
   ]
  },
  {
   "cell_type": "code",
   "execution_count": 57,
   "metadata": {},
   "outputs": [],
   "source": [
    "sample_submission.to_csv('sub/submission_catb_baseline_20210725.csv', index=False)"
   ]
  },
  {
   "cell_type": "code",
   "execution_count": 79,
   "metadata": {},
   "outputs": [],
   "source": [
    "# 영향도 상위 9개 하위 9개 X, X_test 이용"
   ]
  },
  {
   "cell_type": "code",
   "execution_count": 80,
   "metadata": {},
   "outputs": [],
   "source": [
    "from catboost import CatBoostRegressor"
   ]
  },
  {
   "cell_type": "code",
   "execution_count": 81,
   "metadata": {},
   "outputs": [],
   "source": [
    "cat_features = []\n",
    "target_col = '등록차량수'"
   ]
  },
  {
   "cell_type": "code",
   "execution_count": 82,
   "metadata": {},
   "outputs": [],
   "source": [
    "X = train_RF.copy()\n",
    "X = X.loc[:,corr.index[0:10]]\n",
    "X = pd.merge(X,train_RF.loc[:,corr.index[-10:]],how = 'left', on = '단지코드')\n",
    "\n",
    "feature_names = X.columns.to_list()\n",
    "feature_names = feature_names.remove(\"등록차량수\")\n",
    "# scaler = StandardScaler()\n",
    "# X = scaler.fit(X).transform(X)"
   ]
  },
  {
   "cell_type": "code",
   "execution_count": 83,
   "metadata": {},
   "outputs": [
    {
     "name": "stdout",
     "output_type": "stream",
     "text": [
      "0:\tlearn: 275.8287093\ttotal: 1.45ms\tremaining: 726ms\n",
      "100:\tlearn: 88.9728298\ttotal: 167ms\tremaining: 658ms\n",
      "200:\tlearn: 68.4239445\ttotal: 319ms\tremaining: 474ms\n",
      "300:\tlearn: 52.2832180\ttotal: 494ms\tremaining: 327ms\n",
      "400:\tlearn: 43.3917721\ttotal: 661ms\tremaining: 163ms\n",
      "499:\tlearn: 38.3946664\ttotal: 814ms\tremaining: 0us\n"
     ]
    },
    {
     "data": {
      "text/plain": [
       "<catboost.core.CatBoostRegressor at 0x1fb09741850>"
      ]
     },
     "execution_count": 83,
     "metadata": {},
     "output_type": "execute_result"
    }
   ],
   "source": [
    "from catboost import CatBoostRegressor\n",
    "catb = CatBoostRegressor(\n",
    "         cat_features=cat_features,\n",
    "         loss_function='MAE',\n",
    "         n_estimators=500, \n",
    "         learning_rate=0.05, \n",
    "         random_state=42\n",
    "    )\n",
    "    \n",
    "catb.fit(X.drop(columns=[target_col]), X[target_col], verbose=100)"
   ]
  },
  {
   "cell_type": "code",
   "execution_count": 84,
   "metadata": {},
   "outputs": [
    {
     "data": {
      "text/html": [
       "<div>\n",
       "<style scoped>\n",
       "    .dataframe tbody tr th:only-of-type {\n",
       "        vertical-align: middle;\n",
       "    }\n",
       "\n",
       "    .dataframe tbody tr th {\n",
       "        vertical-align: top;\n",
       "    }\n",
       "\n",
       "    .dataframe thead th {\n",
       "        text-align: right;\n",
       "    }\n",
       "</style>\n",
       "<table border=\"1\" class=\"dataframe\">\n",
       "  <thead>\n",
       "    <tr style=\"text-align: right;\">\n",
       "      <th></th>\n",
       "      <th>code</th>\n",
       "      <th>num</th>\n",
       "    </tr>\n",
       "  </thead>\n",
       "  <tbody>\n",
       "    <tr>\n",
       "      <th>0</th>\n",
       "      <td>C1072</td>\n",
       "      <td>0</td>\n",
       "    </tr>\n",
       "    <tr>\n",
       "      <th>1</th>\n",
       "      <td>C1128</td>\n",
       "      <td>0</td>\n",
       "    </tr>\n",
       "    <tr>\n",
       "      <th>2</th>\n",
       "      <td>C1456</td>\n",
       "      <td>0</td>\n",
       "    </tr>\n",
       "    <tr>\n",
       "      <th>3</th>\n",
       "      <td>C1840</td>\n",
       "      <td>0</td>\n",
       "    </tr>\n",
       "    <tr>\n",
       "      <th>4</th>\n",
       "      <td>C1332</td>\n",
       "      <td>0</td>\n",
       "    </tr>\n",
       "  </tbody>\n",
       "</table>\n",
       "</div>"
      ],
      "text/plain": [
       "    code  num\n",
       "0  C1072    0\n",
       "1  C1128    0\n",
       "2  C1456    0\n",
       "3  C1840    0\n",
       "4  C1332    0"
      ]
     },
     "execution_count": 84,
     "metadata": {},
     "output_type": "execute_result"
    }
   ],
   "source": [
    "sample_submission = pd.read_csv('data/sample_submission.csv')\n",
    "sample_submission.head()"
   ]
  },
  {
   "cell_type": "code",
   "execution_count": 85,
   "metadata": {},
   "outputs": [],
   "source": [
    "sample_submission['num'] = catb.predict(X_test)"
   ]
  },
  {
   "cell_type": "code",
   "execution_count": 86,
   "metadata": {},
   "outputs": [
    {
     "data": {
      "text/html": [
       "<div>\n",
       "<style scoped>\n",
       "    .dataframe tbody tr th:only-of-type {\n",
       "        vertical-align: middle;\n",
       "    }\n",
       "\n",
       "    .dataframe tbody tr th {\n",
       "        vertical-align: top;\n",
       "    }\n",
       "\n",
       "    .dataframe thead th {\n",
       "        text-align: right;\n",
       "    }\n",
       "</style>\n",
       "<table border=\"1\" class=\"dataframe\">\n",
       "  <thead>\n",
       "    <tr style=\"text-align: right;\">\n",
       "      <th></th>\n",
       "      <th>code</th>\n",
       "      <th>num</th>\n",
       "    </tr>\n",
       "  </thead>\n",
       "  <tbody>\n",
       "    <tr>\n",
       "      <th>0</th>\n",
       "      <td>C1072</td>\n",
       "      <td>707.937210</td>\n",
       "    </tr>\n",
       "    <tr>\n",
       "      <th>1</th>\n",
       "      <td>C1128</td>\n",
       "      <td>1137.440992</td>\n",
       "    </tr>\n",
       "    <tr>\n",
       "      <th>2</th>\n",
       "      <td>C1456</td>\n",
       "      <td>451.922942</td>\n",
       "    </tr>\n",
       "    <tr>\n",
       "      <th>3</th>\n",
       "      <td>C1840</td>\n",
       "      <td>524.290090</td>\n",
       "    </tr>\n",
       "    <tr>\n",
       "      <th>4</th>\n",
       "      <td>C1332</td>\n",
       "      <td>1088.544712</td>\n",
       "    </tr>\n",
       "    <tr>\n",
       "      <th>...</th>\n",
       "      <td>...</td>\n",
       "      <td>...</td>\n",
       "    </tr>\n",
       "    <tr>\n",
       "      <th>145</th>\n",
       "      <td>C2456</td>\n",
       "      <td>250.932651</td>\n",
       "    </tr>\n",
       "    <tr>\n",
       "      <th>146</th>\n",
       "      <td>C1266</td>\n",
       "      <td>577.567230</td>\n",
       "    </tr>\n",
       "    <tr>\n",
       "      <th>147</th>\n",
       "      <td>C2152</td>\n",
       "      <td>57.514887</td>\n",
       "    </tr>\n",
       "    <tr>\n",
       "      <th>148</th>\n",
       "      <td>C1267</td>\n",
       "      <td>445.958561</td>\n",
       "    </tr>\n",
       "    <tr>\n",
       "      <th>149</th>\n",
       "      <td>C2189</td>\n",
       "      <td>268.325304</td>\n",
       "    </tr>\n",
       "  </tbody>\n",
       "</table>\n",
       "<p>150 rows × 2 columns</p>\n",
       "</div>"
      ],
      "text/plain": [
       "      code          num\n",
       "0    C1072   707.937210\n",
       "1    C1128  1137.440992\n",
       "2    C1456   451.922942\n",
       "3    C1840   524.290090\n",
       "4    C1332  1088.544712\n",
       "..     ...          ...\n",
       "145  C2456   250.932651\n",
       "146  C1266   577.567230\n",
       "147  C2152    57.514887\n",
       "148  C1267   445.958561\n",
       "149  C2189   268.325304\n",
       "\n",
       "[150 rows x 2 columns]"
      ]
     },
     "execution_count": 86,
     "metadata": {},
     "output_type": "execute_result"
    }
   ],
   "source": [
    "sample_submission"
   ]
  },
  {
   "cell_type": "code",
   "execution_count": 87,
   "metadata": {},
   "outputs": [],
   "source": [
    "sample_submission.to_csv('sub/submission_catb_topbot18_20210717.csv', index=False)"
   ]
  },
  {
   "cell_type": "code",
   "execution_count": null,
   "metadata": {},
   "outputs": [],
   "source": []
  }
 ],
 "metadata": {
  "kernelspec": {
   "display_name": "Python 3",
   "language": "python",
   "name": "python3"
  },
  "language_info": {
   "codemirror_mode": {
    "name": "ipython",
    "version": 3
   },
   "file_extension": ".py",
   "mimetype": "text/x-python",
   "name": "python",
   "nbconvert_exporter": "python",
   "pygments_lexer": "ipython3",
   "version": "3.8.5"
  }
 },
 "nbformat": 4,
 "nbformat_minor": 4
}
