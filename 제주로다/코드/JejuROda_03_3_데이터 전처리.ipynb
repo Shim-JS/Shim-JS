{
 "cells": [
  {
   "cell_type": "markdown",
   "metadata": {},
   "source": [
    "# 데이터 3 전처리\n",
    "    \n",
    "- 월별 그룹화를 위해 ‘base_year’, ‘base_month’ 열 결합 -> ‘y_m’ 열 생성\n",
    "- ‘sex’, ‘resid_reg_pop’, ‘foreign_pop’ 열을 이용하여 -> 외국인, 제주도민 성별 거주인구 생성.\n",
    "- 행정부에서 제공하는 \"주민등록인구통계\" 외부데이터에서 나이 열을 활용 -> 연령별 ‘제주도민_60이상’, ‘제주도민_60미만’ 파생 변수 생성\n",
    "\n",
    "\n"
   ]
  },
  {
   "cell_type": "code",
   "execution_count": 1,
   "metadata": {},
   "outputs": [],
   "source": [
    "import numpy as np\n",
    "import pandas as pd\n",
    "import seaborn as sns\n",
    "import matplotlib.pyplot as plt\n",
    "\n",
    "import warnings\n",
    "warnings.filterwarnings(action='ignore') "
   ]
  },
  {
   "cell_type": "markdown",
   "metadata": {},
   "source": [
    "### 제주시 거주민 데이터 전처리 결합"
   ]
  },
  {
   "cell_type": "code",
   "execution_count": 2,
   "metadata": {},
   "outputs": [
    {
     "data": {
      "text/html": [
       "<div>\n",
       "<style scoped>\n",
       "    .dataframe tbody tr th:only-of-type {\n",
       "        vertical-align: middle;\n",
       "    }\n",
       "\n",
       "    .dataframe tbody tr th {\n",
       "        vertical-align: top;\n",
       "    }\n",
       "\n",
       "    .dataframe thead th {\n",
       "        text-align: right;\n",
       "    }\n",
       "</style>\n",
       "<table border=\"1\" class=\"dataframe\">\n",
       "  <thead>\n",
       "    <tr style=\"text-align: right;\">\n",
       "      <th></th>\n",
       "      <th>base_year</th>\n",
       "      <th>base_month</th>\n",
       "      <th>city</th>\n",
       "      <th>emd_cd</th>\n",
       "      <th>emd_nm</th>\n",
       "      <th>sex</th>\n",
       "      <th>resid_reg_pop</th>\n",
       "      <th>foreign_pop</th>\n",
       "      <th>total_pop</th>\n",
       "    </tr>\n",
       "  </thead>\n",
       "  <tbody>\n",
       "    <tr>\n",
       "      <th>0</th>\n",
       "      <td>2018</td>\n",
       "      <td>1</td>\n",
       "      <td>제주시</td>\n",
       "      <td>50110590</td>\n",
       "      <td>건입동</td>\n",
       "      <td>남성</td>\n",
       "      <td>5085</td>\n",
       "      <td>146</td>\n",
       "      <td>5231</td>\n",
       "    </tr>\n",
       "    <tr>\n",
       "      <th>1</th>\n",
       "      <td>2018</td>\n",
       "      <td>1</td>\n",
       "      <td>제주시</td>\n",
       "      <td>50110590</td>\n",
       "      <td>건입동</td>\n",
       "      <td>여성</td>\n",
       "      <td>4715</td>\n",
       "      <td>82</td>\n",
       "      <td>4797</td>\n",
       "    </tr>\n",
       "    <tr>\n",
       "      <th>2</th>\n",
       "      <td>2018</td>\n",
       "      <td>1</td>\n",
       "      <td>제주시</td>\n",
       "      <td>50110256</td>\n",
       "      <td>구좌읍</td>\n",
       "      <td>남성</td>\n",
       "      <td>7965</td>\n",
       "      <td>368</td>\n",
       "      <td>8333</td>\n",
       "    </tr>\n",
       "    <tr>\n",
       "      <th>3</th>\n",
       "      <td>2018</td>\n",
       "      <td>1</td>\n",
       "      <td>제주시</td>\n",
       "      <td>50110256</td>\n",
       "      <td>구좌읍</td>\n",
       "      <td>여성</td>\n",
       "      <td>7609</td>\n",
       "      <td>184</td>\n",
       "      <td>7793</td>\n",
       "    </tr>\n",
       "    <tr>\n",
       "      <th>4</th>\n",
       "      <td>2018</td>\n",
       "      <td>1</td>\n",
       "      <td>서귀포시</td>\n",
       "      <td>50130253</td>\n",
       "      <td>남원읍</td>\n",
       "      <td>남성</td>\n",
       "      <td>9806</td>\n",
       "      <td>428</td>\n",
       "      <td>10234</td>\n",
       "    </tr>\n",
       "  </tbody>\n",
       "</table>\n",
       "</div>"
      ],
      "text/plain": [
       "   base_year  base_month  city    emd_cd emd_nm sex  resid_reg_pop  \\\n",
       "0       2018           1   제주시  50110590    건입동  남성           5085   \n",
       "1       2018           1   제주시  50110590    건입동  여성           4715   \n",
       "2       2018           1   제주시  50110256    구좌읍  남성           7965   \n",
       "3       2018           1   제주시  50110256    구좌읍  여성           7609   \n",
       "4       2018           1  서귀포시  50130253    남원읍  남성           9806   \n",
       "\n",
       "   foreign_pop  total_pop  \n",
       "0          146       5231  \n",
       "1           82       4797  \n",
       "2          368       8333  \n",
       "3          184       7793  \n",
       "4          428      10234  "
      ]
     },
     "execution_count": 2,
     "metadata": {},
     "output_type": "execute_result"
    }
   ],
   "source": [
    "# 파일 불러오기\n",
    "df_1 = pd.read_csv('03_거주인구_RESIDENT_POP.csv',encoding='cp949')\n",
    "df_1.head()"
   ]
  },
  {
   "cell_type": "code",
   "execution_count": 3,
   "metadata": {},
   "outputs": [
    {
     "name": "stdout",
     "output_type": "stream",
     "text": [
      "<class 'pandas.core.frame.DataFrame'>\n",
      "RangeIndex: 3612 entries, 0 to 3611\n",
      "Data columns (total 9 columns):\n",
      " #   Column         Non-Null Count  Dtype \n",
      "---  ------         --------------  ----- \n",
      " 0   base_year      3612 non-null   int64 \n",
      " 1   base_month     3612 non-null   int64 \n",
      " 2   city           3612 non-null   object\n",
      " 3   emd_cd         3612 non-null   int64 \n",
      " 4   emd_nm         3612 non-null   object\n",
      " 5   sex            3612 non-null   object\n",
      " 6   resid_reg_pop  3612 non-null   int64 \n",
      " 7   foreign_pop    3612 non-null   int64 \n",
      " 8   total_pop      3612 non-null   int64 \n",
      "dtypes: int64(6), object(3)\n",
      "memory usage: 254.1+ KB\n"
     ]
    }
   ],
   "source": [
    "df_1.info()"
   ]
  },
  {
   "cell_type": "code",
   "execution_count": 4,
   "metadata": {},
   "outputs": [
    {
     "data": {
      "text/plain": [
       "'건입동'"
      ]
     },
     "metadata": {},
     "output_type": "display_data"
    },
    {
     "data": {
      "text/plain": [
       "array([50110590], dtype=int64)"
      ]
     },
     "metadata": {},
     "output_type": "display_data"
    },
    {
     "data": {
      "text/plain": [
       "'구좌읍'"
      ]
     },
     "metadata": {},
     "output_type": "display_data"
    },
    {
     "data": {
      "text/plain": [
       "array([50110256], dtype=int64)"
      ]
     },
     "metadata": {},
     "output_type": "display_data"
    },
    {
     "data": {
      "text/plain": [
       "'남원읍'"
      ]
     },
     "metadata": {},
     "output_type": "display_data"
    },
    {
     "data": {
      "text/plain": [
       "array([50130253], dtype=int64)"
      ]
     },
     "metadata": {},
     "output_type": "display_data"
    },
    {
     "data": {
      "text/plain": [
       "'노형동'"
      ]
     },
     "metadata": {},
     "output_type": "display_data"
    },
    {
     "data": {
      "text/plain": [
       "array([50110660], dtype=int64)"
      ]
     },
     "metadata": {},
     "output_type": "display_data"
    },
    {
     "data": {
      "text/plain": [
       "'대륜동'"
      ]
     },
     "metadata": {},
     "output_type": "display_data"
    },
    {
     "data": {
      "text/plain": [
       "array([50130590], dtype=int64)"
      ]
     },
     "metadata": {},
     "output_type": "display_data"
    },
    {
     "data": {
      "text/plain": [
       "'대정읍'"
      ]
     },
     "metadata": {},
     "output_type": "display_data"
    },
    {
     "data": {
      "text/plain": [
       "array([50130250], dtype=int64)"
      ]
     },
     "metadata": {},
     "output_type": "display_data"
    },
    {
     "data": {
      "text/plain": [
       "'대천동'"
      ]
     },
     "metadata": {},
     "output_type": "display_data"
    },
    {
     "data": {
      "text/plain": [
       "array([50130600], dtype=int64)"
      ]
     },
     "metadata": {},
     "output_type": "display_data"
    },
    {
     "data": {
      "text/plain": [
       "'도두동'"
      ]
     },
     "metadata": {},
     "output_type": "display_data"
    },
    {
     "data": {
      "text/plain": [
       "array([50110690], dtype=int64)"
      ]
     },
     "metadata": {},
     "output_type": "display_data"
    },
    {
     "data": {
      "text/plain": [
       "'동홍동'"
      ]
     },
     "metadata": {},
     "output_type": "display_data"
    },
    {
     "data": {
      "text/plain": [
       "array([50130570], dtype=int64)"
      ]
     },
     "metadata": {},
     "output_type": "display_data"
    },
    {
     "data": {
      "text/plain": [
       "'봉개동'"
      ]
     },
     "metadata": {},
     "output_type": "display_data"
    },
    {
     "data": {
      "text/plain": [
       "array([50110620], dtype=int64)"
      ]
     },
     "metadata": {},
     "output_type": "display_data"
    },
    {
     "data": {
      "text/plain": [
       "'삼도1동'"
      ]
     },
     "metadata": {},
     "output_type": "display_data"
    },
    {
     "data": {
      "text/plain": [
       "array([50110550], dtype=int64)"
      ]
     },
     "metadata": {},
     "output_type": "display_data"
    },
    {
     "data": {
      "text/plain": [
       "'삼도2동'"
      ]
     },
     "metadata": {},
     "output_type": "display_data"
    },
    {
     "data": {
      "text/plain": [
       "array([50110560], dtype=int64)"
      ]
     },
     "metadata": {},
     "output_type": "display_data"
    },
    {
     "data": {
      "text/plain": [
       "'삼양동'"
      ]
     },
     "metadata": {},
     "output_type": "display_data"
    },
    {
     "data": {
      "text/plain": [
       "array([50110610], dtype=int64)"
      ]
     },
     "metadata": {},
     "output_type": "display_data"
    },
    {
     "data": {
      "text/plain": [
       "'서홍동'"
      ]
     },
     "metadata": {},
     "output_type": "display_data"
    },
    {
     "data": {
      "text/plain": [
       "array([50130580], dtype=int64)"
      ]
     },
     "metadata": {},
     "output_type": "display_data"
    },
    {
     "data": {
      "text/plain": [
       "'성산읍'"
      ]
     },
     "metadata": {},
     "output_type": "display_data"
    },
    {
     "data": {
      "text/plain": [
       "array([50130259], dtype=int64)"
      ]
     },
     "metadata": {},
     "output_type": "display_data"
    },
    {
     "data": {
      "text/plain": [
       "'송산동'"
      ]
     },
     "metadata": {},
     "output_type": "display_data"
    },
    {
     "data": {
      "text/plain": [
       "array([50130510], dtype=int64)"
      ]
     },
     "metadata": {},
     "output_type": "display_data"
    },
    {
     "data": {
      "text/plain": [
       "'아라동'"
      ]
     },
     "metadata": {},
     "output_type": "display_data"
    },
    {
     "data": {
      "text/plain": [
       "array([50110630], dtype=int64)"
      ]
     },
     "metadata": {},
     "output_type": "display_data"
    },
    {
     "data": {
      "text/plain": [
       "'안덕면'"
      ]
     },
     "metadata": {},
     "output_type": "display_data"
    },
    {
     "data": {
      "text/plain": [
       "array([50130310], dtype=int64)"
      ]
     },
     "metadata": {},
     "output_type": "display_data"
    },
    {
     "data": {
      "text/plain": [
       "'애월읍'"
      ]
     },
     "metadata": {},
     "output_type": "display_data"
    },
    {
     "data": {
      "text/plain": [
       "array([50110253], dtype=int64)"
      ]
     },
     "metadata": {},
     "output_type": "display_data"
    },
    {
     "data": {
      "text/plain": [
       "'연동'"
      ]
     },
     "metadata": {},
     "output_type": "display_data"
    },
    {
     "data": {
      "text/plain": [
       "array([50110650], dtype=int64)"
      ]
     },
     "metadata": {},
     "output_type": "display_data"
    },
    {
     "data": {
      "text/plain": [
       "'영천동'"
      ]
     },
     "metadata": {},
     "output_type": "display_data"
    },
    {
     "data": {
      "text/plain": [
       "array([50130560], dtype=int64)"
      ]
     },
     "metadata": {},
     "output_type": "display_data"
    },
    {
     "data": {
      "text/plain": [
       "'예래동'"
      ]
     },
     "metadata": {},
     "output_type": "display_data"
    },
    {
     "data": {
      "text/plain": [
       "array([50130620], dtype=int64)"
      ]
     },
     "metadata": {},
     "output_type": "display_data"
    },
    {
     "data": {
      "text/plain": [
       "'오라동'"
      ]
     },
     "metadata": {},
     "output_type": "display_data"
    },
    {
     "data": {
      "text/plain": [
       "array([50110640], dtype=int64)"
      ]
     },
     "metadata": {},
     "output_type": "display_data"
    },
    {
     "data": {
      "text/plain": [
       "'외도동'"
      ]
     },
     "metadata": {},
     "output_type": "display_data"
    },
    {
     "data": {
      "text/plain": [
       "array([50110670], dtype=int64)"
      ]
     },
     "metadata": {},
     "output_type": "display_data"
    },
    {
     "data": {
      "text/plain": [
       "'용담1동'"
      ]
     },
     "metadata": {},
     "output_type": "display_data"
    },
    {
     "data": {
      "text/plain": [
       "array([50110570], dtype=int64)"
      ]
     },
     "metadata": {},
     "output_type": "display_data"
    },
    {
     "data": {
      "text/plain": [
       "'용담2동'"
      ]
     },
     "metadata": {},
     "output_type": "display_data"
    },
    {
     "data": {
      "text/plain": [
       "array([50110580], dtype=int64)"
      ]
     },
     "metadata": {},
     "output_type": "display_data"
    },
    {
     "data": {
      "text/plain": [
       "'우도면'"
      ]
     },
     "metadata": {},
     "output_type": "display_data"
    },
    {
     "data": {
      "text/plain": [
       "array([50110330], dtype=int64)"
      ]
     },
     "metadata": {},
     "output_type": "display_data"
    },
    {
     "data": {
      "text/plain": [
       "'이도1동'"
      ]
     },
     "metadata": {},
     "output_type": "display_data"
    },
    {
     "data": {
      "text/plain": [
       "array([50110530], dtype=int64)"
      ]
     },
     "metadata": {},
     "output_type": "display_data"
    },
    {
     "data": {
      "text/plain": [
       "'이도2동'"
      ]
     },
     "metadata": {},
     "output_type": "display_data"
    },
    {
     "data": {
      "text/plain": [
       "array([50110540], dtype=int64)"
      ]
     },
     "metadata": {},
     "output_type": "display_data"
    },
    {
     "data": {
      "text/plain": [
       "'이호동'"
      ]
     },
     "metadata": {},
     "output_type": "display_data"
    },
    {
     "data": {
      "text/plain": [
       "array([50110680], dtype=int64)"
      ]
     },
     "metadata": {},
     "output_type": "display_data"
    },
    {
     "data": {
      "text/plain": [
       "'일도1동'"
      ]
     },
     "metadata": {},
     "output_type": "display_data"
    },
    {
     "data": {
      "text/plain": [
       "array([50110510], dtype=int64)"
      ]
     },
     "metadata": {},
     "output_type": "display_data"
    },
    {
     "data": {
      "text/plain": [
       "'일도2동'"
      ]
     },
     "metadata": {},
     "output_type": "display_data"
    },
    {
     "data": {
      "text/plain": [
       "array([50110520], dtype=int64)"
      ]
     },
     "metadata": {},
     "output_type": "display_data"
    },
    {
     "data": {
      "text/plain": [
       "'정방동'"
      ]
     },
     "metadata": {},
     "output_type": "display_data"
    },
    {
     "data": {
      "text/plain": [
       "array([50130520], dtype=int64)"
      ]
     },
     "metadata": {},
     "output_type": "display_data"
    },
    {
     "data": {
      "text/plain": [
       "'조천읍'"
      ]
     },
     "metadata": {},
     "output_type": "display_data"
    },
    {
     "data": {
      "text/plain": [
       "array([50110259], dtype=int64)"
      ]
     },
     "metadata": {},
     "output_type": "display_data"
    },
    {
     "data": {
      "text/plain": [
       "'중문동'"
      ]
     },
     "metadata": {},
     "output_type": "display_data"
    },
    {
     "data": {
      "text/plain": [
       "array([50130610], dtype=int64)"
      ]
     },
     "metadata": {},
     "output_type": "display_data"
    },
    {
     "data": {
      "text/plain": [
       "'중앙동'"
      ]
     },
     "metadata": {},
     "output_type": "display_data"
    },
    {
     "data": {
      "text/plain": [
       "array([50130530], dtype=int64)"
      ]
     },
     "metadata": {},
     "output_type": "display_data"
    },
    {
     "data": {
      "text/plain": [
       "'천지동'"
      ]
     },
     "metadata": {},
     "output_type": "display_data"
    },
    {
     "data": {
      "text/plain": [
       "array([50130540], dtype=int64)"
      ]
     },
     "metadata": {},
     "output_type": "display_data"
    },
    {
     "data": {
      "text/plain": [
       "'추자면'"
      ]
     },
     "metadata": {},
     "output_type": "display_data"
    },
    {
     "data": {
      "text/plain": [
       "array([50110320], dtype=int64)"
      ]
     },
     "metadata": {},
     "output_type": "display_data"
    },
    {
     "data": {
      "text/plain": [
       "'표선면'"
      ]
     },
     "metadata": {},
     "output_type": "display_data"
    },
    {
     "data": {
      "text/plain": [
       "array([50130320], dtype=int64)"
      ]
     },
     "metadata": {},
     "output_type": "display_data"
    },
    {
     "data": {
      "text/plain": [
       "'한경면'"
      ]
     },
     "metadata": {},
     "output_type": "display_data"
    },
    {
     "data": {
      "text/plain": [
       "array([50110310], dtype=int64)"
      ]
     },
     "metadata": {},
     "output_type": "display_data"
    },
    {
     "data": {
      "text/plain": [
       "'한림읍'"
      ]
     },
     "metadata": {},
     "output_type": "display_data"
    },
    {
     "data": {
      "text/plain": [
       "array([50110250], dtype=int64)"
      ]
     },
     "metadata": {},
     "output_type": "display_data"
    },
    {
     "data": {
      "text/plain": [
       "'화북동'"
      ]
     },
     "metadata": {},
     "output_type": "display_data"
    },
    {
     "data": {
      "text/plain": [
       "array([50110600], dtype=int64)"
      ]
     },
     "metadata": {},
     "output_type": "display_data"
    },
    {
     "data": {
      "text/plain": [
       "'효돈동'"
      ]
     },
     "metadata": {},
     "output_type": "display_data"
    },
    {
     "data": {
      "text/plain": [
       "array([50130550], dtype=int64)"
      ]
     },
     "metadata": {},
     "output_type": "display_data"
    }
   ],
   "source": [
    "# 행정동명 하나당 emd_cd는 한개이다.\n",
    "# 'emd_cd' 와 'emd_nm' 은 1:1 관계\n",
    "for i in df_1.emd_nm.unique():\n",
    "    display(i,df_1[df_1.emd_nm == i].emd_cd.unique())"
   ]
  },
  {
   "cell_type": "code",
   "execution_count": 5,
   "metadata": {},
   "outputs": [
    {
     "data": {
      "text/html": [
       "<div>\n",
       "<style scoped>\n",
       "    .dataframe tbody tr th:only-of-type {\n",
       "        vertical-align: middle;\n",
       "    }\n",
       "\n",
       "    .dataframe tbody tr th {\n",
       "        vertical-align: top;\n",
       "    }\n",
       "\n",
       "    .dataframe thead th {\n",
       "        text-align: right;\n",
       "    }\n",
       "</style>\n",
       "<table border=\"1\" class=\"dataframe\">\n",
       "  <thead>\n",
       "    <tr style=\"text-align: right;\">\n",
       "      <th></th>\n",
       "      <th>base_year</th>\n",
       "      <th>base_month</th>\n",
       "      <th>city</th>\n",
       "      <th>location</th>\n",
       "      <th>sex</th>\n",
       "      <th>resid_reg_pop</th>\n",
       "      <th>foreign_pop</th>\n",
       "      <th>total_pop</th>\n",
       "    </tr>\n",
       "  </thead>\n",
       "  <tbody>\n",
       "    <tr>\n",
       "      <th>0</th>\n",
       "      <td>2018</td>\n",
       "      <td>1</td>\n",
       "      <td>제주시</td>\n",
       "      <td>건입동</td>\n",
       "      <td>남성</td>\n",
       "      <td>5085</td>\n",
       "      <td>146</td>\n",
       "      <td>5231</td>\n",
       "    </tr>\n",
       "    <tr>\n",
       "      <th>1</th>\n",
       "      <td>2018</td>\n",
       "      <td>1</td>\n",
       "      <td>제주시</td>\n",
       "      <td>건입동</td>\n",
       "      <td>여성</td>\n",
       "      <td>4715</td>\n",
       "      <td>82</td>\n",
       "      <td>4797</td>\n",
       "    </tr>\n",
       "    <tr>\n",
       "      <th>2</th>\n",
       "      <td>2018</td>\n",
       "      <td>1</td>\n",
       "      <td>제주시</td>\n",
       "      <td>구좌읍</td>\n",
       "      <td>남성</td>\n",
       "      <td>7965</td>\n",
       "      <td>368</td>\n",
       "      <td>8333</td>\n",
       "    </tr>\n",
       "    <tr>\n",
       "      <th>3</th>\n",
       "      <td>2018</td>\n",
       "      <td>1</td>\n",
       "      <td>제주시</td>\n",
       "      <td>구좌읍</td>\n",
       "      <td>여성</td>\n",
       "      <td>7609</td>\n",
       "      <td>184</td>\n",
       "      <td>7793</td>\n",
       "    </tr>\n",
       "    <tr>\n",
       "      <th>4</th>\n",
       "      <td>2018</td>\n",
       "      <td>1</td>\n",
       "      <td>서귀포시</td>\n",
       "      <td>남원읍</td>\n",
       "      <td>남성</td>\n",
       "      <td>9806</td>\n",
       "      <td>428</td>\n",
       "      <td>10234</td>\n",
       "    </tr>\n",
       "  </tbody>\n",
       "</table>\n",
       "</div>"
      ],
      "text/plain": [
       "   base_year  base_month  city location sex  resid_reg_pop  foreign_pop  \\\n",
       "0       2018           1   제주시      건입동  남성           5085          146   \n",
       "1       2018           1   제주시      건입동  여성           4715           82   \n",
       "2       2018           1   제주시      구좌읍  남성           7965          368   \n",
       "3       2018           1   제주시      구좌읍  여성           7609          184   \n",
       "4       2018           1  서귀포시      남원읍  남성           9806          428   \n",
       "\n",
       "   total_pop  \n",
       "0       5231  \n",
       "1       4797  \n",
       "2       8333  \n",
       "3       7793  \n",
       "4      10234  "
      ]
     },
     "execution_count": 5,
     "metadata": {},
     "output_type": "execute_result"
    }
   ],
   "source": [
    "## column 이름 변경, 행정동 코드 제거\n",
    "df_1 = df_1.drop('emd_cd', axis = 1)\n",
    "df_1 = df_1.rename(columns={'emd_nm':'location'})\n",
    "df_1.head()"
   ]
  },
  {
   "cell_type": "code",
   "execution_count": 6,
   "metadata": {},
   "outputs": [
    {
     "data": {
      "text/html": [
       "<div>\n",
       "<style scoped>\n",
       "    .dataframe tbody tr th:only-of-type {\n",
       "        vertical-align: middle;\n",
       "    }\n",
       "\n",
       "    .dataframe tbody tr th {\n",
       "        vertical-align: top;\n",
       "    }\n",
       "\n",
       "    .dataframe thead th {\n",
       "        text-align: right;\n",
       "    }\n",
       "</style>\n",
       "<table border=\"1\" class=\"dataframe\">\n",
       "  <thead>\n",
       "    <tr style=\"text-align: right;\">\n",
       "      <th></th>\n",
       "      <th>base_year</th>\n",
       "      <th>base_month</th>\n",
       "      <th>city</th>\n",
       "      <th>location</th>\n",
       "      <th>sex</th>\n",
       "      <th>resid_reg_pop</th>\n",
       "      <th>foreign_pop</th>\n",
       "      <th>total_pop</th>\n",
       "      <th>y_m</th>\n",
       "    </tr>\n",
       "  </thead>\n",
       "  <tbody>\n",
       "    <tr>\n",
       "      <th>0</th>\n",
       "      <td>2018</td>\n",
       "      <td>01</td>\n",
       "      <td>제주시</td>\n",
       "      <td>건입동</td>\n",
       "      <td>남성</td>\n",
       "      <td>5085</td>\n",
       "      <td>146</td>\n",
       "      <td>5231</td>\n",
       "      <td>2018-01</td>\n",
       "    </tr>\n",
       "    <tr>\n",
       "      <th>1</th>\n",
       "      <td>2018</td>\n",
       "      <td>01</td>\n",
       "      <td>제주시</td>\n",
       "      <td>건입동</td>\n",
       "      <td>여성</td>\n",
       "      <td>4715</td>\n",
       "      <td>82</td>\n",
       "      <td>4797</td>\n",
       "      <td>2018-01</td>\n",
       "    </tr>\n",
       "    <tr>\n",
       "      <th>2</th>\n",
       "      <td>2018</td>\n",
       "      <td>01</td>\n",
       "      <td>제주시</td>\n",
       "      <td>구좌읍</td>\n",
       "      <td>남성</td>\n",
       "      <td>7965</td>\n",
       "      <td>368</td>\n",
       "      <td>8333</td>\n",
       "      <td>2018-01</td>\n",
       "    </tr>\n",
       "    <tr>\n",
       "      <th>3</th>\n",
       "      <td>2018</td>\n",
       "      <td>01</td>\n",
       "      <td>제주시</td>\n",
       "      <td>구좌읍</td>\n",
       "      <td>여성</td>\n",
       "      <td>7609</td>\n",
       "      <td>184</td>\n",
       "      <td>7793</td>\n",
       "      <td>2018-01</td>\n",
       "    </tr>\n",
       "    <tr>\n",
       "      <th>4</th>\n",
       "      <td>2018</td>\n",
       "      <td>01</td>\n",
       "      <td>서귀포시</td>\n",
       "      <td>남원읍</td>\n",
       "      <td>남성</td>\n",
       "      <td>9806</td>\n",
       "      <td>428</td>\n",
       "      <td>10234</td>\n",
       "      <td>2018-01</td>\n",
       "    </tr>\n",
       "  </tbody>\n",
       "</table>\n",
       "</div>"
      ],
      "text/plain": [
       "   base_year base_month  city location sex  resid_reg_pop  foreign_pop  \\\n",
       "0       2018         01   제주시      건입동  남성           5085          146   \n",
       "1       2018         01   제주시      건입동  여성           4715           82   \n",
       "2       2018         01   제주시      구좌읍  남성           7965          368   \n",
       "3       2018         01   제주시      구좌읍  여성           7609          184   \n",
       "4       2018         01  서귀포시      남원읍  남성           9806          428   \n",
       "\n",
       "   total_pop      y_m  \n",
       "0       5231  2018-01  \n",
       "1       4797  2018-01  \n",
       "2       8333  2018-01  \n",
       "3       7793  2018-01  \n",
       "4      10234  2018-01  "
      ]
     },
     "execution_count": 6,
     "metadata": {},
     "output_type": "execute_result"
    }
   ],
   "source": [
    "# month 변수 만들기 (ex. 01,02 ..)\n",
    "df_1['base_month'] = df_1['base_month'].apply(lambda x: \"{:0>2d}\".format(x))\n",
    "\n",
    "\n",
    "# 년-월 형태로 만들기\n",
    "df_1['y_m'] = df_1[['base_year','base_month']].apply(lambda x: '-'.join(x.astype(str)), axis=1)\n",
    "\n",
    "df_1.head()"
   ]
  },
  {
   "cell_type": "code",
   "execution_count": 7,
   "metadata": {},
   "outputs": [
    {
     "data": {
      "text/html": [
       "<div>\n",
       "<style scoped>\n",
       "    .dataframe tbody tr th:only-of-type {\n",
       "        vertical-align: middle;\n",
       "    }\n",
       "\n",
       "    .dataframe tbody tr th {\n",
       "        vertical-align: top;\n",
       "    }\n",
       "\n",
       "    .dataframe thead th {\n",
       "        text-align: right;\n",
       "    }\n",
       "</style>\n",
       "<table border=\"1\" class=\"dataframe\">\n",
       "  <thead>\n",
       "    <tr style=\"text-align: right;\">\n",
       "      <th></th>\n",
       "      <th>city</th>\n",
       "      <th>location</th>\n",
       "      <th>sex</th>\n",
       "      <th>resid_reg_pop</th>\n",
       "      <th>foreign_pop</th>\n",
       "      <th>total_pop</th>\n",
       "      <th>y_m</th>\n",
       "    </tr>\n",
       "  </thead>\n",
       "  <tbody>\n",
       "    <tr>\n",
       "      <th>0</th>\n",
       "      <td>제주시</td>\n",
       "      <td>건입동</td>\n",
       "      <td>남성</td>\n",
       "      <td>5085</td>\n",
       "      <td>146</td>\n",
       "      <td>5231</td>\n",
       "      <td>2018-01</td>\n",
       "    </tr>\n",
       "    <tr>\n",
       "      <th>1</th>\n",
       "      <td>제주시</td>\n",
       "      <td>건입동</td>\n",
       "      <td>여성</td>\n",
       "      <td>4715</td>\n",
       "      <td>82</td>\n",
       "      <td>4797</td>\n",
       "      <td>2018-01</td>\n",
       "    </tr>\n",
       "    <tr>\n",
       "      <th>2</th>\n",
       "      <td>제주시</td>\n",
       "      <td>구좌읍</td>\n",
       "      <td>남성</td>\n",
       "      <td>7965</td>\n",
       "      <td>368</td>\n",
       "      <td>8333</td>\n",
       "      <td>2018-01</td>\n",
       "    </tr>\n",
       "    <tr>\n",
       "      <th>3</th>\n",
       "      <td>제주시</td>\n",
       "      <td>구좌읍</td>\n",
       "      <td>여성</td>\n",
       "      <td>7609</td>\n",
       "      <td>184</td>\n",
       "      <td>7793</td>\n",
       "      <td>2018-01</td>\n",
       "    </tr>\n",
       "    <tr>\n",
       "      <th>4</th>\n",
       "      <td>서귀포시</td>\n",
       "      <td>남원읍</td>\n",
       "      <td>남성</td>\n",
       "      <td>9806</td>\n",
       "      <td>428</td>\n",
       "      <td>10234</td>\n",
       "      <td>2018-01</td>\n",
       "    </tr>\n",
       "  </tbody>\n",
       "</table>\n",
       "</div>"
      ],
      "text/plain": [
       "   city location sex  resid_reg_pop  foreign_pop  total_pop      y_m\n",
       "0   제주시      건입동  남성           5085          146       5231  2018-01\n",
       "1   제주시      건입동  여성           4715           82       4797  2018-01\n",
       "2   제주시      구좌읍  남성           7965          368       8333  2018-01\n",
       "3   제주시      구좌읍  여성           7609          184       7793  2018-01\n",
       "4  서귀포시      남원읍  남성           9806          428      10234  2018-01"
      ]
     },
     "execution_count": 7,
     "metadata": {},
     "output_type": "execute_result"
    }
   ],
   "source": [
    "#필요 없는 열 제거\n",
    "df_1 = df_1.drop({'base_year',\"base_month\"},axis=1)\n",
    "df_1.head()"
   ]
  },
  {
   "cell_type": "code",
   "execution_count": 8,
   "metadata": {},
   "outputs": [],
   "source": [
    "# 제주시 데이터만 추출\n",
    "df_1 = df_1.loc[df_1[\"city\"]== \"제주시\"]"
   ]
  },
  {
   "cell_type": "markdown",
   "metadata": {},
   "source": [
    "### 남성 거주자 데이터 변수 생성"
   ]
  },
  {
   "cell_type": "code",
   "execution_count": 9,
   "metadata": {},
   "outputs": [
    {
     "data": {
      "text/html": [
       "<div>\n",
       "<style scoped>\n",
       "    .dataframe tbody tr th:only-of-type {\n",
       "        vertical-align: middle;\n",
       "    }\n",
       "\n",
       "    .dataframe tbody tr th {\n",
       "        vertical-align: top;\n",
       "    }\n",
       "\n",
       "    .dataframe thead th {\n",
       "        text-align: right;\n",
       "    }\n",
       "</style>\n",
       "<table border=\"1\" class=\"dataframe\">\n",
       "  <thead>\n",
       "    <tr style=\"text-align: right;\">\n",
       "      <th></th>\n",
       "      <th>city</th>\n",
       "      <th>location</th>\n",
       "      <th>sex</th>\n",
       "      <th>resid_reg_pop</th>\n",
       "      <th>foreign_pop</th>\n",
       "      <th>total_pop</th>\n",
       "      <th>y_m</th>\n",
       "    </tr>\n",
       "  </thead>\n",
       "  <tbody>\n",
       "    <tr>\n",
       "      <th>0</th>\n",
       "      <td>제주시</td>\n",
       "      <td>건입동</td>\n",
       "      <td>남성</td>\n",
       "      <td>5085</td>\n",
       "      <td>146</td>\n",
       "      <td>5231</td>\n",
       "      <td>2018-01</td>\n",
       "    </tr>\n",
       "    <tr>\n",
       "      <th>2</th>\n",
       "      <td>제주시</td>\n",
       "      <td>구좌읍</td>\n",
       "      <td>남성</td>\n",
       "      <td>7965</td>\n",
       "      <td>368</td>\n",
       "      <td>8333</td>\n",
       "      <td>2018-01</td>\n",
       "    </tr>\n",
       "    <tr>\n",
       "      <th>6</th>\n",
       "      <td>제주시</td>\n",
       "      <td>노형동</td>\n",
       "      <td>남성</td>\n",
       "      <td>26286</td>\n",
       "      <td>821</td>\n",
       "      <td>27107</td>\n",
       "      <td>2018-01</td>\n",
       "    </tr>\n",
       "    <tr>\n",
       "      <th>14</th>\n",
       "      <td>제주시</td>\n",
       "      <td>도두동</td>\n",
       "      <td>남성</td>\n",
       "      <td>1602</td>\n",
       "      <td>43</td>\n",
       "      <td>1645</td>\n",
       "      <td>2018-01</td>\n",
       "    </tr>\n",
       "    <tr>\n",
       "      <th>18</th>\n",
       "      <td>제주시</td>\n",
       "      <td>봉개동</td>\n",
       "      <td>남성</td>\n",
       "      <td>2089</td>\n",
       "      <td>37</td>\n",
       "      <td>2126</td>\n",
       "      <td>2018-01</td>\n",
       "    </tr>\n",
       "    <tr>\n",
       "      <th>...</th>\n",
       "      <td>...</td>\n",
       "      <td>...</td>\n",
       "      <td>...</td>\n",
       "      <td>...</td>\n",
       "      <td>...</td>\n",
       "      <td>...</td>\n",
       "      <td>...</td>\n",
       "    </tr>\n",
       "    <tr>\n",
       "      <th>3592</th>\n",
       "      <td>제주시</td>\n",
       "      <td>조천읍</td>\n",
       "      <td>남성</td>\n",
       "      <td>13017</td>\n",
       "      <td>279</td>\n",
       "      <td>13296</td>\n",
       "      <td>2021-06</td>\n",
       "    </tr>\n",
       "    <tr>\n",
       "      <th>3600</th>\n",
       "      <td>제주시</td>\n",
       "      <td>추자면</td>\n",
       "      <td>남성</td>\n",
       "      <td>874</td>\n",
       "      <td>240</td>\n",
       "      <td>1114</td>\n",
       "      <td>2021-06</td>\n",
       "    </tr>\n",
       "    <tr>\n",
       "      <th>3604</th>\n",
       "      <td>제주시</td>\n",
       "      <td>한경면</td>\n",
       "      <td>남성</td>\n",
       "      <td>4627</td>\n",
       "      <td>237</td>\n",
       "      <td>4864</td>\n",
       "      <td>2021-06</td>\n",
       "    </tr>\n",
       "    <tr>\n",
       "      <th>3606</th>\n",
       "      <td>제주시</td>\n",
       "      <td>한림읍</td>\n",
       "      <td>남성</td>\n",
       "      <td>10891</td>\n",
       "      <td>2090</td>\n",
       "      <td>12981</td>\n",
       "      <td>2021-06</td>\n",
       "    </tr>\n",
       "    <tr>\n",
       "      <th>3608</th>\n",
       "      <td>제주시</td>\n",
       "      <td>화북동</td>\n",
       "      <td>남성</td>\n",
       "      <td>12062</td>\n",
       "      <td>169</td>\n",
       "      <td>12231</td>\n",
       "      <td>2021-06</td>\n",
       "    </tr>\n",
       "  </tbody>\n",
       "</table>\n",
       "<p>1092 rows × 7 columns</p>\n",
       "</div>"
      ],
      "text/plain": [
       "     city location sex  resid_reg_pop  foreign_pop  total_pop      y_m\n",
       "0     제주시      건입동  남성           5085          146       5231  2018-01\n",
       "2     제주시      구좌읍  남성           7965          368       8333  2018-01\n",
       "6     제주시      노형동  남성          26286          821      27107  2018-01\n",
       "14    제주시      도두동  남성           1602           43       1645  2018-01\n",
       "18    제주시      봉개동  남성           2089           37       2126  2018-01\n",
       "...   ...      ...  ..            ...          ...        ...      ...\n",
       "3592  제주시      조천읍  남성          13017          279      13296  2021-06\n",
       "3600  제주시      추자면  남성            874          240       1114  2021-06\n",
       "3604  제주시      한경면  남성           4627          237       4864  2021-06\n",
       "3606  제주시      한림읍  남성          10891         2090      12981  2021-06\n",
       "3608  제주시      화북동  남성          12062          169      12231  2021-06\n",
       "\n",
       "[1092 rows x 7 columns]"
      ]
     },
     "execution_count": 9,
     "metadata": {},
     "output_type": "execute_result"
    }
   ],
   "source": [
    "#남성 거주자 데이터 생성\n",
    "temp = df_1[df_1.sex == \"남성\"]\n",
    "temp"
   ]
  },
  {
   "cell_type": "code",
   "execution_count": 10,
   "metadata": {},
   "outputs": [
    {
     "data": {
      "text/html": [
       "<div>\n",
       "<style scoped>\n",
       "    .dataframe tbody tr th:only-of-type {\n",
       "        vertical-align: middle;\n",
       "    }\n",
       "\n",
       "    .dataframe tbody tr th {\n",
       "        vertical-align: top;\n",
       "    }\n",
       "\n",
       "    .dataframe thead th {\n",
       "        text-align: right;\n",
       "    }\n",
       "</style>\n",
       "<table border=\"1\" class=\"dataframe\">\n",
       "  <thead>\n",
       "    <tr style=\"text-align: right;\">\n",
       "      <th></th>\n",
       "      <th>city</th>\n",
       "      <th>location</th>\n",
       "      <th>resid_reg_pop_남</th>\n",
       "      <th>foreign_pop_남</th>\n",
       "      <th>total_pop_남</th>\n",
       "      <th>y_m</th>\n",
       "    </tr>\n",
       "  </thead>\n",
       "  <tbody>\n",
       "    <tr>\n",
       "      <th>0</th>\n",
       "      <td>제주시</td>\n",
       "      <td>건입동</td>\n",
       "      <td>5085</td>\n",
       "      <td>146</td>\n",
       "      <td>5231</td>\n",
       "      <td>2018-01</td>\n",
       "    </tr>\n",
       "    <tr>\n",
       "      <th>2</th>\n",
       "      <td>제주시</td>\n",
       "      <td>구좌읍</td>\n",
       "      <td>7965</td>\n",
       "      <td>368</td>\n",
       "      <td>8333</td>\n",
       "      <td>2018-01</td>\n",
       "    </tr>\n",
       "    <tr>\n",
       "      <th>6</th>\n",
       "      <td>제주시</td>\n",
       "      <td>노형동</td>\n",
       "      <td>26286</td>\n",
       "      <td>821</td>\n",
       "      <td>27107</td>\n",
       "      <td>2018-01</td>\n",
       "    </tr>\n",
       "    <tr>\n",
       "      <th>14</th>\n",
       "      <td>제주시</td>\n",
       "      <td>도두동</td>\n",
       "      <td>1602</td>\n",
       "      <td>43</td>\n",
       "      <td>1645</td>\n",
       "      <td>2018-01</td>\n",
       "    </tr>\n",
       "    <tr>\n",
       "      <th>18</th>\n",
       "      <td>제주시</td>\n",
       "      <td>봉개동</td>\n",
       "      <td>2089</td>\n",
       "      <td>37</td>\n",
       "      <td>2126</td>\n",
       "      <td>2018-01</td>\n",
       "    </tr>\n",
       "    <tr>\n",
       "      <th>...</th>\n",
       "      <td>...</td>\n",
       "      <td>...</td>\n",
       "      <td>...</td>\n",
       "      <td>...</td>\n",
       "      <td>...</td>\n",
       "      <td>...</td>\n",
       "    </tr>\n",
       "    <tr>\n",
       "      <th>3592</th>\n",
       "      <td>제주시</td>\n",
       "      <td>조천읍</td>\n",
       "      <td>13017</td>\n",
       "      <td>279</td>\n",
       "      <td>13296</td>\n",
       "      <td>2021-06</td>\n",
       "    </tr>\n",
       "    <tr>\n",
       "      <th>3600</th>\n",
       "      <td>제주시</td>\n",
       "      <td>추자면</td>\n",
       "      <td>874</td>\n",
       "      <td>240</td>\n",
       "      <td>1114</td>\n",
       "      <td>2021-06</td>\n",
       "    </tr>\n",
       "    <tr>\n",
       "      <th>3604</th>\n",
       "      <td>제주시</td>\n",
       "      <td>한경면</td>\n",
       "      <td>4627</td>\n",
       "      <td>237</td>\n",
       "      <td>4864</td>\n",
       "      <td>2021-06</td>\n",
       "    </tr>\n",
       "    <tr>\n",
       "      <th>3606</th>\n",
       "      <td>제주시</td>\n",
       "      <td>한림읍</td>\n",
       "      <td>10891</td>\n",
       "      <td>2090</td>\n",
       "      <td>12981</td>\n",
       "      <td>2021-06</td>\n",
       "    </tr>\n",
       "    <tr>\n",
       "      <th>3608</th>\n",
       "      <td>제주시</td>\n",
       "      <td>화북동</td>\n",
       "      <td>12062</td>\n",
       "      <td>169</td>\n",
       "      <td>12231</td>\n",
       "      <td>2021-06</td>\n",
       "    </tr>\n",
       "  </tbody>\n",
       "</table>\n",
       "<p>1092 rows × 6 columns</p>\n",
       "</div>"
      ],
      "text/plain": [
       "     city location  resid_reg_pop_남  foreign_pop_남  total_pop_남      y_m\n",
       "0     제주시      건입동             5085            146         5231  2018-01\n",
       "2     제주시      구좌읍             7965            368         8333  2018-01\n",
       "6     제주시      노형동            26286            821        27107  2018-01\n",
       "14    제주시      도두동             1602             43         1645  2018-01\n",
       "18    제주시      봉개동             2089             37         2126  2018-01\n",
       "...   ...      ...              ...            ...          ...      ...\n",
       "3592  제주시      조천읍            13017            279        13296  2021-06\n",
       "3600  제주시      추자면              874            240         1114  2021-06\n",
       "3604  제주시      한경면             4627            237         4864  2021-06\n",
       "3606  제주시      한림읍            10891           2090        12981  2021-06\n",
       "3608  제주시      화북동            12062            169        12231  2021-06\n",
       "\n",
       "[1092 rows x 6 columns]"
      ]
     },
     "execution_count": 10,
     "metadata": {},
     "output_type": "execute_result"
    }
   ],
   "source": [
    "# 열 이름 정의\n",
    "temp.rename(columns={\"resid_reg_pop\" : \"resid_reg_pop_남\",\"foreign_pop\" : \"foreign_pop_남\",\"total_pop\" : \"total_pop_남\"}, inplace=True)\n",
    "temp = temp.drop(\"sex\",axis = 1)\n",
    "temp"
   ]
  },
  {
   "cell_type": "markdown",
   "metadata": {},
   "source": [
    "### 여성 거주자 데이터 변수 생성"
   ]
  },
  {
   "cell_type": "code",
   "execution_count": 11,
   "metadata": {},
   "outputs": [
    {
     "data": {
      "text/html": [
       "<div>\n",
       "<style scoped>\n",
       "    .dataframe tbody tr th:only-of-type {\n",
       "        vertical-align: middle;\n",
       "    }\n",
       "\n",
       "    .dataframe tbody tr th {\n",
       "        vertical-align: top;\n",
       "    }\n",
       "\n",
       "    .dataframe thead th {\n",
       "        text-align: right;\n",
       "    }\n",
       "</style>\n",
       "<table border=\"1\" class=\"dataframe\">\n",
       "  <thead>\n",
       "    <tr style=\"text-align: right;\">\n",
       "      <th></th>\n",
       "      <th>city</th>\n",
       "      <th>location</th>\n",
       "      <th>sex</th>\n",
       "      <th>resid_reg_pop</th>\n",
       "      <th>foreign_pop</th>\n",
       "      <th>total_pop</th>\n",
       "      <th>y_m</th>\n",
       "    </tr>\n",
       "  </thead>\n",
       "  <tbody>\n",
       "    <tr>\n",
       "      <th>1</th>\n",
       "      <td>제주시</td>\n",
       "      <td>건입동</td>\n",
       "      <td>여성</td>\n",
       "      <td>4715</td>\n",
       "      <td>82</td>\n",
       "      <td>4797</td>\n",
       "      <td>2018-01</td>\n",
       "    </tr>\n",
       "    <tr>\n",
       "      <th>3</th>\n",
       "      <td>제주시</td>\n",
       "      <td>구좌읍</td>\n",
       "      <td>여성</td>\n",
       "      <td>7609</td>\n",
       "      <td>184</td>\n",
       "      <td>7793</td>\n",
       "      <td>2018-01</td>\n",
       "    </tr>\n",
       "    <tr>\n",
       "      <th>7</th>\n",
       "      <td>제주시</td>\n",
       "      <td>노형동</td>\n",
       "      <td>여성</td>\n",
       "      <td>27083</td>\n",
       "      <td>768</td>\n",
       "      <td>27851</td>\n",
       "      <td>2018-01</td>\n",
       "    </tr>\n",
       "    <tr>\n",
       "      <th>15</th>\n",
       "      <td>제주시</td>\n",
       "      <td>도두동</td>\n",
       "      <td>여성</td>\n",
       "      <td>1424</td>\n",
       "      <td>55</td>\n",
       "      <td>1479</td>\n",
       "      <td>2018-01</td>\n",
       "    </tr>\n",
       "    <tr>\n",
       "      <th>19</th>\n",
       "      <td>제주시</td>\n",
       "      <td>봉개동</td>\n",
       "      <td>여성</td>\n",
       "      <td>1838</td>\n",
       "      <td>39</td>\n",
       "      <td>1877</td>\n",
       "      <td>2018-01</td>\n",
       "    </tr>\n",
       "    <tr>\n",
       "      <th>...</th>\n",
       "      <td>...</td>\n",
       "      <td>...</td>\n",
       "      <td>...</td>\n",
       "      <td>...</td>\n",
       "      <td>...</td>\n",
       "      <td>...</td>\n",
       "      <td>...</td>\n",
       "    </tr>\n",
       "    <tr>\n",
       "      <th>3593</th>\n",
       "      <td>제주시</td>\n",
       "      <td>조천읍</td>\n",
       "      <td>여성</td>\n",
       "      <td>12422</td>\n",
       "      <td>242</td>\n",
       "      <td>12664</td>\n",
       "      <td>2021-06</td>\n",
       "    </tr>\n",
       "    <tr>\n",
       "      <th>3601</th>\n",
       "      <td>제주시</td>\n",
       "      <td>추자면</td>\n",
       "      <td>여성</td>\n",
       "      <td>752</td>\n",
       "      <td>11</td>\n",
       "      <td>763</td>\n",
       "      <td>2021-06</td>\n",
       "    </tr>\n",
       "    <tr>\n",
       "      <th>3605</th>\n",
       "      <td>제주시</td>\n",
       "      <td>한경면</td>\n",
       "      <td>여성</td>\n",
       "      <td>4531</td>\n",
       "      <td>100</td>\n",
       "      <td>4631</td>\n",
       "      <td>2021-06</td>\n",
       "    </tr>\n",
       "    <tr>\n",
       "      <th>3607</th>\n",
       "      <td>제주시</td>\n",
       "      <td>한림읍</td>\n",
       "      <td>여성</td>\n",
       "      <td>10341</td>\n",
       "      <td>1140</td>\n",
       "      <td>11481</td>\n",
       "      <td>2021-06</td>\n",
       "    </tr>\n",
       "    <tr>\n",
       "      <th>3609</th>\n",
       "      <td>제주시</td>\n",
       "      <td>화북동</td>\n",
       "      <td>여성</td>\n",
       "      <td>12238</td>\n",
       "      <td>161</td>\n",
       "      <td>12399</td>\n",
       "      <td>2021-06</td>\n",
       "    </tr>\n",
       "  </tbody>\n",
       "</table>\n",
       "<p>1092 rows × 7 columns</p>\n",
       "</div>"
      ],
      "text/plain": [
       "     city location sex  resid_reg_pop  foreign_pop  total_pop      y_m\n",
       "1     제주시      건입동  여성           4715           82       4797  2018-01\n",
       "3     제주시      구좌읍  여성           7609          184       7793  2018-01\n",
       "7     제주시      노형동  여성          27083          768      27851  2018-01\n",
       "15    제주시      도두동  여성           1424           55       1479  2018-01\n",
       "19    제주시      봉개동  여성           1838           39       1877  2018-01\n",
       "...   ...      ...  ..            ...          ...        ...      ...\n",
       "3593  제주시      조천읍  여성          12422          242      12664  2021-06\n",
       "3601  제주시      추자면  여성            752           11        763  2021-06\n",
       "3605  제주시      한경면  여성           4531          100       4631  2021-06\n",
       "3607  제주시      한림읍  여성          10341         1140      11481  2021-06\n",
       "3609  제주시      화북동  여성          12238          161      12399  2021-06\n",
       "\n",
       "[1092 rows x 7 columns]"
      ]
     },
     "execution_count": 11,
     "metadata": {},
     "output_type": "execute_result"
    }
   ],
   "source": [
    "#여성 거주자 데이터 변수 생성\n",
    "temp2 = df_1[df_1.sex == \"여성\"]\n",
    "temp2"
   ]
  },
  {
   "cell_type": "code",
   "execution_count": 12,
   "metadata": {},
   "outputs": [
    {
     "data": {
      "text/html": [
       "<div>\n",
       "<style scoped>\n",
       "    .dataframe tbody tr th:only-of-type {\n",
       "        vertical-align: middle;\n",
       "    }\n",
       "\n",
       "    .dataframe tbody tr th {\n",
       "        vertical-align: top;\n",
       "    }\n",
       "\n",
       "    .dataframe thead th {\n",
       "        text-align: right;\n",
       "    }\n",
       "</style>\n",
       "<table border=\"1\" class=\"dataframe\">\n",
       "  <thead>\n",
       "    <tr style=\"text-align: right;\">\n",
       "      <th></th>\n",
       "      <th>city</th>\n",
       "      <th>location</th>\n",
       "      <th>resid_reg_pop_여</th>\n",
       "      <th>foreign_pop_여</th>\n",
       "      <th>total_pop_여</th>\n",
       "      <th>y_m</th>\n",
       "    </tr>\n",
       "  </thead>\n",
       "  <tbody>\n",
       "    <tr>\n",
       "      <th>1</th>\n",
       "      <td>제주시</td>\n",
       "      <td>건입동</td>\n",
       "      <td>4715</td>\n",
       "      <td>82</td>\n",
       "      <td>4797</td>\n",
       "      <td>2018-01</td>\n",
       "    </tr>\n",
       "    <tr>\n",
       "      <th>3</th>\n",
       "      <td>제주시</td>\n",
       "      <td>구좌읍</td>\n",
       "      <td>7609</td>\n",
       "      <td>184</td>\n",
       "      <td>7793</td>\n",
       "      <td>2018-01</td>\n",
       "    </tr>\n",
       "    <tr>\n",
       "      <th>7</th>\n",
       "      <td>제주시</td>\n",
       "      <td>노형동</td>\n",
       "      <td>27083</td>\n",
       "      <td>768</td>\n",
       "      <td>27851</td>\n",
       "      <td>2018-01</td>\n",
       "    </tr>\n",
       "    <tr>\n",
       "      <th>15</th>\n",
       "      <td>제주시</td>\n",
       "      <td>도두동</td>\n",
       "      <td>1424</td>\n",
       "      <td>55</td>\n",
       "      <td>1479</td>\n",
       "      <td>2018-01</td>\n",
       "    </tr>\n",
       "    <tr>\n",
       "      <th>19</th>\n",
       "      <td>제주시</td>\n",
       "      <td>봉개동</td>\n",
       "      <td>1838</td>\n",
       "      <td>39</td>\n",
       "      <td>1877</td>\n",
       "      <td>2018-01</td>\n",
       "    </tr>\n",
       "    <tr>\n",
       "      <th>...</th>\n",
       "      <td>...</td>\n",
       "      <td>...</td>\n",
       "      <td>...</td>\n",
       "      <td>...</td>\n",
       "      <td>...</td>\n",
       "      <td>...</td>\n",
       "    </tr>\n",
       "    <tr>\n",
       "      <th>3593</th>\n",
       "      <td>제주시</td>\n",
       "      <td>조천읍</td>\n",
       "      <td>12422</td>\n",
       "      <td>242</td>\n",
       "      <td>12664</td>\n",
       "      <td>2021-06</td>\n",
       "    </tr>\n",
       "    <tr>\n",
       "      <th>3601</th>\n",
       "      <td>제주시</td>\n",
       "      <td>추자면</td>\n",
       "      <td>752</td>\n",
       "      <td>11</td>\n",
       "      <td>763</td>\n",
       "      <td>2021-06</td>\n",
       "    </tr>\n",
       "    <tr>\n",
       "      <th>3605</th>\n",
       "      <td>제주시</td>\n",
       "      <td>한경면</td>\n",
       "      <td>4531</td>\n",
       "      <td>100</td>\n",
       "      <td>4631</td>\n",
       "      <td>2021-06</td>\n",
       "    </tr>\n",
       "    <tr>\n",
       "      <th>3607</th>\n",
       "      <td>제주시</td>\n",
       "      <td>한림읍</td>\n",
       "      <td>10341</td>\n",
       "      <td>1140</td>\n",
       "      <td>11481</td>\n",
       "      <td>2021-06</td>\n",
       "    </tr>\n",
       "    <tr>\n",
       "      <th>3609</th>\n",
       "      <td>제주시</td>\n",
       "      <td>화북동</td>\n",
       "      <td>12238</td>\n",
       "      <td>161</td>\n",
       "      <td>12399</td>\n",
       "      <td>2021-06</td>\n",
       "    </tr>\n",
       "  </tbody>\n",
       "</table>\n",
       "<p>1092 rows × 6 columns</p>\n",
       "</div>"
      ],
      "text/plain": [
       "     city location  resid_reg_pop_여  foreign_pop_여  total_pop_여      y_m\n",
       "1     제주시      건입동             4715             82         4797  2018-01\n",
       "3     제주시      구좌읍             7609            184         7793  2018-01\n",
       "7     제주시      노형동            27083            768        27851  2018-01\n",
       "15    제주시      도두동             1424             55         1479  2018-01\n",
       "19    제주시      봉개동             1838             39         1877  2018-01\n",
       "...   ...      ...              ...            ...          ...      ...\n",
       "3593  제주시      조천읍            12422            242        12664  2021-06\n",
       "3601  제주시      추자면              752             11          763  2021-06\n",
       "3605  제주시      한경면             4531            100         4631  2021-06\n",
       "3607  제주시      한림읍            10341           1140        11481  2021-06\n",
       "3609  제주시      화북동            12238            161        12399  2021-06\n",
       "\n",
       "[1092 rows x 6 columns]"
      ]
     },
     "execution_count": 12,
     "metadata": {},
     "output_type": "execute_result"
    }
   ],
   "source": [
    "# 열이름 정의\n",
    "temp2.rename(columns={\"resid_reg_pop\" : \"resid_reg_pop_여\",\"foreign_pop\" : \"foreign_pop_여\",\"total_pop\":\"total_pop_여\"}, inplace=True)\n",
    "temp2 = temp2.drop(\"sex\",axis = 1)\n",
    "temp2"
   ]
  },
  {
   "cell_type": "code",
   "execution_count": 13,
   "metadata": {},
   "outputs": [
    {
     "data": {
      "text/html": [
       "<div>\n",
       "<style scoped>\n",
       "    .dataframe tbody tr th:only-of-type {\n",
       "        vertical-align: middle;\n",
       "    }\n",
       "\n",
       "    .dataframe tbody tr th {\n",
       "        vertical-align: top;\n",
       "    }\n",
       "\n",
       "    .dataframe thead th {\n",
       "        text-align: right;\n",
       "    }\n",
       "</style>\n",
       "<table border=\"1\" class=\"dataframe\">\n",
       "  <thead>\n",
       "    <tr style=\"text-align: right;\">\n",
       "      <th></th>\n",
       "      <th>city</th>\n",
       "      <th>location</th>\n",
       "      <th>resid_reg_pop_남</th>\n",
       "      <th>foreign_pop_남</th>\n",
       "      <th>total_pop_남</th>\n",
       "      <th>y_m</th>\n",
       "      <th>resid_reg_pop_여</th>\n",
       "      <th>foreign_pop_여</th>\n",
       "      <th>total_pop_여</th>\n",
       "    </tr>\n",
       "  </thead>\n",
       "  <tbody>\n",
       "    <tr>\n",
       "      <th>0</th>\n",
       "      <td>제주시</td>\n",
       "      <td>건입동</td>\n",
       "      <td>5085</td>\n",
       "      <td>146</td>\n",
       "      <td>5231</td>\n",
       "      <td>2018-01</td>\n",
       "      <td>4715</td>\n",
       "      <td>82</td>\n",
       "      <td>4797</td>\n",
       "    </tr>\n",
       "    <tr>\n",
       "      <th>1</th>\n",
       "      <td>제주시</td>\n",
       "      <td>구좌읍</td>\n",
       "      <td>7965</td>\n",
       "      <td>368</td>\n",
       "      <td>8333</td>\n",
       "      <td>2018-01</td>\n",
       "      <td>7609</td>\n",
       "      <td>184</td>\n",
       "      <td>7793</td>\n",
       "    </tr>\n",
       "    <tr>\n",
       "      <th>2</th>\n",
       "      <td>제주시</td>\n",
       "      <td>노형동</td>\n",
       "      <td>26286</td>\n",
       "      <td>821</td>\n",
       "      <td>27107</td>\n",
       "      <td>2018-01</td>\n",
       "      <td>27083</td>\n",
       "      <td>768</td>\n",
       "      <td>27851</td>\n",
       "    </tr>\n",
       "    <tr>\n",
       "      <th>3</th>\n",
       "      <td>제주시</td>\n",
       "      <td>도두동</td>\n",
       "      <td>1602</td>\n",
       "      <td>43</td>\n",
       "      <td>1645</td>\n",
       "      <td>2018-01</td>\n",
       "      <td>1424</td>\n",
       "      <td>55</td>\n",
       "      <td>1479</td>\n",
       "    </tr>\n",
       "    <tr>\n",
       "      <th>4</th>\n",
       "      <td>제주시</td>\n",
       "      <td>봉개동</td>\n",
       "      <td>2089</td>\n",
       "      <td>37</td>\n",
       "      <td>2126</td>\n",
       "      <td>2018-01</td>\n",
       "      <td>1838</td>\n",
       "      <td>39</td>\n",
       "      <td>1877</td>\n",
       "    </tr>\n",
       "  </tbody>\n",
       "</table>\n",
       "</div>"
      ],
      "text/plain": [
       "  city location  resid_reg_pop_남  foreign_pop_남  total_pop_남      y_m  \\\n",
       "0  제주시      건입동             5085            146         5231  2018-01   \n",
       "1  제주시      구좌읍             7965            368         8333  2018-01   \n",
       "2  제주시      노형동            26286            821        27107  2018-01   \n",
       "3  제주시      도두동             1602             43         1645  2018-01   \n",
       "4  제주시      봉개동             2089             37         2126  2018-01   \n",
       "\n",
       "   resid_reg_pop_여  foreign_pop_여  total_pop_여  \n",
       "0             4715             82         4797  \n",
       "1             7609            184         7793  \n",
       "2            27083            768        27851  \n",
       "3             1424             55         1479  \n",
       "4             1838             39         1877  "
      ]
     },
     "execution_count": 13,
     "metadata": {},
     "output_type": "execute_result"
    }
   ],
   "source": [
    "#데이터 병합\n",
    "df2 = pd.merge(temp,temp2,how = \"left\", on = [\"y_m\",\"city\",\"location\"])\n",
    "df2.head()"
   ]
  },
  {
   "cell_type": "code",
   "execution_count": 14,
   "metadata": {},
   "outputs": [
    {
     "data": {
      "text/html": [
       "<div>\n",
       "<style scoped>\n",
       "    .dataframe tbody tr th:only-of-type {\n",
       "        vertical-align: middle;\n",
       "    }\n",
       "\n",
       "    .dataframe tbody tr th {\n",
       "        vertical-align: top;\n",
       "    }\n",
       "\n",
       "    .dataframe thead th {\n",
       "        text-align: right;\n",
       "    }\n",
       "</style>\n",
       "<table border=\"1\" class=\"dataframe\">\n",
       "  <thead>\n",
       "    <tr style=\"text-align: right;\">\n",
       "      <th></th>\n",
       "      <th>city</th>\n",
       "      <th>location</th>\n",
       "      <th>resid_reg_pop_남</th>\n",
       "      <th>foreign_pop_남</th>\n",
       "      <th>y_m</th>\n",
       "      <th>resid_reg_pop_여</th>\n",
       "      <th>foreign_pop_여</th>\n",
       "      <th>total_pop</th>\n",
       "    </tr>\n",
       "  </thead>\n",
       "  <tbody>\n",
       "    <tr>\n",
       "      <th>0</th>\n",
       "      <td>제주시</td>\n",
       "      <td>건입동</td>\n",
       "      <td>5085</td>\n",
       "      <td>146</td>\n",
       "      <td>2018-01</td>\n",
       "      <td>4715</td>\n",
       "      <td>82</td>\n",
       "      <td>10028</td>\n",
       "    </tr>\n",
       "    <tr>\n",
       "      <th>1</th>\n",
       "      <td>제주시</td>\n",
       "      <td>구좌읍</td>\n",
       "      <td>7965</td>\n",
       "      <td>368</td>\n",
       "      <td>2018-01</td>\n",
       "      <td>7609</td>\n",
       "      <td>184</td>\n",
       "      <td>16126</td>\n",
       "    </tr>\n",
       "    <tr>\n",
       "      <th>2</th>\n",
       "      <td>제주시</td>\n",
       "      <td>노형동</td>\n",
       "      <td>26286</td>\n",
       "      <td>821</td>\n",
       "      <td>2018-01</td>\n",
       "      <td>27083</td>\n",
       "      <td>768</td>\n",
       "      <td>54958</td>\n",
       "    </tr>\n",
       "    <tr>\n",
       "      <th>3</th>\n",
       "      <td>제주시</td>\n",
       "      <td>도두동</td>\n",
       "      <td>1602</td>\n",
       "      <td>43</td>\n",
       "      <td>2018-01</td>\n",
       "      <td>1424</td>\n",
       "      <td>55</td>\n",
       "      <td>3124</td>\n",
       "    </tr>\n",
       "    <tr>\n",
       "      <th>4</th>\n",
       "      <td>제주시</td>\n",
       "      <td>봉개동</td>\n",
       "      <td>2089</td>\n",
       "      <td>37</td>\n",
       "      <td>2018-01</td>\n",
       "      <td>1838</td>\n",
       "      <td>39</td>\n",
       "      <td>4003</td>\n",
       "    </tr>\n",
       "  </tbody>\n",
       "</table>\n",
       "</div>"
      ],
      "text/plain": [
       "  city location  resid_reg_pop_남  foreign_pop_남      y_m  resid_reg_pop_여  \\\n",
       "0  제주시      건입동             5085            146  2018-01             4715   \n",
       "1  제주시      구좌읍             7965            368  2018-01             7609   \n",
       "2  제주시      노형동            26286            821  2018-01            27083   \n",
       "3  제주시      도두동             1602             43  2018-01             1424   \n",
       "4  제주시      봉개동             2089             37  2018-01             1838   \n",
       "\n",
       "   foreign_pop_여  total_pop  \n",
       "0             82      10028  \n",
       "1            184      16126  \n",
       "2            768      54958  \n",
       "3             55       3124  \n",
       "4             39       4003  "
      ]
     },
     "execution_count": 14,
     "metadata": {},
     "output_type": "execute_result"
    }
   ],
   "source": [
    "# 총거주인구 열 생성\n",
    "df2[\"total_pop\"] = df2.total_pop_남 + df2.total_pop_여\n",
    "df2 = df2.drop({'total_pop_남','total_pop_여'},axis=1)\n",
    "df2.head()"
   ]
  },
  {
   "cell_type": "code",
   "execution_count": 15,
   "metadata": {},
   "outputs": [
    {
     "data": {
      "text/html": [
       "<div>\n",
       "<style scoped>\n",
       "    .dataframe tbody tr th:only-of-type {\n",
       "        vertical-align: middle;\n",
       "    }\n",
       "\n",
       "    .dataframe tbody tr th {\n",
       "        vertical-align: top;\n",
       "    }\n",
       "\n",
       "    .dataframe thead th {\n",
       "        text-align: right;\n",
       "    }\n",
       "</style>\n",
       "<table border=\"1\" class=\"dataframe\">\n",
       "  <thead>\n",
       "    <tr style=\"text-align: right;\">\n",
       "      <th></th>\n",
       "      <th>y_m</th>\n",
       "      <th>city</th>\n",
       "      <th>location</th>\n",
       "      <th>resid_reg_pop_남</th>\n",
       "      <th>foreign_pop_남</th>\n",
       "      <th>resid_reg_pop_여</th>\n",
       "      <th>foreign_pop_여</th>\n",
       "      <th>total_pop</th>\n",
       "    </tr>\n",
       "  </thead>\n",
       "  <tbody>\n",
       "    <tr>\n",
       "      <th>0</th>\n",
       "      <td>2018-01</td>\n",
       "      <td>제주시</td>\n",
       "      <td>건입동</td>\n",
       "      <td>5085</td>\n",
       "      <td>146</td>\n",
       "      <td>4715</td>\n",
       "      <td>82</td>\n",
       "      <td>10028</td>\n",
       "    </tr>\n",
       "    <tr>\n",
       "      <th>1</th>\n",
       "      <td>2018-01</td>\n",
       "      <td>제주시</td>\n",
       "      <td>구좌읍</td>\n",
       "      <td>7965</td>\n",
       "      <td>368</td>\n",
       "      <td>7609</td>\n",
       "      <td>184</td>\n",
       "      <td>16126</td>\n",
       "    </tr>\n",
       "    <tr>\n",
       "      <th>2</th>\n",
       "      <td>2018-01</td>\n",
       "      <td>제주시</td>\n",
       "      <td>노형동</td>\n",
       "      <td>26286</td>\n",
       "      <td>821</td>\n",
       "      <td>27083</td>\n",
       "      <td>768</td>\n",
       "      <td>54958</td>\n",
       "    </tr>\n",
       "    <tr>\n",
       "      <th>3</th>\n",
       "      <td>2018-01</td>\n",
       "      <td>제주시</td>\n",
       "      <td>도두동</td>\n",
       "      <td>1602</td>\n",
       "      <td>43</td>\n",
       "      <td>1424</td>\n",
       "      <td>55</td>\n",
       "      <td>3124</td>\n",
       "    </tr>\n",
       "    <tr>\n",
       "      <th>4</th>\n",
       "      <td>2018-01</td>\n",
       "      <td>제주시</td>\n",
       "      <td>봉개동</td>\n",
       "      <td>2089</td>\n",
       "      <td>37</td>\n",
       "      <td>1838</td>\n",
       "      <td>39</td>\n",
       "      <td>4003</td>\n",
       "    </tr>\n",
       "  </tbody>\n",
       "</table>\n",
       "</div>"
      ],
      "text/plain": [
       "       y_m city location  resid_reg_pop_남  foreign_pop_남  resid_reg_pop_여  \\\n",
       "0  2018-01  제주시      건입동             5085            146             4715   \n",
       "1  2018-01  제주시      구좌읍             7965            368             7609   \n",
       "2  2018-01  제주시      노형동            26286            821            27083   \n",
       "3  2018-01  제주시      도두동             1602             43             1424   \n",
       "4  2018-01  제주시      봉개동             2089             37             1838   \n",
       "\n",
       "   foreign_pop_여  total_pop  \n",
       "0             82      10028  \n",
       "1            184      16126  \n",
       "2            768      54958  \n",
       "3             55       3124  \n",
       "4             39       4003  "
      ]
     },
     "execution_count": 15,
     "metadata": {},
     "output_type": "execute_result"
    }
   ],
   "source": [
    "# 그룹화\n",
    "df2 = df2.groupby([\"y_m\",\"city\",\"location\"]).sum()\n",
    "df2 = df2.reset_index()\n",
    "df2.head()"
   ]
  },
  {
   "cell_type": "markdown",
   "metadata": {},
   "source": [
    "### 행정부에서 제공하는 \"주민등록인구통계\" 외부데이터에서 나이 열을 활용"
   ]
  },
  {
   "cell_type": "code",
   "execution_count": 16,
   "metadata": {},
   "outputs": [],
   "source": [
    "## 주민등록인구통계 로드\n",
    "resid_1 = pd.read_csv('주민등록인구통계/201801_201806_연령별인구현황_월간_제주시.csv', encoding = 'cp949')\n",
    "resid_2 = pd.read_csv('주민등록인구통계/201807_201812_연령별인구현황_월간_제주시.csv', encoding = 'cp949')\n",
    "resid_3 = pd.read_csv('주민등록인구통계/201901_201906_연령별인구현황_월간_제주시.csv', encoding = 'cp949')\n",
    "resid_4 = pd.read_csv('주민등록인구통계/201907_201912_연령별인구현황_월간_제주시.csv', encoding = 'cp949')\n",
    "resid_5 = pd.read_csv('주민등록인구통계/202001_202006_연령별인구현황_월간_제주시.csv', encoding = 'cp949')\n",
    "resid_6 = pd.read_csv('주민등록인구통계/202007_202012_연령별인구현황_월간_제주시.csv', encoding = 'cp949')\n",
    "resid_7 = pd.read_csv('주민등록인구통계/202101_202106_연령별인구현황_월간_제주시.csv', encoding = 'cp949')"
   ]
  },
  {
   "cell_type": "code",
   "execution_count": 17,
   "metadata": {},
   "outputs": [],
   "source": [
    "## 주민등록인구통계 데이터에서 필요한 열만 추출\n",
    "def mm(resid):\n",
    "    resid = resid.set_index(\"행정구역\")\n",
    "    col_na = resid.columns.to_list()\n",
    "    col_na = col_na[1::21]\n",
    "    resid = resid.loc[:,col_na]\n",
    "    resid = resid.reset_index()\n",
    "    return resid"
   ]
  },
  {
   "cell_type": "code",
   "execution_count": 18,
   "metadata": {},
   "outputs": [
    {
     "data": {
      "text/html": [
       "<div>\n",
       "<style scoped>\n",
       "    .dataframe tbody tr th:only-of-type {\n",
       "        vertical-align: middle;\n",
       "    }\n",
       "\n",
       "    .dataframe tbody tr th {\n",
       "        vertical-align: top;\n",
       "    }\n",
       "\n",
       "    .dataframe thead th {\n",
       "        text-align: right;\n",
       "    }\n",
       "</style>\n",
       "<table border=\"1\" class=\"dataframe\">\n",
       "  <thead>\n",
       "    <tr style=\"text-align: right;\">\n",
       "      <th></th>\n",
       "      <th>행정구역</th>\n",
       "      <th>2018년01월_계_연령구간인구수</th>\n",
       "      <th>2018년02월_계_연령구간인구수</th>\n",
       "      <th>2018년03월_계_연령구간인구수</th>\n",
       "      <th>2018년04월_계_연령구간인구수</th>\n",
       "      <th>2018년05월_계_연령구간인구수</th>\n",
       "      <th>2018년06월_계_연령구간인구수</th>\n",
       "      <th>2018년07월_계_연령구간인구수</th>\n",
       "      <th>2018년08월_계_연령구간인구수</th>\n",
       "      <th>2018년09월_계_연령구간인구수</th>\n",
       "      <th>...</th>\n",
       "      <th>2020년09월_계_연령구간인구수</th>\n",
       "      <th>2020년10월_계_연령구간인구수</th>\n",
       "      <th>2020년11월_계_연령구간인구수</th>\n",
       "      <th>2020년12월_계_연령구간인구수</th>\n",
       "      <th>2021년01월_계_연령구간인구수</th>\n",
       "      <th>2021년02월_계_연령구간인구수</th>\n",
       "      <th>2021년03월_계_연령구간인구수</th>\n",
       "      <th>2021년04월_계_연령구간인구수</th>\n",
       "      <th>2021년05월_계_연령구간인구수</th>\n",
       "      <th>2021년06월_계_연령구간인구수</th>\n",
       "    </tr>\n",
       "  </thead>\n",
       "  <tbody>\n",
       "    <tr>\n",
       "      <th>0</th>\n",
       "      <td>제주특별자치도 제주시 (5011000000)</td>\n",
       "      <td>88,634</td>\n",
       "      <td>88,934</td>\n",
       "      <td>89,349</td>\n",
       "      <td>89,697</td>\n",
       "      <td>90,128</td>\n",
       "      <td>90,470</td>\n",
       "      <td>90,878</td>\n",
       "      <td>91,350</td>\n",
       "      <td>91,860</td>\n",
       "      <td>...</td>\n",
       "      <td>102,221</td>\n",
       "      <td>102,749</td>\n",
       "      <td>103,150</td>\n",
       "      <td>103,521</td>\n",
       "      <td>104,037</td>\n",
       "      <td>104,478</td>\n",
       "      <td>104,388</td>\n",
       "      <td>104,767</td>\n",
       "      <td>105,203</td>\n",
       "      <td>105,659</td>\n",
       "    </tr>\n",
       "    <tr>\n",
       "      <th>1</th>\n",
       "      <td>제주특별자치도 제주시 한림읍(5011025000)</td>\n",
       "      <td>5,603</td>\n",
       "      <td>5,618</td>\n",
       "      <td>5,637</td>\n",
       "      <td>5,659</td>\n",
       "      <td>5,701</td>\n",
       "      <td>5,730</td>\n",
       "      <td>5,745</td>\n",
       "      <td>5,789</td>\n",
       "      <td>5,815</td>\n",
       "      <td>...</td>\n",
       "      <td>6,347</td>\n",
       "      <td>6,383</td>\n",
       "      <td>6,388</td>\n",
       "      <td>6,402</td>\n",
       "      <td>6,429</td>\n",
       "      <td>6,441</td>\n",
       "      <td>6,379</td>\n",
       "      <td>6,416</td>\n",
       "      <td>6,440</td>\n",
       "      <td>6,463</td>\n",
       "    </tr>\n",
       "    <tr>\n",
       "      <th>2</th>\n",
       "      <td>제주특별자치도 제주시 애월읍(5011025300)</td>\n",
       "      <td>7,786</td>\n",
       "      <td>7,797</td>\n",
       "      <td>7,842</td>\n",
       "      <td>7,870</td>\n",
       "      <td>7,910</td>\n",
       "      <td>7,954</td>\n",
       "      <td>7,999</td>\n",
       "      <td>8,043</td>\n",
       "      <td>8,074</td>\n",
       "      <td>...</td>\n",
       "      <td>8,891</td>\n",
       "      <td>8,921</td>\n",
       "      <td>8,958</td>\n",
       "      <td>8,990</td>\n",
       "      <td>9,037</td>\n",
       "      <td>9,081</td>\n",
       "      <td>9,149</td>\n",
       "      <td>9,183</td>\n",
       "      <td>9,225</td>\n",
       "      <td>9,268</td>\n",
       "    </tr>\n",
       "    <tr>\n",
       "      <th>3</th>\n",
       "      <td>제주특별자치도 제주시 구좌읍(5011025600)</td>\n",
       "      <td>4,849</td>\n",
       "      <td>4,844</td>\n",
       "      <td>4,857</td>\n",
       "      <td>4,861</td>\n",
       "      <td>4,882</td>\n",
       "      <td>4,902</td>\n",
       "      <td>4,920</td>\n",
       "      <td>4,929</td>\n",
       "      <td>4,944</td>\n",
       "      <td>...</td>\n",
       "      <td>5,297</td>\n",
       "      <td>5,312</td>\n",
       "      <td>5,331</td>\n",
       "      <td>5,337</td>\n",
       "      <td>5,344</td>\n",
       "      <td>5,360</td>\n",
       "      <td>5,333</td>\n",
       "      <td>5,336</td>\n",
       "      <td>5,332</td>\n",
       "      <td>5,351</td>\n",
       "    </tr>\n",
       "    <tr>\n",
       "      <th>4</th>\n",
       "      <td>제주특별자치도 제주시 조천읍(5011025900)</td>\n",
       "      <td>5,751</td>\n",
       "      <td>5,783</td>\n",
       "      <td>5,814</td>\n",
       "      <td>5,836</td>\n",
       "      <td>5,849</td>\n",
       "      <td>5,863</td>\n",
       "      <td>5,900</td>\n",
       "      <td>5,928</td>\n",
       "      <td>5,973</td>\n",
       "      <td>...</td>\n",
       "      <td>6,613</td>\n",
       "      <td>6,644</td>\n",
       "      <td>6,665</td>\n",
       "      <td>6,684</td>\n",
       "      <td>6,721</td>\n",
       "      <td>6,741</td>\n",
       "      <td>6,717</td>\n",
       "      <td>6,725</td>\n",
       "      <td>6,751</td>\n",
       "      <td>6,788</td>\n",
       "    </tr>\n",
       "  </tbody>\n",
       "</table>\n",
       "<p>5 rows × 43 columns</p>\n",
       "</div>"
      ],
      "text/plain": [
       "                          행정구역 2018년01월_계_연령구간인구수 2018년02월_계_연령구간인구수  \\\n",
       "0     제주특별자치도 제주시 (5011000000)             88,634             88,934   \n",
       "1  제주특별자치도 제주시 한림읍(5011025000)              5,603              5,618   \n",
       "2  제주특별자치도 제주시 애월읍(5011025300)              7,786              7,797   \n",
       "3  제주특별자치도 제주시 구좌읍(5011025600)              4,849              4,844   \n",
       "4  제주특별자치도 제주시 조천읍(5011025900)              5,751              5,783   \n",
       "\n",
       "  2018년03월_계_연령구간인구수 2018년04월_계_연령구간인구수 2018년05월_계_연령구간인구수 2018년06월_계_연령구간인구수  \\\n",
       "0             89,349             89,697             90,128             90,470   \n",
       "1              5,637              5,659              5,701              5,730   \n",
       "2              7,842              7,870              7,910              7,954   \n",
       "3              4,857              4,861              4,882              4,902   \n",
       "4              5,814              5,836              5,849              5,863   \n",
       "\n",
       "  2018년07월_계_연령구간인구수 2018년08월_계_연령구간인구수 2018년09월_계_연령구간인구수  ...  \\\n",
       "0             90,878             91,350             91,860  ...   \n",
       "1              5,745              5,789              5,815  ...   \n",
       "2              7,999              8,043              8,074  ...   \n",
       "3              4,920              4,929              4,944  ...   \n",
       "4              5,900              5,928              5,973  ...   \n",
       "\n",
       "  2020년09월_계_연령구간인구수 2020년10월_계_연령구간인구수 2020년11월_계_연령구간인구수 2020년12월_계_연령구간인구수  \\\n",
       "0            102,221            102,749            103,150            103,521   \n",
       "1              6,347              6,383              6,388              6,402   \n",
       "2              8,891              8,921              8,958              8,990   \n",
       "3              5,297              5,312              5,331              5,337   \n",
       "4              6,613              6,644              6,665              6,684   \n",
       "\n",
       "  2021년01월_계_연령구간인구수 2021년02월_계_연령구간인구수 2021년03월_계_연령구간인구수 2021년04월_계_연령구간인구수  \\\n",
       "0            104,037            104,478            104,388            104,767   \n",
       "1              6,429              6,441              6,379              6,416   \n",
       "2              9,037              9,081              9,149              9,183   \n",
       "3              5,344              5,360              5,333              5,336   \n",
       "4              6,721              6,741              6,717              6,725   \n",
       "\n",
       "  2021년05월_계_연령구간인구수 2021년06월_계_연령구간인구수  \n",
       "0            105,203            105,659  \n",
       "1              6,440              6,463  \n",
       "2              9,225              9,268  \n",
       "3              5,332              5,351  \n",
       "4              6,751              6,788  \n",
       "\n",
       "[5 rows x 43 columns]"
      ]
     },
     "execution_count": 18,
     "metadata": {},
     "output_type": "execute_result"
    }
   ],
   "source": [
    "#데이터프레임 결합\n",
    "resid_m = mm(resid_1)\n",
    "for i in [resid_2,resid_3,resid_4,resid_5,resid_6,resid_7]:\n",
    "    resid_m = pd.merge(resid_m,mm(i),how = \"left\", on = [\"행정구역\"])\n",
    "\n",
    "resid_m.head()"
   ]
  },
  {
   "cell_type": "code",
   "execution_count": 19,
   "metadata": {},
   "outputs": [
    {
     "data": {
      "text/html": [
       "<div>\n",
       "<style scoped>\n",
       "    .dataframe tbody tr th:only-of-type {\n",
       "        vertical-align: middle;\n",
       "    }\n",
       "\n",
       "    .dataframe tbody tr th {\n",
       "        vertical-align: top;\n",
       "    }\n",
       "\n",
       "    .dataframe thead th {\n",
       "        text-align: right;\n",
       "    }\n",
       "</style>\n",
       "<table border=\"1\" class=\"dataframe\">\n",
       "  <thead>\n",
       "    <tr style=\"text-align: right;\">\n",
       "      <th></th>\n",
       "      <th>행정구역</th>\n",
       "      <th>2018년01월_계_연령구간인구수</th>\n",
       "      <th>2018년02월_계_연령구간인구수</th>\n",
       "      <th>2018년03월_계_연령구간인구수</th>\n",
       "      <th>2018년04월_계_연령구간인구수</th>\n",
       "      <th>2018년05월_계_연령구간인구수</th>\n",
       "      <th>2018년06월_계_연령구간인구수</th>\n",
       "      <th>2018년07월_계_연령구간인구수</th>\n",
       "      <th>2018년08월_계_연령구간인구수</th>\n",
       "      <th>2018년09월_계_연령구간인구수</th>\n",
       "      <th>...</th>\n",
       "      <th>2020년09월_계_연령구간인구수</th>\n",
       "      <th>2020년10월_계_연령구간인구수</th>\n",
       "      <th>2020년11월_계_연령구간인구수</th>\n",
       "      <th>2020년12월_계_연령구간인구수</th>\n",
       "      <th>2021년01월_계_연령구간인구수</th>\n",
       "      <th>2021년02월_계_연령구간인구수</th>\n",
       "      <th>2021년03월_계_연령구간인구수</th>\n",
       "      <th>2021년04월_계_연령구간인구수</th>\n",
       "      <th>2021년05월_계_연령구간인구수</th>\n",
       "      <th>2021년06월_계_연령구간인구수</th>\n",
       "    </tr>\n",
       "  </thead>\n",
       "  <tbody>\n",
       "    <tr>\n",
       "      <th>0</th>\n",
       "      <td></td>\n",
       "      <td>88,634</td>\n",
       "      <td>88,934</td>\n",
       "      <td>89,349</td>\n",
       "      <td>89,697</td>\n",
       "      <td>90,128</td>\n",
       "      <td>90,470</td>\n",
       "      <td>90,878</td>\n",
       "      <td>91,350</td>\n",
       "      <td>91,860</td>\n",
       "      <td>...</td>\n",
       "      <td>102,221</td>\n",
       "      <td>102,749</td>\n",
       "      <td>103,150</td>\n",
       "      <td>103,521</td>\n",
       "      <td>104,037</td>\n",
       "      <td>104,478</td>\n",
       "      <td>104,388</td>\n",
       "      <td>104,767</td>\n",
       "      <td>105,203</td>\n",
       "      <td>105,659</td>\n",
       "    </tr>\n",
       "    <tr>\n",
       "      <th>1</th>\n",
       "      <td>한림읍</td>\n",
       "      <td>5,603</td>\n",
       "      <td>5,618</td>\n",
       "      <td>5,637</td>\n",
       "      <td>5,659</td>\n",
       "      <td>5,701</td>\n",
       "      <td>5,730</td>\n",
       "      <td>5,745</td>\n",
       "      <td>5,789</td>\n",
       "      <td>5,815</td>\n",
       "      <td>...</td>\n",
       "      <td>6,347</td>\n",
       "      <td>6,383</td>\n",
       "      <td>6,388</td>\n",
       "      <td>6,402</td>\n",
       "      <td>6,429</td>\n",
       "      <td>6,441</td>\n",
       "      <td>6,379</td>\n",
       "      <td>6,416</td>\n",
       "      <td>6,440</td>\n",
       "      <td>6,463</td>\n",
       "    </tr>\n",
       "    <tr>\n",
       "      <th>2</th>\n",
       "      <td>애월읍</td>\n",
       "      <td>7,786</td>\n",
       "      <td>7,797</td>\n",
       "      <td>7,842</td>\n",
       "      <td>7,870</td>\n",
       "      <td>7,910</td>\n",
       "      <td>7,954</td>\n",
       "      <td>7,999</td>\n",
       "      <td>8,043</td>\n",
       "      <td>8,074</td>\n",
       "      <td>...</td>\n",
       "      <td>8,891</td>\n",
       "      <td>8,921</td>\n",
       "      <td>8,958</td>\n",
       "      <td>8,990</td>\n",
       "      <td>9,037</td>\n",
       "      <td>9,081</td>\n",
       "      <td>9,149</td>\n",
       "      <td>9,183</td>\n",
       "      <td>9,225</td>\n",
       "      <td>9,268</td>\n",
       "    </tr>\n",
       "    <tr>\n",
       "      <th>3</th>\n",
       "      <td>구좌읍</td>\n",
       "      <td>4,849</td>\n",
       "      <td>4,844</td>\n",
       "      <td>4,857</td>\n",
       "      <td>4,861</td>\n",
       "      <td>4,882</td>\n",
       "      <td>4,902</td>\n",
       "      <td>4,920</td>\n",
       "      <td>4,929</td>\n",
       "      <td>4,944</td>\n",
       "      <td>...</td>\n",
       "      <td>5,297</td>\n",
       "      <td>5,312</td>\n",
       "      <td>5,331</td>\n",
       "      <td>5,337</td>\n",
       "      <td>5,344</td>\n",
       "      <td>5,360</td>\n",
       "      <td>5,333</td>\n",
       "      <td>5,336</td>\n",
       "      <td>5,332</td>\n",
       "      <td>5,351</td>\n",
       "    </tr>\n",
       "    <tr>\n",
       "      <th>4</th>\n",
       "      <td>조천읍</td>\n",
       "      <td>5,751</td>\n",
       "      <td>5,783</td>\n",
       "      <td>5,814</td>\n",
       "      <td>5,836</td>\n",
       "      <td>5,849</td>\n",
       "      <td>5,863</td>\n",
       "      <td>5,900</td>\n",
       "      <td>5,928</td>\n",
       "      <td>5,973</td>\n",
       "      <td>...</td>\n",
       "      <td>6,613</td>\n",
       "      <td>6,644</td>\n",
       "      <td>6,665</td>\n",
       "      <td>6,684</td>\n",
       "      <td>6,721</td>\n",
       "      <td>6,741</td>\n",
       "      <td>6,717</td>\n",
       "      <td>6,725</td>\n",
       "      <td>6,751</td>\n",
       "      <td>6,788</td>\n",
       "    </tr>\n",
       "  </tbody>\n",
       "</table>\n",
       "<p>5 rows × 43 columns</p>\n",
       "</div>"
      ],
      "text/plain": [
       "  행정구역 2018년01월_계_연령구간인구수 2018년02월_계_연령구간인구수 2018년03월_계_연령구간인구수  \\\n",
       "0                  88,634             88,934             89,349   \n",
       "1  한림읍              5,603              5,618              5,637   \n",
       "2  애월읍              7,786              7,797              7,842   \n",
       "3  구좌읍              4,849              4,844              4,857   \n",
       "4  조천읍              5,751              5,783              5,814   \n",
       "\n",
       "  2018년04월_계_연령구간인구수 2018년05월_계_연령구간인구수 2018년06월_계_연령구간인구수 2018년07월_계_연령구간인구수  \\\n",
       "0             89,697             90,128             90,470             90,878   \n",
       "1              5,659              5,701              5,730              5,745   \n",
       "2              7,870              7,910              7,954              7,999   \n",
       "3              4,861              4,882              4,902              4,920   \n",
       "4              5,836              5,849              5,863              5,900   \n",
       "\n",
       "  2018년08월_계_연령구간인구수 2018년09월_계_연령구간인구수  ... 2020년09월_계_연령구간인구수  \\\n",
       "0             91,350             91,860  ...            102,221   \n",
       "1              5,789              5,815  ...              6,347   \n",
       "2              8,043              8,074  ...              8,891   \n",
       "3              4,929              4,944  ...              5,297   \n",
       "4              5,928              5,973  ...              6,613   \n",
       "\n",
       "  2020년10월_계_연령구간인구수 2020년11월_계_연령구간인구수 2020년12월_계_연령구간인구수 2021년01월_계_연령구간인구수  \\\n",
       "0            102,749            103,150            103,521            104,037   \n",
       "1              6,383              6,388              6,402              6,429   \n",
       "2              8,921              8,958              8,990              9,037   \n",
       "3              5,312              5,331              5,337              5,344   \n",
       "4              6,644              6,665              6,684              6,721   \n",
       "\n",
       "  2021년02월_계_연령구간인구수 2021년03월_계_연령구간인구수 2021년04월_계_연령구간인구수 2021년05월_계_연령구간인구수  \\\n",
       "0            104,478            104,388            104,767            105,203   \n",
       "1              6,441              6,379              6,416              6,440   \n",
       "2              9,081              9,149              9,183              9,225   \n",
       "3              5,360              5,333              5,336              5,332   \n",
       "4              6,741              6,717              6,725              6,751   \n",
       "\n",
       "  2021년06월_계_연령구간인구수  \n",
       "0            105,659  \n",
       "1              6,463  \n",
       "2              9,268  \n",
       "3              5,351  \n",
       "4              6,788  \n",
       "\n",
       "[5 rows x 43 columns]"
      ]
     },
     "execution_count": 19,
     "metadata": {},
     "output_type": "execute_result"
    }
   ],
   "source": [
    "# 행정구역열 전처리\n",
    "resid_m.행정구역 = resid_m.apply(lambda x:  x.행정구역[12:], axis = 1)\n",
    "resid_m.행정구역 = resid_m.apply(lambda x:  x.행정구역.split(\"(\")[0], axis = 1)\n",
    "resid_m.head()"
   ]
  },
  {
   "cell_type": "code",
   "execution_count": 20,
   "metadata": {},
   "outputs": [
    {
     "data": {
      "text/html": [
       "<div>\n",
       "<style scoped>\n",
       "    .dataframe tbody tr th:only-of-type {\n",
       "        vertical-align: middle;\n",
       "    }\n",
       "\n",
       "    .dataframe tbody tr th {\n",
       "        vertical-align: top;\n",
       "    }\n",
       "\n",
       "    .dataframe thead th {\n",
       "        text-align: right;\n",
       "    }\n",
       "</style>\n",
       "<table border=\"1\" class=\"dataframe\">\n",
       "  <thead>\n",
       "    <tr style=\"text-align: right;\">\n",
       "      <th>행정구역</th>\n",
       "      <th>index</th>\n",
       "      <th></th>\n",
       "      <th>한림읍</th>\n",
       "      <th>애월읍</th>\n",
       "      <th>구좌읍</th>\n",
       "      <th>조천읍</th>\n",
       "      <th>한경면</th>\n",
       "      <th>추자면</th>\n",
       "      <th>우도면</th>\n",
       "      <th>일도1동</th>\n",
       "      <th>...</th>\n",
       "      <th>화북동</th>\n",
       "      <th>삼양동</th>\n",
       "      <th>봉개동</th>\n",
       "      <th>아라동</th>\n",
       "      <th>오라동</th>\n",
       "      <th>연동</th>\n",
       "      <th>노형동</th>\n",
       "      <th>외도동</th>\n",
       "      <th>이호동</th>\n",
       "      <th>도두동</th>\n",
       "    </tr>\n",
       "  </thead>\n",
       "  <tbody>\n",
       "    <tr>\n",
       "      <th>0</th>\n",
       "      <td>2018-01</td>\n",
       "      <td>88,634</td>\n",
       "      <td>5,603</td>\n",
       "      <td>7,786</td>\n",
       "      <td>4,849</td>\n",
       "      <td>5,751</td>\n",
       "      <td>3,078</td>\n",
       "      <td>759</td>\n",
       "      <td>548</td>\n",
       "      <td>962</td>\n",
       "      <td>...</td>\n",
       "      <td>3,877</td>\n",
       "      <td>3,197</td>\n",
       "      <td>903</td>\n",
       "      <td>4,085</td>\n",
       "      <td>1,823</td>\n",
       "      <td>6,026</td>\n",
       "      <td>6,328</td>\n",
       "      <td>2,576</td>\n",
       "      <td>859</td>\n",
       "      <td>590</td>\n",
       "    </tr>\n",
       "    <tr>\n",
       "      <th>1</th>\n",
       "      <td>2018-02</td>\n",
       "      <td>88,934</td>\n",
       "      <td>5,618</td>\n",
       "      <td>7,797</td>\n",
       "      <td>4,844</td>\n",
       "      <td>5,783</td>\n",
       "      <td>3,083</td>\n",
       "      <td>761</td>\n",
       "      <td>554</td>\n",
       "      <td>959</td>\n",
       "      <td>...</td>\n",
       "      <td>3,900</td>\n",
       "      <td>3,230</td>\n",
       "      <td>904</td>\n",
       "      <td>4,100</td>\n",
       "      <td>1,827</td>\n",
       "      <td>6,083</td>\n",
       "      <td>6,348</td>\n",
       "      <td>2,588</td>\n",
       "      <td>857</td>\n",
       "      <td>593</td>\n",
       "    </tr>\n",
       "    <tr>\n",
       "      <th>2</th>\n",
       "      <td>2018-03</td>\n",
       "      <td>89,349</td>\n",
       "      <td>5,637</td>\n",
       "      <td>7,842</td>\n",
       "      <td>4,857</td>\n",
       "      <td>5,814</td>\n",
       "      <td>3,096</td>\n",
       "      <td>758</td>\n",
       "      <td>554</td>\n",
       "      <td>966</td>\n",
       "      <td>...</td>\n",
       "      <td>3,911</td>\n",
       "      <td>3,247</td>\n",
       "      <td>909</td>\n",
       "      <td>4,155</td>\n",
       "      <td>1,849</td>\n",
       "      <td>6,097</td>\n",
       "      <td>6,368</td>\n",
       "      <td>2,597</td>\n",
       "      <td>878</td>\n",
       "      <td>601</td>\n",
       "    </tr>\n",
       "    <tr>\n",
       "      <th>3</th>\n",
       "      <td>2018-04</td>\n",
       "      <td>89,697</td>\n",
       "      <td>5,659</td>\n",
       "      <td>7,870</td>\n",
       "      <td>4,861</td>\n",
       "      <td>5,836</td>\n",
       "      <td>3,120</td>\n",
       "      <td>757</td>\n",
       "      <td>550</td>\n",
       "      <td>965</td>\n",
       "      <td>...</td>\n",
       "      <td>3,932</td>\n",
       "      <td>3,271</td>\n",
       "      <td>916</td>\n",
       "      <td>4,197</td>\n",
       "      <td>1,868</td>\n",
       "      <td>6,120</td>\n",
       "      <td>6,406</td>\n",
       "      <td>2,610</td>\n",
       "      <td>877</td>\n",
       "      <td>601</td>\n",
       "    </tr>\n",
       "    <tr>\n",
       "      <th>4</th>\n",
       "      <td>2018-05</td>\n",
       "      <td>90,128</td>\n",
       "      <td>5,701</td>\n",
       "      <td>7,910</td>\n",
       "      <td>4,882</td>\n",
       "      <td>5,849</td>\n",
       "      <td>3,140</td>\n",
       "      <td>760</td>\n",
       "      <td>556</td>\n",
       "      <td>967</td>\n",
       "      <td>...</td>\n",
       "      <td>3,947</td>\n",
       "      <td>3,275</td>\n",
       "      <td>918</td>\n",
       "      <td>4,215</td>\n",
       "      <td>1,878</td>\n",
       "      <td>6,164</td>\n",
       "      <td>6,452</td>\n",
       "      <td>2,618</td>\n",
       "      <td>876</td>\n",
       "      <td>598</td>\n",
       "    </tr>\n",
       "  </tbody>\n",
       "</table>\n",
       "<p>5 rows × 28 columns</p>\n",
       "</div>"
      ],
      "text/plain": [
       "행정구역    index            한림읍    애월읍    구좌읍    조천읍    한경면  추자면  우도면 일도1동  ...  \\\n",
       "0     2018-01  88,634  5,603  7,786  4,849  5,751  3,078  759  548  962  ...   \n",
       "1     2018-02  88,934  5,618  7,797  4,844  5,783  3,083  761  554  959  ...   \n",
       "2     2018-03  89,349  5,637  7,842  4,857  5,814  3,096  758  554  966  ...   \n",
       "3     2018-04  89,697  5,659  7,870  4,861  5,836  3,120  757  550  965  ...   \n",
       "4     2018-05  90,128  5,701  7,910  4,882  5,849  3,140  760  556  967  ...   \n",
       "\n",
       "행정구역    화북동    삼양동  봉개동    아라동    오라동     연동    노형동    외도동  이호동  도두동  \n",
       "0     3,877  3,197  903  4,085  1,823  6,026  6,328  2,576  859  590  \n",
       "1     3,900  3,230  904  4,100  1,827  6,083  6,348  2,588  857  593  \n",
       "2     3,911  3,247  909  4,155  1,849  6,097  6,368  2,597  878  601  \n",
       "3     3,932  3,271  916  4,197  1,868  6,120  6,406  2,610  877  601  \n",
       "4     3,947  3,275  918  4,215  1,878  6,164  6,452  2,618  876  598  \n",
       "\n",
       "[5 rows x 28 columns]"
      ]
     },
     "execution_count": 20,
     "metadata": {},
     "output_type": "execute_result"
    }
   ],
   "source": [
    "# 전처리를 위한 데이터프레임 Transform\n",
    "resid_m = resid_m.set_index(\"행정구역\")\n",
    "resid_t = resid_m.T\n",
    "resid_t = resid_t.reset_index()\n",
    "resid_t[\"index\"] = resid_t.apply(lambda x: x[\"index\"][:7],axis = 1)\n",
    "resid_t[\"index\"] = resid_t.apply(lambda x: x[\"index\"].replace(\"년\",\"-\"),axis = 1)\n",
    "resid_t.head()"
   ]
  },
  {
   "cell_type": "code",
   "execution_count": 21,
   "metadata": {},
   "outputs": [],
   "source": [
    "# 60세 이상 제주도민 데이터 삽입 함수 형성\n",
    "def mm2(loca):\n",
    "    temp = df2.loc[df2[\"location\"]==loca,:]\n",
    "    temp = temp.reset_index()\n",
    "    temp = temp.drop(\"index\",axis = 1)\n",
    "    temp.loc[:,\"60세이상\"] = resid_t.loc[:,loca]\n",
    "    return temp"
   ]
  },
  {
   "cell_type": "code",
   "execution_count": 22,
   "metadata": {},
   "outputs": [],
   "source": [
    "# 기존 데이터 프레임 df2에 외부데이터 60세 이상 제주도민 데이터 삽입 함수 형성\n",
    "df2[\"60세이상\"] = 0\n",
    "df_s = pd.DataFrame(columns=['y_m','city', 'location', 'resid_reg_pop_남', 'foreign_pop_남',\n",
    "       'resid_reg_pop_여', 'foreign_pop_여', 'total_pop', '60세이상'])\n",
    "\n",
    "for i in df2.location.unique():\n",
    "    df_s = pd.concat([df_s,mm2(i)])"
   ]
  },
  {
   "cell_type": "code",
   "execution_count": 23,
   "metadata": {},
   "outputs": [
    {
     "name": "stdout",
     "output_type": "stream",
     "text": [
      "<class 'pandas.core.frame.DataFrame'>\n",
      "Int64Index: 1092 entries, 0 to 41\n",
      "Data columns (total 9 columns):\n",
      " #   Column           Non-Null Count  Dtype \n",
      "---  ------           --------------  ----- \n",
      " 0   y_m              1092 non-null   object\n",
      " 1   city             1092 non-null   object\n",
      " 2   location         1092 non-null   object\n",
      " 3   resid_reg_pop_남  1092 non-null   object\n",
      " 4   foreign_pop_남    1092 non-null   object\n",
      " 5   resid_reg_pop_여  1092 non-null   object\n",
      " 6   foreign_pop_여    1092 non-null   object\n",
      " 7   total_pop        1092 non-null   object\n",
      " 8   60세이상            1092 non-null   object\n",
      "dtypes: object(9)\n",
      "memory usage: 85.3+ KB\n"
     ]
    }
   ],
   "source": [
    "df_s.info()"
   ]
  },
  {
   "cell_type": "code",
   "execution_count": 24,
   "metadata": {},
   "outputs": [],
   "source": [
    "# 자료형 데이터 정수형으로 변경\n",
    "for i in range(3,(len(df_s.columns)-1)):\n",
    "    df_s.iloc[:,i] = df_s.iloc[:,i].astype(int)"
   ]
  },
  {
   "cell_type": "code",
   "execution_count": 25,
   "metadata": {},
   "outputs": [
    {
     "name": "stdout",
     "output_type": "stream",
     "text": [
      "<class 'pandas.core.frame.DataFrame'>\n",
      "Int64Index: 1092 entries, 0 to 41\n",
      "Data columns (total 9 columns):\n",
      " #   Column           Non-Null Count  Dtype \n",
      "---  ------           --------------  ----- \n",
      " 0   y_m              1092 non-null   object\n",
      " 1   city             1092 non-null   object\n",
      " 2   location         1092 non-null   object\n",
      " 3   resid_reg_pop_남  1092 non-null   int32 \n",
      " 4   foreign_pop_남    1092 non-null   int32 \n",
      " 5   resid_reg_pop_여  1092 non-null   int32 \n",
      " 6   foreign_pop_여    1092 non-null   int32 \n",
      " 7   total_pop        1092 non-null   int32 \n",
      " 8   60세이상            1092 non-null   int32 \n",
      "dtypes: int32(6), object(3)\n",
      "memory usage: 59.7+ KB\n"
     ]
    }
   ],
   "source": [
    "# 자료형 데이터 정수형으로 변경\n",
    "df_s[\"60세이상\"] = df_s.apply(lambda x : x[\"60세이상\"].replace(',',''), axis = 1)\n",
    "df_s.loc[:,\"60세이상\"] = df_s.loc[:,\"60세이상\"].astype(int)\n",
    "df_s.info()"
   ]
  },
  {
   "cell_type": "code",
   "execution_count": 26,
   "metadata": {},
   "outputs": [
    {
     "data": {
      "text/html": [
       "<div>\n",
       "<style scoped>\n",
       "    .dataframe tbody tr th:only-of-type {\n",
       "        vertical-align: middle;\n",
       "    }\n",
       "\n",
       "    .dataframe tbody tr th {\n",
       "        vertical-align: top;\n",
       "    }\n",
       "\n",
       "    .dataframe thead th {\n",
       "        text-align: right;\n",
       "    }\n",
       "</style>\n",
       "<table border=\"1\" class=\"dataframe\">\n",
       "  <thead>\n",
       "    <tr style=\"text-align: right;\">\n",
       "      <th></th>\n",
       "      <th>y_m</th>\n",
       "      <th>city</th>\n",
       "      <th>location</th>\n",
       "      <th>제주도민_남</th>\n",
       "      <th>외국인거주_남</th>\n",
       "      <th>제주도민_여</th>\n",
       "      <th>외국인거주_여</th>\n",
       "      <th>total_pop</th>\n",
       "      <th>제주도민_60이상</th>\n",
       "    </tr>\n",
       "  </thead>\n",
       "  <tbody>\n",
       "    <tr>\n",
       "      <th>0</th>\n",
       "      <td>2018-01</td>\n",
       "      <td>제주시</td>\n",
       "      <td>건입동</td>\n",
       "      <td>5085</td>\n",
       "      <td>146</td>\n",
       "      <td>4715</td>\n",
       "      <td>82</td>\n",
       "      <td>10028</td>\n",
       "      <td>2478</td>\n",
       "    </tr>\n",
       "    <tr>\n",
       "      <th>1</th>\n",
       "      <td>2018-02</td>\n",
       "      <td>제주시</td>\n",
       "      <td>건입동</td>\n",
       "      <td>5090</td>\n",
       "      <td>142</td>\n",
       "      <td>4724</td>\n",
       "      <td>82</td>\n",
       "      <td>10038</td>\n",
       "      <td>2484</td>\n",
       "    </tr>\n",
       "    <tr>\n",
       "      <th>2</th>\n",
       "      <td>2018-03</td>\n",
       "      <td>제주시</td>\n",
       "      <td>건입동</td>\n",
       "      <td>5072</td>\n",
       "      <td>141</td>\n",
       "      <td>4711</td>\n",
       "      <td>81</td>\n",
       "      <td>10005</td>\n",
       "      <td>2494</td>\n",
       "    </tr>\n",
       "    <tr>\n",
       "      <th>3</th>\n",
       "      <td>2018-04</td>\n",
       "      <td>제주시</td>\n",
       "      <td>건입동</td>\n",
       "      <td>5070</td>\n",
       "      <td>143</td>\n",
       "      <td>4718</td>\n",
       "      <td>86</td>\n",
       "      <td>10017</td>\n",
       "      <td>2484</td>\n",
       "    </tr>\n",
       "    <tr>\n",
       "      <th>4</th>\n",
       "      <td>2018-05</td>\n",
       "      <td>제주시</td>\n",
       "      <td>건입동</td>\n",
       "      <td>5070</td>\n",
       "      <td>148</td>\n",
       "      <td>4730</td>\n",
       "      <td>90</td>\n",
       "      <td>10038</td>\n",
       "      <td>2504</td>\n",
       "    </tr>\n",
       "  </tbody>\n",
       "</table>\n",
       "</div>"
      ],
      "text/plain": [
       "       y_m city location  제주도민_남  외국인거주_남  제주도민_여  외국인거주_여  total_pop  \\\n",
       "0  2018-01  제주시      건입동    5085      146    4715       82      10028   \n",
       "1  2018-02  제주시      건입동    5090      142    4724       82      10038   \n",
       "2  2018-03  제주시      건입동    5072      141    4711       81      10005   \n",
       "3  2018-04  제주시      건입동    5070      143    4718       86      10017   \n",
       "4  2018-05  제주시      건입동    5070      148    4730       90      10038   \n",
       "\n",
       "   제주도민_60이상  \n",
       "0       2478  \n",
       "1       2484  \n",
       "2       2494  \n",
       "3       2484  \n",
       "4       2504  "
      ]
     },
     "execution_count": 26,
     "metadata": {},
     "output_type": "execute_result"
    }
   ],
   "source": [
    "# 열 이름 변경\n",
    "df_s.rename(columns={\"resid_reg_pop_남\" : \"제주도민_남\",\"resid_reg_pop_여\" : \"제주도민_여\",\"foreign_pop_남\" : \"외국인거주_남\"\n",
    "                    ,\"foreign_pop_여\" : \"외국인거주_여\",\"60세이상\": \"제주도민_60이상\"}, inplace=True)\n",
    "df_s.head()"
   ]
  },
  {
   "cell_type": "code",
   "execution_count": 27,
   "metadata": {},
   "outputs": [
    {
     "data": {
      "text/html": [
       "<div>\n",
       "<style scoped>\n",
       "    .dataframe tbody tr th:only-of-type {\n",
       "        vertical-align: middle;\n",
       "    }\n",
       "\n",
       "    .dataframe tbody tr th {\n",
       "        vertical-align: top;\n",
       "    }\n",
       "\n",
       "    .dataframe thead th {\n",
       "        text-align: right;\n",
       "    }\n",
       "</style>\n",
       "<table border=\"1\" class=\"dataframe\">\n",
       "  <thead>\n",
       "    <tr style=\"text-align: right;\">\n",
       "      <th></th>\n",
       "      <th>y_m</th>\n",
       "      <th>city</th>\n",
       "      <th>location</th>\n",
       "      <th>제주도민_남</th>\n",
       "      <th>외국인거주_남</th>\n",
       "      <th>제주도민_여</th>\n",
       "      <th>외국인거주_여</th>\n",
       "      <th>total_pop</th>\n",
       "      <th>제주도민_60이상</th>\n",
       "      <th>제주도민_60미만</th>\n",
       "    </tr>\n",
       "  </thead>\n",
       "  <tbody>\n",
       "    <tr>\n",
       "      <th>0</th>\n",
       "      <td>2018-01</td>\n",
       "      <td>제주시</td>\n",
       "      <td>건입동</td>\n",
       "      <td>5085</td>\n",
       "      <td>146</td>\n",
       "      <td>4715</td>\n",
       "      <td>82</td>\n",
       "      <td>10028</td>\n",
       "      <td>2478</td>\n",
       "      <td>7550</td>\n",
       "    </tr>\n",
       "    <tr>\n",
       "      <th>1</th>\n",
       "      <td>2018-02</td>\n",
       "      <td>제주시</td>\n",
       "      <td>건입동</td>\n",
       "      <td>5090</td>\n",
       "      <td>142</td>\n",
       "      <td>4724</td>\n",
       "      <td>82</td>\n",
       "      <td>10038</td>\n",
       "      <td>2484</td>\n",
       "      <td>7554</td>\n",
       "    </tr>\n",
       "    <tr>\n",
       "      <th>2</th>\n",
       "      <td>2018-03</td>\n",
       "      <td>제주시</td>\n",
       "      <td>건입동</td>\n",
       "      <td>5072</td>\n",
       "      <td>141</td>\n",
       "      <td>4711</td>\n",
       "      <td>81</td>\n",
       "      <td>10005</td>\n",
       "      <td>2494</td>\n",
       "      <td>7511</td>\n",
       "    </tr>\n",
       "    <tr>\n",
       "      <th>3</th>\n",
       "      <td>2018-04</td>\n",
       "      <td>제주시</td>\n",
       "      <td>건입동</td>\n",
       "      <td>5070</td>\n",
       "      <td>143</td>\n",
       "      <td>4718</td>\n",
       "      <td>86</td>\n",
       "      <td>10017</td>\n",
       "      <td>2484</td>\n",
       "      <td>7533</td>\n",
       "    </tr>\n",
       "    <tr>\n",
       "      <th>4</th>\n",
       "      <td>2018-05</td>\n",
       "      <td>제주시</td>\n",
       "      <td>건입동</td>\n",
       "      <td>5070</td>\n",
       "      <td>148</td>\n",
       "      <td>4730</td>\n",
       "      <td>90</td>\n",
       "      <td>10038</td>\n",
       "      <td>2504</td>\n",
       "      <td>7534</td>\n",
       "    </tr>\n",
       "  </tbody>\n",
       "</table>\n",
       "</div>"
      ],
      "text/plain": [
       "       y_m city location  제주도민_남  외국인거주_남  제주도민_여  외국인거주_여  total_pop  \\\n",
       "0  2018-01  제주시      건입동    5085      146    4715       82      10028   \n",
       "1  2018-02  제주시      건입동    5090      142    4724       82      10038   \n",
       "2  2018-03  제주시      건입동    5072      141    4711       81      10005   \n",
       "3  2018-04  제주시      건입동    5070      143    4718       86      10017   \n",
       "4  2018-05  제주시      건입동    5070      148    4730       90      10038   \n",
       "\n",
       "   제주도민_60이상  제주도민_60미만  \n",
       "0       2478       7550  \n",
       "1       2484       7554  \n",
       "2       2494       7511  \n",
       "3       2484       7533  \n",
       "4       2504       7534  "
      ]
     },
     "execution_count": 27,
     "metadata": {},
     "output_type": "execute_result"
    }
   ],
   "source": [
    "# 60세 미만 파생변수 열 생성\n",
    "df_s[\"제주도민_60미만\"] = df_s.apply(lambda x: x.total_pop - x.제주도민_60이상, axis = 1)\n",
    "df_s.head()"
   ]
  },
  {
   "cell_type": "code",
   "execution_count": 28,
   "metadata": {},
   "outputs": [],
   "source": [
    "# 열 순서 변경\n",
    "df_s = df_s.loc[:,[\"y_m\",\"city\",\"location\",\"제주도민_여\",\"외국인거주_여\",\"제주도민_남\",\"외국인거주_남\",\"제주도민_60이상\",\"제주도민_60미만\",\"total_pop\"]]"
   ]
  },
  {
   "cell_type": "code",
   "execution_count": 29,
   "metadata": {},
   "outputs": [],
   "source": [
    "# csv파일 변환\n",
    "df_s.to_csv(\"3번데이터_성별_연령_제주시.csv\",encoding = \"cp949\",index=False)"
   ]
  },
  {
   "cell_type": "markdown",
   "metadata": {},
   "source": [
    "### 서귀포시 거주민 데이터 전처리 결합"
   ]
  },
  {
   "cell_type": "code",
   "execution_count": 30,
   "metadata": {},
   "outputs": [
    {
     "data": {
      "text/html": [
       "<div>\n",
       "<style scoped>\n",
       "    .dataframe tbody tr th:only-of-type {\n",
       "        vertical-align: middle;\n",
       "    }\n",
       "\n",
       "    .dataframe tbody tr th {\n",
       "        vertical-align: top;\n",
       "    }\n",
       "\n",
       "    .dataframe thead th {\n",
       "        text-align: right;\n",
       "    }\n",
       "</style>\n",
       "<table border=\"1\" class=\"dataframe\">\n",
       "  <thead>\n",
       "    <tr style=\"text-align: right;\">\n",
       "      <th></th>\n",
       "      <th>base_year</th>\n",
       "      <th>base_month</th>\n",
       "      <th>city</th>\n",
       "      <th>emd_cd</th>\n",
       "      <th>emd_nm</th>\n",
       "      <th>sex</th>\n",
       "      <th>resid_reg_pop</th>\n",
       "      <th>foreign_pop</th>\n",
       "      <th>total_pop</th>\n",
       "    </tr>\n",
       "  </thead>\n",
       "  <tbody>\n",
       "    <tr>\n",
       "      <th>0</th>\n",
       "      <td>2018</td>\n",
       "      <td>1</td>\n",
       "      <td>제주시</td>\n",
       "      <td>50110590</td>\n",
       "      <td>건입동</td>\n",
       "      <td>남성</td>\n",
       "      <td>5085</td>\n",
       "      <td>146</td>\n",
       "      <td>5231</td>\n",
       "    </tr>\n",
       "    <tr>\n",
       "      <th>1</th>\n",
       "      <td>2018</td>\n",
       "      <td>1</td>\n",
       "      <td>제주시</td>\n",
       "      <td>50110590</td>\n",
       "      <td>건입동</td>\n",
       "      <td>여성</td>\n",
       "      <td>4715</td>\n",
       "      <td>82</td>\n",
       "      <td>4797</td>\n",
       "    </tr>\n",
       "    <tr>\n",
       "      <th>2</th>\n",
       "      <td>2018</td>\n",
       "      <td>1</td>\n",
       "      <td>제주시</td>\n",
       "      <td>50110256</td>\n",
       "      <td>구좌읍</td>\n",
       "      <td>남성</td>\n",
       "      <td>7965</td>\n",
       "      <td>368</td>\n",
       "      <td>8333</td>\n",
       "    </tr>\n",
       "    <tr>\n",
       "      <th>3</th>\n",
       "      <td>2018</td>\n",
       "      <td>1</td>\n",
       "      <td>제주시</td>\n",
       "      <td>50110256</td>\n",
       "      <td>구좌읍</td>\n",
       "      <td>여성</td>\n",
       "      <td>7609</td>\n",
       "      <td>184</td>\n",
       "      <td>7793</td>\n",
       "    </tr>\n",
       "    <tr>\n",
       "      <th>4</th>\n",
       "      <td>2018</td>\n",
       "      <td>1</td>\n",
       "      <td>서귀포시</td>\n",
       "      <td>50130253</td>\n",
       "      <td>남원읍</td>\n",
       "      <td>남성</td>\n",
       "      <td>9806</td>\n",
       "      <td>428</td>\n",
       "      <td>10234</td>\n",
       "    </tr>\n",
       "  </tbody>\n",
       "</table>\n",
       "</div>"
      ],
      "text/plain": [
       "   base_year  base_month  city    emd_cd emd_nm sex  resid_reg_pop  \\\n",
       "0       2018           1   제주시  50110590    건입동  남성           5085   \n",
       "1       2018           1   제주시  50110590    건입동  여성           4715   \n",
       "2       2018           1   제주시  50110256    구좌읍  남성           7965   \n",
       "3       2018           1   제주시  50110256    구좌읍  여성           7609   \n",
       "4       2018           1  서귀포시  50130253    남원읍  남성           9806   \n",
       "\n",
       "   foreign_pop  total_pop  \n",
       "0          146       5231  \n",
       "1           82       4797  \n",
       "2          368       8333  \n",
       "3          184       7793  \n",
       "4          428      10234  "
      ]
     },
     "execution_count": 30,
     "metadata": {},
     "output_type": "execute_result"
    }
   ],
   "source": [
    "# 파일 불러오기\n",
    "df_1 = pd.read_csv('03_거주인구_RESIDENT_POP.csv',encoding='cp949')\n",
    "df_1.head()"
   ]
  },
  {
   "cell_type": "code",
   "execution_count": 31,
   "metadata": {},
   "outputs": [],
   "source": [
    "# 서귀포시 데이터만 추출\n",
    "df_1 = df_1.loc[df_1[\"city\"] == \"서귀포시\"]"
   ]
  },
  {
   "cell_type": "code",
   "execution_count": 32,
   "metadata": {},
   "outputs": [
    {
     "name": "stdout",
     "output_type": "stream",
     "text": [
      "<class 'pandas.core.frame.DataFrame'>\n",
      "Int64Index: 1428 entries, 4 to 3611\n",
      "Data columns (total 9 columns):\n",
      " #   Column         Non-Null Count  Dtype \n",
      "---  ------         --------------  ----- \n",
      " 0   base_year      1428 non-null   int64 \n",
      " 1   base_month     1428 non-null   int64 \n",
      " 2   city           1428 non-null   object\n",
      " 3   emd_cd         1428 non-null   int64 \n",
      " 4   emd_nm         1428 non-null   object\n",
      " 5   sex            1428 non-null   object\n",
      " 6   resid_reg_pop  1428 non-null   int64 \n",
      " 7   foreign_pop    1428 non-null   int64 \n",
      " 8   total_pop      1428 non-null   int64 \n",
      "dtypes: int64(6), object(3)\n",
      "memory usage: 111.6+ KB\n"
     ]
    }
   ],
   "source": [
    "df_1.info()"
   ]
  },
  {
   "cell_type": "code",
   "execution_count": 33,
   "metadata": {},
   "outputs": [
    {
     "data": {
      "text/plain": [
       "'남원읍'"
      ]
     },
     "metadata": {},
     "output_type": "display_data"
    },
    {
     "data": {
      "text/plain": [
       "array([50130253], dtype=int64)"
      ]
     },
     "metadata": {},
     "output_type": "display_data"
    },
    {
     "data": {
      "text/plain": [
       "'대륜동'"
      ]
     },
     "metadata": {},
     "output_type": "display_data"
    },
    {
     "data": {
      "text/plain": [
       "array([50130590], dtype=int64)"
      ]
     },
     "metadata": {},
     "output_type": "display_data"
    },
    {
     "data": {
      "text/plain": [
       "'대정읍'"
      ]
     },
     "metadata": {},
     "output_type": "display_data"
    },
    {
     "data": {
      "text/plain": [
       "array([50130250], dtype=int64)"
      ]
     },
     "metadata": {},
     "output_type": "display_data"
    },
    {
     "data": {
      "text/plain": [
       "'대천동'"
      ]
     },
     "metadata": {},
     "output_type": "display_data"
    },
    {
     "data": {
      "text/plain": [
       "array([50130600], dtype=int64)"
      ]
     },
     "metadata": {},
     "output_type": "display_data"
    },
    {
     "data": {
      "text/plain": [
       "'동홍동'"
      ]
     },
     "metadata": {},
     "output_type": "display_data"
    },
    {
     "data": {
      "text/plain": [
       "array([50130570], dtype=int64)"
      ]
     },
     "metadata": {},
     "output_type": "display_data"
    },
    {
     "data": {
      "text/plain": [
       "'서홍동'"
      ]
     },
     "metadata": {},
     "output_type": "display_data"
    },
    {
     "data": {
      "text/plain": [
       "array([50130580], dtype=int64)"
      ]
     },
     "metadata": {},
     "output_type": "display_data"
    },
    {
     "data": {
      "text/plain": [
       "'성산읍'"
      ]
     },
     "metadata": {},
     "output_type": "display_data"
    },
    {
     "data": {
      "text/plain": [
       "array([50130259], dtype=int64)"
      ]
     },
     "metadata": {},
     "output_type": "display_data"
    },
    {
     "data": {
      "text/plain": [
       "'송산동'"
      ]
     },
     "metadata": {},
     "output_type": "display_data"
    },
    {
     "data": {
      "text/plain": [
       "array([50130510], dtype=int64)"
      ]
     },
     "metadata": {},
     "output_type": "display_data"
    },
    {
     "data": {
      "text/plain": [
       "'안덕면'"
      ]
     },
     "metadata": {},
     "output_type": "display_data"
    },
    {
     "data": {
      "text/plain": [
       "array([50130310], dtype=int64)"
      ]
     },
     "metadata": {},
     "output_type": "display_data"
    },
    {
     "data": {
      "text/plain": [
       "'영천동'"
      ]
     },
     "metadata": {},
     "output_type": "display_data"
    },
    {
     "data": {
      "text/plain": [
       "array([50130560], dtype=int64)"
      ]
     },
     "metadata": {},
     "output_type": "display_data"
    },
    {
     "data": {
      "text/plain": [
       "'예래동'"
      ]
     },
     "metadata": {},
     "output_type": "display_data"
    },
    {
     "data": {
      "text/plain": [
       "array([50130620], dtype=int64)"
      ]
     },
     "metadata": {},
     "output_type": "display_data"
    },
    {
     "data": {
      "text/plain": [
       "'정방동'"
      ]
     },
     "metadata": {},
     "output_type": "display_data"
    },
    {
     "data": {
      "text/plain": [
       "array([50130520], dtype=int64)"
      ]
     },
     "metadata": {},
     "output_type": "display_data"
    },
    {
     "data": {
      "text/plain": [
       "'중문동'"
      ]
     },
     "metadata": {},
     "output_type": "display_data"
    },
    {
     "data": {
      "text/plain": [
       "array([50130610], dtype=int64)"
      ]
     },
     "metadata": {},
     "output_type": "display_data"
    },
    {
     "data": {
      "text/plain": [
       "'중앙동'"
      ]
     },
     "metadata": {},
     "output_type": "display_data"
    },
    {
     "data": {
      "text/plain": [
       "array([50130530], dtype=int64)"
      ]
     },
     "metadata": {},
     "output_type": "display_data"
    },
    {
     "data": {
      "text/plain": [
       "'천지동'"
      ]
     },
     "metadata": {},
     "output_type": "display_data"
    },
    {
     "data": {
      "text/plain": [
       "array([50130540], dtype=int64)"
      ]
     },
     "metadata": {},
     "output_type": "display_data"
    },
    {
     "data": {
      "text/plain": [
       "'표선면'"
      ]
     },
     "metadata": {},
     "output_type": "display_data"
    },
    {
     "data": {
      "text/plain": [
       "array([50130320], dtype=int64)"
      ]
     },
     "metadata": {},
     "output_type": "display_data"
    },
    {
     "data": {
      "text/plain": [
       "'효돈동'"
      ]
     },
     "metadata": {},
     "output_type": "display_data"
    },
    {
     "data": {
      "text/plain": [
       "array([50130550], dtype=int64)"
      ]
     },
     "metadata": {},
     "output_type": "display_data"
    }
   ],
   "source": [
    "# 행정동명 하나당 emd_cd는 한개이다.\n",
    "# 'emd_cd' 와 'emd_nm' 은 1:1 관계\n",
    "for i in df_1.emd_nm.unique():\n",
    "    display(i,df_1[df_1.emd_nm == i].emd_cd.unique())"
   ]
  },
  {
   "cell_type": "code",
   "execution_count": 34,
   "metadata": {},
   "outputs": [
    {
     "data": {
      "text/html": [
       "<div>\n",
       "<style scoped>\n",
       "    .dataframe tbody tr th:only-of-type {\n",
       "        vertical-align: middle;\n",
       "    }\n",
       "\n",
       "    .dataframe tbody tr th {\n",
       "        vertical-align: top;\n",
       "    }\n",
       "\n",
       "    .dataframe thead th {\n",
       "        text-align: right;\n",
       "    }\n",
       "</style>\n",
       "<table border=\"1\" class=\"dataframe\">\n",
       "  <thead>\n",
       "    <tr style=\"text-align: right;\">\n",
       "      <th></th>\n",
       "      <th>base_year</th>\n",
       "      <th>base_month</th>\n",
       "      <th>city</th>\n",
       "      <th>location</th>\n",
       "      <th>sex</th>\n",
       "      <th>resid_reg_pop</th>\n",
       "      <th>foreign_pop</th>\n",
       "      <th>total_pop</th>\n",
       "    </tr>\n",
       "  </thead>\n",
       "  <tbody>\n",
       "    <tr>\n",
       "      <th>4</th>\n",
       "      <td>2018</td>\n",
       "      <td>1</td>\n",
       "      <td>서귀포시</td>\n",
       "      <td>남원읍</td>\n",
       "      <td>남성</td>\n",
       "      <td>9806</td>\n",
       "      <td>428</td>\n",
       "      <td>10234</td>\n",
       "    </tr>\n",
       "    <tr>\n",
       "      <th>5</th>\n",
       "      <td>2018</td>\n",
       "      <td>1</td>\n",
       "      <td>서귀포시</td>\n",
       "      <td>남원읍</td>\n",
       "      <td>여성</td>\n",
       "      <td>9306</td>\n",
       "      <td>200</td>\n",
       "      <td>9506</td>\n",
       "    </tr>\n",
       "    <tr>\n",
       "      <th>8</th>\n",
       "      <td>2018</td>\n",
       "      <td>1</td>\n",
       "      <td>서귀포시</td>\n",
       "      <td>대륜동</td>\n",
       "      <td>남성</td>\n",
       "      <td>6836</td>\n",
       "      <td>83</td>\n",
       "      <td>6919</td>\n",
       "    </tr>\n",
       "    <tr>\n",
       "      <th>9</th>\n",
       "      <td>2018</td>\n",
       "      <td>1</td>\n",
       "      <td>서귀포시</td>\n",
       "      <td>대륜동</td>\n",
       "      <td>여성</td>\n",
       "      <td>6637</td>\n",
       "      <td>95</td>\n",
       "      <td>6732</td>\n",
       "    </tr>\n",
       "    <tr>\n",
       "      <th>10</th>\n",
       "      <td>2018</td>\n",
       "      <td>1</td>\n",
       "      <td>서귀포시</td>\n",
       "      <td>대정읍</td>\n",
       "      <td>남성</td>\n",
       "      <td>10360</td>\n",
       "      <td>841</td>\n",
       "      <td>11201</td>\n",
       "    </tr>\n",
       "  </tbody>\n",
       "</table>\n",
       "</div>"
      ],
      "text/plain": [
       "    base_year  base_month  city location sex  resid_reg_pop  foreign_pop  \\\n",
       "4        2018           1  서귀포시      남원읍  남성           9806          428   \n",
       "5        2018           1  서귀포시      남원읍  여성           9306          200   \n",
       "8        2018           1  서귀포시      대륜동  남성           6836           83   \n",
       "9        2018           1  서귀포시      대륜동  여성           6637           95   \n",
       "10       2018           1  서귀포시      대정읍  남성          10360          841   \n",
       "\n",
       "    total_pop  \n",
       "4       10234  \n",
       "5        9506  \n",
       "8        6919  \n",
       "9        6732  \n",
       "10      11201  "
      ]
     },
     "execution_count": 34,
     "metadata": {},
     "output_type": "execute_result"
    }
   ],
   "source": [
    "## column 이름 변경, 행정동 코드 제거\n",
    "df_1 = df_1.drop('emd_cd', axis = 1)\n",
    "df_1 = df_1.rename(columns={'emd_nm':'location'})\n",
    "df_1.head()"
   ]
  },
  {
   "cell_type": "code",
   "execution_count": 35,
   "metadata": {},
   "outputs": [
    {
     "data": {
      "text/html": [
       "<div>\n",
       "<style scoped>\n",
       "    .dataframe tbody tr th:only-of-type {\n",
       "        vertical-align: middle;\n",
       "    }\n",
       "\n",
       "    .dataframe tbody tr th {\n",
       "        vertical-align: top;\n",
       "    }\n",
       "\n",
       "    .dataframe thead th {\n",
       "        text-align: right;\n",
       "    }\n",
       "</style>\n",
       "<table border=\"1\" class=\"dataframe\">\n",
       "  <thead>\n",
       "    <tr style=\"text-align: right;\">\n",
       "      <th></th>\n",
       "      <th>base_year</th>\n",
       "      <th>base_month</th>\n",
       "      <th>city</th>\n",
       "      <th>location</th>\n",
       "      <th>sex</th>\n",
       "      <th>resid_reg_pop</th>\n",
       "      <th>foreign_pop</th>\n",
       "      <th>total_pop</th>\n",
       "      <th>y_m</th>\n",
       "    </tr>\n",
       "  </thead>\n",
       "  <tbody>\n",
       "    <tr>\n",
       "      <th>4</th>\n",
       "      <td>2018</td>\n",
       "      <td>01</td>\n",
       "      <td>서귀포시</td>\n",
       "      <td>남원읍</td>\n",
       "      <td>남성</td>\n",
       "      <td>9806</td>\n",
       "      <td>428</td>\n",
       "      <td>10234</td>\n",
       "      <td>2018-01</td>\n",
       "    </tr>\n",
       "    <tr>\n",
       "      <th>5</th>\n",
       "      <td>2018</td>\n",
       "      <td>01</td>\n",
       "      <td>서귀포시</td>\n",
       "      <td>남원읍</td>\n",
       "      <td>여성</td>\n",
       "      <td>9306</td>\n",
       "      <td>200</td>\n",
       "      <td>9506</td>\n",
       "      <td>2018-01</td>\n",
       "    </tr>\n",
       "    <tr>\n",
       "      <th>8</th>\n",
       "      <td>2018</td>\n",
       "      <td>01</td>\n",
       "      <td>서귀포시</td>\n",
       "      <td>대륜동</td>\n",
       "      <td>남성</td>\n",
       "      <td>6836</td>\n",
       "      <td>83</td>\n",
       "      <td>6919</td>\n",
       "      <td>2018-01</td>\n",
       "    </tr>\n",
       "    <tr>\n",
       "      <th>9</th>\n",
       "      <td>2018</td>\n",
       "      <td>01</td>\n",
       "      <td>서귀포시</td>\n",
       "      <td>대륜동</td>\n",
       "      <td>여성</td>\n",
       "      <td>6637</td>\n",
       "      <td>95</td>\n",
       "      <td>6732</td>\n",
       "      <td>2018-01</td>\n",
       "    </tr>\n",
       "    <tr>\n",
       "      <th>10</th>\n",
       "      <td>2018</td>\n",
       "      <td>01</td>\n",
       "      <td>서귀포시</td>\n",
       "      <td>대정읍</td>\n",
       "      <td>남성</td>\n",
       "      <td>10360</td>\n",
       "      <td>841</td>\n",
       "      <td>11201</td>\n",
       "      <td>2018-01</td>\n",
       "    </tr>\n",
       "  </tbody>\n",
       "</table>\n",
       "</div>"
      ],
      "text/plain": [
       "    base_year base_month  city location sex  resid_reg_pop  foreign_pop  \\\n",
       "4        2018         01  서귀포시      남원읍  남성           9806          428   \n",
       "5        2018         01  서귀포시      남원읍  여성           9306          200   \n",
       "8        2018         01  서귀포시      대륜동  남성           6836           83   \n",
       "9        2018         01  서귀포시      대륜동  여성           6637           95   \n",
       "10       2018         01  서귀포시      대정읍  남성          10360          841   \n",
       "\n",
       "    total_pop      y_m  \n",
       "4       10234  2018-01  \n",
       "5        9506  2018-01  \n",
       "8        6919  2018-01  \n",
       "9        6732  2018-01  \n",
       "10      11201  2018-01  "
      ]
     },
     "execution_count": 35,
     "metadata": {},
     "output_type": "execute_result"
    }
   ],
   "source": [
    "# month 변수 만들기 (ex. 01,02 ..)\n",
    "df_1['base_month'] = df_1['base_month'].apply(lambda x: \"{:0>2d}\".format(x))\n",
    "\n",
    "\n",
    "# 년-월 형태로 만들기\n",
    "df_1['y_m'] = df_1[['base_year','base_month']].apply(lambda x: '-'.join(x.astype(str)), axis=1)\n",
    "\n",
    "df_1.head()"
   ]
  },
  {
   "cell_type": "code",
   "execution_count": 36,
   "metadata": {},
   "outputs": [
    {
     "data": {
      "text/html": [
       "<div>\n",
       "<style scoped>\n",
       "    .dataframe tbody tr th:only-of-type {\n",
       "        vertical-align: middle;\n",
       "    }\n",
       "\n",
       "    .dataframe tbody tr th {\n",
       "        vertical-align: top;\n",
       "    }\n",
       "\n",
       "    .dataframe thead th {\n",
       "        text-align: right;\n",
       "    }\n",
       "</style>\n",
       "<table border=\"1\" class=\"dataframe\">\n",
       "  <thead>\n",
       "    <tr style=\"text-align: right;\">\n",
       "      <th></th>\n",
       "      <th>city</th>\n",
       "      <th>location</th>\n",
       "      <th>sex</th>\n",
       "      <th>resid_reg_pop</th>\n",
       "      <th>foreign_pop</th>\n",
       "      <th>total_pop</th>\n",
       "      <th>y_m</th>\n",
       "    </tr>\n",
       "  </thead>\n",
       "  <tbody>\n",
       "    <tr>\n",
       "      <th>4</th>\n",
       "      <td>서귀포시</td>\n",
       "      <td>남원읍</td>\n",
       "      <td>남성</td>\n",
       "      <td>9806</td>\n",
       "      <td>428</td>\n",
       "      <td>10234</td>\n",
       "      <td>2018-01</td>\n",
       "    </tr>\n",
       "    <tr>\n",
       "      <th>5</th>\n",
       "      <td>서귀포시</td>\n",
       "      <td>남원읍</td>\n",
       "      <td>여성</td>\n",
       "      <td>9306</td>\n",
       "      <td>200</td>\n",
       "      <td>9506</td>\n",
       "      <td>2018-01</td>\n",
       "    </tr>\n",
       "    <tr>\n",
       "      <th>8</th>\n",
       "      <td>서귀포시</td>\n",
       "      <td>대륜동</td>\n",
       "      <td>남성</td>\n",
       "      <td>6836</td>\n",
       "      <td>83</td>\n",
       "      <td>6919</td>\n",
       "      <td>2018-01</td>\n",
       "    </tr>\n",
       "    <tr>\n",
       "      <th>9</th>\n",
       "      <td>서귀포시</td>\n",
       "      <td>대륜동</td>\n",
       "      <td>여성</td>\n",
       "      <td>6637</td>\n",
       "      <td>95</td>\n",
       "      <td>6732</td>\n",
       "      <td>2018-01</td>\n",
       "    </tr>\n",
       "    <tr>\n",
       "      <th>10</th>\n",
       "      <td>서귀포시</td>\n",
       "      <td>대정읍</td>\n",
       "      <td>남성</td>\n",
       "      <td>10360</td>\n",
       "      <td>841</td>\n",
       "      <td>11201</td>\n",
       "      <td>2018-01</td>\n",
       "    </tr>\n",
       "  </tbody>\n",
       "</table>\n",
       "</div>"
      ],
      "text/plain": [
       "    city location sex  resid_reg_pop  foreign_pop  total_pop      y_m\n",
       "4   서귀포시      남원읍  남성           9806          428      10234  2018-01\n",
       "5   서귀포시      남원읍  여성           9306          200       9506  2018-01\n",
       "8   서귀포시      대륜동  남성           6836           83       6919  2018-01\n",
       "9   서귀포시      대륜동  여성           6637           95       6732  2018-01\n",
       "10  서귀포시      대정읍  남성          10360          841      11201  2018-01"
      ]
     },
     "execution_count": 36,
     "metadata": {},
     "output_type": "execute_result"
    }
   ],
   "source": [
    "#필요 없는 열 제거\n",
    "df_1 = df_1.drop({'base_year',\"base_month\"},axis=1)\n",
    "df_1.head()"
   ]
  },
  {
   "cell_type": "markdown",
   "metadata": {},
   "source": [
    "### 남성 거주자 데이터 변수 생성"
   ]
  },
  {
   "cell_type": "code",
   "execution_count": 37,
   "metadata": {},
   "outputs": [
    {
     "data": {
      "text/html": [
       "<div>\n",
       "<style scoped>\n",
       "    .dataframe tbody tr th:only-of-type {\n",
       "        vertical-align: middle;\n",
       "    }\n",
       "\n",
       "    .dataframe tbody tr th {\n",
       "        vertical-align: top;\n",
       "    }\n",
       "\n",
       "    .dataframe thead th {\n",
       "        text-align: right;\n",
       "    }\n",
       "</style>\n",
       "<table border=\"1\" class=\"dataframe\">\n",
       "  <thead>\n",
       "    <tr style=\"text-align: right;\">\n",
       "      <th></th>\n",
       "      <th>city</th>\n",
       "      <th>location</th>\n",
       "      <th>sex</th>\n",
       "      <th>resid_reg_pop</th>\n",
       "      <th>foreign_pop</th>\n",
       "      <th>total_pop</th>\n",
       "      <th>y_m</th>\n",
       "    </tr>\n",
       "  </thead>\n",
       "  <tbody>\n",
       "    <tr>\n",
       "      <th>4</th>\n",
       "      <td>서귀포시</td>\n",
       "      <td>남원읍</td>\n",
       "      <td>남성</td>\n",
       "      <td>9806</td>\n",
       "      <td>428</td>\n",
       "      <td>10234</td>\n",
       "      <td>2018-01</td>\n",
       "    </tr>\n",
       "    <tr>\n",
       "      <th>8</th>\n",
       "      <td>서귀포시</td>\n",
       "      <td>대륜동</td>\n",
       "      <td>남성</td>\n",
       "      <td>6836</td>\n",
       "      <td>83</td>\n",
       "      <td>6919</td>\n",
       "      <td>2018-01</td>\n",
       "    </tr>\n",
       "    <tr>\n",
       "      <th>10</th>\n",
       "      <td>서귀포시</td>\n",
       "      <td>대정읍</td>\n",
       "      <td>남성</td>\n",
       "      <td>10360</td>\n",
       "      <td>841</td>\n",
       "      <td>11201</td>\n",
       "      <td>2018-01</td>\n",
       "    </tr>\n",
       "    <tr>\n",
       "      <th>12</th>\n",
       "      <td>서귀포시</td>\n",
       "      <td>대천동</td>\n",
       "      <td>남성</td>\n",
       "      <td>6685</td>\n",
       "      <td>107</td>\n",
       "      <td>6792</td>\n",
       "      <td>2018-01</td>\n",
       "    </tr>\n",
       "    <tr>\n",
       "      <th>16</th>\n",
       "      <td>서귀포시</td>\n",
       "      <td>동홍동</td>\n",
       "      <td>남성</td>\n",
       "      <td>11124</td>\n",
       "      <td>624</td>\n",
       "      <td>11748</td>\n",
       "      <td>2018-01</td>\n",
       "    </tr>\n",
       "    <tr>\n",
       "      <th>...</th>\n",
       "      <td>...</td>\n",
       "      <td>...</td>\n",
       "      <td>...</td>\n",
       "      <td>...</td>\n",
       "      <td>...</td>\n",
       "      <td>...</td>\n",
       "      <td>...</td>\n",
       "    </tr>\n",
       "    <tr>\n",
       "      <th>3594</th>\n",
       "      <td>서귀포시</td>\n",
       "      <td>중문동</td>\n",
       "      <td>남성</td>\n",
       "      <td>5938</td>\n",
       "      <td>151</td>\n",
       "      <td>6089</td>\n",
       "      <td>2021-06</td>\n",
       "    </tr>\n",
       "    <tr>\n",
       "      <th>3596</th>\n",
       "      <td>서귀포시</td>\n",
       "      <td>중앙동</td>\n",
       "      <td>남성</td>\n",
       "      <td>1605</td>\n",
       "      <td>32</td>\n",
       "      <td>1637</td>\n",
       "      <td>2021-06</td>\n",
       "    </tr>\n",
       "    <tr>\n",
       "      <th>3598</th>\n",
       "      <td>서귀포시</td>\n",
       "      <td>천지동</td>\n",
       "      <td>남성</td>\n",
       "      <td>1754</td>\n",
       "      <td>60</td>\n",
       "      <td>1814</td>\n",
       "      <td>2021-06</td>\n",
       "    </tr>\n",
       "    <tr>\n",
       "      <th>3602</th>\n",
       "      <td>서귀포시</td>\n",
       "      <td>표선면</td>\n",
       "      <td>남성</td>\n",
       "      <td>6314</td>\n",
       "      <td>211</td>\n",
       "      <td>6525</td>\n",
       "      <td>2021-06</td>\n",
       "    </tr>\n",
       "    <tr>\n",
       "      <th>3610</th>\n",
       "      <td>서귀포시</td>\n",
       "      <td>효돈동</td>\n",
       "      <td>남성</td>\n",
       "      <td>2660</td>\n",
       "      <td>39</td>\n",
       "      <td>2699</td>\n",
       "      <td>2021-06</td>\n",
       "    </tr>\n",
       "  </tbody>\n",
       "</table>\n",
       "<p>714 rows × 7 columns</p>\n",
       "</div>"
      ],
      "text/plain": [
       "      city location sex  resid_reg_pop  foreign_pop  total_pop      y_m\n",
       "4     서귀포시      남원읍  남성           9806          428      10234  2018-01\n",
       "8     서귀포시      대륜동  남성           6836           83       6919  2018-01\n",
       "10    서귀포시      대정읍  남성          10360          841      11201  2018-01\n",
       "12    서귀포시      대천동  남성           6685          107       6792  2018-01\n",
       "16    서귀포시      동홍동  남성          11124          624      11748  2018-01\n",
       "...    ...      ...  ..            ...          ...        ...      ...\n",
       "3594  서귀포시      중문동  남성           5938          151       6089  2021-06\n",
       "3596  서귀포시      중앙동  남성           1605           32       1637  2021-06\n",
       "3598  서귀포시      천지동  남성           1754           60       1814  2021-06\n",
       "3602  서귀포시      표선면  남성           6314          211       6525  2021-06\n",
       "3610  서귀포시      효돈동  남성           2660           39       2699  2021-06\n",
       "\n",
       "[714 rows x 7 columns]"
      ]
     },
     "execution_count": 37,
     "metadata": {},
     "output_type": "execute_result"
    }
   ],
   "source": [
    "# 남성 거주자 데이터 추출\n",
    "temp = df_1[df_1.sex == \"남성\"]\n",
    "temp"
   ]
  },
  {
   "cell_type": "code",
   "execution_count": 38,
   "metadata": {},
   "outputs": [
    {
     "data": {
      "text/html": [
       "<div>\n",
       "<style scoped>\n",
       "    .dataframe tbody tr th:only-of-type {\n",
       "        vertical-align: middle;\n",
       "    }\n",
       "\n",
       "    .dataframe tbody tr th {\n",
       "        vertical-align: top;\n",
       "    }\n",
       "\n",
       "    .dataframe thead th {\n",
       "        text-align: right;\n",
       "    }\n",
       "</style>\n",
       "<table border=\"1\" class=\"dataframe\">\n",
       "  <thead>\n",
       "    <tr style=\"text-align: right;\">\n",
       "      <th></th>\n",
       "      <th>city</th>\n",
       "      <th>location</th>\n",
       "      <th>resid_reg_pop_남</th>\n",
       "      <th>foreign_pop_남</th>\n",
       "      <th>total_pop_남</th>\n",
       "      <th>y_m</th>\n",
       "    </tr>\n",
       "  </thead>\n",
       "  <tbody>\n",
       "    <tr>\n",
       "      <th>4</th>\n",
       "      <td>서귀포시</td>\n",
       "      <td>남원읍</td>\n",
       "      <td>9806</td>\n",
       "      <td>428</td>\n",
       "      <td>10234</td>\n",
       "      <td>2018-01</td>\n",
       "    </tr>\n",
       "    <tr>\n",
       "      <th>8</th>\n",
       "      <td>서귀포시</td>\n",
       "      <td>대륜동</td>\n",
       "      <td>6836</td>\n",
       "      <td>83</td>\n",
       "      <td>6919</td>\n",
       "      <td>2018-01</td>\n",
       "    </tr>\n",
       "    <tr>\n",
       "      <th>10</th>\n",
       "      <td>서귀포시</td>\n",
       "      <td>대정읍</td>\n",
       "      <td>10360</td>\n",
       "      <td>841</td>\n",
       "      <td>11201</td>\n",
       "      <td>2018-01</td>\n",
       "    </tr>\n",
       "    <tr>\n",
       "      <th>12</th>\n",
       "      <td>서귀포시</td>\n",
       "      <td>대천동</td>\n",
       "      <td>6685</td>\n",
       "      <td>107</td>\n",
       "      <td>6792</td>\n",
       "      <td>2018-01</td>\n",
       "    </tr>\n",
       "    <tr>\n",
       "      <th>16</th>\n",
       "      <td>서귀포시</td>\n",
       "      <td>동홍동</td>\n",
       "      <td>11124</td>\n",
       "      <td>624</td>\n",
       "      <td>11748</td>\n",
       "      <td>2018-01</td>\n",
       "    </tr>\n",
       "    <tr>\n",
       "      <th>...</th>\n",
       "      <td>...</td>\n",
       "      <td>...</td>\n",
       "      <td>...</td>\n",
       "      <td>...</td>\n",
       "      <td>...</td>\n",
       "      <td>...</td>\n",
       "    </tr>\n",
       "    <tr>\n",
       "      <th>3594</th>\n",
       "      <td>서귀포시</td>\n",
       "      <td>중문동</td>\n",
       "      <td>5938</td>\n",
       "      <td>151</td>\n",
       "      <td>6089</td>\n",
       "      <td>2021-06</td>\n",
       "    </tr>\n",
       "    <tr>\n",
       "      <th>3596</th>\n",
       "      <td>서귀포시</td>\n",
       "      <td>중앙동</td>\n",
       "      <td>1605</td>\n",
       "      <td>32</td>\n",
       "      <td>1637</td>\n",
       "      <td>2021-06</td>\n",
       "    </tr>\n",
       "    <tr>\n",
       "      <th>3598</th>\n",
       "      <td>서귀포시</td>\n",
       "      <td>천지동</td>\n",
       "      <td>1754</td>\n",
       "      <td>60</td>\n",
       "      <td>1814</td>\n",
       "      <td>2021-06</td>\n",
       "    </tr>\n",
       "    <tr>\n",
       "      <th>3602</th>\n",
       "      <td>서귀포시</td>\n",
       "      <td>표선면</td>\n",
       "      <td>6314</td>\n",
       "      <td>211</td>\n",
       "      <td>6525</td>\n",
       "      <td>2021-06</td>\n",
       "    </tr>\n",
       "    <tr>\n",
       "      <th>3610</th>\n",
       "      <td>서귀포시</td>\n",
       "      <td>효돈동</td>\n",
       "      <td>2660</td>\n",
       "      <td>39</td>\n",
       "      <td>2699</td>\n",
       "      <td>2021-06</td>\n",
       "    </tr>\n",
       "  </tbody>\n",
       "</table>\n",
       "<p>714 rows × 6 columns</p>\n",
       "</div>"
      ],
      "text/plain": [
       "      city location  resid_reg_pop_남  foreign_pop_남  total_pop_남      y_m\n",
       "4     서귀포시      남원읍             9806            428        10234  2018-01\n",
       "8     서귀포시      대륜동             6836             83         6919  2018-01\n",
       "10    서귀포시      대정읍            10360            841        11201  2018-01\n",
       "12    서귀포시      대천동             6685            107         6792  2018-01\n",
       "16    서귀포시      동홍동            11124            624        11748  2018-01\n",
       "...    ...      ...              ...            ...          ...      ...\n",
       "3594  서귀포시      중문동             5938            151         6089  2021-06\n",
       "3596  서귀포시      중앙동             1605             32         1637  2021-06\n",
       "3598  서귀포시      천지동             1754             60         1814  2021-06\n",
       "3602  서귀포시      표선면             6314            211         6525  2021-06\n",
       "3610  서귀포시      효돈동             2660             39         2699  2021-06\n",
       "\n",
       "[714 rows x 6 columns]"
      ]
     },
     "execution_count": 38,
     "metadata": {},
     "output_type": "execute_result"
    }
   ],
   "source": [
    "# 열이름 정의\n",
    "temp.rename(columns={\"resid_reg_pop\" : \"resid_reg_pop_남\",\"foreign_pop\" : \"foreign_pop_남\",\"total_pop\" : \"total_pop_남\"}, inplace=True)\n",
    "temp = temp.drop(\"sex\",axis = 1)\n",
    "temp"
   ]
  },
  {
   "cell_type": "markdown",
   "metadata": {},
   "source": [
    "### 여성 거주자 데이터 변수 생성"
   ]
  },
  {
   "cell_type": "code",
   "execution_count": 39,
   "metadata": {},
   "outputs": [
    {
     "data": {
      "text/html": [
       "<div>\n",
       "<style scoped>\n",
       "    .dataframe tbody tr th:only-of-type {\n",
       "        vertical-align: middle;\n",
       "    }\n",
       "\n",
       "    .dataframe tbody tr th {\n",
       "        vertical-align: top;\n",
       "    }\n",
       "\n",
       "    .dataframe thead th {\n",
       "        text-align: right;\n",
       "    }\n",
       "</style>\n",
       "<table border=\"1\" class=\"dataframe\">\n",
       "  <thead>\n",
       "    <tr style=\"text-align: right;\">\n",
       "      <th></th>\n",
       "      <th>city</th>\n",
       "      <th>location</th>\n",
       "      <th>sex</th>\n",
       "      <th>resid_reg_pop</th>\n",
       "      <th>foreign_pop</th>\n",
       "      <th>total_pop</th>\n",
       "      <th>y_m</th>\n",
       "    </tr>\n",
       "  </thead>\n",
       "  <tbody>\n",
       "    <tr>\n",
       "      <th>5</th>\n",
       "      <td>서귀포시</td>\n",
       "      <td>남원읍</td>\n",
       "      <td>여성</td>\n",
       "      <td>9306</td>\n",
       "      <td>200</td>\n",
       "      <td>9506</td>\n",
       "      <td>2018-01</td>\n",
       "    </tr>\n",
       "    <tr>\n",
       "      <th>9</th>\n",
       "      <td>서귀포시</td>\n",
       "      <td>대륜동</td>\n",
       "      <td>여성</td>\n",
       "      <td>6637</td>\n",
       "      <td>95</td>\n",
       "      <td>6732</td>\n",
       "      <td>2018-01</td>\n",
       "    </tr>\n",
       "    <tr>\n",
       "      <th>11</th>\n",
       "      <td>서귀포시</td>\n",
       "      <td>대정읍</td>\n",
       "      <td>여성</td>\n",
       "      <td>10725</td>\n",
       "      <td>677</td>\n",
       "      <td>11402</td>\n",
       "      <td>2018-01</td>\n",
       "    </tr>\n",
       "    <tr>\n",
       "      <th>13</th>\n",
       "      <td>서귀포시</td>\n",
       "      <td>대천동</td>\n",
       "      <td>여성</td>\n",
       "      <td>6475</td>\n",
       "      <td>137</td>\n",
       "      <td>6612</td>\n",
       "      <td>2018-01</td>\n",
       "    </tr>\n",
       "    <tr>\n",
       "      <th>17</th>\n",
       "      <td>서귀포시</td>\n",
       "      <td>동홍동</td>\n",
       "      <td>여성</td>\n",
       "      <td>11569</td>\n",
       "      <td>642</td>\n",
       "      <td>12211</td>\n",
       "      <td>2018-01</td>\n",
       "    </tr>\n",
       "    <tr>\n",
       "      <th>...</th>\n",
       "      <td>...</td>\n",
       "      <td>...</td>\n",
       "      <td>...</td>\n",
       "      <td>...</td>\n",
       "      <td>...</td>\n",
       "      <td>...</td>\n",
       "      <td>...</td>\n",
       "    </tr>\n",
       "    <tr>\n",
       "      <th>3595</th>\n",
       "      <td>서귀포시</td>\n",
       "      <td>중문동</td>\n",
       "      <td>여성</td>\n",
       "      <td>5625</td>\n",
       "      <td>154</td>\n",
       "      <td>5779</td>\n",
       "      <td>2021-06</td>\n",
       "    </tr>\n",
       "    <tr>\n",
       "      <th>3597</th>\n",
       "      <td>서귀포시</td>\n",
       "      <td>중앙동</td>\n",
       "      <td>여성</td>\n",
       "      <td>1753</td>\n",
       "      <td>40</td>\n",
       "      <td>1793</td>\n",
       "      <td>2021-06</td>\n",
       "    </tr>\n",
       "    <tr>\n",
       "      <th>3599</th>\n",
       "      <td>서귀포시</td>\n",
       "      <td>천지동</td>\n",
       "      <td>여성</td>\n",
       "      <td>1712</td>\n",
       "      <td>55</td>\n",
       "      <td>1767</td>\n",
       "      <td>2021-06</td>\n",
       "    </tr>\n",
       "    <tr>\n",
       "      <th>3603</th>\n",
       "      <td>서귀포시</td>\n",
       "      <td>표선면</td>\n",
       "      <td>여성</td>\n",
       "      <td>6033</td>\n",
       "      <td>123</td>\n",
       "      <td>6156</td>\n",
       "      <td>2021-06</td>\n",
       "    </tr>\n",
       "    <tr>\n",
       "      <th>3611</th>\n",
       "      <td>서귀포시</td>\n",
       "      <td>효돈동</td>\n",
       "      <td>여성</td>\n",
       "      <td>2597</td>\n",
       "      <td>18</td>\n",
       "      <td>2615</td>\n",
       "      <td>2021-06</td>\n",
       "    </tr>\n",
       "  </tbody>\n",
       "</table>\n",
       "<p>714 rows × 7 columns</p>\n",
       "</div>"
      ],
      "text/plain": [
       "      city location sex  resid_reg_pop  foreign_pop  total_pop      y_m\n",
       "5     서귀포시      남원읍  여성           9306          200       9506  2018-01\n",
       "9     서귀포시      대륜동  여성           6637           95       6732  2018-01\n",
       "11    서귀포시      대정읍  여성          10725          677      11402  2018-01\n",
       "13    서귀포시      대천동  여성           6475          137       6612  2018-01\n",
       "17    서귀포시      동홍동  여성          11569          642      12211  2018-01\n",
       "...    ...      ...  ..            ...          ...        ...      ...\n",
       "3595  서귀포시      중문동  여성           5625          154       5779  2021-06\n",
       "3597  서귀포시      중앙동  여성           1753           40       1793  2021-06\n",
       "3599  서귀포시      천지동  여성           1712           55       1767  2021-06\n",
       "3603  서귀포시      표선면  여성           6033          123       6156  2021-06\n",
       "3611  서귀포시      효돈동  여성           2597           18       2615  2021-06\n",
       "\n",
       "[714 rows x 7 columns]"
      ]
     },
     "execution_count": 39,
     "metadata": {},
     "output_type": "execute_result"
    }
   ],
   "source": [
    "# 여성 거주자 데이터 추출\n",
    "temp2 = df_1[df_1.sex == \"여성\"]\n",
    "temp2"
   ]
  },
  {
   "cell_type": "code",
   "execution_count": 40,
   "metadata": {},
   "outputs": [
    {
     "data": {
      "text/html": [
       "<div>\n",
       "<style scoped>\n",
       "    .dataframe tbody tr th:only-of-type {\n",
       "        vertical-align: middle;\n",
       "    }\n",
       "\n",
       "    .dataframe tbody tr th {\n",
       "        vertical-align: top;\n",
       "    }\n",
       "\n",
       "    .dataframe thead th {\n",
       "        text-align: right;\n",
       "    }\n",
       "</style>\n",
       "<table border=\"1\" class=\"dataframe\">\n",
       "  <thead>\n",
       "    <tr style=\"text-align: right;\">\n",
       "      <th></th>\n",
       "      <th>city</th>\n",
       "      <th>location</th>\n",
       "      <th>resid_reg_pop_여</th>\n",
       "      <th>foreign_pop_여</th>\n",
       "      <th>total_pop_여</th>\n",
       "      <th>y_m</th>\n",
       "    </tr>\n",
       "  </thead>\n",
       "  <tbody>\n",
       "    <tr>\n",
       "      <th>5</th>\n",
       "      <td>서귀포시</td>\n",
       "      <td>남원읍</td>\n",
       "      <td>9306</td>\n",
       "      <td>200</td>\n",
       "      <td>9506</td>\n",
       "      <td>2018-01</td>\n",
       "    </tr>\n",
       "    <tr>\n",
       "      <th>9</th>\n",
       "      <td>서귀포시</td>\n",
       "      <td>대륜동</td>\n",
       "      <td>6637</td>\n",
       "      <td>95</td>\n",
       "      <td>6732</td>\n",
       "      <td>2018-01</td>\n",
       "    </tr>\n",
       "    <tr>\n",
       "      <th>11</th>\n",
       "      <td>서귀포시</td>\n",
       "      <td>대정읍</td>\n",
       "      <td>10725</td>\n",
       "      <td>677</td>\n",
       "      <td>11402</td>\n",
       "      <td>2018-01</td>\n",
       "    </tr>\n",
       "    <tr>\n",
       "      <th>13</th>\n",
       "      <td>서귀포시</td>\n",
       "      <td>대천동</td>\n",
       "      <td>6475</td>\n",
       "      <td>137</td>\n",
       "      <td>6612</td>\n",
       "      <td>2018-01</td>\n",
       "    </tr>\n",
       "    <tr>\n",
       "      <th>17</th>\n",
       "      <td>서귀포시</td>\n",
       "      <td>동홍동</td>\n",
       "      <td>11569</td>\n",
       "      <td>642</td>\n",
       "      <td>12211</td>\n",
       "      <td>2018-01</td>\n",
       "    </tr>\n",
       "    <tr>\n",
       "      <th>...</th>\n",
       "      <td>...</td>\n",
       "      <td>...</td>\n",
       "      <td>...</td>\n",
       "      <td>...</td>\n",
       "      <td>...</td>\n",
       "      <td>...</td>\n",
       "    </tr>\n",
       "    <tr>\n",
       "      <th>3595</th>\n",
       "      <td>서귀포시</td>\n",
       "      <td>중문동</td>\n",
       "      <td>5625</td>\n",
       "      <td>154</td>\n",
       "      <td>5779</td>\n",
       "      <td>2021-06</td>\n",
       "    </tr>\n",
       "    <tr>\n",
       "      <th>3597</th>\n",
       "      <td>서귀포시</td>\n",
       "      <td>중앙동</td>\n",
       "      <td>1753</td>\n",
       "      <td>40</td>\n",
       "      <td>1793</td>\n",
       "      <td>2021-06</td>\n",
       "    </tr>\n",
       "    <tr>\n",
       "      <th>3599</th>\n",
       "      <td>서귀포시</td>\n",
       "      <td>천지동</td>\n",
       "      <td>1712</td>\n",
       "      <td>55</td>\n",
       "      <td>1767</td>\n",
       "      <td>2021-06</td>\n",
       "    </tr>\n",
       "    <tr>\n",
       "      <th>3603</th>\n",
       "      <td>서귀포시</td>\n",
       "      <td>표선면</td>\n",
       "      <td>6033</td>\n",
       "      <td>123</td>\n",
       "      <td>6156</td>\n",
       "      <td>2021-06</td>\n",
       "    </tr>\n",
       "    <tr>\n",
       "      <th>3611</th>\n",
       "      <td>서귀포시</td>\n",
       "      <td>효돈동</td>\n",
       "      <td>2597</td>\n",
       "      <td>18</td>\n",
       "      <td>2615</td>\n",
       "      <td>2021-06</td>\n",
       "    </tr>\n",
       "  </tbody>\n",
       "</table>\n",
       "<p>714 rows × 6 columns</p>\n",
       "</div>"
      ],
      "text/plain": [
       "      city location  resid_reg_pop_여  foreign_pop_여  total_pop_여      y_m\n",
       "5     서귀포시      남원읍             9306            200         9506  2018-01\n",
       "9     서귀포시      대륜동             6637             95         6732  2018-01\n",
       "11    서귀포시      대정읍            10725            677        11402  2018-01\n",
       "13    서귀포시      대천동             6475            137         6612  2018-01\n",
       "17    서귀포시      동홍동            11569            642        12211  2018-01\n",
       "...    ...      ...              ...            ...          ...      ...\n",
       "3595  서귀포시      중문동             5625            154         5779  2021-06\n",
       "3597  서귀포시      중앙동             1753             40         1793  2021-06\n",
       "3599  서귀포시      천지동             1712             55         1767  2021-06\n",
       "3603  서귀포시      표선면             6033            123         6156  2021-06\n",
       "3611  서귀포시      효돈동             2597             18         2615  2021-06\n",
       "\n",
       "[714 rows x 6 columns]"
      ]
     },
     "execution_count": 40,
     "metadata": {},
     "output_type": "execute_result"
    }
   ],
   "source": [
    "# 열이름 정의\n",
    "temp2.rename(columns={\"resid_reg_pop\" : \"resid_reg_pop_여\",\"foreign_pop\" : \"foreign_pop_여\",\"total_pop\":\"total_pop_여\"}, inplace=True)\n",
    "temp2 = temp2.drop(\"sex\",axis = 1)\n",
    "temp2"
   ]
  },
  {
   "cell_type": "code",
   "execution_count": 41,
   "metadata": {},
   "outputs": [
    {
     "data": {
      "text/html": [
       "<div>\n",
       "<style scoped>\n",
       "    .dataframe tbody tr th:only-of-type {\n",
       "        vertical-align: middle;\n",
       "    }\n",
       "\n",
       "    .dataframe tbody tr th {\n",
       "        vertical-align: top;\n",
       "    }\n",
       "\n",
       "    .dataframe thead th {\n",
       "        text-align: right;\n",
       "    }\n",
       "</style>\n",
       "<table border=\"1\" class=\"dataframe\">\n",
       "  <thead>\n",
       "    <tr style=\"text-align: right;\">\n",
       "      <th></th>\n",
       "      <th>city</th>\n",
       "      <th>location</th>\n",
       "      <th>resid_reg_pop_남</th>\n",
       "      <th>foreign_pop_남</th>\n",
       "      <th>total_pop_남</th>\n",
       "      <th>y_m</th>\n",
       "      <th>resid_reg_pop_여</th>\n",
       "      <th>foreign_pop_여</th>\n",
       "      <th>total_pop_여</th>\n",
       "    </tr>\n",
       "  </thead>\n",
       "  <tbody>\n",
       "    <tr>\n",
       "      <th>0</th>\n",
       "      <td>서귀포시</td>\n",
       "      <td>남원읍</td>\n",
       "      <td>9806</td>\n",
       "      <td>428</td>\n",
       "      <td>10234</td>\n",
       "      <td>2018-01</td>\n",
       "      <td>9306</td>\n",
       "      <td>200</td>\n",
       "      <td>9506</td>\n",
       "    </tr>\n",
       "    <tr>\n",
       "      <th>1</th>\n",
       "      <td>서귀포시</td>\n",
       "      <td>대륜동</td>\n",
       "      <td>6836</td>\n",
       "      <td>83</td>\n",
       "      <td>6919</td>\n",
       "      <td>2018-01</td>\n",
       "      <td>6637</td>\n",
       "      <td>95</td>\n",
       "      <td>6732</td>\n",
       "    </tr>\n",
       "    <tr>\n",
       "      <th>2</th>\n",
       "      <td>서귀포시</td>\n",
       "      <td>대정읍</td>\n",
       "      <td>10360</td>\n",
       "      <td>841</td>\n",
       "      <td>11201</td>\n",
       "      <td>2018-01</td>\n",
       "      <td>10725</td>\n",
       "      <td>677</td>\n",
       "      <td>11402</td>\n",
       "    </tr>\n",
       "    <tr>\n",
       "      <th>3</th>\n",
       "      <td>서귀포시</td>\n",
       "      <td>대천동</td>\n",
       "      <td>6685</td>\n",
       "      <td>107</td>\n",
       "      <td>6792</td>\n",
       "      <td>2018-01</td>\n",
       "      <td>6475</td>\n",
       "      <td>137</td>\n",
       "      <td>6612</td>\n",
       "    </tr>\n",
       "    <tr>\n",
       "      <th>4</th>\n",
       "      <td>서귀포시</td>\n",
       "      <td>동홍동</td>\n",
       "      <td>11124</td>\n",
       "      <td>624</td>\n",
       "      <td>11748</td>\n",
       "      <td>2018-01</td>\n",
       "      <td>11569</td>\n",
       "      <td>642</td>\n",
       "      <td>12211</td>\n",
       "    </tr>\n",
       "  </tbody>\n",
       "</table>\n",
       "</div>"
      ],
      "text/plain": [
       "   city location  resid_reg_pop_남  foreign_pop_남  total_pop_남      y_m  \\\n",
       "0  서귀포시      남원읍             9806            428        10234  2018-01   \n",
       "1  서귀포시      대륜동             6836             83         6919  2018-01   \n",
       "2  서귀포시      대정읍            10360            841        11201  2018-01   \n",
       "3  서귀포시      대천동             6685            107         6792  2018-01   \n",
       "4  서귀포시      동홍동            11124            624        11748  2018-01   \n",
       "\n",
       "   resid_reg_pop_여  foreign_pop_여  total_pop_여  \n",
       "0             9306            200         9506  \n",
       "1             6637             95         6732  \n",
       "2            10725            677        11402  \n",
       "3             6475            137         6612  \n",
       "4            11569            642        12211  "
      ]
     },
     "execution_count": 41,
     "metadata": {},
     "output_type": "execute_result"
    }
   ],
   "source": [
    "# 남성 여성 데이터 병합\n",
    "df2 = pd.merge(temp,temp2,how = \"left\", on = [\"y_m\",\"city\",\"location\"])\n",
    "df2.head()"
   ]
  },
  {
   "cell_type": "code",
   "execution_count": 42,
   "metadata": {},
   "outputs": [
    {
     "data": {
      "text/html": [
       "<div>\n",
       "<style scoped>\n",
       "    .dataframe tbody tr th:only-of-type {\n",
       "        vertical-align: middle;\n",
       "    }\n",
       "\n",
       "    .dataframe tbody tr th {\n",
       "        vertical-align: top;\n",
       "    }\n",
       "\n",
       "    .dataframe thead th {\n",
       "        text-align: right;\n",
       "    }\n",
       "</style>\n",
       "<table border=\"1\" class=\"dataframe\">\n",
       "  <thead>\n",
       "    <tr style=\"text-align: right;\">\n",
       "      <th></th>\n",
       "      <th>city</th>\n",
       "      <th>location</th>\n",
       "      <th>resid_reg_pop_남</th>\n",
       "      <th>foreign_pop_남</th>\n",
       "      <th>y_m</th>\n",
       "      <th>resid_reg_pop_여</th>\n",
       "      <th>foreign_pop_여</th>\n",
       "      <th>total_pop</th>\n",
       "    </tr>\n",
       "  </thead>\n",
       "  <tbody>\n",
       "    <tr>\n",
       "      <th>0</th>\n",
       "      <td>서귀포시</td>\n",
       "      <td>남원읍</td>\n",
       "      <td>9806</td>\n",
       "      <td>428</td>\n",
       "      <td>2018-01</td>\n",
       "      <td>9306</td>\n",
       "      <td>200</td>\n",
       "      <td>19740</td>\n",
       "    </tr>\n",
       "    <tr>\n",
       "      <th>1</th>\n",
       "      <td>서귀포시</td>\n",
       "      <td>대륜동</td>\n",
       "      <td>6836</td>\n",
       "      <td>83</td>\n",
       "      <td>2018-01</td>\n",
       "      <td>6637</td>\n",
       "      <td>95</td>\n",
       "      <td>13651</td>\n",
       "    </tr>\n",
       "    <tr>\n",
       "      <th>2</th>\n",
       "      <td>서귀포시</td>\n",
       "      <td>대정읍</td>\n",
       "      <td>10360</td>\n",
       "      <td>841</td>\n",
       "      <td>2018-01</td>\n",
       "      <td>10725</td>\n",
       "      <td>677</td>\n",
       "      <td>22603</td>\n",
       "    </tr>\n",
       "    <tr>\n",
       "      <th>3</th>\n",
       "      <td>서귀포시</td>\n",
       "      <td>대천동</td>\n",
       "      <td>6685</td>\n",
       "      <td>107</td>\n",
       "      <td>2018-01</td>\n",
       "      <td>6475</td>\n",
       "      <td>137</td>\n",
       "      <td>13404</td>\n",
       "    </tr>\n",
       "    <tr>\n",
       "      <th>4</th>\n",
       "      <td>서귀포시</td>\n",
       "      <td>동홍동</td>\n",
       "      <td>11124</td>\n",
       "      <td>624</td>\n",
       "      <td>2018-01</td>\n",
       "      <td>11569</td>\n",
       "      <td>642</td>\n",
       "      <td>23959</td>\n",
       "    </tr>\n",
       "  </tbody>\n",
       "</table>\n",
       "</div>"
      ],
      "text/plain": [
       "   city location  resid_reg_pop_남  foreign_pop_남      y_m  resid_reg_pop_여  \\\n",
       "0  서귀포시      남원읍             9806            428  2018-01             9306   \n",
       "1  서귀포시      대륜동             6836             83  2018-01             6637   \n",
       "2  서귀포시      대정읍            10360            841  2018-01            10725   \n",
       "3  서귀포시      대천동             6685            107  2018-01             6475   \n",
       "4  서귀포시      동홍동            11124            624  2018-01            11569   \n",
       "\n",
       "   foreign_pop_여  total_pop  \n",
       "0            200      19740  \n",
       "1             95      13651  \n",
       "2            677      22603  \n",
       "3            137      13404  \n",
       "4            642      23959  "
      ]
     },
     "execution_count": 42,
     "metadata": {},
     "output_type": "execute_result"
    }
   ],
   "source": [
    "# 총 거주인구 데이터 생성\n",
    "df2[\"total_pop\"] = df2.total_pop_남 + df2.total_pop_여\n",
    "df2 = df2.drop({'total_pop_남','total_pop_여'},axis=1)\n",
    "df2.head()"
   ]
  },
  {
   "cell_type": "code",
   "execution_count": 43,
   "metadata": {},
   "outputs": [
    {
     "data": {
      "text/html": [
       "<div>\n",
       "<style scoped>\n",
       "    .dataframe tbody tr th:only-of-type {\n",
       "        vertical-align: middle;\n",
       "    }\n",
       "\n",
       "    .dataframe tbody tr th {\n",
       "        vertical-align: top;\n",
       "    }\n",
       "\n",
       "    .dataframe thead th {\n",
       "        text-align: right;\n",
       "    }\n",
       "</style>\n",
       "<table border=\"1\" class=\"dataframe\">\n",
       "  <thead>\n",
       "    <tr style=\"text-align: right;\">\n",
       "      <th></th>\n",
       "      <th>y_m</th>\n",
       "      <th>city</th>\n",
       "      <th>location</th>\n",
       "      <th>resid_reg_pop_남</th>\n",
       "      <th>foreign_pop_남</th>\n",
       "      <th>resid_reg_pop_여</th>\n",
       "      <th>foreign_pop_여</th>\n",
       "      <th>total_pop</th>\n",
       "    </tr>\n",
       "  </thead>\n",
       "  <tbody>\n",
       "    <tr>\n",
       "      <th>0</th>\n",
       "      <td>2018-01</td>\n",
       "      <td>서귀포시</td>\n",
       "      <td>남원읍</td>\n",
       "      <td>9806</td>\n",
       "      <td>428</td>\n",
       "      <td>9306</td>\n",
       "      <td>200</td>\n",
       "      <td>19740</td>\n",
       "    </tr>\n",
       "    <tr>\n",
       "      <th>1</th>\n",
       "      <td>2018-01</td>\n",
       "      <td>서귀포시</td>\n",
       "      <td>대륜동</td>\n",
       "      <td>6836</td>\n",
       "      <td>83</td>\n",
       "      <td>6637</td>\n",
       "      <td>95</td>\n",
       "      <td>13651</td>\n",
       "    </tr>\n",
       "    <tr>\n",
       "      <th>2</th>\n",
       "      <td>2018-01</td>\n",
       "      <td>서귀포시</td>\n",
       "      <td>대정읍</td>\n",
       "      <td>10360</td>\n",
       "      <td>841</td>\n",
       "      <td>10725</td>\n",
       "      <td>677</td>\n",
       "      <td>22603</td>\n",
       "    </tr>\n",
       "    <tr>\n",
       "      <th>3</th>\n",
       "      <td>2018-01</td>\n",
       "      <td>서귀포시</td>\n",
       "      <td>대천동</td>\n",
       "      <td>6685</td>\n",
       "      <td>107</td>\n",
       "      <td>6475</td>\n",
       "      <td>137</td>\n",
       "      <td>13404</td>\n",
       "    </tr>\n",
       "    <tr>\n",
       "      <th>4</th>\n",
       "      <td>2018-01</td>\n",
       "      <td>서귀포시</td>\n",
       "      <td>동홍동</td>\n",
       "      <td>11124</td>\n",
       "      <td>624</td>\n",
       "      <td>11569</td>\n",
       "      <td>642</td>\n",
       "      <td>23959</td>\n",
       "    </tr>\n",
       "  </tbody>\n",
       "</table>\n",
       "</div>"
      ],
      "text/plain": [
       "       y_m  city location  resid_reg_pop_남  foreign_pop_남  resid_reg_pop_여  \\\n",
       "0  2018-01  서귀포시      남원읍             9806            428             9306   \n",
       "1  2018-01  서귀포시      대륜동             6836             83             6637   \n",
       "2  2018-01  서귀포시      대정읍            10360            841            10725   \n",
       "3  2018-01  서귀포시      대천동             6685            107             6475   \n",
       "4  2018-01  서귀포시      동홍동            11124            624            11569   \n",
       "\n",
       "   foreign_pop_여  total_pop  \n",
       "0            200      19740  \n",
       "1             95      13651  \n",
       "2            677      22603  \n",
       "3            137      13404  \n",
       "4            642      23959  "
      ]
     },
     "execution_count": 43,
     "metadata": {},
     "output_type": "execute_result"
    }
   ],
   "source": [
    "# 그룹화\n",
    "df2 = df2.groupby([\"y_m\",\"city\",\"location\"]).sum()\n",
    "df2 = df2.reset_index()\n",
    "df2.head()"
   ]
  },
  {
   "cell_type": "markdown",
   "metadata": {},
   "source": [
    "### 행정부에서 제공하는 \"주민등록인구통계\" 외부데이터에서 나이 열을 활용"
   ]
  },
  {
   "cell_type": "code",
   "execution_count": 44,
   "metadata": {},
   "outputs": [],
   "source": [
    "## 주민등록인구통계 로드\n",
    "resid_1 = pd.read_csv('주민등록인구통계/201801_201806_연령별인구현황_월간_서귀포.csv', encoding = 'cp949')\n",
    "resid_2 = pd.read_csv('주민등록인구통계/201807_201812_연령별인구현황_월간_서귀포.csv', encoding = 'cp949')\n",
    "resid_3 = pd.read_csv('주민등록인구통계/201901_201906_연령별인구현황_월간_서귀포.csv', encoding = 'cp949')\n",
    "resid_4 = pd.read_csv('주민등록인구통계/201907_201912_연령별인구현황_월간_서귀포.csv', encoding = 'cp949')\n",
    "resid_5 = pd.read_csv('주민등록인구통계/202001_202006_연령별인구현황_월간_서귀포.csv', encoding = 'cp949')\n",
    "resid_6 = pd.read_csv('주민등록인구통계/202007_202012_연령별인구현황_월간_서귀포.csv', encoding = 'cp949')\n",
    "resid_7 = pd.read_csv('주민등록인구통계/202101_202106_연령별인구현황_월간_서귀포.csv', encoding = 'cp949')"
   ]
  },
  {
   "cell_type": "code",
   "execution_count": 45,
   "metadata": {},
   "outputs": [],
   "source": [
    "## 주민등록인구통계 데이터에서 필요한 열만 추출하는 함수\n",
    "def mm(resid):\n",
    "    resid = resid.set_index(\"행정구역\")\n",
    "    col_na = resid.columns.to_list()\n",
    "    col_na = col_na[1::21]\n",
    "    resid = resid.loc[:,col_na]\n",
    "    resid = resid.reset_index()\n",
    "    return resid"
   ]
  },
  {
   "cell_type": "code",
   "execution_count": 46,
   "metadata": {},
   "outputs": [
    {
     "data": {
      "text/html": [
       "<div>\n",
       "<style scoped>\n",
       "    .dataframe tbody tr th:only-of-type {\n",
       "        vertical-align: middle;\n",
       "    }\n",
       "\n",
       "    .dataframe tbody tr th {\n",
       "        vertical-align: top;\n",
       "    }\n",
       "\n",
       "    .dataframe thead th {\n",
       "        text-align: right;\n",
       "    }\n",
       "</style>\n",
       "<table border=\"1\" class=\"dataframe\">\n",
       "  <thead>\n",
       "    <tr style=\"text-align: right;\">\n",
       "      <th></th>\n",
       "      <th>행정구역</th>\n",
       "      <th>2018년01월_계_연령구간인구수</th>\n",
       "      <th>2018년02월_계_연령구간인구수</th>\n",
       "      <th>2018년03월_계_연령구간인구수</th>\n",
       "      <th>2018년04월_계_연령구간인구수</th>\n",
       "      <th>2018년05월_계_연령구간인구수</th>\n",
       "      <th>2018년06월_계_연령구간인구수</th>\n",
       "      <th>2018년07월_계_연령구간인구수</th>\n",
       "      <th>2018년08월_계_연령구간인구수</th>\n",
       "      <th>2018년09월_계_연령구간인구수</th>\n",
       "      <th>...</th>\n",
       "      <th>2020년09월_계_연령구간인구수</th>\n",
       "      <th>2020년10월_계_연령구간인구수</th>\n",
       "      <th>2020년11월_계_연령구간인구수</th>\n",
       "      <th>2020년12월_계_연령구간인구수</th>\n",
       "      <th>2021년01월_계_연령구간인구수</th>\n",
       "      <th>2021년02월_계_연령구간인구수</th>\n",
       "      <th>2021년03월_계_연령구간인구수</th>\n",
       "      <th>2021년04월_계_연령구간인구수</th>\n",
       "      <th>2021년05월_계_연령구간인구수</th>\n",
       "      <th>2021년06월_계_연령구간인구수</th>\n",
       "    </tr>\n",
       "  </thead>\n",
       "  <tbody>\n",
       "    <tr>\n",
       "      <th>0</th>\n",
       "      <td>제주특별자치도 서귀포시 (5013000000)</td>\n",
       "      <td>43,508</td>\n",
       "      <td>43,626</td>\n",
       "      <td>43,792</td>\n",
       "      <td>43,993</td>\n",
       "      <td>44,152</td>\n",
       "      <td>44,326</td>\n",
       "      <td>44,490</td>\n",
       "      <td>44,755</td>\n",
       "      <td>45,015</td>\n",
       "      <td>...</td>\n",
       "      <td>49,402</td>\n",
       "      <td>49,652</td>\n",
       "      <td>49,852</td>\n",
       "      <td>50,078</td>\n",
       "      <td>50,329</td>\n",
       "      <td>50,495</td>\n",
       "      <td>50,415</td>\n",
       "      <td>50,567</td>\n",
       "      <td>50,752</td>\n",
       "      <td>50,939</td>\n",
       "    </tr>\n",
       "    <tr>\n",
       "      <th>1</th>\n",
       "      <td>제주특별자치도 서귀포시 대정읍(5013025000)</td>\n",
       "      <td>5,330</td>\n",
       "      <td>5,330</td>\n",
       "      <td>5,347</td>\n",
       "      <td>5,371</td>\n",
       "      <td>5,398</td>\n",
       "      <td>5,398</td>\n",
       "      <td>5,416</td>\n",
       "      <td>5,437</td>\n",
       "      <td>5,484</td>\n",
       "      <td>...</td>\n",
       "      <td>5,904</td>\n",
       "      <td>5,939</td>\n",
       "      <td>5,967</td>\n",
       "      <td>5,983</td>\n",
       "      <td>6,012</td>\n",
       "      <td>6,041</td>\n",
       "      <td>6,026</td>\n",
       "      <td>6,030</td>\n",
       "      <td>6,061</td>\n",
       "      <td>6,081</td>\n",
       "    </tr>\n",
       "    <tr>\n",
       "      <th>2</th>\n",
       "      <td>제주특별자치도 서귀포시 남원읍(5013025300)</td>\n",
       "      <td>5,554</td>\n",
       "      <td>5,577</td>\n",
       "      <td>5,583</td>\n",
       "      <td>5,609</td>\n",
       "      <td>5,624</td>\n",
       "      <td>5,659</td>\n",
       "      <td>5,668</td>\n",
       "      <td>5,701</td>\n",
       "      <td>5,735</td>\n",
       "      <td>...</td>\n",
       "      <td>6,171</td>\n",
       "      <td>6,199</td>\n",
       "      <td>6,213</td>\n",
       "      <td>6,225</td>\n",
       "      <td>6,253</td>\n",
       "      <td>6,263</td>\n",
       "      <td>6,269</td>\n",
       "      <td>6,274</td>\n",
       "      <td>6,276</td>\n",
       "      <td>6,307</td>\n",
       "    </tr>\n",
       "    <tr>\n",
       "      <th>3</th>\n",
       "      <td>제주특별자치도 서귀포시 성산읍(5013025900)</td>\n",
       "      <td>4,642</td>\n",
       "      <td>4,653</td>\n",
       "      <td>4,668</td>\n",
       "      <td>4,682</td>\n",
       "      <td>4,683</td>\n",
       "      <td>4,703</td>\n",
       "      <td>4,718</td>\n",
       "      <td>4,744</td>\n",
       "      <td>4,770</td>\n",
       "      <td>...</td>\n",
       "      <td>5,248</td>\n",
       "      <td>5,275</td>\n",
       "      <td>5,285</td>\n",
       "      <td>5,348</td>\n",
       "      <td>5,384</td>\n",
       "      <td>5,407</td>\n",
       "      <td>5,405</td>\n",
       "      <td>5,418</td>\n",
       "      <td>5,441</td>\n",
       "      <td>5,452</td>\n",
       "    </tr>\n",
       "    <tr>\n",
       "      <th>4</th>\n",
       "      <td>제주특별자치도 서귀포시 안덕면(5013031000)</td>\n",
       "      <td>3,031</td>\n",
       "      <td>3,036</td>\n",
       "      <td>3,048</td>\n",
       "      <td>3,084</td>\n",
       "      <td>3,098</td>\n",
       "      <td>3,103</td>\n",
       "      <td>3,114</td>\n",
       "      <td>3,132</td>\n",
       "      <td>3,144</td>\n",
       "      <td>...</td>\n",
       "      <td>3,382</td>\n",
       "      <td>3,394</td>\n",
       "      <td>3,413</td>\n",
       "      <td>3,435</td>\n",
       "      <td>3,448</td>\n",
       "      <td>3,462</td>\n",
       "      <td>3,463</td>\n",
       "      <td>3,471</td>\n",
       "      <td>3,492</td>\n",
       "      <td>3,507</td>\n",
       "    </tr>\n",
       "  </tbody>\n",
       "</table>\n",
       "<p>5 rows × 43 columns</p>\n",
       "</div>"
      ],
      "text/plain": [
       "                           행정구역 2018년01월_계_연령구간인구수 2018년02월_계_연령구간인구수  \\\n",
       "0     제주특별자치도 서귀포시 (5013000000)             43,508             43,626   \n",
       "1  제주특별자치도 서귀포시 대정읍(5013025000)              5,330              5,330   \n",
       "2  제주특별자치도 서귀포시 남원읍(5013025300)              5,554              5,577   \n",
       "3  제주특별자치도 서귀포시 성산읍(5013025900)              4,642              4,653   \n",
       "4  제주특별자치도 서귀포시 안덕면(5013031000)              3,031              3,036   \n",
       "\n",
       "  2018년03월_계_연령구간인구수 2018년04월_계_연령구간인구수 2018년05월_계_연령구간인구수 2018년06월_계_연령구간인구수  \\\n",
       "0             43,792             43,993             44,152             44,326   \n",
       "1              5,347              5,371              5,398              5,398   \n",
       "2              5,583              5,609              5,624              5,659   \n",
       "3              4,668              4,682              4,683              4,703   \n",
       "4              3,048              3,084              3,098              3,103   \n",
       "\n",
       "  2018년07월_계_연령구간인구수 2018년08월_계_연령구간인구수 2018년09월_계_연령구간인구수  ...  \\\n",
       "0             44,490             44,755             45,015  ...   \n",
       "1              5,416              5,437              5,484  ...   \n",
       "2              5,668              5,701              5,735  ...   \n",
       "3              4,718              4,744              4,770  ...   \n",
       "4              3,114              3,132              3,144  ...   \n",
       "\n",
       "  2020년09월_계_연령구간인구수 2020년10월_계_연령구간인구수 2020년11월_계_연령구간인구수 2020년12월_계_연령구간인구수  \\\n",
       "0             49,402             49,652             49,852             50,078   \n",
       "1              5,904              5,939              5,967              5,983   \n",
       "2              6,171              6,199              6,213              6,225   \n",
       "3              5,248              5,275              5,285              5,348   \n",
       "4              3,382              3,394              3,413              3,435   \n",
       "\n",
       "  2021년01월_계_연령구간인구수 2021년02월_계_연령구간인구수 2021년03월_계_연령구간인구수 2021년04월_계_연령구간인구수  \\\n",
       "0             50,329             50,495             50,415             50,567   \n",
       "1              6,012              6,041              6,026              6,030   \n",
       "2              6,253              6,263              6,269              6,274   \n",
       "3              5,384              5,407              5,405              5,418   \n",
       "4              3,448              3,462              3,463              3,471   \n",
       "\n",
       "  2021년05월_계_연령구간인구수 2021년06월_계_연령구간인구수  \n",
       "0             50,752             50,939  \n",
       "1              6,061              6,081  \n",
       "2              6,276              6,307  \n",
       "3              5,441              5,452  \n",
       "4              3,492              3,507  \n",
       "\n",
       "[5 rows x 43 columns]"
      ]
     },
     "execution_count": 46,
     "metadata": {},
     "output_type": "execute_result"
    }
   ],
   "source": [
    "## 주민등록인구통계 데이터 병합\n",
    "resid_m = mm(resid_1)\n",
    "for i in [resid_2,resid_3,resid_4,resid_5,resid_6,resid_7]:\n",
    "    resid_m = pd.merge(resid_m,mm(i),how = \"left\", on = [\"행정구역\"])\n",
    "\n",
    "resid_m.head()"
   ]
  },
  {
   "cell_type": "code",
   "execution_count": 47,
   "metadata": {},
   "outputs": [
    {
     "data": {
      "text/html": [
       "<div>\n",
       "<style scoped>\n",
       "    .dataframe tbody tr th:only-of-type {\n",
       "        vertical-align: middle;\n",
       "    }\n",
       "\n",
       "    .dataframe tbody tr th {\n",
       "        vertical-align: top;\n",
       "    }\n",
       "\n",
       "    .dataframe thead th {\n",
       "        text-align: right;\n",
       "    }\n",
       "</style>\n",
       "<table border=\"1\" class=\"dataframe\">\n",
       "  <thead>\n",
       "    <tr style=\"text-align: right;\">\n",
       "      <th></th>\n",
       "      <th>행정구역</th>\n",
       "      <th>2018년01월_계_연령구간인구수</th>\n",
       "      <th>2018년02월_계_연령구간인구수</th>\n",
       "      <th>2018년03월_계_연령구간인구수</th>\n",
       "      <th>2018년04월_계_연령구간인구수</th>\n",
       "      <th>2018년05월_계_연령구간인구수</th>\n",
       "      <th>2018년06월_계_연령구간인구수</th>\n",
       "      <th>2018년07월_계_연령구간인구수</th>\n",
       "      <th>2018년08월_계_연령구간인구수</th>\n",
       "      <th>2018년09월_계_연령구간인구수</th>\n",
       "      <th>...</th>\n",
       "      <th>2020년09월_계_연령구간인구수</th>\n",
       "      <th>2020년10월_계_연령구간인구수</th>\n",
       "      <th>2020년11월_계_연령구간인구수</th>\n",
       "      <th>2020년12월_계_연령구간인구수</th>\n",
       "      <th>2021년01월_계_연령구간인구수</th>\n",
       "      <th>2021년02월_계_연령구간인구수</th>\n",
       "      <th>2021년03월_계_연령구간인구수</th>\n",
       "      <th>2021년04월_계_연령구간인구수</th>\n",
       "      <th>2021년05월_계_연령구간인구수</th>\n",
       "      <th>2021년06월_계_연령구간인구수</th>\n",
       "    </tr>\n",
       "  </thead>\n",
       "  <tbody>\n",
       "    <tr>\n",
       "      <th>0</th>\n",
       "      <td></td>\n",
       "      <td>43,508</td>\n",
       "      <td>43,626</td>\n",
       "      <td>43,792</td>\n",
       "      <td>43,993</td>\n",
       "      <td>44,152</td>\n",
       "      <td>44,326</td>\n",
       "      <td>44,490</td>\n",
       "      <td>44,755</td>\n",
       "      <td>45,015</td>\n",
       "      <td>...</td>\n",
       "      <td>49,402</td>\n",
       "      <td>49,652</td>\n",
       "      <td>49,852</td>\n",
       "      <td>50,078</td>\n",
       "      <td>50,329</td>\n",
       "      <td>50,495</td>\n",
       "      <td>50,415</td>\n",
       "      <td>50,567</td>\n",
       "      <td>50,752</td>\n",
       "      <td>50,939</td>\n",
       "    </tr>\n",
       "    <tr>\n",
       "      <th>1</th>\n",
       "      <td>대정읍</td>\n",
       "      <td>5,330</td>\n",
       "      <td>5,330</td>\n",
       "      <td>5,347</td>\n",
       "      <td>5,371</td>\n",
       "      <td>5,398</td>\n",
       "      <td>5,398</td>\n",
       "      <td>5,416</td>\n",
       "      <td>5,437</td>\n",
       "      <td>5,484</td>\n",
       "      <td>...</td>\n",
       "      <td>5,904</td>\n",
       "      <td>5,939</td>\n",
       "      <td>5,967</td>\n",
       "      <td>5,983</td>\n",
       "      <td>6,012</td>\n",
       "      <td>6,041</td>\n",
       "      <td>6,026</td>\n",
       "      <td>6,030</td>\n",
       "      <td>6,061</td>\n",
       "      <td>6,081</td>\n",
       "    </tr>\n",
       "    <tr>\n",
       "      <th>2</th>\n",
       "      <td>남원읍</td>\n",
       "      <td>5,554</td>\n",
       "      <td>5,577</td>\n",
       "      <td>5,583</td>\n",
       "      <td>5,609</td>\n",
       "      <td>5,624</td>\n",
       "      <td>5,659</td>\n",
       "      <td>5,668</td>\n",
       "      <td>5,701</td>\n",
       "      <td>5,735</td>\n",
       "      <td>...</td>\n",
       "      <td>6,171</td>\n",
       "      <td>6,199</td>\n",
       "      <td>6,213</td>\n",
       "      <td>6,225</td>\n",
       "      <td>6,253</td>\n",
       "      <td>6,263</td>\n",
       "      <td>6,269</td>\n",
       "      <td>6,274</td>\n",
       "      <td>6,276</td>\n",
       "      <td>6,307</td>\n",
       "    </tr>\n",
       "    <tr>\n",
       "      <th>3</th>\n",
       "      <td>성산읍</td>\n",
       "      <td>4,642</td>\n",
       "      <td>4,653</td>\n",
       "      <td>4,668</td>\n",
       "      <td>4,682</td>\n",
       "      <td>4,683</td>\n",
       "      <td>4,703</td>\n",
       "      <td>4,718</td>\n",
       "      <td>4,744</td>\n",
       "      <td>4,770</td>\n",
       "      <td>...</td>\n",
       "      <td>5,248</td>\n",
       "      <td>5,275</td>\n",
       "      <td>5,285</td>\n",
       "      <td>5,348</td>\n",
       "      <td>5,384</td>\n",
       "      <td>5,407</td>\n",
       "      <td>5,405</td>\n",
       "      <td>5,418</td>\n",
       "      <td>5,441</td>\n",
       "      <td>5,452</td>\n",
       "    </tr>\n",
       "    <tr>\n",
       "      <th>4</th>\n",
       "      <td>안덕면</td>\n",
       "      <td>3,031</td>\n",
       "      <td>3,036</td>\n",
       "      <td>3,048</td>\n",
       "      <td>3,084</td>\n",
       "      <td>3,098</td>\n",
       "      <td>3,103</td>\n",
       "      <td>3,114</td>\n",
       "      <td>3,132</td>\n",
       "      <td>3,144</td>\n",
       "      <td>...</td>\n",
       "      <td>3,382</td>\n",
       "      <td>3,394</td>\n",
       "      <td>3,413</td>\n",
       "      <td>3,435</td>\n",
       "      <td>3,448</td>\n",
       "      <td>3,462</td>\n",
       "      <td>3,463</td>\n",
       "      <td>3,471</td>\n",
       "      <td>3,492</td>\n",
       "      <td>3,507</td>\n",
       "    </tr>\n",
       "  </tbody>\n",
       "</table>\n",
       "<p>5 rows × 43 columns</p>\n",
       "</div>"
      ],
      "text/plain": [
       "  행정구역 2018년01월_계_연령구간인구수 2018년02월_계_연령구간인구수 2018년03월_계_연령구간인구수  \\\n",
       "0                  43,508             43,626             43,792   \n",
       "1  대정읍              5,330              5,330              5,347   \n",
       "2  남원읍              5,554              5,577              5,583   \n",
       "3  성산읍              4,642              4,653              4,668   \n",
       "4  안덕면              3,031              3,036              3,048   \n",
       "\n",
       "  2018년04월_계_연령구간인구수 2018년05월_계_연령구간인구수 2018년06월_계_연령구간인구수 2018년07월_계_연령구간인구수  \\\n",
       "0             43,993             44,152             44,326             44,490   \n",
       "1              5,371              5,398              5,398              5,416   \n",
       "2              5,609              5,624              5,659              5,668   \n",
       "3              4,682              4,683              4,703              4,718   \n",
       "4              3,084              3,098              3,103              3,114   \n",
       "\n",
       "  2018년08월_계_연령구간인구수 2018년09월_계_연령구간인구수  ... 2020년09월_계_연령구간인구수  \\\n",
       "0             44,755             45,015  ...             49,402   \n",
       "1              5,437              5,484  ...              5,904   \n",
       "2              5,701              5,735  ...              6,171   \n",
       "3              4,744              4,770  ...              5,248   \n",
       "4              3,132              3,144  ...              3,382   \n",
       "\n",
       "  2020년10월_계_연령구간인구수 2020년11월_계_연령구간인구수 2020년12월_계_연령구간인구수 2021년01월_계_연령구간인구수  \\\n",
       "0             49,652             49,852             50,078             50,329   \n",
       "1              5,939              5,967              5,983              6,012   \n",
       "2              6,199              6,213              6,225              6,253   \n",
       "3              5,275              5,285              5,348              5,384   \n",
       "4              3,394              3,413              3,435              3,448   \n",
       "\n",
       "  2021년02월_계_연령구간인구수 2021년03월_계_연령구간인구수 2021년04월_계_연령구간인구수 2021년05월_계_연령구간인구수  \\\n",
       "0             50,495             50,415             50,567             50,752   \n",
       "1              6,041              6,026              6,030              6,061   \n",
       "2              6,263              6,269              6,274              6,276   \n",
       "3              5,407              5,405              5,418              5,441   \n",
       "4              3,462              3,463              3,471              3,492   \n",
       "\n",
       "  2021년06월_계_연령구간인구수  \n",
       "0             50,939  \n",
       "1              6,081  \n",
       "2              6,307  \n",
       "3              5,452  \n",
       "4              3,507  \n",
       "\n",
       "[5 rows x 43 columns]"
      ]
     },
     "execution_count": 47,
     "metadata": {},
     "output_type": "execute_result"
    }
   ],
   "source": [
    "# 행정구역열 전처리\n",
    "resid_m.행정구역 = resid_m.apply(lambda x:  x.행정구역[13:], axis = 1)\n",
    "resid_m.행정구역 = resid_m.apply(lambda x:  x.행정구역.split(\"(\")[0], axis = 1)\n",
    "resid_m.head()"
   ]
  },
  {
   "cell_type": "code",
   "execution_count": 48,
   "metadata": {
    "scrolled": true
   },
   "outputs": [
    {
     "data": {
      "text/html": [
       "<div>\n",
       "<style scoped>\n",
       "    .dataframe tbody tr th:only-of-type {\n",
       "        vertical-align: middle;\n",
       "    }\n",
       "\n",
       "    .dataframe tbody tr th {\n",
       "        vertical-align: top;\n",
       "    }\n",
       "\n",
       "    .dataframe thead th {\n",
       "        text-align: right;\n",
       "    }\n",
       "</style>\n",
       "<table border=\"1\" class=\"dataframe\">\n",
       "  <thead>\n",
       "    <tr style=\"text-align: right;\">\n",
       "      <th>행정구역</th>\n",
       "      <th>index</th>\n",
       "      <th></th>\n",
       "      <th>대정읍</th>\n",
       "      <th>남원읍</th>\n",
       "      <th>성산읍</th>\n",
       "      <th>안덕면</th>\n",
       "      <th>표선면</th>\n",
       "      <th>송산동</th>\n",
       "      <th>정방동</th>\n",
       "      <th>중앙동</th>\n",
       "      <th>천지동</th>\n",
       "      <th>효돈동</th>\n",
       "      <th>영천동</th>\n",
       "      <th>동홍동</th>\n",
       "      <th>서홍동</th>\n",
       "      <th>대륜동</th>\n",
       "      <th>대천동</th>\n",
       "      <th>중문동</th>\n",
       "      <th>예래동</th>\n",
       "    </tr>\n",
       "  </thead>\n",
       "  <tbody>\n",
       "    <tr>\n",
       "      <th>0</th>\n",
       "      <td>2018-01</td>\n",
       "      <td>43,508</td>\n",
       "      <td>5,330</td>\n",
       "      <td>5,554</td>\n",
       "      <td>4,642</td>\n",
       "      <td>3,031</td>\n",
       "      <td>3,333</td>\n",
       "      <td>1,298</td>\n",
       "      <td>696</td>\n",
       "      <td>1,140</td>\n",
       "      <td>1,032</td>\n",
       "      <td>1,503</td>\n",
       "      <td>1,514</td>\n",
       "      <td>3,898</td>\n",
       "      <td>1,857</td>\n",
       "      <td>2,925</td>\n",
       "      <td>2,372</td>\n",
       "      <td>2,285</td>\n",
       "      <td>1,098</td>\n",
       "    </tr>\n",
       "    <tr>\n",
       "      <th>1</th>\n",
       "      <td>2018-02</td>\n",
       "      <td>43,626</td>\n",
       "      <td>5,330</td>\n",
       "      <td>5,577</td>\n",
       "      <td>4,653</td>\n",
       "      <td>3,036</td>\n",
       "      <td>3,346</td>\n",
       "      <td>1,307</td>\n",
       "      <td>697</td>\n",
       "      <td>1,134</td>\n",
       "      <td>1,033</td>\n",
       "      <td>1,510</td>\n",
       "      <td>1,516</td>\n",
       "      <td>3,898</td>\n",
       "      <td>1,869</td>\n",
       "      <td>2,937</td>\n",
       "      <td>2,377</td>\n",
       "      <td>2,302</td>\n",
       "      <td>1,104</td>\n",
       "    </tr>\n",
       "    <tr>\n",
       "      <th>2</th>\n",
       "      <td>2018-03</td>\n",
       "      <td>43,792</td>\n",
       "      <td>5,347</td>\n",
       "      <td>5,583</td>\n",
       "      <td>4,668</td>\n",
       "      <td>3,048</td>\n",
       "      <td>3,364</td>\n",
       "      <td>1,309</td>\n",
       "      <td>697</td>\n",
       "      <td>1,144</td>\n",
       "      <td>1,039</td>\n",
       "      <td>1,514</td>\n",
       "      <td>1,516</td>\n",
       "      <td>3,915</td>\n",
       "      <td>1,877</td>\n",
       "      <td>2,953</td>\n",
       "      <td>2,404</td>\n",
       "      <td>2,308</td>\n",
       "      <td>1,106</td>\n",
       "    </tr>\n",
       "    <tr>\n",
       "      <th>3</th>\n",
       "      <td>2018-04</td>\n",
       "      <td>43,993</td>\n",
       "      <td>5,371</td>\n",
       "      <td>5,609</td>\n",
       "      <td>4,682</td>\n",
       "      <td>3,084</td>\n",
       "      <td>3,383</td>\n",
       "      <td>1,309</td>\n",
       "      <td>698</td>\n",
       "      <td>1,152</td>\n",
       "      <td>1,045</td>\n",
       "      <td>1,518</td>\n",
       "      <td>1,522</td>\n",
       "      <td>3,949</td>\n",
       "      <td>1,885</td>\n",
       "      <td>2,953</td>\n",
       "      <td>2,412</td>\n",
       "      <td>2,316</td>\n",
       "      <td>1,105</td>\n",
       "    </tr>\n",
       "    <tr>\n",
       "      <th>4</th>\n",
       "      <td>2018-05</td>\n",
       "      <td>44,152</td>\n",
       "      <td>5,398</td>\n",
       "      <td>5,624</td>\n",
       "      <td>4,683</td>\n",
       "      <td>3,098</td>\n",
       "      <td>3,391</td>\n",
       "      <td>1,309</td>\n",
       "      <td>706</td>\n",
       "      <td>1,158</td>\n",
       "      <td>1,049</td>\n",
       "      <td>1,531</td>\n",
       "      <td>1,532</td>\n",
       "      <td>3,961</td>\n",
       "      <td>1,898</td>\n",
       "      <td>2,967</td>\n",
       "      <td>2,421</td>\n",
       "      <td>2,330</td>\n",
       "      <td>1,096</td>\n",
       "    </tr>\n",
       "  </tbody>\n",
       "</table>\n",
       "</div>"
      ],
      "text/plain": [
       "행정구역    index            대정읍    남원읍    성산읍    안덕면    표선면    송산동  정방동    중앙동  \\\n",
       "0     2018-01  43,508  5,330  5,554  4,642  3,031  3,333  1,298  696  1,140   \n",
       "1     2018-02  43,626  5,330  5,577  4,653  3,036  3,346  1,307  697  1,134   \n",
       "2     2018-03  43,792  5,347  5,583  4,668  3,048  3,364  1,309  697  1,144   \n",
       "3     2018-04  43,993  5,371  5,609  4,682  3,084  3,383  1,309  698  1,152   \n",
       "4     2018-05  44,152  5,398  5,624  4,683  3,098  3,391  1,309  706  1,158   \n",
       "\n",
       "행정구역    천지동    효돈동    영천동    동홍동    서홍동    대륜동    대천동    중문동    예래동  \n",
       "0     1,032  1,503  1,514  3,898  1,857  2,925  2,372  2,285  1,098  \n",
       "1     1,033  1,510  1,516  3,898  1,869  2,937  2,377  2,302  1,104  \n",
       "2     1,039  1,514  1,516  3,915  1,877  2,953  2,404  2,308  1,106  \n",
       "3     1,045  1,518  1,522  3,949  1,885  2,953  2,412  2,316  1,105  \n",
       "4     1,049  1,531  1,532  3,961  1,898  2,967  2,421  2,330  1,096  "
      ]
     },
     "execution_count": 48,
     "metadata": {},
     "output_type": "execute_result"
    }
   ],
   "source": [
    "# 전처리를 위한 데이터프레임 Transform\n",
    "resid_m = resid_m.set_index(\"행정구역\")\n",
    "resid_t = resid_m.T\n",
    "resid_t = resid_t.reset_index()\n",
    "resid_t[\"index\"] = resid_t.apply(lambda x: x[\"index\"][:7],axis = 1)\n",
    "resid_t[\"index\"] = resid_t.apply(lambda x: x[\"index\"].replace(\"년\",\"-\"),axis = 1)\n",
    "resid_t.head()"
   ]
  },
  {
   "cell_type": "code",
   "execution_count": 49,
   "metadata": {},
   "outputs": [],
   "source": [
    "# 60세 이상 제주도민 데이터 삽입 함수 형성\n",
    "def mm2(loca):\n",
    "    temp = df2.loc[df2[\"location\"]==loca,:]\n",
    "    temp = temp.reset_index()\n",
    "    temp = temp.drop(\"index\",axis = 1)\n",
    "    temp.loc[:,\"60세이상\"] = resid_t.loc[:,loca]\n",
    "    return temp"
   ]
  },
  {
   "cell_type": "code",
   "execution_count": 50,
   "metadata": {},
   "outputs": [],
   "source": [
    "# 기존 데이터 프레임 df2에 외부데이터 60세 이상 제주도민 데이터 삽입 함수 형성\n",
    "df2[\"60세이상\"] = 0\n",
    "df_s = pd.DataFrame(columns=['y_m','city', 'location', 'resid_reg_pop_남', 'foreign_pop_남',\n",
    "       'resid_reg_pop_여', 'foreign_pop_여', 'total_pop', '60세이상'])\n",
    "\n",
    "for i in df2.location.unique():\n",
    "    df_s = pd.concat([df_s,mm2(i)])"
   ]
  },
  {
   "cell_type": "code",
   "execution_count": 51,
   "metadata": {},
   "outputs": [
    {
     "name": "stdout",
     "output_type": "stream",
     "text": [
      "<class 'pandas.core.frame.DataFrame'>\n",
      "Int64Index: 714 entries, 0 to 41\n",
      "Data columns (total 9 columns):\n",
      " #   Column           Non-Null Count  Dtype \n",
      "---  ------           --------------  ----- \n",
      " 0   y_m              714 non-null    object\n",
      " 1   city             714 non-null    object\n",
      " 2   location         714 non-null    object\n",
      " 3   resid_reg_pop_남  714 non-null    object\n",
      " 4   foreign_pop_남    714 non-null    object\n",
      " 5   resid_reg_pop_여  714 non-null    object\n",
      " 6   foreign_pop_여    714 non-null    object\n",
      " 7   total_pop        714 non-null    object\n",
      " 8   60세이상            714 non-null    object\n",
      "dtypes: object(9)\n",
      "memory usage: 55.8+ KB\n"
     ]
    }
   ],
   "source": [
    "df_s.info()"
   ]
  },
  {
   "cell_type": "code",
   "execution_count": 52,
   "metadata": {},
   "outputs": [],
   "source": [
    "# 자료형 데이터 정수형으로 변경\n",
    "for i in range(3,(len(df_s.columns)-1)):\n",
    "    df_s.iloc[:,i] = df_s.iloc[:,i].astype(int)"
   ]
  },
  {
   "cell_type": "code",
   "execution_count": 53,
   "metadata": {},
   "outputs": [
    {
     "name": "stdout",
     "output_type": "stream",
     "text": [
      "<class 'pandas.core.frame.DataFrame'>\n",
      "Int64Index: 714 entries, 0 to 41\n",
      "Data columns (total 9 columns):\n",
      " #   Column           Non-Null Count  Dtype \n",
      "---  ------           --------------  ----- \n",
      " 0   y_m              714 non-null    object\n",
      " 1   city             714 non-null    object\n",
      " 2   location         714 non-null    object\n",
      " 3   resid_reg_pop_남  714 non-null    int32 \n",
      " 4   foreign_pop_남    714 non-null    int32 \n",
      " 5   resid_reg_pop_여  714 non-null    int32 \n",
      " 6   foreign_pop_여    714 non-null    int32 \n",
      " 7   total_pop        714 non-null    int32 \n",
      " 8   60세이상            714 non-null    int32 \n",
      "dtypes: int32(6), object(3)\n",
      "memory usage: 39.0+ KB\n"
     ]
    }
   ],
   "source": [
    "# 자료형 데이터 정수형으로 변경\n",
    "df_s[\"60세이상\"] = df_s.apply(lambda x : x[\"60세이상\"].replace(',',''), axis = 1)\n",
    "df_s.loc[:,\"60세이상\"] = df_s.loc[:,\"60세이상\"].astype(int)\n",
    "df_s.info()"
   ]
  },
  {
   "cell_type": "code",
   "execution_count": 54,
   "metadata": {
    "scrolled": true
   },
   "outputs": [
    {
     "data": {
      "text/html": [
       "<div>\n",
       "<style scoped>\n",
       "    .dataframe tbody tr th:only-of-type {\n",
       "        vertical-align: middle;\n",
       "    }\n",
       "\n",
       "    .dataframe tbody tr th {\n",
       "        vertical-align: top;\n",
       "    }\n",
       "\n",
       "    .dataframe thead th {\n",
       "        text-align: right;\n",
       "    }\n",
       "</style>\n",
       "<table border=\"1\" class=\"dataframe\">\n",
       "  <thead>\n",
       "    <tr style=\"text-align: right;\">\n",
       "      <th></th>\n",
       "      <th>y_m</th>\n",
       "      <th>city</th>\n",
       "      <th>location</th>\n",
       "      <th>제주도민_남</th>\n",
       "      <th>외국인거주_남</th>\n",
       "      <th>제주도민_여</th>\n",
       "      <th>외국인거주_여</th>\n",
       "      <th>total_pop</th>\n",
       "      <th>제주도민_60이상</th>\n",
       "    </tr>\n",
       "  </thead>\n",
       "  <tbody>\n",
       "    <tr>\n",
       "      <th>0</th>\n",
       "      <td>2018-01</td>\n",
       "      <td>서귀포시</td>\n",
       "      <td>남원읍</td>\n",
       "      <td>9806</td>\n",
       "      <td>428</td>\n",
       "      <td>9306</td>\n",
       "      <td>200</td>\n",
       "      <td>19740</td>\n",
       "      <td>5554</td>\n",
       "    </tr>\n",
       "    <tr>\n",
       "      <th>1</th>\n",
       "      <td>2018-02</td>\n",
       "      <td>서귀포시</td>\n",
       "      <td>남원읍</td>\n",
       "      <td>9821</td>\n",
       "      <td>430</td>\n",
       "      <td>9321</td>\n",
       "      <td>205</td>\n",
       "      <td>19777</td>\n",
       "      <td>5577</td>\n",
       "    </tr>\n",
       "    <tr>\n",
       "      <th>2</th>\n",
       "      <td>2018-03</td>\n",
       "      <td>서귀포시</td>\n",
       "      <td>남원읍</td>\n",
       "      <td>9837</td>\n",
       "      <td>424</td>\n",
       "      <td>9341</td>\n",
       "      <td>204</td>\n",
       "      <td>19806</td>\n",
       "      <td>5583</td>\n",
       "    </tr>\n",
       "    <tr>\n",
       "      <th>3</th>\n",
       "      <td>2018-04</td>\n",
       "      <td>서귀포시</td>\n",
       "      <td>남원읍</td>\n",
       "      <td>9850</td>\n",
       "      <td>428</td>\n",
       "      <td>9353</td>\n",
       "      <td>205</td>\n",
       "      <td>19836</td>\n",
       "      <td>5609</td>\n",
       "    </tr>\n",
       "    <tr>\n",
       "      <th>4</th>\n",
       "      <td>2018-05</td>\n",
       "      <td>서귀포시</td>\n",
       "      <td>남원읍</td>\n",
       "      <td>9878</td>\n",
       "      <td>437</td>\n",
       "      <td>9374</td>\n",
       "      <td>201</td>\n",
       "      <td>19890</td>\n",
       "      <td>5624</td>\n",
       "    </tr>\n",
       "  </tbody>\n",
       "</table>\n",
       "</div>"
      ],
      "text/plain": [
       "       y_m  city location  제주도민_남  외국인거주_남  제주도민_여  외국인거주_여  total_pop  \\\n",
       "0  2018-01  서귀포시      남원읍    9806      428    9306      200      19740   \n",
       "1  2018-02  서귀포시      남원읍    9821      430    9321      205      19777   \n",
       "2  2018-03  서귀포시      남원읍    9837      424    9341      204      19806   \n",
       "3  2018-04  서귀포시      남원읍    9850      428    9353      205      19836   \n",
       "4  2018-05  서귀포시      남원읍    9878      437    9374      201      19890   \n",
       "\n",
       "   제주도민_60이상  \n",
       "0       5554  \n",
       "1       5577  \n",
       "2       5583  \n",
       "3       5609  \n",
       "4       5624  "
      ]
     },
     "execution_count": 54,
     "metadata": {},
     "output_type": "execute_result"
    }
   ],
   "source": [
    "#열이름 정의\n",
    "df_s.rename(columns={\"resid_reg_pop_남\" : \"제주도민_남\",\"resid_reg_pop_여\" : \"제주도민_여\",\"foreign_pop_남\" : \"외국인거주_남\"\n",
    "                    ,\"foreign_pop_여\" : \"외국인거주_여\",\"60세이상\": \"제주도민_60이상\"}, inplace=True)\n",
    "df_s.head()"
   ]
  },
  {
   "cell_type": "code",
   "execution_count": 55,
   "metadata": {},
   "outputs": [
    {
     "data": {
      "text/html": [
       "<div>\n",
       "<style scoped>\n",
       "    .dataframe tbody tr th:only-of-type {\n",
       "        vertical-align: middle;\n",
       "    }\n",
       "\n",
       "    .dataframe tbody tr th {\n",
       "        vertical-align: top;\n",
       "    }\n",
       "\n",
       "    .dataframe thead th {\n",
       "        text-align: right;\n",
       "    }\n",
       "</style>\n",
       "<table border=\"1\" class=\"dataframe\">\n",
       "  <thead>\n",
       "    <tr style=\"text-align: right;\">\n",
       "      <th></th>\n",
       "      <th>y_m</th>\n",
       "      <th>city</th>\n",
       "      <th>location</th>\n",
       "      <th>제주도민_남</th>\n",
       "      <th>외국인거주_남</th>\n",
       "      <th>제주도민_여</th>\n",
       "      <th>외국인거주_여</th>\n",
       "      <th>total_pop</th>\n",
       "      <th>제주도민_60이상</th>\n",
       "      <th>제주도민_60미만</th>\n",
       "    </tr>\n",
       "  </thead>\n",
       "  <tbody>\n",
       "    <tr>\n",
       "      <th>0</th>\n",
       "      <td>2018-01</td>\n",
       "      <td>서귀포시</td>\n",
       "      <td>남원읍</td>\n",
       "      <td>9806</td>\n",
       "      <td>428</td>\n",
       "      <td>9306</td>\n",
       "      <td>200</td>\n",
       "      <td>19740</td>\n",
       "      <td>5554</td>\n",
       "      <td>14186</td>\n",
       "    </tr>\n",
       "    <tr>\n",
       "      <th>1</th>\n",
       "      <td>2018-02</td>\n",
       "      <td>서귀포시</td>\n",
       "      <td>남원읍</td>\n",
       "      <td>9821</td>\n",
       "      <td>430</td>\n",
       "      <td>9321</td>\n",
       "      <td>205</td>\n",
       "      <td>19777</td>\n",
       "      <td>5577</td>\n",
       "      <td>14200</td>\n",
       "    </tr>\n",
       "    <tr>\n",
       "      <th>2</th>\n",
       "      <td>2018-03</td>\n",
       "      <td>서귀포시</td>\n",
       "      <td>남원읍</td>\n",
       "      <td>9837</td>\n",
       "      <td>424</td>\n",
       "      <td>9341</td>\n",
       "      <td>204</td>\n",
       "      <td>19806</td>\n",
       "      <td>5583</td>\n",
       "      <td>14223</td>\n",
       "    </tr>\n",
       "    <tr>\n",
       "      <th>3</th>\n",
       "      <td>2018-04</td>\n",
       "      <td>서귀포시</td>\n",
       "      <td>남원읍</td>\n",
       "      <td>9850</td>\n",
       "      <td>428</td>\n",
       "      <td>9353</td>\n",
       "      <td>205</td>\n",
       "      <td>19836</td>\n",
       "      <td>5609</td>\n",
       "      <td>14227</td>\n",
       "    </tr>\n",
       "    <tr>\n",
       "      <th>4</th>\n",
       "      <td>2018-05</td>\n",
       "      <td>서귀포시</td>\n",
       "      <td>남원읍</td>\n",
       "      <td>9878</td>\n",
       "      <td>437</td>\n",
       "      <td>9374</td>\n",
       "      <td>201</td>\n",
       "      <td>19890</td>\n",
       "      <td>5624</td>\n",
       "      <td>14266</td>\n",
       "    </tr>\n",
       "  </tbody>\n",
       "</table>\n",
       "</div>"
      ],
      "text/plain": [
       "       y_m  city location  제주도민_남  외국인거주_남  제주도민_여  외국인거주_여  total_pop  \\\n",
       "0  2018-01  서귀포시      남원읍    9806      428    9306      200      19740   \n",
       "1  2018-02  서귀포시      남원읍    9821      430    9321      205      19777   \n",
       "2  2018-03  서귀포시      남원읍    9837      424    9341      204      19806   \n",
       "3  2018-04  서귀포시      남원읍    9850      428    9353      205      19836   \n",
       "4  2018-05  서귀포시      남원읍    9878      437    9374      201      19890   \n",
       "\n",
       "   제주도민_60이상  제주도민_60미만  \n",
       "0       5554      14186  \n",
       "1       5577      14200  \n",
       "2       5583      14223  \n",
       "3       5609      14227  \n",
       "4       5624      14266  "
      ]
     },
     "execution_count": 55,
     "metadata": {},
     "output_type": "execute_result"
    }
   ],
   "source": [
    "# 60세 미만 거주 인구수 파생변수 열 생성\n",
    "df_s[\"제주도민_60미만\"] = df_s.apply(lambda x: x.total_pop - x.제주도민_60이상, axis = 1)\n",
    "df_s.head()"
   ]
  },
  {
   "cell_type": "code",
   "execution_count": 56,
   "metadata": {},
   "outputs": [],
   "source": [
    "# 열 순서 정의\n",
    "df_s = df_s.loc[:,[\"y_m\",\"city\",\"location\",\"제주도민_여\",\"외국인거주_여\",\"제주도민_남\",\"외국인거주_남\",\"제주도민_60이상\",\"제주도민_60미만\",\"total_pop\"]]"
   ]
  },
  {
   "cell_type": "code",
   "execution_count": 57,
   "metadata": {},
   "outputs": [],
   "source": [
    "# csv파일 변환\n",
    "df_s.to_csv(\"3번데이터_성별_연령_서귀포시.csv\",encoding = \"cp949\",index=False)"
   ]
  },
  {
   "cell_type": "markdown",
   "metadata": {},
   "source": [
    "## 제주시 서귀포시 결합"
   ]
  },
  {
   "cell_type": "code",
   "execution_count": 58,
   "metadata": {},
   "outputs": [],
   "source": [
    "#데이터로드\n",
    "df_1 = pd.read_csv(\"3번데이터_성별_연령_제주시.csv\", encoding = \"cp949\")\n",
    "df_2 = pd.read_csv(\"3번데이터_성별_연령_서귀포시.csv\", encoding = \"cp949\")"
   ]
  },
  {
   "cell_type": "code",
   "execution_count": 59,
   "metadata": {},
   "outputs": [
    {
     "data": {
      "text/html": [
       "<div>\n",
       "<style scoped>\n",
       "    .dataframe tbody tr th:only-of-type {\n",
       "        vertical-align: middle;\n",
       "    }\n",
       "\n",
       "    .dataframe tbody tr th {\n",
       "        vertical-align: top;\n",
       "    }\n",
       "\n",
       "    .dataframe thead th {\n",
       "        text-align: right;\n",
       "    }\n",
       "</style>\n",
       "<table border=\"1\" class=\"dataframe\">\n",
       "  <thead>\n",
       "    <tr style=\"text-align: right;\">\n",
       "      <th></th>\n",
       "      <th>y_m</th>\n",
       "      <th>city</th>\n",
       "      <th>location</th>\n",
       "      <th>제주도민_여</th>\n",
       "      <th>외국인거주_여</th>\n",
       "      <th>제주도민_남</th>\n",
       "      <th>외국인거주_남</th>\n",
       "      <th>제주도민_60이상</th>\n",
       "      <th>제주도민_60미만</th>\n",
       "      <th>total_pop</th>\n",
       "    </tr>\n",
       "  </thead>\n",
       "  <tbody>\n",
       "    <tr>\n",
       "      <th>0</th>\n",
       "      <td>2018-01</td>\n",
       "      <td>제주시</td>\n",
       "      <td>건입동</td>\n",
       "      <td>4715</td>\n",
       "      <td>82</td>\n",
       "      <td>5085</td>\n",
       "      <td>146</td>\n",
       "      <td>2478</td>\n",
       "      <td>7550</td>\n",
       "      <td>10028</td>\n",
       "    </tr>\n",
       "    <tr>\n",
       "      <th>1</th>\n",
       "      <td>2018-02</td>\n",
       "      <td>제주시</td>\n",
       "      <td>건입동</td>\n",
       "      <td>4724</td>\n",
       "      <td>82</td>\n",
       "      <td>5090</td>\n",
       "      <td>142</td>\n",
       "      <td>2484</td>\n",
       "      <td>7554</td>\n",
       "      <td>10038</td>\n",
       "    </tr>\n",
       "    <tr>\n",
       "      <th>2</th>\n",
       "      <td>2018-03</td>\n",
       "      <td>제주시</td>\n",
       "      <td>건입동</td>\n",
       "      <td>4711</td>\n",
       "      <td>81</td>\n",
       "      <td>5072</td>\n",
       "      <td>141</td>\n",
       "      <td>2494</td>\n",
       "      <td>7511</td>\n",
       "      <td>10005</td>\n",
       "    </tr>\n",
       "    <tr>\n",
       "      <th>3</th>\n",
       "      <td>2018-04</td>\n",
       "      <td>제주시</td>\n",
       "      <td>건입동</td>\n",
       "      <td>4718</td>\n",
       "      <td>86</td>\n",
       "      <td>5070</td>\n",
       "      <td>143</td>\n",
       "      <td>2484</td>\n",
       "      <td>7533</td>\n",
       "      <td>10017</td>\n",
       "    </tr>\n",
       "    <tr>\n",
       "      <th>4</th>\n",
       "      <td>2018-05</td>\n",
       "      <td>제주시</td>\n",
       "      <td>건입동</td>\n",
       "      <td>4730</td>\n",
       "      <td>90</td>\n",
       "      <td>5070</td>\n",
       "      <td>148</td>\n",
       "      <td>2504</td>\n",
       "      <td>7534</td>\n",
       "      <td>10038</td>\n",
       "    </tr>\n",
       "    <tr>\n",
       "      <th>...</th>\n",
       "      <td>...</td>\n",
       "      <td>...</td>\n",
       "      <td>...</td>\n",
       "      <td>...</td>\n",
       "      <td>...</td>\n",
       "      <td>...</td>\n",
       "      <td>...</td>\n",
       "      <td>...</td>\n",
       "      <td>...</td>\n",
       "      <td>...</td>\n",
       "    </tr>\n",
       "    <tr>\n",
       "      <th>709</th>\n",
       "      <td>2021-02</td>\n",
       "      <td>서귀포시</td>\n",
       "      <td>효돈동</td>\n",
       "      <td>2616</td>\n",
       "      <td>21</td>\n",
       "      <td>2673</td>\n",
       "      <td>44</td>\n",
       "      <td>1748</td>\n",
       "      <td>3606</td>\n",
       "      <td>5354</td>\n",
       "    </tr>\n",
       "    <tr>\n",
       "      <th>710</th>\n",
       "      <td>2021-03</td>\n",
       "      <td>서귀포시</td>\n",
       "      <td>효돈동</td>\n",
       "      <td>2609</td>\n",
       "      <td>20</td>\n",
       "      <td>2653</td>\n",
       "      <td>41</td>\n",
       "      <td>1752</td>\n",
       "      <td>3571</td>\n",
       "      <td>5323</td>\n",
       "    </tr>\n",
       "    <tr>\n",
       "      <th>711</th>\n",
       "      <td>2021-04</td>\n",
       "      <td>서귀포시</td>\n",
       "      <td>효돈동</td>\n",
       "      <td>2607</td>\n",
       "      <td>19</td>\n",
       "      <td>2660</td>\n",
       "      <td>40</td>\n",
       "      <td>1761</td>\n",
       "      <td>3565</td>\n",
       "      <td>5326</td>\n",
       "    </tr>\n",
       "    <tr>\n",
       "      <th>712</th>\n",
       "      <td>2021-05</td>\n",
       "      <td>서귀포시</td>\n",
       "      <td>효돈동</td>\n",
       "      <td>2605</td>\n",
       "      <td>19</td>\n",
       "      <td>2661</td>\n",
       "      <td>41</td>\n",
       "      <td>1766</td>\n",
       "      <td>3560</td>\n",
       "      <td>5326</td>\n",
       "    </tr>\n",
       "    <tr>\n",
       "      <th>713</th>\n",
       "      <td>2021-06</td>\n",
       "      <td>서귀포시</td>\n",
       "      <td>효돈동</td>\n",
       "      <td>2597</td>\n",
       "      <td>18</td>\n",
       "      <td>2660</td>\n",
       "      <td>39</td>\n",
       "      <td>1764</td>\n",
       "      <td>3550</td>\n",
       "      <td>5314</td>\n",
       "    </tr>\n",
       "  </tbody>\n",
       "</table>\n",
       "<p>1806 rows × 10 columns</p>\n",
       "</div>"
      ],
      "text/plain": [
       "         y_m  city location  제주도민_여  외국인거주_여  제주도민_남  외국인거주_남  제주도민_60이상  \\\n",
       "0    2018-01   제주시      건입동    4715       82    5085      146       2478   \n",
       "1    2018-02   제주시      건입동    4724       82    5090      142       2484   \n",
       "2    2018-03   제주시      건입동    4711       81    5072      141       2494   \n",
       "3    2018-04   제주시      건입동    4718       86    5070      143       2484   \n",
       "4    2018-05   제주시      건입동    4730       90    5070      148       2504   \n",
       "..       ...   ...      ...     ...      ...     ...      ...        ...   \n",
       "709  2021-02  서귀포시      효돈동    2616       21    2673       44       1748   \n",
       "710  2021-03  서귀포시      효돈동    2609       20    2653       41       1752   \n",
       "711  2021-04  서귀포시      효돈동    2607       19    2660       40       1761   \n",
       "712  2021-05  서귀포시      효돈동    2605       19    2661       41       1766   \n",
       "713  2021-06  서귀포시      효돈동    2597       18    2660       39       1764   \n",
       "\n",
       "     제주도민_60미만  total_pop  \n",
       "0         7550      10028  \n",
       "1         7554      10038  \n",
       "2         7511      10005  \n",
       "3         7533      10017  \n",
       "4         7534      10038  \n",
       "..         ...        ...  \n",
       "709       3606       5354  \n",
       "710       3571       5323  \n",
       "711       3565       5326  \n",
       "712       3560       5326  \n",
       "713       3550       5314  \n",
       "\n",
       "[1806 rows x 10 columns]"
      ]
     },
     "execution_count": 59,
     "metadata": {},
     "output_type": "execute_result"
    }
   ],
   "source": [
    "# 데이터 결합\n",
    "df_1 = pd.concat([df_1,df_2])\n",
    "df_1"
   ]
  },
  {
   "cell_type": "code",
   "execution_count": 60,
   "metadata": {},
   "outputs": [],
   "source": [
    "# csv파일 변환\n",
    "df_1.to_csv(\"3번데이터_전처리.csv\",encoding = \"cp949\",index=False)"
   ]
  }
 ],
 "metadata": {
  "kernelspec": {
   "display_name": "Python 3",
   "language": "python",
   "name": "python3"
  },
  "language_info": {
   "codemirror_mode": {
    "name": "ipython",
    "version": 3
   },
   "file_extension": ".py",
   "mimetype": "text/x-python",
   "name": "python",
   "nbconvert_exporter": "python",
   "pygments_lexer": "ipython3",
   "version": "3.8.5"
  }
 },
 "nbformat": 4,
 "nbformat_minor": 4
}
