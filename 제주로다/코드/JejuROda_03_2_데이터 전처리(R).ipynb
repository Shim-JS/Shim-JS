{
 "cells": [
  {
   "cell_type": "markdown",
   "id": "f1f86ee4",
   "metadata": {},
   "source": [
    "# 단기체류 외국인 유동인구_방문인구추출"
   ]
  },
  {
   "cell_type": "code",
   "execution_count": 1,
   "id": "3cc96fea",
   "metadata": {},
   "outputs": [
    {
     "name": "stderr",
     "output_type": "stream",
     "text": [
      "\n",
      "Attaching package: 'dplyr'\n",
      "\n",
      "The following objects are masked from 'package:stats':\n",
      "\n",
      "    filter, lag\n",
      "\n",
      "The following objects are masked from 'package:base':\n",
      "\n",
      "    intersect, setdiff, setequal, union\n",
      "\n"
     ]
    },
    {
     "data": {
      "text/html": [
       "<table>\n",
       "<thead><tr><th scope=col>base_date</th><th scope=col>time</th><th scope=col>nationality</th><th scope=col>city</th><th scope=col>emd_cd</th><th scope=col>emd_nm</th><th scope=col>visit_pop_cnt</th></tr></thead>\n",
       "<tbody>\n",
       "\t<tr><td>2018-01-01</td><td>1         </td><td>CHN       </td><td>제주시    </td><td>50110250  </td><td>한림읍    </td><td> 66.3170  </td></tr>\n",
       "\t<tr><td>2018-01-01</td><td>1         </td><td>ETC       </td><td>제주시    </td><td>50110250  </td><td>한림읍    </td><td> 21.1308  </td></tr>\n",
       "\t<tr><td>2018-01-01</td><td>1         </td><td>HKG       </td><td>제주시    </td><td>50110250  </td><td>한림읍    </td><td>  3.6771  </td></tr>\n",
       "\t<tr><td>2018-01-01</td><td>1         </td><td>JPN       </td><td>제주시    </td><td>50110250  </td><td>한림읍    </td><td>  5.5962  </td></tr>\n",
       "\t<tr><td>2018-01-01</td><td>1         </td><td>USA       </td><td>제주시    </td><td>50110250  </td><td>한림읍    </td><td>  3.9078  </td></tr>\n",
       "\t<tr><td>2018-01-01</td><td>1         </td><td>CHN       </td><td>제주시    </td><td>50110253  </td><td>애월읍    </td><td>123.9840  </td></tr>\n",
       "</tbody>\n",
       "</table>\n"
      ],
      "text/latex": [
       "\\begin{tabular}{r|lllllll}\n",
       " base\\_date & time & nationality & city & emd\\_cd & emd\\_nm & visit\\_pop\\_cnt\\\\\n",
       "\\hline\n",
       "\t 2018-01-01 & 1          & CHN        & 제주시     & 50110250   & 한림읍     &  66.3170  \\\\\n",
       "\t 2018-01-01 & 1          & ETC        & 제주시     & 50110250   & 한림읍     &  21.1308  \\\\\n",
       "\t 2018-01-01 & 1          & HKG        & 제주시     & 50110250   & 한림읍     &   3.6771  \\\\\n",
       "\t 2018-01-01 & 1          & JPN        & 제주시     & 50110250   & 한림읍     &   5.5962  \\\\\n",
       "\t 2018-01-01 & 1          & USA        & 제주시     & 50110250   & 한림읍     &   3.9078  \\\\\n",
       "\t 2018-01-01 & 1          & CHN        & 제주시     & 50110253   & 애월읍     & 123.9840  \\\\\n",
       "\\end{tabular}\n"
      ],
      "text/markdown": [
       "\n",
       "| base_date | time | nationality | city | emd_cd | emd_nm | visit_pop_cnt |\n",
       "|---|---|---|---|---|---|---|\n",
       "| 2018-01-01 | 1          | CHN        | 제주시     | 50110250   | 한림읍     |  66.3170   |\n",
       "| 2018-01-01 | 1          | ETC        | 제주시     | 50110250   | 한림읍     |  21.1308   |\n",
       "| 2018-01-01 | 1          | HKG        | 제주시     | 50110250   | 한림읍     |   3.6771   |\n",
       "| 2018-01-01 | 1          | JPN        | 제주시     | 50110250   | 한림읍     |   5.5962   |\n",
       "| 2018-01-01 | 1          | USA        | 제주시     | 50110250   | 한림읍     |   3.9078   |\n",
       "| 2018-01-01 | 1          | CHN        | 제주시     | 50110253   | 애월읍     | 123.9840   |\n",
       "\n"
      ],
      "text/plain": [
       "  base_date  time nationality city   emd_cd   emd_nm visit_pop_cnt\n",
       "1 2018-01-01 1    CHN         제주시 50110250 한림읍  66.3170     \n",
       "2 2018-01-01 1    ETC         제주시 50110250 한림읍  21.1308     \n",
       "3 2018-01-01 1    HKG         제주시 50110250 한림읍   3.6771     \n",
       "4 2018-01-01 1    JPN         제주시 50110250 한림읍   5.5962     \n",
       "5 2018-01-01 1    USA         제주시 50110250 한림읍   3.9078     \n",
       "6 2018-01-01 1    CHN         제주시 50110253 애월읍 123.9840     "
      ]
     },
     "metadata": {},
     "output_type": "display_data"
    }
   ],
   "source": [
    "library(dplyr)\n",
    "단기<-read.csv('02-3_단기체류 외국인 유동인구.csv')\n",
    "head(단기)"
   ]
  },
  {
   "cell_type": "code",
   "execution_count": 2,
   "id": "098b0768",
   "metadata": {},
   "outputs": [
    {
     "data": {
      "text/html": [
       "<table>\n",
       "<thead><tr><th scope=col>base_date</th><th scope=col>emd_nm</th><th scope=col>visit_pop_cnt</th></tr></thead>\n",
       "<tbody>\n",
       "\t<tr><td>2018-01-01</td><td>건입동    </td><td>26.24815  </td></tr>\n",
       "\t<tr><td>2018-01-01</td><td>구좌읍    </td><td>17.15403  </td></tr>\n",
       "\t<tr><td>2018-01-01</td><td>남원읍    </td><td>20.77384  </td></tr>\n",
       "\t<tr><td>2018-01-01</td><td>노형동    </td><td>53.63353  </td></tr>\n",
       "\t<tr><td>2018-01-01</td><td>대륜동    </td><td>10.52381  </td></tr>\n",
       "\t<tr><td>2018-01-01</td><td>대정읍    </td><td>13.71054  </td></tr>\n",
       "</tbody>\n",
       "</table>\n"
      ],
      "text/latex": [
       "\\begin{tabular}{r|lll}\n",
       " base\\_date & emd\\_nm & visit\\_pop\\_cnt\\\\\n",
       "\\hline\n",
       "\t 2018-01-01 & 건입동     & 26.24815  \\\\\n",
       "\t 2018-01-01 & 구좌읍     & 17.15403  \\\\\n",
       "\t 2018-01-01 & 남원읍     & 20.77384  \\\\\n",
       "\t 2018-01-01 & 노형동     & 53.63353  \\\\\n",
       "\t 2018-01-01 & 대륜동     & 10.52381  \\\\\n",
       "\t 2018-01-01 & 대정읍     & 13.71054  \\\\\n",
       "\\end{tabular}\n"
      ],
      "text/markdown": [
       "\n",
       "| base_date | emd_nm | visit_pop_cnt |\n",
       "|---|---|---|\n",
       "| 2018-01-01 | 건입동     | 26.24815   |\n",
       "| 2018-01-01 | 구좌읍     | 17.15403   |\n",
       "| 2018-01-01 | 남원읍     | 20.77384   |\n",
       "| 2018-01-01 | 노형동     | 53.63353   |\n",
       "| 2018-01-01 | 대륜동     | 10.52381   |\n",
       "| 2018-01-01 | 대정읍     | 13.71054   |\n",
       "\n"
      ],
      "text/plain": [
       "  base_date  emd_nm visit_pop_cnt\n",
       "1 2018-01-01 건입동 26.24815     \n",
       "2 2018-01-01 구좌읍 17.15403     \n",
       "3 2018-01-01 남원읍 20.77384     \n",
       "4 2018-01-01 노형동 53.63353     \n",
       "5 2018-01-01 대륜동 10.52381     \n",
       "6 2018-01-01 대정읍 13.71054     "
      ]
     },
     "metadata": {},
     "output_type": "display_data"
    }
   ],
   "source": [
    "단기1<-단기%>%\n",
    " group_by(base_date,emd_nm)%>%\n",
    " summarize(visit_pop_cnt=mean(visit_pop_cnt))\n",
    "head(단기1)"
   ]
  },
  {
   "cell_type": "code",
   "execution_count": 3,
   "id": "43ead906",
   "metadata": {},
   "outputs": [
    {
     "data": {
      "text/html": [
       "<table>\n",
       "<thead><tr><th scope=col>y_m</th><th scope=col>emd_nm</th><th scope=col>visit_pop_cnt</th></tr></thead>\n",
       "<tbody>\n",
       "\t<tr><td>2018-01  </td><td>건입동   </td><td> 554.1935</td></tr>\n",
       "\t<tr><td>2018-01  </td><td>구좌읍   </td><td> 451.7005</td></tr>\n",
       "\t<tr><td>2018-01  </td><td>남원읍   </td><td>1686.0106</td></tr>\n",
       "\t<tr><td>2018-01  </td><td>노형동   </td><td>1380.8967</td></tr>\n",
       "\t<tr><td>2018-01  </td><td>대륜동   </td><td> 420.8336</td></tr>\n",
       "\t<tr><td>2018-01  </td><td>대정읍   </td><td> 356.2630</td></tr>\n",
       "</tbody>\n",
       "</table>\n"
      ],
      "text/latex": [
       "\\begin{tabular}{r|lll}\n",
       " y\\_m & emd\\_nm & visit\\_pop\\_cnt\\\\\n",
       "\\hline\n",
       "\t 2018-01   & 건입동    &  554.1935\\\\\n",
       "\t 2018-01   & 구좌읍    &  451.7005\\\\\n",
       "\t 2018-01   & 남원읍    & 1686.0106\\\\\n",
       "\t 2018-01   & 노형동    & 1380.8967\\\\\n",
       "\t 2018-01   & 대륜동    &  420.8336\\\\\n",
       "\t 2018-01   & 대정읍    &  356.2630\\\\\n",
       "\\end{tabular}\n"
      ],
      "text/markdown": [
       "\n",
       "| y_m | emd_nm | visit_pop_cnt |\n",
       "|---|---|---|\n",
       "| 2018-01   | 건입동    |  554.1935 |\n",
       "| 2018-01   | 구좌읍    |  451.7005 |\n",
       "| 2018-01   | 남원읍    | 1686.0106 |\n",
       "| 2018-01   | 노형동    | 1380.8967 |\n",
       "| 2018-01   | 대륜동    |  420.8336 |\n",
       "| 2018-01   | 대정읍    |  356.2630 |\n",
       "\n"
      ],
      "text/plain": [
       "  y_m     emd_nm visit_pop_cnt\n",
       "1 2018-01 건입동  554.1935    \n",
       "2 2018-01 구좌읍  451.7005    \n",
       "3 2018-01 남원읍 1686.0106    \n",
       "4 2018-01 노형동 1380.8967    \n",
       "5 2018-01 대륜동  420.8336    \n",
       "6 2018-01 대정읍  356.2630    "
      ]
     },
     "metadata": {},
     "output_type": "display_data"
    },
    {
     "data": {
      "text/html": [
       "<table>\n",
       "<thead><tr><th scope=col>y_m</th><th scope=col>emd_nm</th><th scope=col>visit_pop_cnt</th></tr></thead>\n",
       "<tbody>\n",
       "\t<tr><td>2021-06  </td><td>추자면   </td><td>41.810643</td></tr>\n",
       "\t<tr><td>2021-06  </td><td>표선면   </td><td>28.862430</td></tr>\n",
       "\t<tr><td>2021-06  </td><td>한경면   </td><td>13.838063</td></tr>\n",
       "\t<tr><td>2021-06  </td><td>한림읍   </td><td>28.297822</td></tr>\n",
       "\t<tr><td>2021-06  </td><td>화북동   </td><td>10.453663</td></tr>\n",
       "\t<tr><td>2021-06  </td><td>효돈동   </td><td> 8.349887</td></tr>\n",
       "</tbody>\n",
       "</table>\n"
      ],
      "text/latex": [
       "\\begin{tabular}{r|lll}\n",
       " y\\_m & emd\\_nm & visit\\_pop\\_cnt\\\\\n",
       "\\hline\n",
       "\t 2021-06   & 추자면    & 41.810643\\\\\n",
       "\t 2021-06   & 표선면    & 28.862430\\\\\n",
       "\t 2021-06   & 한경면    & 13.838063\\\\\n",
       "\t 2021-06   & 한림읍    & 28.297822\\\\\n",
       "\t 2021-06   & 화북동    & 10.453663\\\\\n",
       "\t 2021-06   & 효돈동    &  8.349887\\\\\n",
       "\\end{tabular}\n"
      ],
      "text/markdown": [
       "\n",
       "| y_m | emd_nm | visit_pop_cnt |\n",
       "|---|---|---|\n",
       "| 2021-06   | 추자면    | 41.810643 |\n",
       "| 2021-06   | 표선면    | 28.862430 |\n",
       "| 2021-06   | 한경면    | 13.838063 |\n",
       "| 2021-06   | 한림읍    | 28.297822 |\n",
       "| 2021-06   | 화북동    | 10.453663 |\n",
       "| 2021-06   | 효돈동    |  8.349887 |\n",
       "\n"
      ],
      "text/plain": [
       "  y_m     emd_nm visit_pop_cnt\n",
       "1 2021-06 추자면 41.810643    \n",
       "2 2021-06 표선면 28.862430    \n",
       "3 2021-06 한경면 13.838063    \n",
       "4 2021-06 한림읍 28.297822    \n",
       "5 2021-06 화북동 10.453663    \n",
       "6 2021-06 효돈동  8.349887    "
      ]
     },
     "metadata": {},
     "output_type": "display_data"
    }
   ],
   "source": [
    "y<-cbind(단기1,y_m=substr(단기1$base_date,1,7))\n",
    "단기2<-y%>%\n",
    " group_by(y_m,emd_nm)%>%\n",
    " summarize(visit_pop_cnt=sum(visit_pop_cnt))\n",
    "head(단기2)\n",
    "tail(단기2)"
   ]
  },
  {
   "cell_type": "code",
   "execution_count": 4,
   "id": "4d5f170e",
   "metadata": {},
   "outputs": [
    {
     "data": {
      "text/html": [
       "<table>\n",
       "<thead><tr><th scope=col>y_m</th><th scope=col>location</th><th scope=col>visit_pop_cnt_sf</th></tr></thead>\n",
       "<tbody>\n",
       "\t<tr><td>2018-01  </td><td>건입동   </td><td> 554.1935</td></tr>\n",
       "\t<tr><td>2018-01  </td><td>구좌읍   </td><td> 451.7005</td></tr>\n",
       "\t<tr><td>2018-01  </td><td>남원읍   </td><td>1686.0106</td></tr>\n",
       "\t<tr><td>2018-01  </td><td>노형동   </td><td>1380.8967</td></tr>\n",
       "\t<tr><td>2018-01  </td><td>대륜동   </td><td> 420.8336</td></tr>\n",
       "\t<tr><td>2018-01  </td><td>대정읍   </td><td> 356.2630</td></tr>\n",
       "</tbody>\n",
       "</table>\n"
      ],
      "text/latex": [
       "\\begin{tabular}{r|lll}\n",
       " y\\_m & location & visit\\_pop\\_cnt\\_sf\\\\\n",
       "\\hline\n",
       "\t 2018-01   & 건입동    &  554.1935\\\\\n",
       "\t 2018-01   & 구좌읍    &  451.7005\\\\\n",
       "\t 2018-01   & 남원읍    & 1686.0106\\\\\n",
       "\t 2018-01   & 노형동    & 1380.8967\\\\\n",
       "\t 2018-01   & 대륜동    &  420.8336\\\\\n",
       "\t 2018-01   & 대정읍    &  356.2630\\\\\n",
       "\\end{tabular}\n"
      ],
      "text/markdown": [
       "\n",
       "| y_m | location | visit_pop_cnt_sf |\n",
       "|---|---|---|\n",
       "| 2018-01   | 건입동    |  554.1935 |\n",
       "| 2018-01   | 구좌읍    |  451.7005 |\n",
       "| 2018-01   | 남원읍    | 1686.0106 |\n",
       "| 2018-01   | 노형동    | 1380.8967 |\n",
       "| 2018-01   | 대륜동    |  420.8336 |\n",
       "| 2018-01   | 대정읍    |  356.2630 |\n",
       "\n"
      ],
      "text/plain": [
       "  y_m     location visit_pop_cnt_sf\n",
       "1 2018-01 건입동    554.1935       \n",
       "2 2018-01 구좌읍    451.7005       \n",
       "3 2018-01 남원읍   1686.0106       \n",
       "4 2018-01 노형동   1380.8967       \n",
       "5 2018-01 대륜동    420.8336       \n",
       "6 2018-01 대정읍    356.2630       "
      ]
     },
     "metadata": {},
     "output_type": "display_data"
    }
   ],
   "source": [
    "단기3<-rename(단기2,location=emd_nm,visit_pop_cnt_sf=visit_pop_cnt)\n",
    "head(단기3)"
   ]
  },
  {
   "cell_type": "code",
   "execution_count": null,
   "id": "3caa5112",
   "metadata": {},
   "outputs": [],
   "source": [
    "write.csv(단기3,'단기방문인구.csv')"
   ]
  },
  {
   "cell_type": "markdown",
   "id": "36927e4b",
   "metadata": {},
   "source": [
    "# 내국인 유동인구_방문인구추출"
   ]
  },
  {
   "cell_type": "code",
   "execution_count": 5,
   "id": "cf84c422",
   "metadata": {},
   "outputs": [
    {
     "ename": "ERROR",
     "evalue": "Error: 크기가 62.5 Mb인 벡터를 할당할 수 없습니다\n",
     "output_type": "error",
     "traceback": [
      "Error: 크기가 62.5 Mb인 벡터를 할당할 수 없습니다\nTraceback:\n",
      "1. read.csv(\"02-1_내국인유동인구.csv\")",
      "2. read.table(file = file, header = header, sep = sep, quote = quote, \n .     dec = dec, fill = fill, comment.char = comment.char, ...)",
      "3. scan(file = file, what = what, sep = sep, quote = quote, dec = dec, \n .     nmax = nrows, skip = 0, na.strings = na.strings, quiet = TRUE, \n .     fill = fill, strip.white = strip.white, blank.lines.skip = blank.lines.skip, \n .     multi.line = FALSE, comment.char = comment.char, allowEscapes = allowEscapes, \n .     flush = flush, encoding = encoding, skipNul = skipNul)"
     ]
    }
   ],
   "source": [
    "kor<-read.csv('02-1_내국인유동인구.csv')\n",
    "head(kor)"
   ]
  },
  {
   "cell_type": "code",
   "execution_count": null,
   "id": "7c055f46",
   "metadata": {},
   "outputs": [],
   "source": [
    "kor1<-subset(kor,resd=='그외')\n",
    "head(kor1)"
   ]
  },
  {
   "cell_type": "code",
   "execution_count": null,
   "id": "a941e2ee",
   "metadata": {},
   "outputs": [],
   "source": [
    "kor2<-kor1%>%\n",
    " group_by(base_date,emd_nm,resd)%>%\n",
    " summarize(visit_pop_cnt=mean(visit_pop_cnt))\n",
    "head(kor2)"
   ]
  },
  {
   "cell_type": "code",
   "execution_count": null,
   "id": "bacb0580",
   "metadata": {},
   "outputs": [],
   "source": [
    "y<-cbind(kor2,date=substr(kor2$base_date,1,7))\n",
    "kor3<-y%>%\n",
    " group_by(date,emd_nm)%>%\n",
    " summarize(visit_pop_cnt=sum(visit_pop_cnt))\n",
    "head(kor3)\n",
    "tail(kor3)"
   ]
  },
  {
   "cell_type": "code",
   "execution_count": null,
   "id": "1dd332be",
   "metadata": {},
   "outputs": [],
   "source": [
    "kor4<-rename(kor3, y_m=date,location=emd_nm)"
   ]
  },
  {
   "cell_type": "code",
   "execution_count": null,
   "id": "3a5a4047",
   "metadata": {},
   "outputs": [],
   "source": [
    "write.csv(kor4,'내국인그외방문인구.csv')"
   ]
  },
  {
   "cell_type": "markdown",
   "id": "91b36de4",
   "metadata": {},
   "source": [
    "# 장기체류 외국인유동인구_방문인구추출"
   ]
  },
  {
   "cell_type": "code",
   "execution_count": null,
   "id": "e322e57c",
   "metadata": {},
   "outputs": [],
   "source": [
    "lf<-read.csv('02-2_장기체류 외국인 유동인구.csv')\n",
    "head(lf)"
   ]
  },
  {
   "cell_type": "code",
   "execution_count": null,
   "id": "2fe4c0af",
   "metadata": {},
   "outputs": [],
   "source": [
    "lf1<-subset(lf,resd=='그외')\n",
    "head(lf1)"
   ]
  },
  {
   "cell_type": "code",
   "execution_count": null,
   "id": "90c31ea7",
   "metadata": {},
   "outputs": [],
   "source": [
    "lf2<-lf1%>%\n",
    " group_by(base_date,emd_nm,resd)%>%\n",
    " summarize(visit_pop_cnt=mean(visit_pop_cnt))\n",
    "head(lf2)"
   ]
  },
  {
   "cell_type": "code",
   "execution_count": null,
   "id": "1daaf1e8",
   "metadata": {},
   "outputs": [],
   "source": [
    "y<-cbind(lf2,date=substr(lf2$base_date,1,7))\n",
    "lf3<-y%>%\n",
    " group_by(date,emd_nm)%>%\n",
    " summarize(visit_pop_cnt=sum(visit_pop_cnt))\n",
    "head(lf3)\n",
    "tail(lf3)"
   ]
  },
  {
   "cell_type": "code",
   "execution_count": null,
   "id": "7429a3ba",
   "metadata": {},
   "outputs": [],
   "source": [
    "lf4<-rename(lf3, y_m=date,location=emd_nm)"
   ]
  },
  {
   "cell_type": "code",
   "execution_count": null,
   "id": "1ccc039f",
   "metadata": {},
   "outputs": [],
   "source": [
    "write.csv(lf4,'장기그외방문인구.csv')"
   ]
  },
  {
   "cell_type": "markdown",
   "id": "3abf3e84",
   "metadata": {},
   "source": [
    "# 방문인구 병합(파이썬)"
   ]
  },
  {
   "cell_type": "code",
   "execution_count": 6,
   "id": "6ba67424",
   "metadata": {},
   "outputs": [
    {
     "ename": "ERROR",
     "evalue": "Error in parse(text = x, srcfile = src): <text>:1:8: 예상하지 못한 기호(symbol)입니다.\n1: import pandas\n           ^\n",
     "output_type": "error",
     "traceback": [
      "Error in parse(text = x, srcfile = src): <text>:1:8: 예상하지 못한 기호(symbol)입니다.\n1: import pandas\n           ^\nTraceback:\n"
     ]
    }
   ],
   "source": [
    "import pandas as pd\n",
    "import numpy as np\n",
    "import matplotlib.pyplot as plt\n",
    "import seaborn as sns\n",
    "#출력 그림 크기 조절\n",
    "sns.set(rc={'figure.figsize':(12,12)})\n",
    "plt.style.use('ggplot')\n",
    "from matplotlib import font_manager, rc\n",
    "font_path = \"C:/Windows/Fonts/NGULIM.TTF\"\n",
    "font = font_manager.FontProperties(fname=font_path).get_name()\n",
    "rc('font', family=font)\n",
    "\n",
    "import warnings\n",
    "warnings.filterwarnings(\"ignore\")"
   ]
  },
  {
   "cell_type": "code",
   "execution_count": 7,
   "id": "474206a7",
   "metadata": {},
   "outputs": [
    {
     "ename": "ERROR",
     "evalue": "Error in pd.read_csv(\"단기방문인구.csv\", encoding = \"cp949\"): 함수 \"pd.read_csv\"를 찾을 수 없습니다\n",
     "output_type": "error",
     "traceback": [
      "Error in pd.read_csv(\"단기방문인구.csv\", encoding = \"cp949\"): 함수 \"pd.read_csv\"를 찾을 수 없습니다\nTraceback:\n"
     ]
    }
   ],
   "source": [
    "df_1 = pd.read_csv('단기방문인구.csv', encoding = 'cp949')"
   ]
  },
  {
   "cell_type": "code",
   "execution_count": null,
   "id": "5e53db06",
   "metadata": {},
   "outputs": [],
   "source": [
    "df_1 = df_1.drop(\"Unnamed: 0\",axis=1)\n",
    "df_1"
   ]
  },
  {
   "cell_type": "code",
   "execution_count": null,
   "id": "e061004a",
   "metadata": {},
   "outputs": [],
   "source": [
    "df_2 = pd.read_csv(\"내국인그외방문인구.csv\",encoding = \"cp949\")"
   ]
  },
  {
   "cell_type": "code",
   "execution_count": null,
   "id": "81c4cad8",
   "metadata": {},
   "outputs": [],
   "source": [
    "df_2 = df_2.drop(\"Unnamed: 0\",axis=1)\n",
    "df_2"
   ]
  },
  {
   "cell_type": "code",
   "execution_count": null,
   "id": "a7452ed2",
   "metadata": {},
   "outputs": [],
   "source": [
    "df_m = pd.merge(df_1,df_2,how = \"left\", on = [\"y_m\",'location'])"
   ]
  },
  {
   "cell_type": "code",
   "execution_count": null,
   "id": "a7a2d3c7",
   "metadata": {},
   "outputs": [],
   "source": [
    "df_m"
   ]
  },
  {
   "cell_type": "code",
   "execution_count": null,
   "id": "398ef089",
   "metadata": {},
   "outputs": [],
   "source": [
    "#우도면 추자면 제외\n",
    "df_m = df_m[df_m.location != \"제주시_추자면\"]\n",
    "df_m = df_m[df_m.location != \"제주시_우도면\"]"
   ]
  },
  {
   "cell_type": "code",
   "execution_count": null,
   "id": "2ba7d828",
   "metadata": {},
   "outputs": [],
   "source": [
    "df_m.to_csv(\"단기_내국인.csv\",encoding = \"cp949\",index=False)"
   ]
  },
  {
   "cell_type": "markdown",
   "id": "de9feec5",
   "metadata": {},
   "source": [
    "# 방문인구 병합(R)"
   ]
  }
 ],
 "metadata": {
  "kernelspec": {
   "display_name": "R",
   "language": "R",
   "name": "ir"
  },
  "language_info": {
   "codemirror_mode": "r",
   "file_extension": ".r",
   "mimetype": "text/x-r-source",
   "name": "R",
   "pygments_lexer": "r",
   "version": "3.6.1"
  }
 },
 "nbformat": 4,
 "nbformat_minor": 5
}
