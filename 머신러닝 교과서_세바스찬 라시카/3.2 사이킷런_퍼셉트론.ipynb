{
 "cells": [
  {
   "cell_type": "code",
   "execution_count": 1,
   "metadata": {},
   "outputs": [
    {
     "name": "stdout",
     "output_type": "stream",
     "text": [
      "클래스 레이블: [0 1 2]\n"
     ]
    }
   ],
   "source": [
    "# 사이킷런에서 붓꽃 데이터셋을 가지고 온다.\n",
    "from sklearn import datasets\n",
    "import numpy as np\n",
    "\n",
    "iris = datasets.load_iris()\n",
    "X = iris.data[:, [2, 3]]\n",
    "y = iris.target\n",
    "\n",
    "print('클래스 레이블:', np.unique(y))"
   ]
  },
  {
   "cell_type": "code",
   "execution_count": 2,
   "metadata": {},
   "outputs": [],
   "source": [
    "# 트레인, 테스트 데이터셋 분리\n",
    "from sklearn.model_selection import train_test_split\n",
    "\n",
    "X_train, X_test, y_train, y_test = train_test_split(\n",
    "    X, y, test_size=0.3, random_state=1, stratify=y)"
   ]
  },
  {
   "cell_type": "code",
   "execution_count": 3,
   "metadata": {},
   "outputs": [
    {
     "name": "stdout",
     "output_type": "stream",
     "text": [
      "y의 레이블 카운트: [50 50 50]\n",
      "y_train의 레이블 카운트: [35 35 35]\n",
      "y_test의 레이블 카운트: [15 15 15]\n"
     ]
    }
   ],
   "source": [
    "print('y의 레이블 카운트:', np.bincount(y))\n",
    "print('y_train의 레이블 카운트:', np.bincount(y_train))\n",
    "print('y_test의 레이블 카운트:', np.bincount(y_test))"
   ]
  },
  {
   "cell_type": "markdown",
   "metadata": {},
   "source": [
    "- 분류가 된 모습을 보인다."
   ]
  },
  {
   "cell_type": "code",
   "execution_count": 4,
   "metadata": {},
   "outputs": [],
   "source": [
    "# 데이터 표준화\n",
    "\n",
    "from sklearn.preprocessing import StandardScaler\n",
    "\n",
    "sc = StandardScaler()\n",
    "sc.fit(X_train)\n",
    "X_train_std = sc.transform(X_train)\n",
    "X_test_std = sc.transform(X_test)"
   ]
  },
  {
   "cell_type": "code",
   "execution_count": 5,
   "metadata": {},
   "outputs": [
    {
     "data": {
      "text/plain": [
       "array([[1.4, 0.2],\n",
       "       [1.7, 0.2],\n",
       "       [5.3, 2.3],\n",
       "       [5.7, 2.1],\n",
       "       [1.2, 0.2],\n",
       "       [5.6, 2.4],\n",
       "       [6.6, 2.1],\n",
       "       [1.2, 0.2],\n",
       "       [5.8, 1.6],\n",
       "       [4.6, 1.3],\n",
       "       [3.3, 1. ],\n",
       "       [3.9, 1.4],\n",
       "       [1.3, 0.2],\n",
       "       [4.7, 1.2],\n",
       "       [4. , 1.3],\n",
       "       [5.1, 1.9],\n",
       "       [1.9, 0.2],\n",
       "       [3.5, 1. ],\n",
       "       [3.9, 1.2],\n",
       "       [1.6, 0.2],\n",
       "       [4.8, 1.8],\n",
       "       [6.9, 2.3],\n",
       "       [4.5, 1.5],\n",
       "       [4.5, 1.3],\n",
       "       [3.8, 1.1],\n",
       "       [5.6, 2.4],\n",
       "       [4.7, 1.4],\n",
       "       [5.6, 1.4],\n",
       "       [5.8, 2.2],\n",
       "       [5.1, 2.4],\n",
       "       [4.1, 1.3],\n",
       "       [1.5, 0.4],\n",
       "       [6.7, 2.2],\n",
       "       [5. , 1.9],\n",
       "       [4.8, 1.8],\n",
       "       [5.6, 2.1],\n",
       "       [4.2, 1.5],\n",
       "       [6.7, 2. ],\n",
       "       [5.5, 1.8],\n",
       "       [1.6, 0.2],\n",
       "       [4.9, 1.8],\n",
       "       [1.4, 0.2],\n",
       "       [5.1, 1.5],\n",
       "       [1.9, 0.4],\n",
       "       [1. , 0.2],\n",
       "       [4.9, 1.5],\n",
       "       [1.5, 0.2],\n",
       "       [1.1, 0.1],\n",
       "       [5.5, 1.8],\n",
       "       [4.7, 1.5],\n",
       "       [1.7, 0.3],\n",
       "       [3.5, 1. ],\n",
       "       [4.1, 1. ],\n",
       "       [1.5, 0.2],\n",
       "       [1.5, 0.2],\n",
       "       [1.5, 0.2],\n",
       "       [3.7, 1. ],\n",
       "       [6.1, 2.5],\n",
       "       [1.3, 0.3],\n",
       "       [4.9, 1.5],\n",
       "       [1.3, 0.2],\n",
       "       [4.5, 1.6],\n",
       "       [6. , 1.8],\n",
       "       [1.6, 0.2],\n",
       "       [1.4, 0.2],\n",
       "       [4.4, 1.2],\n",
       "       [5.1, 1.9],\n",
       "       [3.6, 1.3],\n",
       "       [4.1, 1.3],\n",
       "       [4.8, 1.8],\n",
       "       [6.1, 2.3],\n",
       "       [4.5, 1.5],\n",
       "       [4.5, 1.5],\n",
       "       [5.4, 2.1],\n",
       "       [5.6, 2.2],\n",
       "       [4.6, 1.4],\n",
       "       [1.5, 0.4],\n",
       "       [1.7, 0.5],\n",
       "       [6.1, 1.9],\n",
       "       [5.1, 1.6],\n",
       "       [6.4, 2. ],\n",
       "       [5. , 1.5],\n",
       "       [1.5, 0.2],\n",
       "       [4.2, 1.3],\n",
       "       [5.1, 2. ],\n",
       "       [6. , 2.5],\n",
       "       [1.5, 0.3],\n",
       "       [1.4, 0.2],\n",
       "       [5.6, 1.8],\n",
       "       [1.4, 0.3],\n",
       "       [5.9, 2.3],\n",
       "       [3.9, 1.1],\n",
       "       [4.2, 1.2],\n",
       "       [4.3, 1.3],\n",
       "       [1.5, 0.1],\n",
       "       [5.2, 2.3],\n",
       "       [4.4, 1.3],\n",
       "       [1.3, 0.2],\n",
       "       [1.4, 0.3],\n",
       "       [5. , 1.7],\n",
       "       [1.3, 0.3],\n",
       "       [4. , 1.2],\n",
       "       [1.6, 0.4],\n",
       "       [1.5, 0.2],\n",
       "       [1.3, 0.2]])"
      ]
     },
     "metadata": {},
     "output_type": "display_data"
    },
    {
     "data": {
      "text/plain": [
       "array([[-1.33269725, -1.30728421],\n",
       "       [-1.16537974, -1.30728421],\n",
       "       [ 0.84243039,  1.44587881],\n",
       "       [ 1.0655204 ,  1.18367281],\n",
       "       [-1.44424226, -1.30728421],\n",
       "       [ 1.0097479 ,  1.57698181],\n",
       "       [ 1.56747294,  1.18367281],\n",
       "       [-1.44424226, -1.30728421],\n",
       "       [ 1.12129291,  0.5281578 ],\n",
       "       [ 0.45202286,  0.1348488 ],\n",
       "       [-0.27301968, -0.2584602 ],\n",
       "       [ 0.06161534,  0.2659518 ],\n",
       "       [-1.38846976, -1.30728421],\n",
       "       [ 0.50779537,  0.0037458 ],\n",
       "       [ 0.11738784,  0.1348488 ],\n",
       "       [ 0.73088538,  0.92146681],\n",
       "       [-1.05383474, -1.30728421],\n",
       "       [-0.16147468, -0.2584602 ],\n",
       "       [ 0.06161534,  0.0037458 ],\n",
       "       [-1.22115225, -1.30728421],\n",
       "       [ 0.56356787,  0.79036381],\n",
       "       [ 1.73479045,  1.44587881],\n",
       "       [ 0.39625036,  0.3970548 ],\n",
       "       [ 0.39625036,  0.1348488 ],\n",
       "       [ 0.00584283, -0.1273572 ],\n",
       "       [ 1.0097479 ,  1.57698181],\n",
       "       [ 0.50779537,  0.2659518 ],\n",
       "       [ 1.0097479 ,  0.2659518 ],\n",
       "       [ 1.12129291,  1.31477581],\n",
       "       [ 0.73088538,  1.57698181],\n",
       "       [ 0.17316034,  0.1348488 ],\n",
       "       [-1.27692475, -1.04507821],\n",
       "       [ 1.62324544,  1.31477581],\n",
       "       [ 0.67511288,  0.92146681],\n",
       "       [ 0.56356787,  0.79036381],\n",
       "       [ 1.0097479 ,  1.18367281],\n",
       "       [ 0.22893285,  0.3970548 ],\n",
       "       [ 1.62324544,  1.05256981],\n",
       "       [ 0.9539754 ,  0.79036381],\n",
       "       [-1.22115225, -1.30728421],\n",
       "       [ 0.61934037,  0.79036381],\n",
       "       [-1.33269725, -1.30728421],\n",
       "       [ 0.73088538,  0.3970548 ],\n",
       "       [-1.05383474, -1.04507821],\n",
       "       [-1.55578727, -1.30728421],\n",
       "       [ 0.61934037,  0.3970548 ],\n",
       "       [-1.27692475, -1.30728421],\n",
       "       [-1.50001477, -1.43838721],\n",
       "       [ 0.9539754 ,  0.79036381],\n",
       "       [ 0.50779537,  0.3970548 ],\n",
       "       [-1.16537974, -1.17618121],\n",
       "       [-0.16147468, -0.2584602 ],\n",
       "       [ 0.17316034, -0.2584602 ],\n",
       "       [-1.27692475, -1.30728421],\n",
       "       [-1.27692475, -1.30728421],\n",
       "       [-1.27692475, -1.30728421],\n",
       "       [-0.04992967, -0.2584602 ],\n",
       "       [ 1.28861042,  1.70808482],\n",
       "       [-1.38846976, -1.17618121],\n",
       "       [ 0.61934037,  0.3970548 ],\n",
       "       [-1.38846976, -1.30728421],\n",
       "       [ 0.39625036,  0.5281578 ],\n",
       "       [ 1.23283791,  0.79036381],\n",
       "       [-1.22115225, -1.30728421],\n",
       "       [-1.33269725, -1.30728421],\n",
       "       [ 0.34047786,  0.0037458 ],\n",
       "       [ 0.73088538,  0.92146681],\n",
       "       [-0.10570217,  0.1348488 ],\n",
       "       [ 0.17316034,  0.1348488 ],\n",
       "       [ 0.56356787,  0.79036381],\n",
       "       [ 1.28861042,  1.44587881],\n",
       "       [ 0.39625036,  0.3970548 ],\n",
       "       [ 0.39625036,  0.3970548 ],\n",
       "       [ 0.89820289,  1.18367281],\n",
       "       [ 1.0097479 ,  1.31477581],\n",
       "       [ 0.45202286,  0.2659518 ],\n",
       "       [-1.27692475, -1.04507821],\n",
       "       [-1.16537974, -0.91397521],\n",
       "       [ 1.28861042,  0.92146681],\n",
       "       [ 0.73088538,  0.5281578 ],\n",
       "       [ 1.45592793,  1.05256981],\n",
       "       [ 0.67511288,  0.3970548 ],\n",
       "       [-1.27692475, -1.30728421],\n",
       "       [ 0.22893285,  0.1348488 ],\n",
       "       [ 0.73088538,  1.05256981],\n",
       "       [ 1.23283791,  1.70808482],\n",
       "       [-1.27692475, -1.17618121],\n",
       "       [-1.33269725, -1.30728421],\n",
       "       [ 1.0097479 ,  0.79036381],\n",
       "       [-1.33269725, -1.17618121],\n",
       "       [ 1.17706541,  1.44587881],\n",
       "       [ 0.06161534, -0.1273572 ],\n",
       "       [ 0.22893285,  0.0037458 ],\n",
       "       [ 0.28470535,  0.1348488 ],\n",
       "       [-1.27692475, -1.43838721],\n",
       "       [ 0.78665788,  1.44587881],\n",
       "       [ 0.34047786,  0.1348488 ],\n",
       "       [-1.38846976, -1.30728421],\n",
       "       [-1.33269725, -1.17618121],\n",
       "       [ 0.67511288,  0.65926081],\n",
       "       [-1.38846976, -1.17618121],\n",
       "       [ 0.11738784,  0.0037458 ],\n",
       "       [-1.22115225, -1.04507821],\n",
       "       [-1.27692475, -1.30728421],\n",
       "       [-1.38846976, -1.30728421]])"
      ]
     },
     "metadata": {},
     "output_type": "display_data"
    }
   ],
   "source": [
    "display(X_train)\n",
    "\n",
    "display(X_train_std)"
   ]
  },
  {
   "cell_type": "code",
   "execution_count": 6,
   "metadata": {},
   "outputs": [
    {
     "data": {
      "text/plain": [
       "Perceptron(eta0=0.1, random_state=1)"
      ]
     },
     "execution_count": 6,
     "metadata": {},
     "output_type": "execute_result"
    }
   ],
   "source": [
    "from sklearn.linear_model import Perceptron\n",
    "\n",
    "ppn = Perceptron(eta0=0.1, random_state=1)\n",
    "ppn.fit(X_train_std, y_train)"
   ]
  },
  {
   "cell_type": "markdown",
   "metadata": {},
   "source": [
    "- 퍼셉트론과 SGDClassifier와 비슷하다.\n",
    "- 퍼셉트론 => SGDClassifier(loss = 'perceptron')"
   ]
  },
  {
   "cell_type": "code",
   "execution_count": 7,
   "metadata": {},
   "outputs": [
    {
     "name": "stdout",
     "output_type": "stream",
     "text": [
      "잘못 분류된 샘플 개수: 1\n"
     ]
    }
   ],
   "source": [
    "y_pred = ppn.predict(X_test_std)\n",
    "print('잘못 분류된 샘플 개수: %d' % (y_test != y_pred).sum())"
   ]
  },
  {
   "cell_type": "code",
   "execution_count": 8,
   "metadata": {},
   "outputs": [
    {
     "name": "stdout",
     "output_type": "stream",
     "text": [
      "정확도: 0.978\n"
     ]
    }
   ],
   "source": [
    "from sklearn.metrics import accuracy_score\n",
    "\n",
    "print('정확도: %.3f' % accuracy_score(y_test, y_pred))"
   ]
  },
  {
   "cell_type": "code",
   "execution_count": 9,
   "metadata": {},
   "outputs": [
    {
     "name": "stdout",
     "output_type": "stream",
     "text": [
      "정확도: 0.978\n"
     ]
    }
   ],
   "source": [
    "print('정확도: %.3f' % ppn.score(X_test_std, y_test))"
   ]
  },
  {
   "cell_type": "code",
   "execution_count": 10,
   "metadata": {},
   "outputs": [],
   "source": [
    "from matplotlib.colors import ListedColormap\n",
    "import matplotlib.pyplot as plt\n",
    "\n",
    "\n",
    "def plot_decision_regions(X, y, classifier, test_idx=None, resolution=0.02):\n",
    "\n",
    "    # 마커와 컬러맵을 설정합니다.\n",
    "    markers = ('s', 'x', 'o', '^', 'v')\n",
    "    colors = ('red', 'blue', 'lightgreen', 'gray', 'cyan')\n",
    "    cmap = ListedColormap(colors[:len(np.unique(y))])\n",
    "\n",
    "    # 결정 경계를 그립니다.\n",
    "    x1_min, x1_max = X[:, 0].min() - 1, X[:, 0].max() + 1\n",
    "    x2_min, x2_max = X[:, 1].min() - 1, X[:, 1].max() + 1\n",
    "    xx1, xx2 = np.meshgrid(np.arange(x1_min, x1_max, resolution),\n",
    "                           np.arange(x2_min, x2_max, resolution))\n",
    "    Z = classifier.predict(np.array([xx1.ravel(), xx2.ravel()]).T)\n",
    "    Z = Z.reshape(xx1.shape)\n",
    "    plt.contourf(xx1, xx2, Z, alpha=0.3, cmap=cmap)\n",
    "    plt.xlim(xx1.min(), xx1.max())\n",
    "    plt.ylim(xx2.min(), xx2.max())\n",
    "\n",
    "    for idx, cl in enumerate(np.unique(y)):\n",
    "        plt.scatter(x=X[y == cl, 0], \n",
    "                    y=X[y == cl, 1],\n",
    "                    alpha=0.8, \n",
    "                    c=colors[idx],\n",
    "                    marker=markers[idx], \n",
    "                    label=cl, \n",
    "                    edgecolor=None if idx==1 else 'black')\n",
    "\n",
    "    # 테스트 샘플을 부각하여 그립니다.\n",
    "    if test_idx:\n",
    "        # 모든 샘플을 그립니다.\n",
    "        X_test, y_test = X[test_idx, :], y[test_idx]\n",
    "\n",
    "        plt.scatter(X_test[:, 0],\n",
    "                    X_test[:, 1],\n",
    "                    facecolor='none',\n",
    "                    edgecolor='black',\n",
    "                    alpha=1.0,\n",
    "                    linewidth=1,\n",
    "                    marker='o',\n",
    "                    s=100, \n",
    "                    label='test set')"
   ]
  },
  {
   "cell_type": "code",
   "execution_count": 11,
   "metadata": {},
   "outputs": [
    {
     "data": {
      "image/png": "[encoded data removed]",
      "text/plain": [
       "<Figure size 432x288 with 1 Axes>"
      ]
     },
     "metadata": {
      "needs_background": "light"
     },
     "output_type": "display_data"
    }
   ],
   "source": [
    "X_combined_std = np.vstack((X_train_std, X_test_std))\n",
    "y_combined = np.hstack((y_train, y_test))\n",
    "\n",
    "plot_decision_regions(X=X_combined_std, y=y_combined,\n",
    "                      classifier=ppn, test_idx=range(105, 150))\n",
    "plt.xlabel('petal length [standardized]')\n",
    "plt.ylabel('petal width [standardized]')\n",
    "plt.legend(loc='upper left')\n",
    "\n",
    "plt.tight_layout()\n",
    "# plt.savefig('images/03_01.png', dpi=300)\n",
    "plt.show()"
   ]
  }
 ],
 "metadata": {
  "kernelspec": {
   "display_name": "Python 3",
   "language": "python",
   "name": "python3"
  },
  "language_info": {
   "codemirror_mode": {
    "name": "ipython",
    "version": 3
   },
   "file_extension": ".py",
   "mimetype": "text/x-python",
   "name": "python",
   "nbconvert_exporter": "python",
   "pygments_lexer": "ipython3",
   "version": "3.8.5"
  }
 },
 "nbformat": 4,
 "nbformat_minor": 4
}
